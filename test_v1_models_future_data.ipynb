{
 "cells": [
  {
   "cell_type": "markdown",
   "metadata": {},
   "source": [
    "# Using Future Data As A Test Set\n",
    "### Model #1: (Classification - Fully Paid vs. Default) \n",
    "### Model #2: ( Regression - Annualized Return %)"
   ]
  },
  {
   "cell_type": "code",
   "execution_count": 1,
   "metadata": {},
   "outputs": [],
   "source": [
    "import pandas as pd\n",
    "import numpy as np\n",
    "from math import sqrt\n",
    "import matplotlib.pyplot as plt\n",
    "from functions_and_objects import (impute_means_zeros_maxs_X,parse_percentage,\n",
    "                                   clean_LC_data_classification_eval,preprocessing_future_test, \n",
    "                                   columns_list, nan_max_cols, nan_mean_cols, nan_zero_cols, dtype,\n",
    "                                   one_hot_encode_current, concat_X_and_6ohe_dfs,\n",
    "                                   prep_all_df_for_classification)\n",
    "from functions_and_objects import (prep_df_for_regression_current,\n",
    "                                   calc_annu_return,impute_annu_return_to_y,\n",
    "                                   scale_current)\n",
    "\n",
    "import joblib\n",
    "from sklearn.metrics import (accuracy_score, precision_score, recall_score, #classification\n",
    "                             f1_score, roc_auc_score, roc_curve,precision_recall_fscore_support, #classification\n",
    "                             r2_score,mean_squared_error) #regression\n",
    "\n",
    "%load_ext autoreload\n",
    "%autoreload 2"
   ]
  },
  {
   "cell_type": "markdown",
   "metadata": {},
   "source": [
    "### Import New Data from 2018-2019"
   ]
  },
  {
   "cell_type": "code",
   "execution_count": 2,
   "metadata": {
    "scrolled": true
   },
   "outputs": [
    {
     "name": "stderr",
     "output_type": "stream",
     "text": [
      "/usr/local/lib/python3.5/dist-packages/IPython/core/interactiveshell.py:3049: DtypeWarning: Columns (0,144,145,146) have mixed types. Specify dtype option on import or set low_memory=False.\n",
      "  interactivity=interactivity, compiler=compiler, result=result)\n",
      "/usr/local/lib/python3.5/dist-packages/IPython/core/interactiveshell.py:3049: DtypeWarning: Columns (0,129,130,131,134,135,136,139,144,145,146) have mixed types. Specify dtype option on import or set low_memory=False.\n",
      "  interactivity=interactivity, compiler=compiler, result=result)\n",
      "/usr/local/lib/python3.5/dist-packages/IPython/core/interactiveshell.py:3049: DtypeWarning: Columns (0) have mixed types. Specify dtype option on import or set low_memory=False.\n",
      "  interactivity=interactivity, compiler=compiler, result=result)\n"
     ]
    }
   ],
   "source": [
    "raw_q12019 = pd.read_csv('~/peervest/lc_data/LoanStats_securev1_2019Q1.csv',header=1)\n",
    "raw_q42018 = pd.read_csv('~/peervest/lc_data/LoanStats_securev1_2018Q4.csv',header=1)\n",
    "raw_q32018 = pd.read_csv('~/peervest/lc_data/LoanStats_securev1_2018Q3.csv',header=1)\n",
    "raw_q22018 = pd.read_csv('~/peervest/lc_data/LoanStats_securev1_2018Q2.csv',header=1)\n",
    "raw_q12018 = pd.read_csv('~/peervest/lc_data/LoanStats_securev1_2018Q1.csv',header=1)\n",
    "dfs_list = [raw_q42018,\n",
    "            raw_q32018,\n",
    "            raw_q22018,\n",
    "            raw_q12018]"
   ]
  },
  {
   "cell_type": "markdown",
   "metadata": {},
   "source": [
    "### Clean Data"
   ]
  },
  {
   "cell_type": "code",
   "execution_count": 3,
   "metadata": {},
   "outputs": [
    {
     "name": "stderr",
     "output_type": "stream",
     "text": [
      "/home/jupyter/peervest/functions_and_objects.py:189: FutureWarning: Passing datetime64-dtype data to TimedeltaIndex is deprecated, will raise a TypeError in a future version\n",
      "  raw_lc_df['earliest_cr_line'] = pd.to_timedelta(pd.to_datetime(raw_lc_df['earliest_cr_line'])).dt.days\n"
     ]
    }
   ],
   "source": [
    "#use eval instead of current because \n",
    "#we're making predictions on already completed loans & comparing\n",
    "#rather than predicting blindly (which the app will do)\n",
    "\n",
    "clean_lc_df_future = clean_LC_data_classification_eval(dfs_list) #takes in dfs_list, outputs clean_lc_df"
   ]
  },
  {
   "cell_type": "markdown",
   "metadata": {},
   "source": [
    "### Preprocess, no train-test-split: entire dataset is our test data"
   ]
  },
  {
   "cell_type": "code",
   "execution_count": 4,
   "metadata": {},
   "outputs": [
    {
     "name": "stderr",
     "output_type": "stream",
     "text": [
      "/home/jupyter/peervest/functions_and_objects.py:256: SettingWithCopyWarning: \n",
      "A value is trying to be set on a copy of a slice from a DataFrame.\n",
      "Try using .loc[row_indexer,col_indexer] = value instead\n",
      "\n",
      "See the caveats in the documentation: http://pandas.pydata.org/pandas-docs/stable/indexing.html#indexing-view-versus-copy\n",
      "  y_future['loan_status'] = y_future['loan_status'].astype(int)\n"
     ]
    }
   ],
   "source": [
    "X_future, y_future = preprocessing_future_test(clean_lc_df_future)# takes in clean_lc_df_current, outputs X_current, y_current"
   ]
  },
  {
   "cell_type": "markdown",
   "metadata": {},
   "source": [
    "### One Hot Encode for both Models"
   ]
  },
  {
   "cell_type": "code",
   "execution_count": 5,
   "metadata": {},
   "outputs": [],
   "source": [
    "(ohe_home_ownership, ohe_purpose, ohe_zip_code, \n",
    " ohe_application_type, ohe_sub_grade, ohe_emp_title_2) = one_hot_encode_current(X_future)"
   ]
  },
  {
   "cell_type": "code",
   "execution_count": 6,
   "metadata": {},
   "outputs": [],
   "source": [
    "X_future_classif = concat_X_and_6ohe_dfs(X_future, ohe_home_ownership, ohe_purpose, ohe_zip_code, \n",
    "                                         ohe_application_type, ohe_sub_grade, ohe_emp_title_2)\n",
    "X_future_regr = concat_X_and_6ohe_dfs(X_future, ohe_home_ownership, ohe_purpose, ohe_zip_code, \n",
    "                                      ohe_application_type, ohe_sub_grade, ohe_emp_title_2)"
   ]
  },
  {
   "cell_type": "markdown",
   "metadata": {},
   "source": [
    "### Prep X_future for Classification"
   ]
  },
  {
   "cell_type": "markdown",
   "metadata": {},
   "source": [
    "- reset index"
   ]
  },
  {
   "cell_type": "code",
   "execution_count": 7,
   "metadata": {},
   "outputs": [],
   "source": [
    "X_future_classif.set_index('index',inplace=True)"
   ]
  },
  {
   "cell_type": "markdown",
   "metadata": {},
   "source": [
    "- drop non-numeric & OHE source columns"
   ]
  },
  {
   "cell_type": "code",
   "execution_count": 8,
   "metadata": {},
   "outputs": [],
   "source": [
    "prep_all_df_for_classification(X_future_classif)"
   ]
  },
  {
   "cell_type": "code",
   "execution_count": 9,
   "metadata": {},
   "outputs": [
    {
     "data": {
      "text/plain": [
       "(67586, 1124)"
      ]
     },
     "execution_count": 9,
     "metadata": {},
     "output_type": "execute_result"
    }
   ],
   "source": [
    "X_future_classif.shape"
   ]
  },
  {
   "cell_type": "markdown",
   "metadata": {},
   "source": [
    "### X_future is ready to input into Classification Model"
   ]
  },
  {
   "cell_type": "markdown",
   "metadata": {},
   "source": [
    "###### Load Model JobLib"
   ]
  },
  {
   "cell_type": "code",
   "execution_count": 10,
   "metadata": {},
   "outputs": [],
   "source": [
    "loaded_log_reg_v1 = joblib.load('log_reg_v1.joblib')"
   ]
  },
  {
   "cell_type": "code",
   "execution_count": 11,
   "metadata": {},
   "outputs": [],
   "source": [
    "future_class_preds = loaded_log_reg_v1.predict(X_future_classif)\n",
    "future_class_preds_proba = loaded_log_reg_v1.predict_proba(X_future_classif)"
   ]
  },
  {
   "cell_type": "code",
   "execution_count": 91,
   "metadata": {},
   "outputs": [
    {
     "data": {
      "text/plain": [
       "array([[2.89095603e-003, 9.97109044e-001],\n",
       "       [1.80524177e-006, 9.99998195e-001],\n",
       "       [1.37538903e-007, 9.99999862e-001],\n",
       "       ...,\n",
       "       [1.00000000e+000, 6.90269850e-235],\n",
       "       [2.59676371e-004, 9.99740324e-001],\n",
       "       [4.60361519e-004, 9.99539638e-001]])"
      ]
     },
     "execution_count": 91,
     "metadata": {},
     "output_type": "execute_result"
    }
   ],
   "source": [
    "loaded_log_reg_v1.predict_proba(X_future_classif)"
   ]
  },
  {
   "cell_type": "code",
   "execution_count": 12,
   "metadata": {},
   "outputs": [
    {
     "name": "stdout",
     "output_type": "stream",
     "text": [
      "Precision Fully Paid: 0.9999470815473356\n",
      "Recall Fully Paid: 0.9998412614424044\n",
      "F-1 Score Fully Paid: 0.9998941686951001\n",
      "ROC-AUC Score: 0.9997828770248113\n"
     ]
    }
   ],
   "source": [
    "print (\"Precision Fully Paid: {}\".format(precision_score(y_future,future_class_preds)))\n",
    "print (\"Recall Fully Paid: {}\".format(recall_score(y_future,future_class_preds)))\n",
    "print (\"F-1 Score Fully Paid: {}\".format(f1_score(y_future,future_class_preds)))\n",
    "print (\"ROC-AUC Score: {}\".format(roc_auc_score(y_future,future_class_preds)))"
   ]
  },
  {
   "cell_type": "code",
   "execution_count": 13,
   "metadata": {},
   "outputs": [
    {
     "name": "stdout",
     "output_type": "stream",
     "text": [
      "Precision, Recall, F, & Support By Class [0,1] aka [Default,Fully Paid]: (array([0.99917393, 0.99994708]), array([0.99972449, 0.99984126]), array([0.99944914, 0.99989417]), array([10889, 56697]))\n",
      "Precision, Recall, F, & Support Weighted Average by Support: (0.9998225170729338, 0.9998224484360666, 0.9998224681900859, None)\n"
     ]
    }
   ],
   "source": [
    "#precision, recall, f1-score\n",
    "print (\"Precision, Recall, F, & Support By Class [0,1] aka [Default,Fully Paid]: {}\".format(\n",
    "    precision_recall_fscore_support(y_future,future_class_preds)))\n",
    "\n",
    "print (\"Precision, Recall, F, & Support Weighted Average by Support: {}\".format(\n",
    "    precision_recall_fscore_support(y_future,future_class_preds,average='weighted')))"
   ]
  },
  {
   "cell_type": "markdown",
   "metadata": {},
   "source": [
    "- add confusion matrix\n",
    "- add ROC Curve"
   ]
  },
  {
   "cell_type": "markdown",
   "metadata": {},
   "source": [
    "### Prep X_future for Regression"
   ]
  },
  {
   "cell_type": "markdown",
   "metadata": {},
   "source": [
    "- reset index"
   ]
  },
  {
   "cell_type": "code",
   "execution_count": 14,
   "metadata": {},
   "outputs": [],
   "source": [
    "X_future_regr.set_index('index',inplace=True)"
   ]
  },
  {
   "cell_type": "markdown",
   "metadata": {},
   "source": [
    "- calculate annual return & create new target dataframe"
   ]
  },
  {
   "cell_type": "code",
   "execution_count": 15,
   "metadata": {},
   "outputs": [
    {
     "name": "stderr",
     "output_type": "stream",
     "text": [
      "/home/jupyter/peervest/functions_and_objects.py:381: SettingWithCopyWarning: \n",
      "A value is trying to be set on a copy of a slice from a DataFrame.\n",
      "Try using .loc[row_indexer,col_indexer] = value instead\n",
      "\n",
      "See the caveats in the documentation: http://pandas.pydata.org/pandas-docs/stable/indexing.html#indexing-view-versus-copy\n",
      "  target_df['annu_return'] = calc_annu_return(input_df)\n"
     ]
    }
   ],
   "source": [
    "# returns the annualized return column as a DF (y_future_regr) & both target columns as a dataframe (y_future)\n",
    "y_future_regr, y_future = impute_annu_return_to_y(X_future_regr,y_future)"
   ]
  },
  {
   "cell_type": "markdown",
   "metadata": {},
   "source": [
    "- drop non-numeric & OHE source columns"
   ]
  },
  {
   "cell_type": "code",
   "execution_count": 16,
   "metadata": {},
   "outputs": [],
   "source": [
    "prep_df_for_regression_current(X_future_regr)"
   ]
  },
  {
   "cell_type": "code",
   "execution_count": 17,
   "metadata": {},
   "outputs": [],
   "source": [
    "X_future_regr_scaled = scale_current(X_future_regr)"
   ]
  },
  {
   "cell_type": "markdown",
   "metadata": {},
   "source": [
    "###### Load Ridge Regression Model JobLib"
   ]
  },
  {
   "cell_type": "code",
   "execution_count": 18,
   "metadata": {},
   "outputs": [],
   "source": [
    "loaded_ridge_reg_v1 = joblib.load('ridge_lin_reg_v1.joblib')"
   ]
  },
  {
   "cell_type": "code",
   "execution_count": 19,
   "metadata": {},
   "outputs": [],
   "source": [
    "future_return_preds = loaded_ridge_reg_v1.predict(X_future_regr_scaled)"
   ]
  },
  {
   "cell_type": "markdown",
   "metadata": {},
   "source": [
    "### Evaluate Regression Model - No Filter/All Completed Loans"
   ]
  },
  {
   "cell_type": "code",
   "execution_count": 57,
   "metadata": {},
   "outputs": [
    {
     "name": "stdout",
     "output_type": "stream",
     "text": [
      "FUTURE TEST - ERROR METRICS:\n",
      "R-Squared: 0.6899769300520536\n",
      "Mean Squared Error: 0.043807439892345\n",
      "Root Mean Squared Error: 0.2093022692001809\n"
     ]
    }
   ],
   "source": [
    "print(\"FUTURE TEST - ERROR METRICS:\")\n",
    "print(\"R-Squared: {}\".format(r2_score(y_future_regr, future_return_preds)))\n",
    "print(\"Mean Squared Error: {}\".format(mean_squared_error(y_future_regr, future_return_preds)))\n",
    "print(\"Root Mean Squared Error: {}\".format(sqrt(mean_squared_error(y_future_regr, future_return_preds))))"
   ]
  },
  {
   "cell_type": "markdown",
   "metadata": {},
   "source": [
    "### Conclusion:\n",
    "- My Logistic Classification Model is generalizable with future data \n",
    "- My Ridge Regression Model is also generalizable with future data\n",
    "- The Regression Model performs worse when you filter out by Probability of Default, though it will be more useful to train a model like that first"
   ]
  },
  {
   "cell_type": "markdown",
   "metadata": {},
   "source": [
    "##### Extra Scratch Work"
   ]
  },
  {
   "cell_type": "markdown",
   "metadata": {},
   "source": [
    "### Evaluate Regression Model - Probability of Default Filter"
   ]
  },
  {
   "cell_type": "code",
   "execution_count": 59,
   "metadata": {},
   "outputs": [],
   "source": [
    "y_future_regr['prob_default'] = future_class_preds_proba[:,0].reshape(-1,1)"
   ]
  },
  {
   "cell_type": "code",
   "execution_count": 63,
   "metadata": {},
   "outputs": [],
   "source": [
    "#Add Predicted Probability of Default column to X_future_regr\n",
    "future_return_preds_def = pd.DataFrame(np.hstack((future_return_preds,future_class_preds_proba[:,0].reshape(-1,1))),\n",
    "                                       index=X_future_regr_scaled.index,\n",
    "                                       columns=['annu_return','prob_default'])"
   ]
  },
  {
   "cell_type": "code",
   "execution_count": 102,
   "metadata": {},
   "outputs": [],
   "source": [
    "future_return_preds_filter = future_return_preds_def['annu_return'][future_return_preds_def['prob_default'] < 0.3]\n",
    "y_future_regr_filter = y_future_regr['annu_return'][y_future_regr['prob_default'] < 0.3]"
   ]
  },
  {
   "cell_type": "code",
   "execution_count": 104,
   "metadata": {},
   "outputs": [
    {
     "name": "stdout",
     "output_type": "stream",
     "text": [
      "FUTURE TEST - ERROR METRICS - PROBABILITY of DEFAULT FILTER taking < 0.3:\n",
      "R-Squared: -0.4493404600061739\n",
      "Mean Squared Error: 0.003906704780431792\n",
      "Root Mean Squared Error: 0.06250363813756597\n"
     ]
    }
   ],
   "source": [
    "print(\"FUTURE TEST - ERROR METRICS - PROBABILITY of DEFAULT FILTER taking < 0.3:\")\n",
    "print(\"R-Squared: {}\".format(r2_score(y_future_regr_filter, future_return_preds_filter)))\n",
    "print(\"Mean Squared Error: {}\".format(mean_squared_error(y_future_regr_filter, future_return_preds_filter)))\n",
    "print(\"Root Mean Squared Error: {}\".format(sqrt(mean_squared_error(y_future_regr_filter, future_return_preds_filter))))"
   ]
  },
  {
   "cell_type": "code",
   "execution_count": 101,
   "metadata": {},
   "outputs": [
    {
     "data": {
      "text/html": [
       "<div>\n",
       "<style scoped>\n",
       "    .dataframe tbody tr th:only-of-type {\n",
       "        vertical-align: middle;\n",
       "    }\n",
       "\n",
       "    .dataframe tbody tr th {\n",
       "        vertical-align: top;\n",
       "    }\n",
       "\n",
       "    .dataframe thead th {\n",
       "        text-align: right;\n",
       "    }\n",
       "</style>\n",
       "<table border=\"1\" class=\"dataframe\">\n",
       "  <thead>\n",
       "    <tr style=\"text-align: right;\">\n",
       "      <th></th>\n",
       "      <th>loan_status</th>\n",
       "      <th>annu_return</th>\n",
       "    </tr>\n",
       "  </thead>\n",
       "  <tbody>\n",
       "    <tr>\n",
       "      <th>39790</th>\n",
       "      <td>0</td>\n",
       "      <td>1.120226</td>\n",
       "    </tr>\n",
       "    <tr>\n",
       "      <th>24309</th>\n",
       "      <td>0</td>\n",
       "      <td>0.612155</td>\n",
       "    </tr>\n",
       "    <tr>\n",
       "      <th>47174</th>\n",
       "      <td>0</td>\n",
       "      <td>0.476052</td>\n",
       "    </tr>\n",
       "    <tr>\n",
       "      <th>61623</th>\n",
       "      <td>0</td>\n",
       "      <td>0.382404</td>\n",
       "    </tr>\n",
       "    <tr>\n",
       "      <th>36896</th>\n",
       "      <td>0</td>\n",
       "      <td>0.231999</td>\n",
       "    </tr>\n",
       "    <tr>\n",
       "      <th>47931</th>\n",
       "      <td>0</td>\n",
       "      <td>0.195198</td>\n",
       "    </tr>\n",
       "    <tr>\n",
       "      <th>46818</th>\n",
       "      <td>0</td>\n",
       "      <td>0.184300</td>\n",
       "    </tr>\n",
       "    <tr>\n",
       "      <th>65316</th>\n",
       "      <td>0</td>\n",
       "      <td>0.165008</td>\n",
       "    </tr>\n",
       "    <tr>\n",
       "      <th>43972</th>\n",
       "      <td>0</td>\n",
       "      <td>0.156690</td>\n",
       "    </tr>\n",
       "    <tr>\n",
       "      <th>44689</th>\n",
       "      <td>0</td>\n",
       "      <td>0.150734</td>\n",
       "    </tr>\n",
       "    <tr>\n",
       "      <th>67782</th>\n",
       "      <td>0</td>\n",
       "      <td>0.122250</td>\n",
       "    </tr>\n",
       "    <tr>\n",
       "      <th>23293</th>\n",
       "      <td>0</td>\n",
       "      <td>0.120452</td>\n",
       "    </tr>\n",
       "    <tr>\n",
       "      <th>41825</th>\n",
       "      <td>0</td>\n",
       "      <td>0.116091</td>\n",
       "    </tr>\n",
       "    <tr>\n",
       "      <th>43818</th>\n",
       "      <td>0</td>\n",
       "      <td>0.108535</td>\n",
       "    </tr>\n",
       "    <tr>\n",
       "      <th>31841</th>\n",
       "      <td>0</td>\n",
       "      <td>0.101563</td>\n",
       "    </tr>\n",
       "    <tr>\n",
       "      <th>48080</th>\n",
       "      <td>0</td>\n",
       "      <td>0.099595</td>\n",
       "    </tr>\n",
       "    <tr>\n",
       "      <th>43684</th>\n",
       "      <td>0</td>\n",
       "      <td>0.095992</td>\n",
       "    </tr>\n",
       "    <tr>\n",
       "      <th>40981</th>\n",
       "      <td>0</td>\n",
       "      <td>0.061413</td>\n",
       "    </tr>\n",
       "    <tr>\n",
       "      <th>42998</th>\n",
       "      <td>0</td>\n",
       "      <td>0.052160</td>\n",
       "    </tr>\n",
       "    <tr>\n",
       "      <th>21708</th>\n",
       "      <td>0</td>\n",
       "      <td>0.027807</td>\n",
       "    </tr>\n",
       "    <tr>\n",
       "      <th>13898</th>\n",
       "      <td>0</td>\n",
       "      <td>0.000000</td>\n",
       "    </tr>\n",
       "    <tr>\n",
       "      <th>10521</th>\n",
       "      <td>0</td>\n",
       "      <td>-0.004214</td>\n",
       "    </tr>\n",
       "  </tbody>\n",
       "</table>\n",
       "</div>"
      ],
      "text/plain": [
       "       loan_status  annu_return\n",
       "39790            0     1.120226\n",
       "24309            0     0.612155\n",
       "47174            0     0.476052\n",
       "61623            0     0.382404\n",
       "36896            0     0.231999\n",
       "47931            0     0.195198\n",
       "46818            0     0.184300\n",
       "65316            0     0.165008\n",
       "43972            0     0.156690\n",
       "44689            0     0.150734\n",
       "67782            0     0.122250\n",
       "23293            0     0.120452\n",
       "41825            0     0.116091\n",
       "43818            0     0.108535\n",
       "31841            0     0.101563\n",
       "48080            0     0.099595\n",
       "43684            0     0.095992\n",
       "40981            0     0.061413\n",
       "42998            0     0.052160\n",
       "21708            0     0.027807\n",
       "13898            0     0.000000\n",
       "10521            0    -0.004214"
      ]
     },
     "execution_count": 101,
     "metadata": {},
     "output_type": "execute_result"
    }
   ],
   "source": [
    "y_future[y_future['loan_status'] == 0].sort_values(by='annu_return',ascending=False).head(22)"
   ]
  },
  {
   "cell_type": "markdown",
   "metadata": {},
   "source": [
    "- Positive annu_return values where loan_status==0 likely indicates a successful debt collection process"
   ]
  },
  {
   "cell_type": "code",
   "execution_count": null,
   "metadata": {},
   "outputs": [],
   "source": []
  }
 ],
 "metadata": {
  "kernelspec": {
   "display_name": "Python 3",
   "language": "python",
   "name": "python3"
  },
  "language_info": {
   "codemirror_mode": {
    "name": "ipython",
    "version": 3
   },
   "file_extension": ".py",
   "mimetype": "text/x-python",
   "name": "python",
   "nbconvert_exporter": "python",
   "pygments_lexer": "ipython3",
   "version": "3.5.3"
  }
 },
 "nbformat": 4,
 "nbformat_minor": 2
}
