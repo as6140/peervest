{
 "cells": [
  {
   "cell_type": "markdown",
   "metadata": {},
   "source": [
    "# Using Current Data To Make Recommendations\n",
    "### Model #1: (Classification - Fully Paid vs. Default) \n",
    "### Model #2: ( Regression - Annualized Return %)"
   ]
  },
  {
   "cell_type": "code",
   "execution_count": 17,
   "metadata": {},
   "outputs": [
    {
     "name": "stdout",
     "output_type": "stream",
     "text": [
      "The autoreload extension is already loaded. To reload it, use:\n",
      "  %reload_ext autoreload\n"
     ]
    }
   ],
   "source": [
    "import pandas as pd\n",
    "import numpy as np\n",
    "from math import sqrt\n",
    "import matplotlib.pyplot as plt\n",
    "from functions_and_objects import (impute_means_zeros_maxs_X,parse_percentage,\n",
    "                                   clean_new_LC_data_classification_current,clean_LC_data_classification_eval,\n",
    "                                   preprocessing_current, preprocessing_future_test, columns_list, \n",
    "                                   nan_max_cols, nan_mean_cols, nan_zero_cols, dtype,\n",
    "                                   one_hot_encode_current, concat_X_and_6ohe_dfs,\n",
    "                                   prep_all_df_for_classification, \n",
    "                                   view_columns_by_number_of_rows_that_have_nan,\n",
    "                                   current_pipeline)\n",
    "from functions_and_objects import (prep_df_for_regression_current,\n",
    "                                   calc_annu_return,impute_annu_return_to_y,\n",
    "                                   scale_current)\n",
    "\n",
    "import joblib\n",
    "from sklearn.metrics import (accuracy_score, precision_score, recall_score, #classification\n",
    "                             f1_score, roc_auc_score, roc_curve,precision_recall_fscore_support, #classification\n",
    "                             r2_score,mean_squared_error) #regression\n",
    "from sklearn.preprocessing import StandardScaler\n",
    "\n",
    "%load_ext autoreload\n",
    "%autoreload 2"
   ]
  },
  {
   "cell_type": "markdown",
   "metadata": {},
   "source": [
    "### Import New Data from 7.8.19"
   ]
  },
  {
   "cell_type": "code",
   "execution_count": 46,
   "metadata": {},
   "outputs": [
    {
     "data": {
      "text/html": [
       "<div>\n",
       "<style scoped>\n",
       "    .dataframe tbody tr th:only-of-type {\n",
       "        vertical-align: middle;\n",
       "    }\n",
       "\n",
       "    .dataframe tbody tr th {\n",
       "        vertical-align: top;\n",
       "    }\n",
       "\n",
       "    .dataframe thead th {\n",
       "        text-align: right;\n",
       "    }\n",
       "</style>\n",
       "<table border=\"1\" class=\"dataframe\">\n",
       "  <thead>\n",
       "    <tr style=\"text-align: right;\">\n",
       "      <th></th>\n",
       "      <th>id</th>\n",
       "      <th>member_id</th>\n",
       "      <th>loan_amnt</th>\n",
       "      <th>funded_amnt</th>\n",
       "      <th>term</th>\n",
       "      <th>int_rate</th>\n",
       "      <th>exp_default_rate</th>\n",
       "      <th>service_fee_rate</th>\n",
       "      <th>installment</th>\n",
       "      <th>grade</th>\n",
       "      <th>...</th>\n",
       "      <th>sec_app_earliest_cr_line</th>\n",
       "      <th>sec_app_inq_last_6mths</th>\n",
       "      <th>sec_app_mort_acc</th>\n",
       "      <th>sec_app_open_acc</th>\n",
       "      <th>sec_app_revol_util</th>\n",
       "      <th>sec_app_open_act_il</th>\n",
       "      <th>sec_app_num_rev_accts</th>\n",
       "      <th>sec_app_chargeoff_within_12_mths</th>\n",
       "      <th>sec_app_collections_12_mths_ex_med</th>\n",
       "      <th>sec_app_mths_since_last_major_derog</th>\n",
       "    </tr>\n",
       "  </thead>\n",
       "  <tbody>\n",
       "    <tr>\n",
       "      <th>0</th>\n",
       "      <td>154522518</td>\n",
       "      <td>190327199</td>\n",
       "      <td>15000.0</td>\n",
       "      <td>14800.0</td>\n",
       "      <td>36</td>\n",
       "      <td>10.33</td>\n",
       "      <td>5.14</td>\n",
       "      <td>1.03</td>\n",
       "      <td>486.34</td>\n",
       "      <td>B</td>\n",
       "      <td>...</td>\n",
       "      <td></td>\n",
       "      <td></td>\n",
       "      <td></td>\n",
       "      <td></td>\n",
       "      <td></td>\n",
       "      <td></td>\n",
       "      <td></td>\n",
       "      <td></td>\n",
       "      <td></td>\n",
       "      <td></td>\n",
       "    </tr>\n",
       "    <tr>\n",
       "      <th>1</th>\n",
       "      <td>154600521</td>\n",
       "      <td>190534584</td>\n",
       "      <td>17000.0</td>\n",
       "      <td>16725.0</td>\n",
       "      <td>36</td>\n",
       "      <td>11.71</td>\n",
       "      <td>5.14</td>\n",
       "      <td>1.03</td>\n",
       "      <td>562.30</td>\n",
       "      <td>B</td>\n",
       "      <td>...</td>\n",
       "      <td></td>\n",
       "      <td></td>\n",
       "      <td></td>\n",
       "      <td></td>\n",
       "      <td></td>\n",
       "      <td></td>\n",
       "      <td></td>\n",
       "      <td></td>\n",
       "      <td></td>\n",
       "      <td></td>\n",
       "    </tr>\n",
       "    <tr>\n",
       "      <th>2</th>\n",
       "      <td>154124100</td>\n",
       "      <td>189640879</td>\n",
       "      <td>30000.0</td>\n",
       "      <td>23025.0</td>\n",
       "      <td>36</td>\n",
       "      <td>17.97</td>\n",
       "      <td>12.63</td>\n",
       "      <td>1.49</td>\n",
       "      <td>1084.13</td>\n",
       "      <td>D</td>\n",
       "      <td>...</td>\n",
       "      <td></td>\n",
       "      <td></td>\n",
       "      <td></td>\n",
       "      <td></td>\n",
       "      <td></td>\n",
       "      <td></td>\n",
       "      <td></td>\n",
       "      <td></td>\n",
       "      <td></td>\n",
       "      <td></td>\n",
       "    </tr>\n",
       "    <tr>\n",
       "      <th>3</th>\n",
       "      <td>154334950</td>\n",
       "      <td>189967957</td>\n",
       "      <td>11150.0</td>\n",
       "      <td>8675.0</td>\n",
       "      <td>36</td>\n",
       "      <td>20.00</td>\n",
       "      <td>12.63</td>\n",
       "      <td>1.49</td>\n",
       "      <td>414.38</td>\n",
       "      <td>D</td>\n",
       "      <td>...</td>\n",
       "      <td>05-27-2013 17:00:00</td>\n",
       "      <td>0</td>\n",
       "      <td>0</td>\n",
       "      <td>5</td>\n",
       "      <td>30.1</td>\n",
       "      <td>0</td>\n",
       "      <td>12</td>\n",
       "      <td>1</td>\n",
       "      <td>1</td>\n",
       "      <td>12</td>\n",
       "    </tr>\n",
       "    <tr>\n",
       "      <th>4</th>\n",
       "      <td>154607088</td>\n",
       "      <td>190596210</td>\n",
       "      <td>19125.0</td>\n",
       "      <td>18325.0</td>\n",
       "      <td>60</td>\n",
       "      <td>15.24</td>\n",
       "      <td>7.28</td>\n",
       "      <td>0.86</td>\n",
       "      <td>457.40</td>\n",
       "      <td>C</td>\n",
       "      <td>...</td>\n",
       "      <td></td>\n",
       "      <td></td>\n",
       "      <td></td>\n",
       "      <td></td>\n",
       "      <td></td>\n",
       "      <td></td>\n",
       "      <td></td>\n",
       "      <td></td>\n",
       "      <td></td>\n",
       "      <td></td>\n",
       "    </tr>\n",
       "  </tbody>\n",
       "</table>\n",
       "<p>5 rows × 122 columns</p>\n",
       "</div>"
      ],
      "text/plain": [
       "          id  member_id  loan_amnt  funded_amnt  term  int_rate  \\\n",
       "0  154522518  190327199    15000.0      14800.0    36     10.33   \n",
       "1  154600521  190534584    17000.0      16725.0    36     11.71   \n",
       "2  154124100  189640879    30000.0      23025.0    36     17.97   \n",
       "3  154334950  189967957    11150.0       8675.0    36     20.00   \n",
       "4  154607088  190596210    19125.0      18325.0    60     15.24   \n",
       "\n",
       "   exp_default_rate  service_fee_rate  installment grade  ...  \\\n",
       "0              5.14              1.03       486.34     B  ...   \n",
       "1              5.14              1.03       562.30     B  ...   \n",
       "2             12.63              1.49      1084.13     D  ...   \n",
       "3             12.63              1.49       414.38     D  ...   \n",
       "4              7.28              0.86       457.40     C  ...   \n",
       "\n",
       "  sec_app_earliest_cr_line sec_app_inq_last_6mths sec_app_mort_acc  \\\n",
       "0                                                                    \n",
       "1                                                                    \n",
       "2                                                                    \n",
       "3      05-27-2013 17:00:00                      0                0   \n",
       "4                                                                    \n",
       "\n",
       "  sec_app_open_acc  sec_app_revol_util sec_app_open_act_il  \\\n",
       "0                                                            \n",
       "1                                                            \n",
       "2                                                            \n",
       "3                5                30.1                   0   \n",
       "4                                                            \n",
       "\n",
       "  sec_app_num_rev_accts sec_app_chargeoff_within_12_mths  \\\n",
       "0                                                          \n",
       "1                                                          \n",
       "2                                                          \n",
       "3                    12                                1   \n",
       "4                                                          \n",
       "\n",
       "  sec_app_collections_12_mths_ex_med sec_app_mths_since_last_major_derog  \n",
       "0                                                                         \n",
       "1                                                                         \n",
       "2                                                                         \n",
       "3                                  1                                  12  \n",
       "4                                                                         \n",
       "\n",
       "[5 rows x 122 columns]"
      ]
     },
     "execution_count": 46,
     "metadata": {},
     "output_type": "execute_result"
    }
   ],
   "source": [
    "browseNotes = pd.read_csv('~/peervest/lc_data/browseNotes_7.8.19.csv')\n",
    "browseNotes.head()"
   ]
  },
  {
   "cell_type": "code",
   "execution_count": 58,
   "metadata": {},
   "outputs": [],
   "source": [
    "dfs_list = [browseNotes]"
   ]
  },
  {
   "cell_type": "code",
   "execution_count": 59,
   "metadata": {},
   "outputs": [
    {
     "data": {
      "text/plain": [
       "(98, 122)"
      ]
     },
     "execution_count": 59,
     "metadata": {},
     "output_type": "execute_result"
    }
   ],
   "source": [
    "browseNotes.shape"
   ]
  },
  {
   "cell_type": "markdown",
   "metadata": {},
   "source": [
    "### Load DF from Pipeline"
   ]
  },
  {
   "cell_type": "code",
   "execution_count": 115,
   "metadata": {},
   "outputs": [
    {
     "name": "stderr",
     "output_type": "stream",
     "text": [
      "/home/jupyter/peervest/functions_and_objects.py:413: FutureWarning: Passing datetime64-dtype data to TimedeltaIndex is deprecated, will raise a TypeError in a future version\n",
      "  raw_lc_df['earliest_cr_line'] = pd.to_timedelta(pd.to_datetime(raw_lc_df['earliest_cr_line'])).dt.days\n"
     ]
    },
    {
     "name": "stdout",
     "output_type": "stream",
     "text": [
      "[]\n"
     ]
    }
   ],
   "source": [
    "(X_current_regr, y_current, table_all_current) = current_pipeline(dfs_list, 'nn_v8.joblib', 'rf_regr_v5.joblib')"
   ]
  },
  {
   "cell_type": "code",
   "execution_count": 129,
   "metadata": {},
   "outputs": [
    {
     "data": {
      "text/plain": [
       "80"
      ]
     },
     "execution_count": 129,
     "metadata": {},
     "output_type": "execute_result"
    }
   ],
   "source": [
    "len(y_current[(y_current['prob_default'] < 1) & (y_current['return_preds'] > -.1)])"
   ]
  },
  {
   "cell_type": "code",
   "execution_count": 120,
   "metadata": {},
   "outputs": [
    {
     "data": {
      "image/png": "[encoded data removed]",
      "text/plain": [
       "<Figure size 432x288 with 1 Axes>"
      ]
     },
     "metadata": {
      "needs_background": "light"
     },
     "output_type": "display_data"
    }
   ],
   "source": [
    "plt.hist(table_all_current['annu_return'],bins=60,range=(-0.1,0.2),label='computed',alpha=0.6)\n",
    "plt.hist(table_all_current['return_preds'],bins=60,range=(-0.1,0.2),label='predicted',alpha=0.6)\n",
    "plt.xlabel('Annualized Return')\n",
    "plt.ylabel('Frequency of Loans')\n",
    "plt.legend()\n",
    "plt.title('Frequency of Loans by Returns')\n",
    "plt.show()"
   ]
  },
  {
   "cell_type": "code",
   "execution_count": 114,
   "metadata": {},
   "outputs": [
    {
     "data": {
      "image/png": "[encoded data removed]",
      "text/plain": [
       "<Figure size 432x288 with 1 Axes>"
      ]
     },
     "metadata": {
      "needs_background": "light"
     },
     "output_type": "display_data"
    }
   ],
   "source": [
    "plt.hist(table_all_current['prob_default'],bins=40, range=(0,1))\n",
    "plt.xlabel('probability of default')\n",
    "plt.ylabel('frequency of loans')\n",
    "plt.show()"
   ]
  },
  {
   "cell_type": "markdown",
   "metadata": {},
   "source": [
    "# Recommendation Table"
   ]
  },
  {
   "cell_type": "code",
   "execution_count": null,
   "metadata": {},
   "outputs": [],
   "source": [
    "def expected_portfolio_return_evenly_weighted(table_all_current, avail_funds):\n",
    "    evenly_weighted_expected_returns = []\n",
    "    for row in table_all_current:\n",
    "        evenly_weighted_expected_returns.append(\n",
    "            table_all_current['return_preds'][row] * (avail_funds/len(table_all_current)))\n",
    "    expected_portfolio_return = sum(evenly_weighted_expected_returns)/avail_funds\n",
    "    return expected_portfolio_return\n",
    "\n",
    "def rank_table_by_shrop_ratio_RAR(table_all_current, avail_funds):\n",
    "    for row in table_all_current:\n",
    "        table_all_current['shrop_ratio'][row] = (\n",
    "            (expected_portfolio_return_evenly_weighted(table_all_current, avail_funds) - 1.88) / \n",
    "                                                        (table_all_current['prob_default'][row]))\n",
    "    table_all_current_ranked = table_all_current.sort_values(by='shrop_ratio',axis=1, ascending=False)\n",
    "    return table_all_current_ranked\n",
    "\n",
    "def recommended_loans(table_all_current, max_prob_default, min_desired_return):\n",
    "    rec_table = table_all_current[(table_all_current['prob_default'] <= max_prob_default) & \n",
    "                             (table_all_current['return_preds'] >= min_desired_return)]\n",
    "    return rec_table\n",
    "\n",
    "def portfolio_prob_default_evenly_weighted(table_all_current, avail_funds):\n",
    "    evenly_weighted_prob_default = []\n",
    "    for row in table_all_current:\n",
    "        evenly_weighted_prob_default.append(\n",
    "            (table_all_current['prob_default'][row]) * (avail_funds/len(table_all_current)))\n",
    "    portfolio_prob_default = sum(evenly_weighted_prob_default)/avail_funds\n",
    "    return portfolio_prob_default\n",
    "\n",
    "def portfolio_shrop_ratio_evenly_weighted(table_all_current, avail_funds):\n",
    "    table_all_current_ranked = rank_table_by_shrop_ratio_RAR(table_all_current, avail_funds)\n",
    "    evenly_weighted_shrop_ratio = []\n",
    "    for row in table_all_current_ranked:\n",
    "        evenly_weighted_shrop_ratio.append(\n",
    "            (table_all_current['shrop_ratio'][row]) * (avail_funds/len(table_all_current)))\n",
    "    portfolio_shrop_ratio = sum(evenly_weighted_shrop_ratio)/avail_funds\n",
    "    return portfolio_shrop_ratio\n",
    "\n",
    "def summarize_recommendation(table_all_current, max_prob_default, min_desired_return, avail_funds):\n",
    "    rec_table = recommended_loans(table_all_current, max_prob_default, min_desired_return)\n",
    "    port_prob_def = portfolio_prob_default_evenly_weighted(table_all_current,avail_funds)\n",
    "    port_exp_return = expected_portfolio_return_evenly_weighted(table_all_current, avail_funds)\n",
    "    port_shrop_ratio = portfolio_shrop_ratio_evenly_weighted(table_all_current,avail_funds)\n",
    "    "
   ]
  },
  {
   "cell_type": "markdown",
   "metadata": {},
   "source": [
    "# Recommendation Portfolio Descriptive Visuals"
   ]
  },
  {
   "cell_type": "code",
   "execution_count": null,
   "metadata": {},
   "outputs": [],
   "source": []
  }
 ],
 "metadata": {
  "kernelspec": {
   "display_name": "Python 3",
   "language": "python",
   "name": "python3"
  },
  "language_info": {
   "codemirror_mode": {
    "name": "ipython",
    "version": 3
   },
   "file_extension": ".py",
   "mimetype": "text/x-python",
   "name": "python",
   "nbconvert_exporter": "python",
   "pygments_lexer": "ipython3",
   "version": "3.5.3"
  }
 },
 "nbformat": 4,
 "nbformat_minor": 2
}
