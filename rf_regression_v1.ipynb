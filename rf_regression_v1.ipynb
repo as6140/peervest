{
 "cells": [
  {
   "cell_type": "code",
   "execution_count": 1,
   "metadata": {},
   "outputs": [],
   "source": [
    "import pandas as pd\n",
    "import numpy as np\n",
    "import matplotlib.pyplot as plt\n",
    "from datetime import datetime\n",
    "import math\n",
    "from math import sqrt\n",
    "import seaborn as sns\n",
    "import random\n",
    "\n",
    "import sklearn\n",
    "from sklearn.ensemble import RandomForestRegressor\n",
    "from sklearn.model_selection import GridSearchCV\n",
    "from sklearn.metrics import r2_score, mean_squared_error\n",
    "\n",
    "from functions_and_objects import (impute_means_zeros_maxs_X, parse_percentage,\n",
    "                                   clean_LC_data_classification_eval, preprocessing_eval,\n",
    "                                   nan_max_cols, nan_mean_cols, nan_zero_cols, dtype,\n",
    "                                   one_hot_encode_eval, concat_X_and_6ohe_dfs,\n",
    "                                   prep_df_for_regression_eval,\n",
    "                                   regression_model_eval_prep_pipeline)\n",
    "\n",
    "import joblib"
   ]
  },
  {
   "cell_type": "code",
   "execution_count": 2,
   "metadata": {},
   "outputs": [
    {
     "name": "stderr",
     "output_type": "stream",
     "text": [
      "/usr/local/lib/python3.5/dist-packages/IPython/core/interactiveshell.py:3049: DtypeWarning: Columns (0) have mixed types. Specify dtype option on import or set low_memory=False.\n",
      "  interactivity=interactivity, compiler=compiler, result=result)\n",
      "/usr/local/lib/python3.5/dist-packages/IPython/core/interactiveshell.py:3049: DtypeWarning: Columns (0,118) have mixed types. Specify dtype option on import or set low_memory=False.\n",
      "  interactivity=interactivity, compiler=compiler, result=result)\n",
      "/usr/local/lib/python3.5/dist-packages/IPython/core/interactiveshell.py:3049: DtypeWarning: Columns (0,19) have mixed types. Specify dtype option on import or set low_memory=False.\n",
      "  interactivity=interactivity, compiler=compiler, result=result)\n",
      "/usr/local/lib/python3.5/dist-packages/IPython/core/interactiveshell.py:3049: DtypeWarning: Columns (0,19,59) have mixed types. Specify dtype option on import or set low_memory=False.\n",
      "  interactivity=interactivity, compiler=compiler, result=result)\n",
      "/usr/local/lib/python3.5/dist-packages/IPython/core/interactiveshell.py:3049: DtypeWarning: Columns (0,19,49) have mixed types. Specify dtype option on import or set low_memory=False.\n",
      "  interactivity=interactivity, compiler=compiler, result=result)\n",
      "/usr/local/lib/python3.5/dist-packages/IPython/core/interactiveshell.py:3049: DtypeWarning: Columns (0,49,129,130,131,134,135,136,139) have mixed types. Specify dtype option on import or set low_memory=False.\n",
      "  interactivity=interactivity, compiler=compiler, result=result)\n",
      "/usr/local/lib/python3.5/dist-packages/IPython/core/interactiveshell.py:3049: DtypeWarning: Columns (0,49) have mixed types. Specify dtype option on import or set low_memory=False.\n",
      "  interactivity=interactivity, compiler=compiler, result=result)\n"
     ]
    }
   ],
   "source": [
    "raw_q42017 = pd.read_csv('~/peervest/lc_data/LoanStats_securev1_2017Q4.csv',header=1)\n",
    "raw_q32017 = pd.read_csv('~/peervest/lc_data/LoanStats_securev1_2017Q3.csv',header=1)\n",
    "raw_q22017 = pd.read_csv('~/peervest/lc_data/LoanStats_securev1_2017Q2.csv',header=1)\n",
    "raw_q12017 = pd.read_csv('~/peervest/lc_data/LoanStats_securev1_2017Q1.csv',header=1)\n",
    "raw_q42016 = pd.read_csv('~/peervest/lc_data/LoanStats_securev1_2016Q4.csv',header=1)\n",
    "raw_q32016 = pd.read_csv('~/peervest/lc_data/LoanStats_securev1_2016Q3.csv',header=1)\n",
    "raw_q22016 = pd.read_csv('~/peervest/lc_data/LoanStats_securev1_2016Q2.csv',header=1)\n",
    "raw_q12016 = pd.read_csv('~/peervest/lc_data/LoanStats_securev1_2016Q1.csv',header=1)\n",
    "raw_2015 = pd.read_csv('~/peervest/lc_data/LoanStats_securev1_2015.csv',header=1)\n",
    "raw_2014 = pd.read_csv('~/peervest/lc_data/LoanStats_securev1_2014.csv',header=1)\n",
    "raw_2012to2013 = pd.read_csv('~/peervest/lc_data/LoanStats_securev1_2012to2013.csv',header=1)\n",
    "raw_2007to2011 = pd.read_csv('~/peervest/lc_data/LoanStats_securev1_2007to2011.csv',header=1)"
   ]
  },
  {
   "cell_type": "code",
   "execution_count": 3,
   "metadata": {},
   "outputs": [],
   "source": [
    "dfs_list = [raw_q42017,raw_q32017,raw_q22017,raw_q12017,\n",
    "           raw_q42016,raw_q32016,raw_q22016,raw_q12016,raw_2015,\n",
    "           raw_2014,raw_2012to2013, raw_2007to2011]"
   ]
  },
  {
   "cell_type": "code",
   "execution_count": 4,
   "metadata": {},
   "outputs": [
    {
     "name": "stderr",
     "output_type": "stream",
     "text": [
      "/home/jupyter/peervest/functions_and_objects.py:243: FutureWarning: Passing datetime64-dtype data to TimedeltaIndex is deprecated, will raise a TypeError in a future version\n",
      "  raw_lc_df['earliest_cr_line'] = pd.to_timedelta(pd.to_datetime(raw_lc_df['earliest_cr_line'])).dt.days\n",
      "/usr/local/lib/python3.5/dist-packages/pandas/core/frame.py:3940: SettingWithCopyWarning: \n",
      "A value is trying to be set on a copy of a slice from a DataFrame\n",
      "\n",
      "See the caveats in the documentation: http://pandas.pydata.org/pandas-docs/stable/indexing.html#indexing-view-versus-copy\n",
      "  errors=errors)\n",
      "/home/jupyter/peervest/functions_and_objects.py:196: SettingWithCopyWarning: \n",
      "A value is trying to be set on a copy of a slice from a DataFrame.\n",
      "Try using .loc[row_indexer,col_indexer] = value instead\n",
      "\n",
      "See the caveats in the documentation: http://pandas.pydata.org/pandas-docs/stable/indexing.html#indexing-view-versus-copy\n",
      "  X_train[col] = X_train[col].fillna(0.0)\n",
      "/home/jupyter/peervest/functions_and_objects.py:197: SettingWithCopyWarning: \n",
      "A value is trying to be set on a copy of a slice from a DataFrame.\n",
      "Try using .loc[row_indexer,col_indexer] = value instead\n",
      "\n",
      "See the caveats in the documentation: http://pandas.pydata.org/pandas-docs/stable/indexing.html#indexing-view-versus-copy\n",
      "  X_test[col] = X_test[col].fillna(0.0)\n",
      "/home/jupyter/peervest/functions_and_objects.py:192: SettingWithCopyWarning: \n",
      "A value is trying to be set on a copy of a slice from a DataFrame.\n",
      "Try using .loc[row_indexer,col_indexer] = value instead\n",
      "\n",
      "See the caveats in the documentation: http://pandas.pydata.org/pandas-docs/stable/indexing.html#indexing-view-versus-copy\n",
      "  X_train[col] = X_train[col].fillna(np.nanmean(X_train[col].values))\n",
      "/home/jupyter/peervest/functions_and_objects.py:193: SettingWithCopyWarning: \n",
      "A value is trying to be set on a copy of a slice from a DataFrame.\n",
      "Try using .loc[row_indexer,col_indexer] = value instead\n",
      "\n",
      "See the caveats in the documentation: http://pandas.pydata.org/pandas-docs/stable/indexing.html#indexing-view-versus-copy\n",
      "  X_test[col] = X_test[col].fillna(np.nanmean(X_train[col].values))\n",
      "/home/jupyter/peervest/functions_and_objects.py:200: SettingWithCopyWarning: \n",
      "A value is trying to be set on a copy of a slice from a DataFrame.\n",
      "Try using .loc[row_indexer,col_indexer] = value instead\n",
      "\n",
      "See the caveats in the documentation: http://pandas.pydata.org/pandas-docs/stable/indexing.html#indexing-view-versus-copy\n",
      "  X_train[col] = X_train[col].fillna(np.nanmax(X_train[col].values) * 5)\n",
      "/home/jupyter/peervest/functions_and_objects.py:201: SettingWithCopyWarning: \n",
      "A value is trying to be set on a copy of a slice from a DataFrame.\n",
      "Try using .loc[row_indexer,col_indexer] = value instead\n",
      "\n",
      "See the caveats in the documentation: http://pandas.pydata.org/pandas-docs/stable/indexing.html#indexing-view-versus-copy\n",
      "  X_test[col] = X_test[col].fillna(np.nanmax(X_train[col].values) * 5)\n"
     ]
    }
   ],
   "source": [
    "(X_train_regr, X_test_regr, y_train_regr, y_test_regr) = regression_model_eval_prep_pipeline(dfs_list)"
   ]
  },
  {
   "cell_type": "code",
   "execution_count": 5,
   "metadata": {},
   "outputs": [
    {
     "name": "stdout",
     "output_type": "stream",
     "text": [
      "(880950, 1108)\n",
      "(377551, 1108)\n",
      "(880950, 1)\n",
      "(377551, 1)\n"
     ]
    }
   ],
   "source": [
    "print(X_train_regr.shape)\n",
    "print(X_test_regr.shape)\n",
    "print(y_train_regr.shape)\n",
    "print(y_test_regr.shape)"
   ]
  },
  {
   "cell_type": "markdown",
   "metadata": {},
   "source": [
    "### Random Forest v1"
   ]
  },
  {
   "cell_type": "code",
   "execution_count": 30,
   "metadata": {},
   "outputs": [],
   "source": [
    "rf = RandomForestRegressor(n_estimators=100, min_samples_split=2, min_samples_leaf=2, max_depth=10)"
   ]
  },
  {
   "cell_type": "code",
   "execution_count": null,
   "metadata": {
    "scrolled": true
   },
   "outputs": [],
   "source": [
    "rf.fit(X_train_regr, np.array(y_train_regr['annu_return']))"
   ]
  },
  {
   "cell_type": "markdown",
   "metadata": {},
   "source": [
    "##### GridSearch"
   ]
  },
  {
   "cell_type": "code",
   "execution_count": 8,
   "metadata": {},
   "outputs": [],
   "source": [
    "# param_grid = {\n",
    "#     'n_estimators': [30, 100, 300],\n",
    "#     'min_samples_split': [2, 4, 6],\n",
    "#     'min_samples_leaf': [2, 4, 6],\n",
    "#     'max_depth': [4,8,10]\n",
    "# }"
   ]
  },
  {
   "cell_type": "code",
   "execution_count": 9,
   "metadata": {},
   "outputs": [],
   "source": [
    "#rfgs = GridSearchCV(rf, param_grid, cv=5)"
   ]
  },
  {
   "cell_type": "code",
   "execution_count": null,
   "metadata": {},
   "outputs": [
    {
     "name": "stderr",
     "output_type": "stream",
     "text": [
      "/usr/local/lib/python3.5/dist-packages/sklearn/model_selection/_validation.py:514: DataConversionWarning: A column-vector y was passed when a 1d array was expected. Please change the shape of y to (n_samples,), for example using ravel().\n",
      "  estimator.fit(X_train, y_train, **fit_params)\n",
      "/usr/local/lib/python3.5/dist-packages/sklearn/model_selection/_validation.py:514: DataConversionWarning: A column-vector y was passed when a 1d array was expected. Please change the shape of y to (n_samples,), for example using ravel().\n",
      "  estimator.fit(X_train, y_train, **fit_params)\n",
      "/usr/local/lib/python3.5/dist-packages/sklearn/model_selection/_validation.py:514: DataConversionWarning: A column-vector y was passed when a 1d array was expected. Please change the shape of y to (n_samples,), for example using ravel().\n",
      "  estimator.fit(X_train, y_train, **fit_params)\n",
      "/usr/local/lib/python3.5/dist-packages/sklearn/model_selection/_validation.py:514: DataConversionWarning: A column-vector y was passed when a 1d array was expected. Please change the shape of y to (n_samples,), for example using ravel().\n",
      "  estimator.fit(X_train, y_train, **fit_params)\n",
      "/usr/local/lib/python3.5/dist-packages/sklearn/model_selection/_validation.py:514: DataConversionWarning: A column-vector y was passed when a 1d array was expected. Please change the shape of y to (n_samples,), for example using ravel().\n",
      "  estimator.fit(X_train, y_train, **fit_params)\n",
      "/usr/local/lib/python3.5/dist-packages/sklearn/model_selection/_validation.py:514: DataConversionWarning: A column-vector y was passed when a 1d array was expected. Please change the shape of y to (n_samples,), for example using ravel().\n",
      "  estimator.fit(X_train, y_train, **fit_params)\n"
     ]
    }
   ],
   "source": [
    "#rfgs.fit(X_train_regr, y_train_regr)"
   ]
  },
  {
   "cell_type": "code",
   "execution_count": null,
   "metadata": {},
   "outputs": [],
   "source": [
    "#rfgs.best_params_"
   ]
  },
  {
   "cell_type": "code",
   "execution_count": 25,
   "metadata": {},
   "outputs": [],
   "source": [
    "y_train_regr_preds = rf.predict(X_train_regr)"
   ]
  },
  {
   "cell_type": "code",
   "execution_count": 26,
   "metadata": {},
   "outputs": [],
   "source": [
    "y_test_regr_preds = rf.predict(X_test_regr)"
   ]
  },
  {
   "cell_type": "markdown",
   "metadata": {},
   "source": [
    "### Random Forest v1 Evaluation\n",
    "###### Params: n_estimators=30, min_samples_split=2, min_samples_leaf=2, max_depth=4"
   ]
  },
  {
   "cell_type": "code",
   "execution_count": 27,
   "metadata": {},
   "outputs": [
    {
     "name": "stdout",
     "output_type": "stream",
     "text": [
      "TRAIN ERROR METRICS:\n",
      "R-Squared: 0.7337991886574766\n",
      "Mean Squared Error: 0.016646060054940577\n",
      "Root Mean Squared Error: 0.12901961112536567\n"
     ]
    }
   ],
   "source": [
    "##BENCHMARK SET BY RIDGE REGRESSION V2:\n",
    "#TEST ERROR METRICS:\n",
    "#R-Squared: 0.6609090923805967\n",
    "#Mean Squared Error: 0.021143184815253565\n",
    "#Root Mean Squared Error: 0.14540696274681472\n",
    "\n",
    "print(\"TRAIN ERROR METRICS:\")\n",
    "print(\"R-Squared: {}\".format(r2_score(y_train_regr, y_train_regr_preds)))\n",
    "print(\"Mean Squared Error: {}\".format(mean_squared_error(y_train_regr, y_train_regr_preds)))\n",
    "print(\"Root Mean Squared Error: {}\".format(sqrt(mean_squared_error(y_train_regr, y_train_regr_preds))))"
   ]
  },
  {
   "cell_type": "code",
   "execution_count": 28,
   "metadata": {},
   "outputs": [
    {
     "name": "stdout",
     "output_type": "stream",
     "text": [
      "TEST ERROR METRICS:\n",
      "R-Squared: 0.7327733043317483\n",
      "Mean Squared Error: 0.016662267513303457\n",
      "Root Mean Squared Error: 0.12908240590143746\n"
     ]
    }
   ],
   "source": [
    "print(\"TEST ERROR METRICS:\")\n",
    "print(\"R-Squared: {}\".format(r2_score(y_test_regr, y_test_regr_preds)))\n",
    "print(\"Mean Squared Error: {}\".format(mean_squared_error(y_test_regr, y_test_regr_preds)))\n",
    "print(\"Root Mean Squared Error: {}\".format(sqrt(mean_squared_error(y_test_regr, y_test_regr_preds))))"
   ]
  },
  {
   "cell_type": "code",
   "execution_count": 29,
   "metadata": {},
   "outputs": [
    {
     "data": {
      "text/plain": [
       "['rf_regr_v1.joblib']"
      ]
     },
     "execution_count": 29,
     "metadata": {},
     "output_type": "execute_result"
    }
   ],
   "source": [
    "# save model joblib\n",
    "filename = 'rf_regr_v1.joblib'\n",
    "joblib.dump(rf, filename)"
   ]
  },
  {
   "cell_type": "markdown",
   "metadata": {},
   "source": [
    "### Random Forest v2 Evaluation\n",
    "###### Params: n_estimators=100, min_samples_split=2, min_samples_leaf=2, max_depth=10"
   ]
  },
  {
   "cell_type": "code",
   "execution_count": 27,
   "metadata": {},
   "outputs": [
    {
     "name": "stdout",
     "output_type": "stream",
     "text": [
      "TRAIN ERROR METRICS:\n",
      "R-Squared: 0.7337991886574766\n",
      "Mean Squared Error: 0.016646060054940577\n",
      "Root Mean Squared Error: 0.12901961112536567\n"
     ]
    }
   ],
   "source": [
    "##BENCHMARK SET BY RIDGE REGRESSION V2:\n",
    "#TEST ERROR METRICS:\n",
    "#R-Squared: 0.6609090923805967\n",
    "#Mean Squared Error: 0.021143184815253565\n",
    "#Root Mean Squared Error: 0.14540696274681472\n",
    "\n",
    "print(\"TRAIN ERROR METRICS:\")\n",
    "print(\"R-Squared: {}\".format(r2_score(y_train_regr, y_train_regr_preds)))\n",
    "print(\"Mean Squared Error: {}\".format(mean_squared_error(y_train_regr, y_train_regr_preds)))\n",
    "print(\"Root Mean Squared Error: {}\".format(sqrt(mean_squared_error(y_train_regr, y_train_regr_preds))))"
   ]
  },
  {
   "cell_type": "code",
   "execution_count": 28,
   "metadata": {},
   "outputs": [
    {
     "name": "stdout",
     "output_type": "stream",
     "text": [
      "TEST ERROR METRICS:\n",
      "R-Squared: 0.7327733043317483\n",
      "Mean Squared Error: 0.016662267513303457\n",
      "Root Mean Squared Error: 0.12908240590143746\n"
     ]
    }
   ],
   "source": [
    "print(\"TEST ERROR METRICS:\")\n",
    "print(\"R-Squared: {}\".format(r2_score(y_test_regr, y_test_regr_preds)))\n",
    "print(\"Mean Squared Error: {}\".format(mean_squared_error(y_test_regr, y_test_regr_preds)))\n",
    "print(\"Root Mean Squared Error: {}\".format(sqrt(mean_squared_error(y_test_regr, y_test_regr_preds))))"
   ]
  },
  {
   "cell_type": "code",
   "execution_count": 29,
   "metadata": {},
   "outputs": [
    {
     "data": {
      "text/plain": [
       "['rf_regr_v1.joblib']"
      ]
     },
     "execution_count": 29,
     "metadata": {},
     "output_type": "execute_result"
    }
   ],
   "source": [
    "# save model joblib\n",
    "filename = 'rf_regr_v2.joblib'\n",
    "joblib.dump(rf, filename)"
   ]
  },
  {
   "cell_type": "code",
   "execution_count": null,
   "metadata": {},
   "outputs": [],
   "source": []
  }
 ],
 "metadata": {
  "kernelspec": {
   "display_name": "Python 3",
   "language": "python",
   "name": "python3"
  },
  "language_info": {
   "codemirror_mode": {
    "name": "ipython",
    "version": 3
   },
   "file_extension": ".py",
   "mimetype": "text/x-python",
   "name": "python",
   "nbconvert_exporter": "python",
   "pygments_lexer": "ipython3",
   "version": "3.5.3"
  }
 },
 "nbformat": 4,
 "nbformat_minor": 2
}
