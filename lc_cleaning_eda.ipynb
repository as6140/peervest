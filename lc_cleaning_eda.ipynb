{
 "cells": [
  {
   "cell_type": "code",
   "execution_count": 1,
   "metadata": {},
   "outputs": [],
   "source": [
    "import pandas as pd\n",
    "import numpy as np\n",
    "import matplotlib.pyplot as plt\n",
    "from datetime import datetime\n",
    "import math\n",
    "import seaborn as sns\n",
    "\n",
    "import sklearn\n",
    "from sklearn.preprocessing import OneHotEncoder\n",
    "from sklearn.model_selection import train_test_split"
   ]
  },
  {
   "cell_type": "code",
   "execution_count": 2,
   "metadata": {},
   "outputs": [
    {
     "data": {
      "text/plain": [
       "'0.21.2'"
      ]
     },
     "execution_count": 2,
     "metadata": {},
     "output_type": "execute_result"
    }
   ],
   "source": [
    "sklearn.__version__"
   ]
  },
  {
   "cell_type": "markdown",
   "metadata": {},
   "source": [
    "## LendingClub Data Acquisition"
   ]
  },
  {
   "cell_type": "code",
   "execution_count": 3,
   "metadata": {},
   "outputs": [
    {
     "name": "stderr",
     "output_type": "stream",
     "text": [
      "/usr/local/lib/python3.5/dist-packages/IPython/core/interactiveshell.py:3049: DtypeWarning: Columns (0) have mixed types. Specify dtype option on import or set low_memory=False.\n",
      "  interactivity=interactivity, compiler=compiler, result=result)\n",
      "/usr/local/lib/python3.5/dist-packages/IPython/core/interactiveshell.py:3049: DtypeWarning: Columns (0,118) have mixed types. Specify dtype option on import or set low_memory=False.\n",
      "  interactivity=interactivity, compiler=compiler, result=result)\n",
      "/usr/local/lib/python3.5/dist-packages/IPython/core/interactiveshell.py:3049: DtypeWarning: Columns (0,19) have mixed types. Specify dtype option on import or set low_memory=False.\n",
      "  interactivity=interactivity, compiler=compiler, result=result)\n",
      "/usr/local/lib/python3.5/dist-packages/IPython/core/interactiveshell.py:3049: DtypeWarning: Columns (0,19,59) have mixed types. Specify dtype option on import or set low_memory=False.\n",
      "  interactivity=interactivity, compiler=compiler, result=result)\n",
      "/usr/local/lib/python3.5/dist-packages/IPython/core/interactiveshell.py:3049: DtypeWarning: Columns (0,19,49) have mixed types. Specify dtype option on import or set low_memory=False.\n",
      "  interactivity=interactivity, compiler=compiler, result=result)\n",
      "/usr/local/lib/python3.5/dist-packages/IPython/core/interactiveshell.py:3049: DtypeWarning: Columns (0,49,129,130,131,134,135,136,139) have mixed types. Specify dtype option on import or set low_memory=False.\n",
      "  interactivity=interactivity, compiler=compiler, result=result)\n",
      "/usr/local/lib/python3.5/dist-packages/IPython/core/interactiveshell.py:3049: DtypeWarning: Columns (0,49) have mixed types. Specify dtype option on import or set low_memory=False.\n",
      "  interactivity=interactivity, compiler=compiler, result=result)\n"
     ]
    }
   ],
   "source": [
    "# raw_q12019 = pd.read_csv('~/peervest/lc_data/LoanStats_securev1_2019Q1.csv',header=1)\n",
    "# raw_q42018 = pd.read_csv('~/peervest/lc_data/LoanStats_securev1_2018Q4.csv',header=1)\n",
    "# raw_q32018 = pd.read_csv('~/peervest/lc_data/LoanStats_securev1_2018Q3.csv',header=1)\n",
    "# raw_q22018 = pd.read_csv('~/peervest/lc_data/LoanStats_securev1_2018Q2.csv',header=1)\n",
    "# raw_q12018 = pd.read_csv('~/peervest/lc_data/LoanStats_securev1_2018Q1.csv',header=1)\n",
    "raw_q42017 = pd.read_csv('~/peervest/lc_data/LoanStats_securev1_2017Q4.csv',header=1)\n",
    "raw_q32017 = pd.read_csv('~/peervest/lc_data/LoanStats_securev1_2017Q3.csv',header=1)\n",
    "raw_q22017 = pd.read_csv('~/peervest/lc_data/LoanStats_securev1_2017Q2.csv',header=1)\n",
    "raw_q12017 = pd.read_csv('~/peervest/lc_data/LoanStats_securev1_2017Q1.csv',header=1)\n",
    "raw_q42016 = pd.read_csv('~/peervest/lc_data/LoanStats_securev1_2016Q4.csv',header=1)\n",
    "raw_q32016 = pd.read_csv('~/peervest/lc_data/LoanStats_securev1_2016Q3.csv',header=1)\n",
    "raw_q22016 = pd.read_csv('~/peervest/lc_data/LoanStats_securev1_2016Q2.csv',header=1)\n",
    "raw_q12016 = pd.read_csv('~/peervest/lc_data/LoanStats_securev1_2016Q1.csv',header=1)\n",
    "raw_2015 = pd.read_csv('~/peervest/lc_data/LoanStats_securev1_2015.csv',header=1)\n",
    "raw_2014 = pd.read_csv('~/peervest/lc_data/LoanStats_securev1_2014.csv',header=1)\n",
    "raw_2012to2013 = pd.read_csv('~/peervest/lc_data/LoanStats_securev1_2012to2013.csv',header=1)\n",
    "raw_2007to2011 = pd.read_csv('~/peervest/lc_data/LoanStats_securev1_2007to2011.csv',header=1)"
   ]
  },
  {
   "cell_type": "code",
   "execution_count": 4,
   "metadata": {},
   "outputs": [
    {
     "name": "stdout",
     "output_type": "stream",
     "text": [
      "(118650, 150)\n",
      "(122703, 150)\n",
      "(105453, 150)\n",
      "(96781, 150)\n",
      "(103548, 150)\n",
      "(99122, 150)\n",
      "(97856, 150)\n",
      "(133889, 150)\n",
      "(421097, 150)\n",
      "(235631, 150)\n",
      "(188183, 150)\n",
      "(42538, 150)\n"
     ]
    }
   ],
   "source": [
    "# print(raw_q12019.shape)\n",
    "# print(raw_q42018.shape)\n",
    "# print(raw_q32018.shape)\n",
    "# print(raw_q22018.shape)\n",
    "# print(raw_q12018.shape)\n",
    "print(raw_q42017.shape)\n",
    "print(raw_q32017.shape)\n",
    "print(raw_q22017.shape)\n",
    "print(raw_q12017.shape)\n",
    "print(raw_q42016.shape)\n",
    "print(raw_q32016.shape)\n",
    "print(raw_q22016.shape)\n",
    "print(raw_q12016.shape)\n",
    "print(raw_2015.shape)\n",
    "print(raw_2014.shape)\n",
    "print(raw_2012to2013.shape)\n",
    "print(raw_2007to2011.shape)\n",
    "#raw_q12019,raw_q42018,raw_q32018,raw_q22018,raw_q12018,\n",
    "dfs = [raw_q42017,raw_q32017,raw_q22017,raw_q12017,\n",
    "       raw_q42016,raw_q32016,raw_q22016,raw_q12016,raw_2015,\n",
    "       raw_2014,raw_2012to2013, raw_2007to2011]"
   ]
  },
  {
   "cell_type": "code",
   "execution_count": 5,
   "metadata": {},
   "outputs": [],
   "source": [
    "raw_lc_df = pd.concat(dfs, ignore_index=True)"
   ]
  },
  {
   "cell_type": "code",
   "execution_count": 6,
   "metadata": {},
   "outputs": [
    {
     "data": {
      "text/plain": [
       "Fully Paid                                             1076208\n",
       "Current                                                 399465\n",
       "Charged Off                                             268335\n",
       "Late (31-120 days)                                       12138\n",
       "In Grace Period                                           3934\n",
       "Late (16-30 days)                                         2586\n",
       "Does not meet the credit policy. Status:Fully Paid        1988\n",
       "Does not meet the credit policy. Status:Charged Off        761\n",
       "Default                                                     11\n",
       "Name: loan_status, dtype: int64"
      ]
     },
     "execution_count": 6,
     "metadata": {},
     "output_type": "execute_result"
    }
   ],
   "source": [
    "raw_lc_df['loan_status'].value_counts()"
   ]
  },
  {
   "cell_type": "code",
   "execution_count": 7,
   "metadata": {},
   "outputs": [
    {
     "data": {
      "text/plain": [
       "(1765451, 150)"
      ]
     },
     "execution_count": 7,
     "metadata": {},
     "output_type": "execute_result"
    }
   ],
   "source": [
    "raw_lc_df.shape"
   ]
  },
  {
   "cell_type": "markdown",
   "metadata": {},
   "source": [
    "## Data Cleaning"
   ]
  },
  {
   "cell_type": "code",
   "execution_count": 8,
   "metadata": {},
   "outputs": [],
   "source": [
    "#FILTER OUT WHOSE STATUS IS NOT YET FINALIZED\n",
    "raw_lc_df = raw_lc_df[raw_lc_df['loan_status'] != 'Current']\n",
    "raw_lc_df = raw_lc_df[raw_lc_df['loan_status'] != 'Late (31-120 days)']\n",
    "raw_lc_df = raw_lc_df[raw_lc_df['loan_status'] != 'Late (16-30 days)']\n",
    "raw_lc_df = raw_lc_df[raw_lc_df['loan_status'] != 'In Grace Period']\n",
    "raw_lc_df = raw_lc_df[raw_lc_df['loan_status'] != 'Does not meet the credit policy. Status:Fully Paid']\n",
    "raw_lc_df = raw_lc_df[raw_lc_df['loan_status'] != 'Does not meet the credit policy. Status:Charged Off']\n",
    "\n",
    "#BINARIZE CLASSES\n",
    "raw_lc_df['loan_status'] = raw_lc_df['loan_status'].map({'Charged Off': 0, 'Default': 0, 'Fully Paid': 1})"
   ]
  },
  {
   "cell_type": "code",
   "execution_count": 9,
   "metadata": {},
   "outputs": [
    {
     "name": "stderr",
     "output_type": "stream",
     "text": [
      "/usr/local/lib/python3.5/dist-packages/ipykernel_launcher.py:1: FutureWarning: Passing datetime64-dtype data to TimedeltaIndex is deprecated, will raise a TypeError in a future version\n",
      "  \"\"\"Entry point for launching an IPython kernel.\n"
     ]
    }
   ],
   "source": [
    "raw_lc_df['earliest_cr_line'] = pd.to_timedelta(pd.to_datetime(raw_lc_df['earliest_cr_line'])).dt.days"
   ]
  },
  {
   "cell_type": "code",
   "execution_count": 10,
   "metadata": {},
   "outputs": [],
   "source": [
    "def parse_percentage(percentage):\n",
    "    '''Change percentage features into floats'''\n",
    "    if str(percentage) == 'nan': return math.nan\n",
    "    new = percentage.replace('%', '')\n",
    "    return float(new) / 100.0\n",
    "\n",
    "raw_lc_df['revol_util'] = raw_lc_df['revol_util'].apply(parse_percentage)\n",
    "raw_lc_df['int_rate'] = raw_lc_df['int_rate'].apply(parse_percentage)"
   ]
  },
  {
   "cell_type": "code",
   "execution_count": 11,
   "metadata": {},
   "outputs": [],
   "source": [
    "#FILTER OUT COLUMNS THAT ARE OBVIOUSLY REDUNDANT OR UNHELPFUL\n",
    "lc_df = raw_lc_df[['loan_amnt', 'funded_amnt',\n",
    "                'term', 'int_rate', 'installment',\n",
    "                'emp_length', 'home_ownership', 'annual_inc',\n",
    "                'verification_status', 'loan_status',\n",
    "                'purpose', 'zip_code', 'addr_state', 'dti',\n",
    "                'delinq_2yrs', 'earliest_cr_line', 'fico_range_low',\n",
    "                'fico_range_high', 'inq_last_6mths', 'mths_since_last_delinq',\n",
    "                'mths_since_last_record', 'open_acc', 'pub_rec', 'revol_bal',\n",
    "                'revol_util', 'total_acc', 'out_prncp',\n",
    "                'out_prncp_inv', 'last_fico_range_high', 'last_fico_range_low',\n",
    "                'collections_12_mths_ex_med', 'mths_since_last_major_derog',\n",
    "                'policy_code', 'application_type', 'annual_inc_joint', 'dti_joint',\n",
    "                'acc_now_delinq', 'tot_coll_amt',\n",
    "                'tot_cur_bal', 'open_acc_6m', 'open_act_il', 'open_il_12m',\n",
    "                'open_il_24m', 'mths_since_rcnt_il', 'total_bal_il', 'il_util',\n",
    "                'open_rv_12m', 'open_rv_24m', 'all_util',\n",
    "                'total_rev_hi_lim', 'inq_fi', 'total_cu_tl', 'inq_last_12m',\n",
    "                'acc_open_past_24mths', 'avg_cur_bal', 'bc_open_to_buy', 'bc_util',\n",
    "                'chargeoff_within_12_mths', 'delinq_amnt', 'mo_sin_old_il_acct',\n",
    "                'mo_sin_old_rev_tl_op', 'mo_sin_rcnt_rev_tl_op', 'mo_sin_rcnt_tl',\n",
    "                'mort_acc', 'mths_since_recent_bc', 'mths_since_recent_bc_dlq',\n",
    "                'mths_since_recent_inq', 'mths_since_recent_revol_delinq',\n",
    "                'num_accts_ever_120_pd', 'num_actv_bc_tl', 'num_actv_rev_tl',\n",
    "                'num_bc_sats', 'num_bc_tl', 'num_il_tl', 'num_op_rev_tl',\n",
    "                'num_rev_accts', 'num_rev_tl_bal_gt_0', 'num_sats',\n",
    "                'num_tl_120dpd_2m', 'num_tl_30dpd', 'num_tl_90g_dpd_24m',\n",
    "                'num_tl_op_past_12m', 'pct_tl_nvr_dlq', 'percent_bc_gt_75',\n",
    "                'pub_rec_bankruptcies', 'tax_liens', 'tot_hi_cred_lim',\n",
    "                'total_bal_ex_mort', 'total_bc_limit',\n",
    "                'total_il_high_credit_limit','grade', 'collection_recovery_fee', \n",
    "                'total_rec_prncp', 'title', 'total_rec_int', 'total_rec_late_fee', \n",
    "                'sub_grade', 'debt_settlement_flag', 'emp_title','issue_d','last_pymnt_d']]"
   ]
  },
  {
   "cell_type": "code",
   "execution_count": 12,
   "metadata": {},
   "outputs": [
    {
     "data": {
      "text/plain": [
       "(1344579, 101)"
      ]
     },
     "execution_count": 12,
     "metadata": {},
     "output_type": "execute_result"
    }
   ],
   "source": [
    "lc_df.shape"
   ]
  },
  {
   "cell_type": "code",
   "execution_count": 13,
   "metadata": {},
   "outputs": [],
   "source": [
    "lc_df = lc_df.dropna(axis=0, subset=['loan_amnt','inq_last_6mths']).reset_index(drop=True)"
   ]
  },
  {
   "cell_type": "code",
   "execution_count": 14,
   "metadata": {},
   "outputs": [],
   "source": [
    "#CAST DATATYPES\n",
    "dtype = {\n",
    "      'loan_amnt': 'int64',\n",
    "      'term': 'object',\n",
    "      'int_rate': 'float64',\n",
    "      'emp_length': 'object',\n",
    "      'home_ownership': 'object',\n",
    "      'annual_inc': 'float64',\n",
    "      'verification_status': 'object',\n",
    "      'loan_status': 'object',\n",
    "      'purpose': 'object',\n",
    "      'zip_code': 'object',\n",
    "      'addr_state': 'object',\n",
    "      'dti': 'float64',\n",
    "      'delinq_2yrs': 'int64',\n",
    "      'fico_range_low': 'int64',\n",
    "      'fico_range_high': 'int64',\n",
    "      'inq_last_6mths': 'int64',\n",
    "      'open_acc': 'int64',\n",
    "      'pub_rec': 'int64',\n",
    "      'revol_bal': 'int64',\n",
    "      'total_acc': 'int64',\n",
    "      'application_type': 'object'\n",
    "    }\n",
    "lc_df = lc_df.astype(dtype=dtype)"
   ]
  },
  {
   "cell_type": "code",
   "execution_count": 15,
   "metadata": {
    "scrolled": true
   },
   "outputs": [
    {
     "data": {
      "text/html": [
       "<div>\n",
       "<style scoped>\n",
       "    .dataframe tbody tr th:only-of-type {\n",
       "        vertical-align: middle;\n",
       "    }\n",
       "\n",
       "    .dataframe tbody tr th {\n",
       "        vertical-align: top;\n",
       "    }\n",
       "\n",
       "    .dataframe thead th {\n",
       "        text-align: right;\n",
       "    }\n",
       "</style>\n",
       "<table border=\"1\" class=\"dataframe\">\n",
       "  <thead>\n",
       "    <tr style=\"text-align: right;\">\n",
       "      <th></th>\n",
       "      <th>0</th>\n",
       "      <th>1</th>\n",
       "      <th>2</th>\n",
       "      <th>3</th>\n",
       "      <th>4</th>\n",
       "    </tr>\n",
       "  </thead>\n",
       "  <tbody>\n",
       "    <tr>\n",
       "      <th>loan_amnt</th>\n",
       "      <td>30000</td>\n",
       "      <td>13000</td>\n",
       "      <td>15000</td>\n",
       "      <td>15750</td>\n",
       "      <td>19800</td>\n",
       "    </tr>\n",
       "    <tr>\n",
       "      <th>funded_amnt</th>\n",
       "      <td>30000</td>\n",
       "      <td>13000</td>\n",
       "      <td>15000</td>\n",
       "      <td>15750</td>\n",
       "      <td>19800</td>\n",
       "    </tr>\n",
       "    <tr>\n",
       "      <th>term</th>\n",
       "      <td>60 months</td>\n",
       "      <td>60 months</td>\n",
       "      <td>36 months</td>\n",
       "      <td>36 months</td>\n",
       "      <td>60 months</td>\n",
       "    </tr>\n",
       "    <tr>\n",
       "      <th>int_rate</th>\n",
       "      <td>0.3079</td>\n",
       "      <td>0.1505</td>\n",
       "      <td>0.1042</td>\n",
       "      <td>0.0735</td>\n",
       "      <td>0.1505</td>\n",
       "    </tr>\n",
       "    <tr>\n",
       "      <th>installment</th>\n",
       "      <td>985.21</td>\n",
       "      <td>309.62</td>\n",
       "      <td>486.98</td>\n",
       "      <td>488.84</td>\n",
       "      <td>471.57</td>\n",
       "    </tr>\n",
       "    <tr>\n",
       "      <th>emp_length</th>\n",
       "      <td>10+ years</td>\n",
       "      <td>10+ years</td>\n",
       "      <td>3 years</td>\n",
       "      <td>10+ years</td>\n",
       "      <td>3 years</td>\n",
       "    </tr>\n",
       "    <tr>\n",
       "      <th>home_ownership</th>\n",
       "      <td>RENT</td>\n",
       "      <td>RENT</td>\n",
       "      <td>RENT</td>\n",
       "      <td>RENT</td>\n",
       "      <td>RENT</td>\n",
       "    </tr>\n",
       "    <tr>\n",
       "      <th>annual_inc</th>\n",
       "      <td>40000</td>\n",
       "      <td>72000</td>\n",
       "      <td>55000</td>\n",
       "      <td>96500</td>\n",
       "      <td>108600</td>\n",
       "    </tr>\n",
       "    <tr>\n",
       "      <th>verification_status</th>\n",
       "      <td>Source Verified</td>\n",
       "      <td>Source Verified</td>\n",
       "      <td>Source Verified</td>\n",
       "      <td>Source Verified</td>\n",
       "      <td>Not Verified</td>\n",
       "    </tr>\n",
       "    <tr>\n",
       "      <th>loan_status</th>\n",
       "      <td>0</td>\n",
       "      <td>1</td>\n",
       "      <td>1</td>\n",
       "      <td>1</td>\n",
       "      <td>1</td>\n",
       "    </tr>\n",
       "    <tr>\n",
       "      <th>purpose</th>\n",
       "      <td>other</td>\n",
       "      <td>debt_consolidation</td>\n",
       "      <td>debt_consolidation</td>\n",
       "      <td>debt_consolidation</td>\n",
       "      <td>credit_card</td>\n",
       "    </tr>\n",
       "    <tr>\n",
       "      <th>zip_code</th>\n",
       "      <td>103xx</td>\n",
       "      <td>333xx</td>\n",
       "      <td>981xx</td>\n",
       "      <td>968xx</td>\n",
       "      <td>021xx</td>\n",
       "    </tr>\n",
       "    <tr>\n",
       "      <th>addr_state</th>\n",
       "      <td>NY</td>\n",
       "      <td>FL</td>\n",
       "      <td>WA</td>\n",
       "      <td>HI</td>\n",
       "      <td>MA</td>\n",
       "    </tr>\n",
       "    <tr>\n",
       "      <th>dti</th>\n",
       "      <td>30.86</td>\n",
       "      <td>11.17</td>\n",
       "      <td>17.48</td>\n",
       "      <td>12.22</td>\n",
       "      <td>18.19</td>\n",
       "    </tr>\n",
       "    <tr>\n",
       "      <th>delinq_2yrs</th>\n",
       "      <td>1</td>\n",
       "      <td>0</td>\n",
       "      <td>0</td>\n",
       "      <td>1</td>\n",
       "      <td>0</td>\n",
       "    </tr>\n",
       "    <tr>\n",
       "      <th>earliest_cr_line</th>\n",
       "      <td>12996</td>\n",
       "      <td>12965</td>\n",
       "      <td>14092</td>\n",
       "      <td>12173</td>\n",
       "      <td>14579</td>\n",
       "    </tr>\n",
       "    <tr>\n",
       "      <th>fico_range_low</th>\n",
       "      <td>700</td>\n",
       "      <td>705</td>\n",
       "      <td>670</td>\n",
       "      <td>705</td>\n",
       "      <td>725</td>\n",
       "    </tr>\n",
       "    <tr>\n",
       "      <th>fico_range_high</th>\n",
       "      <td>704</td>\n",
       "      <td>709</td>\n",
       "      <td>674</td>\n",
       "      <td>709</td>\n",
       "      <td>729</td>\n",
       "    </tr>\n",
       "    <tr>\n",
       "      <th>inq_last_6mths</th>\n",
       "      <td>0</td>\n",
       "      <td>0</td>\n",
       "      <td>0</td>\n",
       "      <td>0</td>\n",
       "      <td>1</td>\n",
       "    </tr>\n",
       "    <tr>\n",
       "      <th>mths_since_last_delinq</th>\n",
       "      <td>4</td>\n",
       "      <td>NaN</td>\n",
       "      <td>NaN</td>\n",
       "      <td>10</td>\n",
       "      <td>NaN</td>\n",
       "    </tr>\n",
       "    <tr>\n",
       "      <th>mths_since_last_record</th>\n",
       "      <td>NaN</td>\n",
       "      <td>NaN</td>\n",
       "      <td>NaN</td>\n",
       "      <td>NaN</td>\n",
       "      <td>NaN</td>\n",
       "    </tr>\n",
       "    <tr>\n",
       "      <th>open_acc</th>\n",
       "      <td>11</td>\n",
       "      <td>4</td>\n",
       "      <td>28</td>\n",
       "      <td>6</td>\n",
       "      <td>10</td>\n",
       "    </tr>\n",
       "    <tr>\n",
       "      <th>pub_rec</th>\n",
       "      <td>0</td>\n",
       "      <td>0</td>\n",
       "      <td>0</td>\n",
       "      <td>0</td>\n",
       "      <td>0</td>\n",
       "    </tr>\n",
       "    <tr>\n",
       "      <th>revol_bal</th>\n",
       "      <td>19754</td>\n",
       "      <td>12389</td>\n",
       "      <td>12673</td>\n",
       "      <td>1868</td>\n",
       "      <td>1458</td>\n",
       "    </tr>\n",
       "    <tr>\n",
       "      <th>revol_util</th>\n",
       "      <td>0.303</td>\n",
       "      <td>0.774</td>\n",
       "      <td>0.737</td>\n",
       "      <td>0.107</td>\n",
       "      <td>0.037</td>\n",
       "    </tr>\n",
       "    <tr>\n",
       "      <th>total_acc</th>\n",
       "      <td>23</td>\n",
       "      <td>13</td>\n",
       "      <td>44</td>\n",
       "      <td>17</td>\n",
       "      <td>14</td>\n",
       "    </tr>\n",
       "    <tr>\n",
       "      <th>out_prncp</th>\n",
       "      <td>0</td>\n",
       "      <td>0</td>\n",
       "      <td>0</td>\n",
       "      <td>0</td>\n",
       "      <td>0</td>\n",
       "    </tr>\n",
       "    <tr>\n",
       "      <th>out_prncp_inv</th>\n",
       "      <td>0</td>\n",
       "      <td>0</td>\n",
       "      <td>0</td>\n",
       "      <td>0</td>\n",
       "      <td>0</td>\n",
       "    </tr>\n",
       "    <tr>\n",
       "      <th>last_fico_range_high</th>\n",
       "      <td>579</td>\n",
       "      <td>764</td>\n",
       "      <td>649</td>\n",
       "      <td>714</td>\n",
       "      <td>714</td>\n",
       "    </tr>\n",
       "    <tr>\n",
       "      <th>last_fico_range_low</th>\n",
       "      <td>575</td>\n",
       "      <td>760</td>\n",
       "      <td>645</td>\n",
       "      <td>710</td>\n",
       "      <td>710</td>\n",
       "    </tr>\n",
       "    <tr>\n",
       "      <th>...</th>\n",
       "      <td>...</td>\n",
       "      <td>...</td>\n",
       "      <td>...</td>\n",
       "      <td>...</td>\n",
       "      <td>...</td>\n",
       "    </tr>\n",
       "    <tr>\n",
       "      <th>num_bc_sats</th>\n",
       "      <td>7</td>\n",
       "      <td>2</td>\n",
       "      <td>2</td>\n",
       "      <td>5</td>\n",
       "      <td>6</td>\n",
       "    </tr>\n",
       "    <tr>\n",
       "      <th>num_bc_tl</th>\n",
       "      <td>12</td>\n",
       "      <td>5</td>\n",
       "      <td>2</td>\n",
       "      <td>8</td>\n",
       "      <td>7</td>\n",
       "    </tr>\n",
       "    <tr>\n",
       "      <th>num_il_tl</th>\n",
       "      <td>4</td>\n",
       "      <td>5</td>\n",
       "      <td>40</td>\n",
       "      <td>6</td>\n",
       "      <td>7</td>\n",
       "    </tr>\n",
       "    <tr>\n",
       "      <th>num_op_rev_tl</th>\n",
       "      <td>10</td>\n",
       "      <td>3</td>\n",
       "      <td>4</td>\n",
       "      <td>5</td>\n",
       "      <td>6</td>\n",
       "    </tr>\n",
       "    <tr>\n",
       "      <th>num_rev_accts</th>\n",
       "      <td>19</td>\n",
       "      <td>8</td>\n",
       "      <td>4</td>\n",
       "      <td>11</td>\n",
       "      <td>7</td>\n",
       "    </tr>\n",
       "    <tr>\n",
       "      <th>num_rev_tl_bal_gt_0</th>\n",
       "      <td>7</td>\n",
       "      <td>2</td>\n",
       "      <td>3</td>\n",
       "      <td>4</td>\n",
       "      <td>3</td>\n",
       "    </tr>\n",
       "    <tr>\n",
       "      <th>num_sats</th>\n",
       "      <td>11</td>\n",
       "      <td>4</td>\n",
       "      <td>28</td>\n",
       "      <td>6</td>\n",
       "      <td>10</td>\n",
       "    </tr>\n",
       "    <tr>\n",
       "      <th>num_tl_120dpd_2m</th>\n",
       "      <td>0</td>\n",
       "      <td>0</td>\n",
       "      <td>0</td>\n",
       "      <td>0</td>\n",
       "      <td>0</td>\n",
       "    </tr>\n",
       "    <tr>\n",
       "      <th>num_tl_30dpd</th>\n",
       "      <td>0</td>\n",
       "      <td>0</td>\n",
       "      <td>0</td>\n",
       "      <td>0</td>\n",
       "      <td>0</td>\n",
       "    </tr>\n",
       "    <tr>\n",
       "      <th>num_tl_90g_dpd_24m</th>\n",
       "      <td>0</td>\n",
       "      <td>0</td>\n",
       "      <td>0</td>\n",
       "      <td>1</td>\n",
       "      <td>0</td>\n",
       "    </tr>\n",
       "    <tr>\n",
       "      <th>num_tl_op_past_12m</th>\n",
       "      <td>0</td>\n",
       "      <td>0</td>\n",
       "      <td>0</td>\n",
       "      <td>3</td>\n",
       "      <td>1</td>\n",
       "    </tr>\n",
       "    <tr>\n",
       "      <th>pct_tl_nvr_dlq</th>\n",
       "      <td>95.7</td>\n",
       "      <td>100</td>\n",
       "      <td>100</td>\n",
       "      <td>88.2</td>\n",
       "      <td>100</td>\n",
       "    </tr>\n",
       "    <tr>\n",
       "      <th>percent_bc_gt_75</th>\n",
       "      <td>0</td>\n",
       "      <td>50</td>\n",
       "      <td>50</td>\n",
       "      <td>0</td>\n",
       "      <td>0</td>\n",
       "    </tr>\n",
       "    <tr>\n",
       "      <th>pub_rec_bankruptcies</th>\n",
       "      <td>0</td>\n",
       "      <td>0</td>\n",
       "      <td>0</td>\n",
       "      <td>0</td>\n",
       "      <td>0</td>\n",
       "    </tr>\n",
       "    <tr>\n",
       "      <th>tax_liens</th>\n",
       "      <td>0</td>\n",
       "      <td>0</td>\n",
       "      <td>0</td>\n",
       "      <td>0</td>\n",
       "      <td>0</td>\n",
       "    </tr>\n",
       "    <tr>\n",
       "      <th>tot_hi_cred_lim</th>\n",
       "      <td>97743</td>\n",
       "      <td>34782</td>\n",
       "      <td>69346</td>\n",
       "      <td>145171</td>\n",
       "      <td>143296</td>\n",
       "    </tr>\n",
       "    <tr>\n",
       "      <th>total_bal_ex_mort</th>\n",
       "      <td>46719</td>\n",
       "      <td>23941</td>\n",
       "      <td>66150</td>\n",
       "      <td>128341</td>\n",
       "      <td>90931</td>\n",
       "    </tr>\n",
       "    <tr>\n",
       "      <th>total_bc_limit</th>\n",
       "      <td>44800</td>\n",
       "      <td>15000</td>\n",
       "      <td>12200</td>\n",
       "      <td>17500</td>\n",
       "      <td>39500</td>\n",
       "    </tr>\n",
       "    <tr>\n",
       "      <th>total_il_high_credit_limit</th>\n",
       "      <td>32543</td>\n",
       "      <td>18782</td>\n",
       "      <td>52146</td>\n",
       "      <td>127671</td>\n",
       "      <td>103796</td>\n",
       "    </tr>\n",
       "    <tr>\n",
       "      <th>grade</th>\n",
       "      <td>G</td>\n",
       "      <td>C</td>\n",
       "      <td>B</td>\n",
       "      <td>A</td>\n",
       "      <td>C</td>\n",
       "    </tr>\n",
       "    <tr>\n",
       "      <th>collection_recovery_fee</th>\n",
       "      <td>0</td>\n",
       "      <td>0</td>\n",
       "      <td>0</td>\n",
       "      <td>0</td>\n",
       "      <td>0</td>\n",
       "    </tr>\n",
       "    <tr>\n",
       "      <th>total_rec_prncp</th>\n",
       "      <td>2196.71</td>\n",
       "      <td>13000</td>\n",
       "      <td>15000</td>\n",
       "      <td>15750</td>\n",
       "      <td>19800</td>\n",
       "    </tr>\n",
       "    <tr>\n",
       "      <th>title</th>\n",
       "      <td>Other</td>\n",
       "      <td>Debt consolidation</td>\n",
       "      <td>Debt consolidation</td>\n",
       "      <td>Debt consolidation</td>\n",
       "      <td>Credit card refinancing</td>\n",
       "    </tr>\n",
       "    <tr>\n",
       "      <th>total_rec_int</th>\n",
       "      <td>9463.05</td>\n",
       "      <td>598.13</td>\n",
       "      <td>1065.25</td>\n",
       "      <td>641.95</td>\n",
       "      <td>2471.93</td>\n",
       "    </tr>\n",
       "    <tr>\n",
       "      <th>total_rec_late_fee</th>\n",
       "      <td>98.52</td>\n",
       "      <td>0</td>\n",
       "      <td>0</td>\n",
       "      <td>0</td>\n",
       "      <td>0</td>\n",
       "    </tr>\n",
       "    <tr>\n",
       "      <th>sub_grade</th>\n",
       "      <td>G1</td>\n",
       "      <td>C4</td>\n",
       "      <td>B3</td>\n",
       "      <td>A4</td>\n",
       "      <td>C4</td>\n",
       "    </tr>\n",
       "    <tr>\n",
       "      <th>debt_settlement_flag</th>\n",
       "      <td>N</td>\n",
       "      <td>N</td>\n",
       "      <td>N</td>\n",
       "      <td>N</td>\n",
       "      <td>N</td>\n",
       "    </tr>\n",
       "    <tr>\n",
       "      <th>emp_title</th>\n",
       "      <td>Supervsir</td>\n",
       "      <td>Sales manager</td>\n",
       "      <td>Finance</td>\n",
       "      <td>Service Coordinator</td>\n",
       "      <td>engineer</td>\n",
       "    </tr>\n",
       "    <tr>\n",
       "      <th>issue_d</th>\n",
       "      <td>Dec-2017</td>\n",
       "      <td>Dec-2017</td>\n",
       "      <td>Dec-2017</td>\n",
       "      <td>Dec-2017</td>\n",
       "      <td>Dec-2017</td>\n",
       "    </tr>\n",
       "    <tr>\n",
       "      <th>last_pymnt_d</th>\n",
       "      <td>Feb-2019</td>\n",
       "      <td>Apr-2018</td>\n",
       "      <td>Sep-2018</td>\n",
       "      <td>Sep-2018</td>\n",
       "      <td>Nov-2018</td>\n",
       "    </tr>\n",
       "  </tbody>\n",
       "</table>\n",
       "<p>101 rows × 5 columns</p>\n",
       "</div>"
      ],
      "text/plain": [
       "                                          0                   1  \\\n",
       "loan_amnt                             30000               13000   \n",
       "funded_amnt                           30000               13000   \n",
       "term                              60 months           60 months   \n",
       "int_rate                             0.3079              0.1505   \n",
       "installment                          985.21              309.62   \n",
       "emp_length                        10+ years           10+ years   \n",
       "home_ownership                         RENT                RENT   \n",
       "annual_inc                            40000               72000   \n",
       "verification_status         Source Verified     Source Verified   \n",
       "loan_status                               0                   1   \n",
       "purpose                               other  debt_consolidation   \n",
       "zip_code                              103xx               333xx   \n",
       "addr_state                               NY                  FL   \n",
       "dti                                   30.86               11.17   \n",
       "delinq_2yrs                               1                   0   \n",
       "earliest_cr_line                      12996               12965   \n",
       "fico_range_low                          700                 705   \n",
       "fico_range_high                         704                 709   \n",
       "inq_last_6mths                            0                   0   \n",
       "mths_since_last_delinq                    4                 NaN   \n",
       "mths_since_last_record                  NaN                 NaN   \n",
       "open_acc                                 11                   4   \n",
       "pub_rec                                   0                   0   \n",
       "revol_bal                             19754               12389   \n",
       "revol_util                            0.303               0.774   \n",
       "total_acc                                23                  13   \n",
       "out_prncp                                 0                   0   \n",
       "out_prncp_inv                             0                   0   \n",
       "last_fico_range_high                    579                 764   \n",
       "last_fico_range_low                     575                 760   \n",
       "...                                     ...                 ...   \n",
       "num_bc_sats                               7                   2   \n",
       "num_bc_tl                                12                   5   \n",
       "num_il_tl                                 4                   5   \n",
       "num_op_rev_tl                            10                   3   \n",
       "num_rev_accts                            19                   8   \n",
       "num_rev_tl_bal_gt_0                       7                   2   \n",
       "num_sats                                 11                   4   \n",
       "num_tl_120dpd_2m                          0                   0   \n",
       "num_tl_30dpd                              0                   0   \n",
       "num_tl_90g_dpd_24m                        0                   0   \n",
       "num_tl_op_past_12m                        0                   0   \n",
       "pct_tl_nvr_dlq                         95.7                 100   \n",
       "percent_bc_gt_75                          0                  50   \n",
       "pub_rec_bankruptcies                      0                   0   \n",
       "tax_liens                                 0                   0   \n",
       "tot_hi_cred_lim                       97743               34782   \n",
       "total_bal_ex_mort                     46719               23941   \n",
       "total_bc_limit                        44800               15000   \n",
       "total_il_high_credit_limit            32543               18782   \n",
       "grade                                     G                   C   \n",
       "collection_recovery_fee                   0                   0   \n",
       "total_rec_prncp                     2196.71               13000   \n",
       "title                                 Other  Debt consolidation   \n",
       "total_rec_int                       9463.05              598.13   \n",
       "total_rec_late_fee                    98.52                   0   \n",
       "sub_grade                                G1                  C4   \n",
       "debt_settlement_flag                      N                   N   \n",
       "emp_title                        Supervsir        Sales manager   \n",
       "issue_d                            Dec-2017            Dec-2017   \n",
       "last_pymnt_d                       Feb-2019            Apr-2018   \n",
       "\n",
       "                                             2                    3  \\\n",
       "loan_amnt                                15000                15750   \n",
       "funded_amnt                              15000                15750   \n",
       "term                                 36 months            36 months   \n",
       "int_rate                                0.1042               0.0735   \n",
       "installment                             486.98               488.84   \n",
       "emp_length                             3 years            10+ years   \n",
       "home_ownership                            RENT                 RENT   \n",
       "annual_inc                               55000                96500   \n",
       "verification_status            Source Verified      Source Verified   \n",
       "loan_status                                  1                    1   \n",
       "purpose                     debt_consolidation   debt_consolidation   \n",
       "zip_code                                 981xx                968xx   \n",
       "addr_state                                  WA                   HI   \n",
       "dti                                      17.48                12.22   \n",
       "delinq_2yrs                                  0                    1   \n",
       "earliest_cr_line                         14092                12173   \n",
       "fico_range_low                             670                  705   \n",
       "fico_range_high                            674                  709   \n",
       "inq_last_6mths                               0                    0   \n",
       "mths_since_last_delinq                     NaN                   10   \n",
       "mths_since_last_record                     NaN                  NaN   \n",
       "open_acc                                    28                    6   \n",
       "pub_rec                                      0                    0   \n",
       "revol_bal                                12673                 1868   \n",
       "revol_util                               0.737                0.107   \n",
       "total_acc                                   44                   17   \n",
       "out_prncp                                    0                    0   \n",
       "out_prncp_inv                                0                    0   \n",
       "last_fico_range_high                       649                  714   \n",
       "last_fico_range_low                        645                  710   \n",
       "...                                        ...                  ...   \n",
       "num_bc_sats                                  2                    5   \n",
       "num_bc_tl                                    2                    8   \n",
       "num_il_tl                                   40                    6   \n",
       "num_op_rev_tl                                4                    5   \n",
       "num_rev_accts                                4                   11   \n",
       "num_rev_tl_bal_gt_0                          3                    4   \n",
       "num_sats                                    28                    6   \n",
       "num_tl_120dpd_2m                             0                    0   \n",
       "num_tl_30dpd                                 0                    0   \n",
       "num_tl_90g_dpd_24m                           0                    1   \n",
       "num_tl_op_past_12m                           0                    3   \n",
       "pct_tl_nvr_dlq                             100                 88.2   \n",
       "percent_bc_gt_75                            50                    0   \n",
       "pub_rec_bankruptcies                         0                    0   \n",
       "tax_liens                                    0                    0   \n",
       "tot_hi_cred_lim                          69346               145171   \n",
       "total_bal_ex_mort                        66150               128341   \n",
       "total_bc_limit                           12200                17500   \n",
       "total_il_high_credit_limit               52146               127671   \n",
       "grade                                        B                    A   \n",
       "collection_recovery_fee                      0                    0   \n",
       "total_rec_prncp                          15000                15750   \n",
       "title                       Debt consolidation   Debt consolidation   \n",
       "total_rec_int                          1065.25               641.95   \n",
       "total_rec_late_fee                           0                    0   \n",
       "sub_grade                                   B3                   A4   \n",
       "debt_settlement_flag                         N                    N   \n",
       "emp_title                              Finance  Service Coordinator   \n",
       "issue_d                               Dec-2017             Dec-2017   \n",
       "last_pymnt_d                          Sep-2018             Sep-2018   \n",
       "\n",
       "                                                  4  \n",
       "loan_amnt                                     19800  \n",
       "funded_amnt                                   19800  \n",
       "term                                      60 months  \n",
       "int_rate                                     0.1505  \n",
       "installment                                  471.57  \n",
       "emp_length                                  3 years  \n",
       "home_ownership                                 RENT  \n",
       "annual_inc                                   108600  \n",
       "verification_status                    Not Verified  \n",
       "loan_status                                       1  \n",
       "purpose                                 credit_card  \n",
       "zip_code                                      021xx  \n",
       "addr_state                                       MA  \n",
       "dti                                           18.19  \n",
       "delinq_2yrs                                       0  \n",
       "earliest_cr_line                              14579  \n",
       "fico_range_low                                  725  \n",
       "fico_range_high                                 729  \n",
       "inq_last_6mths                                    1  \n",
       "mths_since_last_delinq                          NaN  \n",
       "mths_since_last_record                          NaN  \n",
       "open_acc                                         10  \n",
       "pub_rec                                           0  \n",
       "revol_bal                                      1458  \n",
       "revol_util                                    0.037  \n",
       "total_acc                                        14  \n",
       "out_prncp                                         0  \n",
       "out_prncp_inv                                     0  \n",
       "last_fico_range_high                            714  \n",
       "last_fico_range_low                             710  \n",
       "...                                             ...  \n",
       "num_bc_sats                                       6  \n",
       "num_bc_tl                                         7  \n",
       "num_il_tl                                         7  \n",
       "num_op_rev_tl                                     6  \n",
       "num_rev_accts                                     7  \n",
       "num_rev_tl_bal_gt_0                               3  \n",
       "num_sats                                         10  \n",
       "num_tl_120dpd_2m                                  0  \n",
       "num_tl_30dpd                                      0  \n",
       "num_tl_90g_dpd_24m                                0  \n",
       "num_tl_op_past_12m                                1  \n",
       "pct_tl_nvr_dlq                                  100  \n",
       "percent_bc_gt_75                                  0  \n",
       "pub_rec_bankruptcies                              0  \n",
       "tax_liens                                         0  \n",
       "tot_hi_cred_lim                              143296  \n",
       "total_bal_ex_mort                             90931  \n",
       "total_bc_limit                                39500  \n",
       "total_il_high_credit_limit                   103796  \n",
       "grade                                             C  \n",
       "collection_recovery_fee                           0  \n",
       "total_rec_prncp                               19800  \n",
       "title                       Credit card refinancing  \n",
       "total_rec_int                               2471.93  \n",
       "total_rec_late_fee                                0  \n",
       "sub_grade                                        C4  \n",
       "debt_settlement_flag                              N  \n",
       "emp_title                                  engineer  \n",
       "issue_d                                    Dec-2017  \n",
       "last_pymnt_d                               Nov-2018  \n",
       "\n",
       "[101 rows x 5 columns]"
      ]
     },
     "execution_count": 15,
     "metadata": {},
     "output_type": "execute_result"
    }
   ],
   "source": [
    "lc_df.head().T"
   ]
  },
  {
   "cell_type": "code",
   "execution_count": 16,
   "metadata": {},
   "outputs": [
    {
     "data": {
      "text/plain": [
       "[]"
      ]
     },
     "execution_count": 16,
     "metadata": {},
     "output_type": "execute_result"
    }
   ],
   "source": [
    "lc_df.columns[lc_df.isna().all()].tolist()"
   ]
  },
  {
   "cell_type": "code",
   "execution_count": 17,
   "metadata": {},
   "outputs": [
    {
     "data": {
      "text/plain": [
       "(1344553, 101)"
      ]
     },
     "execution_count": 17,
     "metadata": {},
     "output_type": "execute_result"
    }
   ],
   "source": [
    "lc_df.shape"
   ]
  },
  {
   "cell_type": "code",
   "execution_count": 18,
   "metadata": {
    "scrolled": true
   },
   "outputs": [
    {
     "data": {
      "text/html": [
       "<div>\n",
       "<style scoped>\n",
       "    .dataframe tbody tr th:only-of-type {\n",
       "        vertical-align: middle;\n",
       "    }\n",
       "\n",
       "    .dataframe tbody tr th {\n",
       "        vertical-align: top;\n",
       "    }\n",
       "\n",
       "    .dataframe thead th {\n",
       "        text-align: right;\n",
       "    }\n",
       "</style>\n",
       "<table border=\"1\" class=\"dataframe\">\n",
       "  <thead>\n",
       "    <tr style=\"text-align: right;\">\n",
       "      <th></th>\n",
       "      <th>addr_state</th>\n",
       "      <th>annual_inc</th>\n",
       "      <th>collection_recovery_fee</th>\n",
       "      <th>emp_title</th>\n",
       "      <th>fico_range_high</th>\n",
       "      <th>fico_range_low</th>\n",
       "      <th>funded_amnt</th>\n",
       "      <th>grade</th>\n",
       "      <th>home_ownership</th>\n",
       "      <th>int_rate</th>\n",
       "      <th>...</th>\n",
       "      <th>purpose</th>\n",
       "      <th>sub_grade</th>\n",
       "      <th>title</th>\n",
       "      <th>total_rec_int</th>\n",
       "      <th>total_rec_late_fee</th>\n",
       "      <th>total_rec_prncp</th>\n",
       "      <th>zip_code</th>\n",
       "      <th>debt_settlement_flag</th>\n",
       "      <th>out_prncp</th>\n",
       "      <th>collection_recovery_fee</th>\n",
       "    </tr>\n",
       "  </thead>\n",
       "  <tbody>\n",
       "    <tr>\n",
       "      <th>0</th>\n",
       "      <td>NY</td>\n",
       "      <td>40000.0</td>\n",
       "      <td>0.0000</td>\n",
       "      <td>Supervsir</td>\n",
       "      <td>704</td>\n",
       "      <td>700</td>\n",
       "      <td>30000.0</td>\n",
       "      <td>G</td>\n",
       "      <td>RENT</td>\n",
       "      <td>0.3079</td>\n",
       "      <td>...</td>\n",
       "      <td>other</td>\n",
       "      <td>G1</td>\n",
       "      <td>Other</td>\n",
       "      <td>9463.05</td>\n",
       "      <td>98.52</td>\n",
       "      <td>2196.71</td>\n",
       "      <td>103xx</td>\n",
       "      <td>N</td>\n",
       "      <td>0.0</td>\n",
       "      <td>0.0000</td>\n",
       "    </tr>\n",
       "    <tr>\n",
       "      <th>1</th>\n",
       "      <td>FL</td>\n",
       "      <td>72000.0</td>\n",
       "      <td>0.0000</td>\n",
       "      <td>Sales manager</td>\n",
       "      <td>709</td>\n",
       "      <td>705</td>\n",
       "      <td>13000.0</td>\n",
       "      <td>C</td>\n",
       "      <td>RENT</td>\n",
       "      <td>0.1505</td>\n",
       "      <td>...</td>\n",
       "      <td>debt_consolidation</td>\n",
       "      <td>C4</td>\n",
       "      <td>Debt consolidation</td>\n",
       "      <td>598.13</td>\n",
       "      <td>0.00</td>\n",
       "      <td>13000.00</td>\n",
       "      <td>333xx</td>\n",
       "      <td>N</td>\n",
       "      <td>0.0</td>\n",
       "      <td>0.0000</td>\n",
       "    </tr>\n",
       "    <tr>\n",
       "      <th>2</th>\n",
       "      <td>WA</td>\n",
       "      <td>55000.0</td>\n",
       "      <td>0.0000</td>\n",
       "      <td>Finance</td>\n",
       "      <td>674</td>\n",
       "      <td>670</td>\n",
       "      <td>15000.0</td>\n",
       "      <td>B</td>\n",
       "      <td>RENT</td>\n",
       "      <td>0.1042</td>\n",
       "      <td>...</td>\n",
       "      <td>debt_consolidation</td>\n",
       "      <td>B3</td>\n",
       "      <td>Debt consolidation</td>\n",
       "      <td>1065.25</td>\n",
       "      <td>0.00</td>\n",
       "      <td>15000.00</td>\n",
       "      <td>981xx</td>\n",
       "      <td>N</td>\n",
       "      <td>0.0</td>\n",
       "      <td>0.0000</td>\n",
       "    </tr>\n",
       "    <tr>\n",
       "      <th>3</th>\n",
       "      <td>HI</td>\n",
       "      <td>96500.0</td>\n",
       "      <td>0.0000</td>\n",
       "      <td>Service Coordinator</td>\n",
       "      <td>709</td>\n",
       "      <td>705</td>\n",
       "      <td>15750.0</td>\n",
       "      <td>A</td>\n",
       "      <td>RENT</td>\n",
       "      <td>0.0735</td>\n",
       "      <td>...</td>\n",
       "      <td>debt_consolidation</td>\n",
       "      <td>A4</td>\n",
       "      <td>Debt consolidation</td>\n",
       "      <td>641.95</td>\n",
       "      <td>0.00</td>\n",
       "      <td>15750.00</td>\n",
       "      <td>968xx</td>\n",
       "      <td>N</td>\n",
       "      <td>0.0</td>\n",
       "      <td>0.0000</td>\n",
       "    </tr>\n",
       "    <tr>\n",
       "      <th>4</th>\n",
       "      <td>MA</td>\n",
       "      <td>108600.0</td>\n",
       "      <td>0.0000</td>\n",
       "      <td>engineer</td>\n",
       "      <td>729</td>\n",
       "      <td>725</td>\n",
       "      <td>19800.0</td>\n",
       "      <td>C</td>\n",
       "      <td>RENT</td>\n",
       "      <td>0.1505</td>\n",
       "      <td>...</td>\n",
       "      <td>credit_card</td>\n",
       "      <td>C4</td>\n",
       "      <td>Credit card refinancing</td>\n",
       "      <td>2471.93</td>\n",
       "      <td>0.00</td>\n",
       "      <td>19800.00</td>\n",
       "      <td>021xx</td>\n",
       "      <td>N</td>\n",
       "      <td>0.0</td>\n",
       "      <td>0.0000</td>\n",
       "    </tr>\n",
       "    <tr>\n",
       "      <th>5</th>\n",
       "      <td>NJ</td>\n",
       "      <td>100000.0</td>\n",
       "      <td>0.0000</td>\n",
       "      <td>Paralegal</td>\n",
       "      <td>779</td>\n",
       "      <td>775</td>\n",
       "      <td>10000.0</td>\n",
       "      <td>A</td>\n",
       "      <td>MORTGAGE</td>\n",
       "      <td>0.0532</td>\n",
       "      <td>...</td>\n",
       "      <td>debt_consolidation</td>\n",
       "      <td>A1</td>\n",
       "      <td>Debt consolidation</td>\n",
       "      <td>78.81</td>\n",
       "      <td>0.00</td>\n",
       "      <td>10000.00</td>\n",
       "      <td>087xx</td>\n",
       "      <td>N</td>\n",
       "      <td>0.0</td>\n",
       "      <td>0.0000</td>\n",
       "    </tr>\n",
       "    <tr>\n",
       "      <th>6</th>\n",
       "      <td>CA</td>\n",
       "      <td>55000.0</td>\n",
       "      <td>0.0000</td>\n",
       "      <td>Admissions Advisor</td>\n",
       "      <td>664</td>\n",
       "      <td>660</td>\n",
       "      <td>32600.0</td>\n",
       "      <td>B</td>\n",
       "      <td>RENT</td>\n",
       "      <td>0.1199</td>\n",
       "      <td>...</td>\n",
       "      <td>house</td>\n",
       "      <td>B5</td>\n",
       "      <td>Home buying</td>\n",
       "      <td>4036.10</td>\n",
       "      <td>0.00</td>\n",
       "      <td>32600.00</td>\n",
       "      <td>958xx</td>\n",
       "      <td>N</td>\n",
       "      <td>0.0</td>\n",
       "      <td>0.0000</td>\n",
       "    </tr>\n",
       "    <tr>\n",
       "      <th>7</th>\n",
       "      <td>NJ</td>\n",
       "      <td>54000.0</td>\n",
       "      <td>0.0000</td>\n",
       "      <td>Electro Mechanical Technician</td>\n",
       "      <td>669</td>\n",
       "      <td>665</td>\n",
       "      <td>10000.0</td>\n",
       "      <td>B</td>\n",
       "      <td>RENT</td>\n",
       "      <td>0.0944</td>\n",
       "      <td>...</td>\n",
       "      <td>debt_consolidation</td>\n",
       "      <td>B1</td>\n",
       "      <td>Debt consolidation</td>\n",
       "      <td>696.77</td>\n",
       "      <td>0.00</td>\n",
       "      <td>10000.00</td>\n",
       "      <td>070xx</td>\n",
       "      <td>N</td>\n",
       "      <td>0.0</td>\n",
       "      <td>0.0000</td>\n",
       "    </tr>\n",
       "    <tr>\n",
       "      <th>8</th>\n",
       "      <td>IN</td>\n",
       "      <td>85000.0</td>\n",
       "      <td>0.0000</td>\n",
       "      <td>Special Education Teacher</td>\n",
       "      <td>664</td>\n",
       "      <td>660</td>\n",
       "      <td>13000.0</td>\n",
       "      <td>B</td>\n",
       "      <td>MORTGAGE</td>\n",
       "      <td>0.0993</td>\n",
       "      <td>...</td>\n",
       "      <td>debt_consolidation</td>\n",
       "      <td>B2</td>\n",
       "      <td>Debt consolidation</td>\n",
       "      <td>569.54</td>\n",
       "      <td>0.00</td>\n",
       "      <td>13000.00</td>\n",
       "      <td>462xx</td>\n",
       "      <td>N</td>\n",
       "      <td>0.0</td>\n",
       "      <td>0.0000</td>\n",
       "    </tr>\n",
       "    <tr>\n",
       "      <th>9</th>\n",
       "      <td>FL</td>\n",
       "      <td>70000.0</td>\n",
       "      <td>200.5740</td>\n",
       "      <td>RN</td>\n",
       "      <td>694</td>\n",
       "      <td>690</td>\n",
       "      <td>10000.0</td>\n",
       "      <td>A</td>\n",
       "      <td>MORTGAGE</td>\n",
       "      <td>0.0672</td>\n",
       "      <td>...</td>\n",
       "      <td>other</td>\n",
       "      <td>A3</td>\n",
       "      <td>Other</td>\n",
       "      <td>371.08</td>\n",
       "      <td>46.14</td>\n",
       "      <td>1788.05</td>\n",
       "      <td>327xx</td>\n",
       "      <td>N</td>\n",
       "      <td>0.0</td>\n",
       "      <td>200.5740</td>\n",
       "    </tr>\n",
       "    <tr>\n",
       "      <th>10</th>\n",
       "      <td>FL</td>\n",
       "      <td>110000.0</td>\n",
       "      <td>465.9174</td>\n",
       "      <td>N FL HCP Associate Vice President</td>\n",
       "      <td>694</td>\n",
       "      <td>690</td>\n",
       "      <td>20000.0</td>\n",
       "      <td>D</td>\n",
       "      <td>MORTGAGE</td>\n",
       "      <td>0.1806</td>\n",
       "      <td>...</td>\n",
       "      <td>debt_consolidation</td>\n",
       "      <td>D2</td>\n",
       "      <td>Debt consolidation</td>\n",
       "      <td>2267.69</td>\n",
       "      <td>0.00</td>\n",
       "      <td>1750.38</td>\n",
       "      <td>320xx</td>\n",
       "      <td>N</td>\n",
       "      <td>0.0</td>\n",
       "      <td>465.9174</td>\n",
       "    </tr>\n",
       "    <tr>\n",
       "      <th>11</th>\n",
       "      <td>CA</td>\n",
       "      <td>70000.0</td>\n",
       "      <td>0.0000</td>\n",
       "      <td>Lvn</td>\n",
       "      <td>669</td>\n",
       "      <td>665</td>\n",
       "      <td>20000.0</td>\n",
       "      <td>F</td>\n",
       "      <td>RENT</td>\n",
       "      <td>0.2872</td>\n",
       "      <td>...</td>\n",
       "      <td>major_purchase</td>\n",
       "      <td>F1</td>\n",
       "      <td>Major purchase</td>\n",
       "      <td>2521.16</td>\n",
       "      <td>0.00</td>\n",
       "      <td>20000.00</td>\n",
       "      <td>925xx</td>\n",
       "      <td>N</td>\n",
       "      <td>0.0</td>\n",
       "      <td>0.0000</td>\n",
       "    </tr>\n",
       "    <tr>\n",
       "      <th>12</th>\n",
       "      <td>CA</td>\n",
       "      <td>55000.0</td>\n",
       "      <td>0.0000</td>\n",
       "      <td>Boss and only employee</td>\n",
       "      <td>714</td>\n",
       "      <td>710</td>\n",
       "      <td>16000.0</td>\n",
       "      <td>C</td>\n",
       "      <td>MORTGAGE</td>\n",
       "      <td>0.1262</td>\n",
       "      <td>...</td>\n",
       "      <td>debt_consolidation</td>\n",
       "      <td>C1</td>\n",
       "      <td>Debt consolidation</td>\n",
       "      <td>1919.21</td>\n",
       "      <td>0.00</td>\n",
       "      <td>16000.00</td>\n",
       "      <td>925xx</td>\n",
       "      <td>N</td>\n",
       "      <td>0.0</td>\n",
       "      <td>0.0000</td>\n",
       "    </tr>\n",
       "    <tr>\n",
       "      <th>13</th>\n",
       "      <td>IN</td>\n",
       "      <td>354000.0</td>\n",
       "      <td>0.0000</td>\n",
       "      <td>chief operating officer</td>\n",
       "      <td>684</td>\n",
       "      <td>680</td>\n",
       "      <td>25000.0</td>\n",
       "      <td>F</td>\n",
       "      <td>MORTGAGE</td>\n",
       "      <td>0.3017</td>\n",
       "      <td>...</td>\n",
       "      <td>debt_consolidation</td>\n",
       "      <td>F3</td>\n",
       "      <td>Debt consolidation</td>\n",
       "      <td>544.58</td>\n",
       "      <td>0.00</td>\n",
       "      <td>25000.00</td>\n",
       "      <td>460xx</td>\n",
       "      <td>N</td>\n",
       "      <td>0.0</td>\n",
       "      <td>0.0000</td>\n",
       "    </tr>\n",
       "    <tr>\n",
       "      <th>14</th>\n",
       "      <td>NJ</td>\n",
       "      <td>110000.0</td>\n",
       "      <td>0.0000</td>\n",
       "      <td>Submissions</td>\n",
       "      <td>739</td>\n",
       "      <td>735</td>\n",
       "      <td>11000.0</td>\n",
       "      <td>B</td>\n",
       "      <td>MORTGAGE</td>\n",
       "      <td>0.0993</td>\n",
       "      <td>...</td>\n",
       "      <td>credit_card</td>\n",
       "      <td>B2</td>\n",
       "      <td>Credit card refinancing</td>\n",
       "      <td>1079.47</td>\n",
       "      <td>0.00</td>\n",
       "      <td>11000.00</td>\n",
       "      <td>070xx</td>\n",
       "      <td>N</td>\n",
       "      <td>0.0</td>\n",
       "      <td>0.0000</td>\n",
       "    </tr>\n",
       "    <tr>\n",
       "      <th>15</th>\n",
       "      <td>VA</td>\n",
       "      <td>60000.0</td>\n",
       "      <td>484.0614</td>\n",
       "      <td>Owner</td>\n",
       "      <td>719</td>\n",
       "      <td>715</td>\n",
       "      <td>20000.0</td>\n",
       "      <td>C</td>\n",
       "      <td>MORTGAGE</td>\n",
       "      <td>0.1408</td>\n",
       "      <td>...</td>\n",
       "      <td>home_improvement</td>\n",
       "      <td>C3</td>\n",
       "      <td>Home improvement</td>\n",
       "      <td>195.56</td>\n",
       "      <td>0.00</td>\n",
       "      <td>231.53</td>\n",
       "      <td>221xx</td>\n",
       "      <td>N</td>\n",
       "      <td>0.0</td>\n",
       "      <td>484.0614</td>\n",
       "    </tr>\n",
       "    <tr>\n",
       "      <th>16</th>\n",
       "      <td>MO</td>\n",
       "      <td>22000.0</td>\n",
       "      <td>0.0000</td>\n",
       "      <td>NaN</td>\n",
       "      <td>729</td>\n",
       "      <td>725</td>\n",
       "      <td>10000.0</td>\n",
       "      <td>D</td>\n",
       "      <td>MORTGAGE</td>\n",
       "      <td>0.2000</td>\n",
       "      <td>...</td>\n",
       "      <td>debt_consolidation</td>\n",
       "      <td>D4</td>\n",
       "      <td>Debt consolidation</td>\n",
       "      <td>1561.81</td>\n",
       "      <td>0.00</td>\n",
       "      <td>1059.81</td>\n",
       "      <td>630xx</td>\n",
       "      <td>N</td>\n",
       "      <td>0.0</td>\n",
       "      <td>0.0000</td>\n",
       "    </tr>\n",
       "    <tr>\n",
       "      <th>17</th>\n",
       "      <td>NY</td>\n",
       "      <td>84498.0</td>\n",
       "      <td>0.0000</td>\n",
       "      <td>Administrative Coordinator</td>\n",
       "      <td>724</td>\n",
       "      <td>720</td>\n",
       "      <td>8000.0</td>\n",
       "      <td>B</td>\n",
       "      <td>RENT</td>\n",
       "      <td>0.0944</td>\n",
       "      <td>...</td>\n",
       "      <td>major_purchase</td>\n",
       "      <td>B1</td>\n",
       "      <td>Major purchase</td>\n",
       "      <td>756.27</td>\n",
       "      <td>0.00</td>\n",
       "      <td>8000.00</td>\n",
       "      <td>104xx</td>\n",
       "      <td>N</td>\n",
       "      <td>0.0</td>\n",
       "      <td>0.0000</td>\n",
       "    </tr>\n",
       "    <tr>\n",
       "      <th>18</th>\n",
       "      <td>CA</td>\n",
       "      <td>55000.0</td>\n",
       "      <td>0.0000</td>\n",
       "      <td>Room att</td>\n",
       "      <td>744</td>\n",
       "      <td>740</td>\n",
       "      <td>35000.0</td>\n",
       "      <td>B</td>\n",
       "      <td>RENT</td>\n",
       "      <td>0.1042</td>\n",
       "      <td>...</td>\n",
       "      <td>other</td>\n",
       "      <td>B3</td>\n",
       "      <td>Other</td>\n",
       "      <td>2921.93</td>\n",
       "      <td>0.00</td>\n",
       "      <td>35000.00</td>\n",
       "      <td>900xx</td>\n",
       "      <td>N</td>\n",
       "      <td>0.0</td>\n",
       "      <td>0.0000</td>\n",
       "    </tr>\n",
       "    <tr>\n",
       "      <th>19</th>\n",
       "      <td>IL</td>\n",
       "      <td>24000.0</td>\n",
       "      <td>0.0000</td>\n",
       "      <td>Technician</td>\n",
       "      <td>729</td>\n",
       "      <td>725</td>\n",
       "      <td>1200.0</td>\n",
       "      <td>A</td>\n",
       "      <td>RENT</td>\n",
       "      <td>0.0735</td>\n",
       "      <td>...</td>\n",
       "      <td>debt_consolidation</td>\n",
       "      <td>A4</td>\n",
       "      <td>Debt consolidation</td>\n",
       "      <td>89.97</td>\n",
       "      <td>0.00</td>\n",
       "      <td>1200.00</td>\n",
       "      <td>606xx</td>\n",
       "      <td>N</td>\n",
       "      <td>0.0</td>\n",
       "      <td>0.0000</td>\n",
       "    </tr>\n",
       "  </tbody>\n",
       "</table>\n",
       "<p>20 rows × 22 columns</p>\n",
       "</div>"
      ],
      "text/plain": [
       "   addr_state  annual_inc collection_recovery_fee  \\\n",
       "0          NY     40000.0                  0.0000   \n",
       "1          FL     72000.0                  0.0000   \n",
       "2          WA     55000.0                  0.0000   \n",
       "3          HI     96500.0                  0.0000   \n",
       "4          MA    108600.0                  0.0000   \n",
       "5          NJ    100000.0                  0.0000   \n",
       "6          CA     55000.0                  0.0000   \n",
       "7          NJ     54000.0                  0.0000   \n",
       "8          IN     85000.0                  0.0000   \n",
       "9          FL     70000.0                200.5740   \n",
       "10         FL    110000.0                465.9174   \n",
       "11         CA     70000.0                  0.0000   \n",
       "12         CA     55000.0                  0.0000   \n",
       "13         IN    354000.0                  0.0000   \n",
       "14         NJ    110000.0                  0.0000   \n",
       "15         VA     60000.0                484.0614   \n",
       "16         MO     22000.0                  0.0000   \n",
       "17         NY     84498.0                  0.0000   \n",
       "18         CA     55000.0                  0.0000   \n",
       "19         IL     24000.0                  0.0000   \n",
       "\n",
       "                            emp_title  fico_range_high  fico_range_low  \\\n",
       "0                          Supervsir               704             700   \n",
       "1                       Sales manager              709             705   \n",
       "2                             Finance              674             670   \n",
       "3                 Service Coordinator              709             705   \n",
       "4                            engineer              729             725   \n",
       "5                           Paralegal              779             775   \n",
       "6                  Admissions Advisor              664             660   \n",
       "7       Electro Mechanical Technician              669             665   \n",
       "8           Special Education Teacher              664             660   \n",
       "9                                  RN              694             690   \n",
       "10  N FL HCP Associate Vice President              694             690   \n",
       "11                               Lvn               669             665   \n",
       "12             Boss and only employee              714             710   \n",
       "13            chief operating officer              684             680   \n",
       "14                        Submissions              739             735   \n",
       "15                              Owner              719             715   \n",
       "16                                NaN              729             725   \n",
       "17         Administrative Coordinator              724             720   \n",
       "18                           Room att              744             740   \n",
       "19                         Technician              729             725   \n",
       "\n",
       "    funded_amnt grade home_ownership  int_rate  ...             purpose  \\\n",
       "0       30000.0     G           RENT    0.3079  ...               other   \n",
       "1       13000.0     C           RENT    0.1505  ...  debt_consolidation   \n",
       "2       15000.0     B           RENT    0.1042  ...  debt_consolidation   \n",
       "3       15750.0     A           RENT    0.0735  ...  debt_consolidation   \n",
       "4       19800.0     C           RENT    0.1505  ...         credit_card   \n",
       "5       10000.0     A       MORTGAGE    0.0532  ...  debt_consolidation   \n",
       "6       32600.0     B           RENT    0.1199  ...               house   \n",
       "7       10000.0     B           RENT    0.0944  ...  debt_consolidation   \n",
       "8       13000.0     B       MORTGAGE    0.0993  ...  debt_consolidation   \n",
       "9       10000.0     A       MORTGAGE    0.0672  ...               other   \n",
       "10      20000.0     D       MORTGAGE    0.1806  ...  debt_consolidation   \n",
       "11      20000.0     F           RENT    0.2872  ...      major_purchase   \n",
       "12      16000.0     C       MORTGAGE    0.1262  ...  debt_consolidation   \n",
       "13      25000.0     F       MORTGAGE    0.3017  ...  debt_consolidation   \n",
       "14      11000.0     B       MORTGAGE    0.0993  ...         credit_card   \n",
       "15      20000.0     C       MORTGAGE    0.1408  ...    home_improvement   \n",
       "16      10000.0     D       MORTGAGE    0.2000  ...  debt_consolidation   \n",
       "17       8000.0     B           RENT    0.0944  ...      major_purchase   \n",
       "18      35000.0     B           RENT    0.1042  ...               other   \n",
       "19       1200.0     A           RENT    0.0735  ...  debt_consolidation   \n",
       "\n",
       "   sub_grade                    title total_rec_int total_rec_late_fee  \\\n",
       "0         G1                    Other       9463.05              98.52   \n",
       "1         C4       Debt consolidation        598.13               0.00   \n",
       "2         B3       Debt consolidation       1065.25               0.00   \n",
       "3         A4       Debt consolidation        641.95               0.00   \n",
       "4         C4  Credit card refinancing       2471.93               0.00   \n",
       "5         A1       Debt consolidation         78.81               0.00   \n",
       "6         B5              Home buying       4036.10               0.00   \n",
       "7         B1       Debt consolidation        696.77               0.00   \n",
       "8         B2       Debt consolidation        569.54               0.00   \n",
       "9         A3                    Other        371.08              46.14   \n",
       "10        D2       Debt consolidation       2267.69               0.00   \n",
       "11        F1           Major purchase       2521.16               0.00   \n",
       "12        C1       Debt consolidation       1919.21               0.00   \n",
       "13        F3       Debt consolidation        544.58               0.00   \n",
       "14        B2  Credit card refinancing       1079.47               0.00   \n",
       "15        C3         Home improvement        195.56               0.00   \n",
       "16        D4       Debt consolidation       1561.81               0.00   \n",
       "17        B1           Major purchase        756.27               0.00   \n",
       "18        B3                    Other       2921.93               0.00   \n",
       "19        A4       Debt consolidation         89.97               0.00   \n",
       "\n",
       "    total_rec_prncp  zip_code  debt_settlement_flag out_prncp  \\\n",
       "0           2196.71     103xx                     N       0.0   \n",
       "1          13000.00     333xx                     N       0.0   \n",
       "2          15000.00     981xx                     N       0.0   \n",
       "3          15750.00     968xx                     N       0.0   \n",
       "4          19800.00     021xx                     N       0.0   \n",
       "5          10000.00     087xx                     N       0.0   \n",
       "6          32600.00     958xx                     N       0.0   \n",
       "7          10000.00     070xx                     N       0.0   \n",
       "8          13000.00     462xx                     N       0.0   \n",
       "9           1788.05     327xx                     N       0.0   \n",
       "10          1750.38     320xx                     N       0.0   \n",
       "11         20000.00     925xx                     N       0.0   \n",
       "12         16000.00     925xx                     N       0.0   \n",
       "13         25000.00     460xx                     N       0.0   \n",
       "14         11000.00     070xx                     N       0.0   \n",
       "15           231.53     221xx                     N       0.0   \n",
       "16          1059.81     630xx                     N       0.0   \n",
       "17          8000.00     104xx                     N       0.0   \n",
       "18         35000.00     900xx                     N       0.0   \n",
       "19          1200.00     606xx                     N       0.0   \n",
       "\n",
       "   collection_recovery_fee  \n",
       "0                   0.0000  \n",
       "1                   0.0000  \n",
       "2                   0.0000  \n",
       "3                   0.0000  \n",
       "4                   0.0000  \n",
       "5                   0.0000  \n",
       "6                   0.0000  \n",
       "7                   0.0000  \n",
       "8                   0.0000  \n",
       "9                 200.5740  \n",
       "10                465.9174  \n",
       "11                  0.0000  \n",
       "12                  0.0000  \n",
       "13                  0.0000  \n",
       "14                  0.0000  \n",
       "15                484.0614  \n",
       "16                  0.0000  \n",
       "17                  0.0000  \n",
       "18                  0.0000  \n",
       "19                  0.0000  \n",
       "\n",
       "[20 rows x 22 columns]"
      ]
     },
     "execution_count": 18,
     "metadata": {},
     "output_type": "execute_result"
    }
   ],
   "source": [
    "lc_df[['addr_state','annual_inc','collection_recovery_fee','emp_title',\n",
    "           'fico_range_high','fico_range_low','funded_amnt','grade','home_ownership',\n",
    "           'int_rate','loan_amnt','loan_status','purpose','sub_grade','title','total_rec_int',\n",
    "           'total_rec_late_fee','total_rec_prncp','zip_code','debt_settlement_flag','out_prncp',\n",
    "           'collection_recovery_fee']].head(20)\n",
    "   "
   ]
  },
  {
   "cell_type": "code",
   "execution_count": 19,
   "metadata": {},
   "outputs": [],
   "source": [
    "#Change dtype\n",
    "lc_df.loc[lc_df['emp_length'] == '< 1 year','emp_length'] = '0'\n",
    "lc_df.loc[lc_df['emp_length'] == '10+ years', 'emp_length'] = '10'\n",
    "lc_df['emp_length'] = lc_df['emp_length'].str[:1]\n",
    "lc_df['emp_length'] = lc_df['emp_length'].astype(float)"
   ]
  },
  {
   "cell_type": "code",
   "execution_count": 20,
   "metadata": {},
   "outputs": [],
   "source": [
    "#Drop nulls in zip & emp_title\n",
    "lc_df = lc_df[lc_df['zip_code'].notnull()].reset_index(drop=True)\n",
    "lc_df = lc_df[lc_df['emp_title'].notnull()].reset_index(drop=True)"
   ]
  },
  {
   "cell_type": "code",
   "execution_count": 21,
   "metadata": {},
   "outputs": [],
   "source": [
    "counts = lc_df['emp_title'].value_counts()\n",
    "idx = counts[counts.lt(1600)].index\n",
    "\n",
    "lc_df.loc[lc_df['emp_title'].isin(idx) == False, 'emp_title_2'] = lc_df['emp_title']\n",
    "lc_df.loc[lc_df['emp_title'].isin(idx), 'emp_title_2'] = 'Other'"
   ]
  },
  {
   "cell_type": "code",
   "execution_count": 22,
   "metadata": {},
   "outputs": [],
   "source": [
    "clean_lc_df = lc_df.copy()"
   ]
  },
  {
   "cell_type": "code",
   "execution_count": 23,
   "metadata": {},
   "outputs": [
    {
     "name": "stdout",
     "output_type": "stream",
     "text": [
      "<class 'pandas.core.frame.DataFrame'>\n",
      "RangeIndex: 1260156 entries, 0 to 1260155\n",
      "Data columns (total 102 columns):\n",
      "loan_amnt                         int64\n",
      "funded_amnt                       float64\n",
      "term                              object\n",
      "int_rate                          float64\n",
      "installment                       float64\n",
      "emp_length                        float64\n",
      "home_ownership                    object\n",
      "annual_inc                        float64\n",
      "verification_status               object\n",
      "loan_status                       object\n",
      "purpose                           object\n",
      "zip_code                          object\n",
      "addr_state                        object\n",
      "dti                               float64\n",
      "delinq_2yrs                       int64\n",
      "earliest_cr_line                  float64\n",
      "fico_range_low                    int64\n",
      "fico_range_high                   int64\n",
      "inq_last_6mths                    int64\n",
      "mths_since_last_delinq            float64\n",
      "mths_since_last_record            float64\n",
      "open_acc                          int64\n",
      "pub_rec                           int64\n",
      "revol_bal                         int64\n",
      "revol_util                        float64\n",
      "total_acc                         int64\n",
      "out_prncp                         float64\n",
      "out_prncp_inv                     float64\n",
      "last_fico_range_high              float64\n",
      "last_fico_range_low               float64\n",
      "collections_12_mths_ex_med        float64\n",
      "mths_since_last_major_derog       float64\n",
      "policy_code                       float64\n",
      "application_type                  object\n",
      "annual_inc_joint                  float64\n",
      "dti_joint                         float64\n",
      "acc_now_delinq                    float64\n",
      "tot_coll_amt                      float64\n",
      "tot_cur_bal                       float64\n",
      "open_acc_6m                       float64\n",
      "open_act_il                       float64\n",
      "open_il_12m                       float64\n",
      "open_il_24m                       float64\n",
      "mths_since_rcnt_il                float64\n",
      "total_bal_il                      float64\n",
      "il_util                           float64\n",
      "open_rv_12m                       float64\n",
      "open_rv_24m                       float64\n",
      "all_util                          float64\n",
      "total_rev_hi_lim                  float64\n",
      "inq_fi                            float64\n",
      "total_cu_tl                       float64\n",
      "inq_last_12m                      float64\n",
      "acc_open_past_24mths              float64\n",
      "avg_cur_bal                       float64\n",
      "bc_open_to_buy                    float64\n",
      "bc_util                           float64\n",
      "chargeoff_within_12_mths          float64\n",
      "delinq_amnt                       float64\n",
      "mo_sin_old_il_acct                float64\n",
      "mo_sin_old_rev_tl_op              float64\n",
      "mo_sin_rcnt_rev_tl_op             float64\n",
      "mo_sin_rcnt_tl                    float64\n",
      "mort_acc                          float64\n",
      "mths_since_recent_bc              float64\n",
      "mths_since_recent_bc_dlq          float64\n",
      "mths_since_recent_inq             float64\n",
      "mths_since_recent_revol_delinq    float64\n",
      "num_accts_ever_120_pd             float64\n",
      "num_actv_bc_tl                    float64\n",
      "num_actv_rev_tl                   float64\n",
      "num_bc_sats                       float64\n",
      "num_bc_tl                         float64\n",
      "num_il_tl                         float64\n",
      "num_op_rev_tl                     float64\n",
      "num_rev_accts                     float64\n",
      "num_rev_tl_bal_gt_0               float64\n",
      "num_sats                          float64\n",
      "num_tl_120dpd_2m                  float64\n",
      "num_tl_30dpd                      float64\n",
      "num_tl_90g_dpd_24m                float64\n",
      "num_tl_op_past_12m                float64\n",
      "pct_tl_nvr_dlq                    float64\n",
      "percent_bc_gt_75                  float64\n",
      "pub_rec_bankruptcies              float64\n",
      "tax_liens                         float64\n",
      "tot_hi_cred_lim                   float64\n",
      "total_bal_ex_mort                 float64\n",
      "total_bc_limit                    float64\n",
      "total_il_high_credit_limit        float64\n",
      "grade                             object\n",
      "collection_recovery_fee           float64\n",
      "total_rec_prncp                   float64\n",
      "title                             object\n",
      "total_rec_int                     float64\n",
      "total_rec_late_fee                float64\n",
      "sub_grade                         object\n",
      "debt_settlement_flag              object\n",
      "emp_title                         object\n",
      "issue_d                           object\n",
      "last_pymnt_d                      object\n",
      "emp_title_2                       object\n",
      "dtypes: float64(77), int64(9), object(16)\n",
      "memory usage: 980.7+ MB\n"
     ]
    }
   ],
   "source": [
    "clean_lc_df.info(verbose=1)"
   ]
  },
  {
   "cell_type": "code",
   "execution_count": 24,
   "metadata": {},
   "outputs": [],
   "source": [
    "clean_lc_df = clean_lc_df.dropna(subset=\n",
    "                                 ['collections_12_mths_ex_med','chargeoff_within_12_mths','last_pymnt_d'],axis=0)"
   ]
  },
  {
   "cell_type": "markdown",
   "metadata": {},
   "source": [
    "### Feature Preprocessing"
   ]
  },
  {
   "cell_type": "markdown",
   "metadata": {},
   "source": [
    "### TRAIN-TEST-SPLIT"
   ]
  },
  {
   "cell_type": "code",
   "execution_count": 25,
   "metadata": {},
   "outputs": [],
   "source": [
    "X = clean_lc_df.drop(columns=['loan_status'])\n",
    "y = clean_lc_df[['loan_status']]"
   ]
  },
  {
   "cell_type": "code",
   "execution_count": 26,
   "metadata": {},
   "outputs": [],
   "source": [
    "X_train, X_test, y_train, y_test = train_test_split(X, y, random_state=0,test_size=0.3)"
   ]
  },
  {
   "cell_type": "markdown",
   "metadata": {},
   "source": [
    "#### Mean, Max, Zero Impute & Drops for Missing Values"
   ]
  },
  {
   "cell_type": "code",
   "execution_count": 27,
   "metadata": {},
   "outputs": [
    {
     "name": "stderr",
     "output_type": "stream",
     "text": [
      "/usr/local/lib/python3.5/dist-packages/ipykernel_launcher.py:79: SettingWithCopyWarning: \n",
      "A value is trying to be set on a copy of a slice from a DataFrame.\n",
      "Try using .loc[row_indexer,col_indexer] = value instead\n",
      "\n",
      "See the caveats in the documentation: http://pandas.pydata.org/pandas-docs/stable/indexing.html#indexing-view-versus-copy\n",
      "/usr/local/lib/python3.5/dist-packages/ipykernel_launcher.py:80: SettingWithCopyWarning: \n",
      "A value is trying to be set on a copy of a slice from a DataFrame.\n",
      "Try using .loc[row_indexer,col_indexer] = value instead\n",
      "\n",
      "See the caveats in the documentation: http://pandas.pydata.org/pandas-docs/stable/indexing.html#indexing-view-versus-copy\n",
      "/usr/local/lib/python3.5/dist-packages/ipykernel_launcher.py:75: SettingWithCopyWarning: \n",
      "A value is trying to be set on a copy of a slice from a DataFrame.\n",
      "Try using .loc[row_indexer,col_indexer] = value instead\n",
      "\n",
      "See the caveats in the documentation: http://pandas.pydata.org/pandas-docs/stable/indexing.html#indexing-view-versus-copy\n",
      "/usr/local/lib/python3.5/dist-packages/ipykernel_launcher.py:76: SettingWithCopyWarning: \n",
      "A value is trying to be set on a copy of a slice from a DataFrame.\n",
      "Try using .loc[row_indexer,col_indexer] = value instead\n",
      "\n",
      "See the caveats in the documentation: http://pandas.pydata.org/pandas-docs/stable/indexing.html#indexing-view-versus-copy\n",
      "/usr/local/lib/python3.5/dist-packages/ipykernel_launcher.py:83: SettingWithCopyWarning: \n",
      "A value is trying to be set on a copy of a slice from a DataFrame.\n",
      "Try using .loc[row_indexer,col_indexer] = value instead\n",
      "\n",
      "See the caveats in the documentation: http://pandas.pydata.org/pandas-docs/stable/indexing.html#indexing-view-versus-copy\n",
      "/usr/local/lib/python3.5/dist-packages/ipykernel_launcher.py:84: SettingWithCopyWarning: \n",
      "A value is trying to be set on a copy of a slice from a DataFrame.\n",
      "Try using .loc[row_indexer,col_indexer] = value instead\n",
      "\n",
      "See the caveats in the documentation: http://pandas.pydata.org/pandas-docs/stable/indexing.html#indexing-view-versus-copy\n"
     ]
    }
   ],
   "source": [
    "#replace NaNs with column max, column means, or zeros where it makes sense to\n",
    "nan_max_cols = [\n",
    "    'mths_since_last_delinq',\n",
    "    'mths_since_last_record',\n",
    "    'mths_since_last_major_derog',\n",
    "    'mths_since_rcnt_il',\n",
    "    'mths_since_recent_bc',\n",
    "    'mths_since_recent_bc_dlq',\n",
    "    'mths_since_recent_inq',\n",
    "    'mths_since_recent_revol_delinq',\n",
    "    'mo_sin_old_il_acct',\n",
    "    'mo_sin_old_rev_tl_op',\n",
    "    'mo_sin_rcnt_rev_tl_op',\n",
    "    'mo_sin_rcnt_tl',\n",
    "]\n",
    "\n",
    "nan_zero_cols = [\n",
    "    'tot_coll_amt',\n",
    "    'tot_cur_bal',\n",
    "    'open_acc_6m',\n",
    "    'open_act_il',\n",
    "    'open_il_12m',\n",
    "    'open_il_24m',\n",
    "    'total_bal_il',\n",
    "    'open_rv_12m',\n",
    "    'open_rv_24m',\n",
    "    'inq_fi',\n",
    "    'inq_last_12m',\n",
    "    'num_accts_ever_120_pd',\n",
    "    'num_actv_bc_tl',\n",
    "    'num_actv_rev_tl',\n",
    "    'num_bc_sats',\n",
    "    'num_bc_tl',\n",
    "    'num_il_tl',\n",
    "    'num_op_rev_tl',\n",
    "    'num_rev_accts',\n",
    "    'num_rev_tl_bal_gt_0',\n",
    "    'num_sats',\n",
    "    'num_tl_120dpd_2m',\n",
    "    'num_tl_30dpd',\n",
    "    'num_tl_90g_dpd_24m',\n",
    "    'num_tl_op_past_12m',\n",
    "    'mort_acc',\n",
    "    'percent_bc_gt_75',\n",
    "    'tot_hi_cred_lim',\n",
    "    'total_bal_ex_mort',\n",
    "    'total_bc_limit',\n",
    "    'total_il_high_credit_limit',\n",
    "    'bc_open_to_buy',\n",
    "    'acc_open_past_24mths',\n",
    "    'total_cu_tl',\n",
    "    'total_rev_hi_lim',\n",
    "    'emp_length',\n",
    "    'pub_rec_bankruptcies',\n",
    "    'tax_liens'\n",
    "]\n",
    "\n",
    "nan_mean_cols = [\n",
    "    'dti',\n",
    "    'annual_inc_joint',\n",
    "    'dti_joint',\n",
    "    'il_util',\n",
    "    'all_util',\n",
    "    'bc_util',\n",
    "    'pct_tl_nvr_dlq',\n",
    "    'avg_cur_bal',\n",
    "    'revol_util',\n",
    "]\n",
    "\n",
    "\n",
    "for col in X_train:\n",
    "    dt = X_train[col].dtype\n",
    "    #FILL MISSING WITH MEAN from X_train, in both X_train & X_test\n",
    "    if col in nan_mean_cols:\n",
    "        X_train[col] = X_train[col].fillna(np.nanmean(X_train[col].values))\n",
    "        X_test[col] = X_test[col].fillna(np.nanmean(X_train[col].values))\n",
    "    #FILL MISSING WITH ZEROS from X_train, in both X_train & X_test\n",
    "    if col in nan_zero_cols:\n",
    "        X_train[col] = X_train[col].fillna(0.0)\n",
    "        X_test[col] = X_test[col].fillna(0.0)\n",
    "    #FILL MISSING WITH MAX from X_train, in both X_train & X_test\n",
    "    if col in nan_max_cols:\n",
    "        X_train[col] = X_train[col].fillna(np.nanmax(X_train[col].values) * 5)\n",
    "        X_test[col] = X_test[col].fillna(np.nanmax(X_train[col].values) * 5)"
   ]
  },
  {
   "cell_type": "code",
   "execution_count": 28,
   "metadata": {},
   "outputs": [
    {
     "name": "stderr",
     "output_type": "stream",
     "text": [
      "/usr/local/lib/python3.5/dist-packages/pandas/core/frame.py:3940: SettingWithCopyWarning: \n",
      "A value is trying to be set on a copy of a slice from a DataFrame\n",
      "\n",
      "See the caveats in the documentation: http://pandas.pydata.org/pandas-docs/stable/indexing.html#indexing-view-versus-copy\n",
      "  errors=errors)\n"
     ]
    }
   ],
   "source": [
    "X_train.drop(columns=['title'],inplace=True)\n",
    "X_test.drop(columns=['title'],inplace=True)"
   ]
  },
  {
   "cell_type": "code",
   "execution_count": 29,
   "metadata": {},
   "outputs": [
    {
     "data": {
      "text/plain": [
       "Series([], dtype: float64)"
      ]
     },
     "execution_count": 29,
     "metadata": {},
     "output_type": "execute_result"
    }
   ],
   "source": [
    "null_columns=X_train.columns[X_train.isnull().any()]\n",
    "X_train[null_columns].isnull().sum()"
   ]
  },
  {
   "cell_type": "code",
   "execution_count": 30,
   "metadata": {},
   "outputs": [
    {
     "data": {
      "text/plain": [
       "Series([], dtype: float64)"
      ]
     },
     "execution_count": 30,
     "metadata": {},
     "output_type": "execute_result"
    }
   ],
   "source": [
    "null_columns=X_test.columns[X_test.isnull().any()]\n",
    "X_test[null_columns].isnull().sum()"
   ]
  },
  {
   "cell_type": "markdown",
   "metadata": {},
   "source": [
    "### Categorical Variable One-Hot Encoding"
   ]
  },
  {
   "cell_type": "code",
   "execution_count": 31,
   "metadata": {},
   "outputs": [
    {
     "name": "stdout",
     "output_type": "stream",
     "text": [
      "(1258501, 102)\n",
      "(880950, 100)\n",
      "(377551, 100)\n"
     ]
    }
   ],
   "source": [
    "print(clean_lc_df.shape)\n",
    "print(X_train.shape)\n",
    "print(X_test.shape)"
   ]
  },
  {
   "cell_type": "markdown",
   "metadata": {},
   "source": [
    "###### One-Hot Encode \"term\""
   ]
  },
  {
   "cell_type": "code",
   "execution_count": 32,
   "metadata": {},
   "outputs": [
    {
     "data": {
      "text/plain": [
       " 36 months    664098\n",
       " 60 months    216852\n",
       "Name: term, dtype: int64"
      ]
     },
     "execution_count": 32,
     "metadata": {},
     "output_type": "execute_result"
    }
   ],
   "source": [
    "X_train['term'].value_counts()"
   ]
  },
  {
   "cell_type": "code",
   "execution_count": 33,
   "metadata": {},
   "outputs": [
    {
     "data": {
      "text/plain": [
       "[array([' 36 months', ' 60 months'], dtype=object)]"
      ]
     },
     "execution_count": 33,
     "metadata": {},
     "output_type": "execute_result"
    }
   ],
   "source": [
    "#term\n",
    "encoder = OneHotEncoder(categories='auto',handle_unknown='ignore').fit(X_train[['term']])\n",
    "encoder.categories_"
   ]
  },
  {
   "cell_type": "code",
   "execution_count": 34,
   "metadata": {},
   "outputs": [
    {
     "data": {
      "text/plain": [
       "(880950, 2)"
      ]
     },
     "execution_count": 34,
     "metadata": {},
     "output_type": "execute_result"
    }
   ],
   "source": [
    "ohe_term = pd.DataFrame(encoder.transform(X_train[['term']]).toarray(),\n",
    "                        columns=encoder.get_feature_names([\"term\"]))\n",
    "ohe_term_test = pd.DataFrame(encoder.transform(X_test[['term']]).toarray(),\n",
    "                             columns=encoder.get_feature_names([\"term\"]))\n",
    "\n",
    "ohe_term.shape"
   ]
  },
  {
   "cell_type": "code",
   "execution_count": 35,
   "metadata": {},
   "outputs": [
    {
     "data": {
      "text/plain": [
       "Series([], dtype: float64)"
      ]
     },
     "execution_count": 35,
     "metadata": {},
     "output_type": "execute_result"
    }
   ],
   "source": [
    "null_columns=ohe_term.columns[ohe_term.isnull().any()]\n",
    "ohe_term[null_columns].isnull().sum()"
   ]
  },
  {
   "cell_type": "markdown",
   "metadata": {},
   "source": [
    "###### One-Hot Encode \"home_ownership\""
   ]
  },
  {
   "cell_type": "code",
   "execution_count": 36,
   "metadata": {},
   "outputs": [
    {
     "data": {
      "text/plain": [
       "MORTGAGE    437095\n",
       "RENT        354276\n",
       "OWN          89260\n",
       "ANY            176\n",
       "OTHER          111\n",
       "NONE            32\n",
       "Name: home_ownership, dtype: int64"
      ]
     },
     "execution_count": 36,
     "metadata": {},
     "output_type": "execute_result"
    }
   ],
   "source": [
    "X_train['home_ownership'].value_counts()"
   ]
  },
  {
   "cell_type": "code",
   "execution_count": 37,
   "metadata": {},
   "outputs": [
    {
     "data": {
      "text/plain": [
       "(880950, 6)"
      ]
     },
     "execution_count": 37,
     "metadata": {},
     "output_type": "execute_result"
    }
   ],
   "source": [
    "encoder = OneHotEncoder(categories='auto',handle_unknown='ignore').fit(X_train[['home_ownership']])\n",
    "ohe_home_ownership = pd.DataFrame(encoder.transform(X_train[['home_ownership']]).toarray(),\n",
    "                                  columns=encoder.get_feature_names([\"home_ownership\"]))\n",
    "ohe_home_ownership_test = pd.DataFrame(encoder.transform(X_test[['home_ownership']]).toarray(),\n",
    "                                       columns=encoder.get_feature_names([\"home_ownership\"]))\n",
    "\n",
    "ohe_home_ownership.shape"
   ]
  },
  {
   "cell_type": "code",
   "execution_count": 38,
   "metadata": {},
   "outputs": [
    {
     "data": {
      "text/plain": [
       "Series([], dtype: float64)"
      ]
     },
     "execution_count": 38,
     "metadata": {},
     "output_type": "execute_result"
    }
   ],
   "source": [
    "null_columns=ohe_home_ownership.columns[ohe_home_ownership.isnull().any()]\n",
    "ohe_home_ownership[null_columns].isnull().sum()"
   ]
  },
  {
   "cell_type": "markdown",
   "metadata": {},
   "source": [
    "##### One-Hot Encode \"purpose\""
   ]
  },
  {
   "cell_type": "code",
   "execution_count": 39,
   "metadata": {},
   "outputs": [
    {
     "data": {
      "text/plain": [
       "debt_consolidation    515636\n",
       "credit_card           193927\n",
       "home_improvement       56020\n",
       "other                  49167\n",
       "major_purchase         18846\n",
       "small_business          9837\n",
       "medical                 9739\n",
       "car                     9350\n",
       "moving                  6120\n",
       "vacation                5753\n",
       "house                   4205\n",
       "wedding                 1530\n",
       "renewable_energy         593\n",
       "educational              227\n",
       "Name: purpose, dtype: int64"
      ]
     },
     "execution_count": 39,
     "metadata": {},
     "output_type": "execute_result"
    }
   ],
   "source": [
    "X_train['purpose'].value_counts()"
   ]
  },
  {
   "cell_type": "code",
   "execution_count": 40,
   "metadata": {},
   "outputs": [
    {
     "data": {
      "text/plain": [
       "(880950, 14)"
      ]
     },
     "execution_count": 40,
     "metadata": {},
     "output_type": "execute_result"
    }
   ],
   "source": [
    "encoder = OneHotEncoder(categories='auto',handle_unknown='ignore').fit(X_train[['purpose']])\n",
    "ohe_purpose = pd.DataFrame(encoder.transform(X_train[['purpose']]).toarray(),\n",
    "                           columns=encoder.get_feature_names([\"purpose\"]))\n",
    "ohe_purpose_test = pd.DataFrame(encoder.transform(X_test[['purpose']]).toarray(),\n",
    "                                columns=encoder.get_feature_names([\"purpose\"]))\n",
    "\n",
    "ohe_purpose.shape"
   ]
  },
  {
   "cell_type": "code",
   "execution_count": 41,
   "metadata": {},
   "outputs": [
    {
     "data": {
      "text/plain": [
       "Series([], dtype: float64)"
      ]
     },
     "execution_count": 41,
     "metadata": {},
     "output_type": "execute_result"
    }
   ],
   "source": [
    "null_columns=ohe_purpose.columns[ohe_purpose.isnull().any()]\n",
    "ohe_purpose[null_columns].isnull().sum()"
   ]
  },
  {
   "cell_type": "markdown",
   "metadata": {},
   "source": [
    "##### One-Hot Encode \"zip_code\""
   ]
  },
  {
   "cell_type": "code",
   "execution_count": 42,
   "metadata": {
    "scrolled": true
   },
   "outputs": [
    {
     "data": {
      "text/plain": [
       "945xx    9905\n",
       "750xx    9713\n",
       "112xx    9160\n",
       "606xx    8265\n",
       "300xx    8008\n",
       "331xx    7590\n",
       "070xx    7257\n",
       "100xx    7116\n",
       "770xx    7059\n",
       "900xx    7014\n",
       "330xx    6664\n",
       "891xx    6649\n",
       "917xx    6362\n",
       "104xx    6219\n",
       "117xx    6144\n",
       "852xx    5642\n",
       "921xx    5509\n",
       "926xx    5359\n",
       "913xx    5230\n",
       "925xx    5130\n",
       "334xx    4886\n",
       "113xx    4623\n",
       "601xx    4618\n",
       "481xx    4589\n",
       "604xx    4502\n",
       "021xx    4490\n",
       "853xx    4442\n",
       "760xx    4415\n",
       "600xx    4380\n",
       "080xx    4362\n",
       "         ... \n",
       "516xx       1\n",
       "568xx       1\n",
       "009xx       1\n",
       "202xx       1\n",
       "513xx       1\n",
       "862xx       1\n",
       "889xx       1\n",
       "522xx       1\n",
       "093xx       1\n",
       "506xx       1\n",
       "892xx       1\n",
       "511xx       1\n",
       "555xx       1\n",
       "817xx       1\n",
       "507xx       1\n",
       "348xx       1\n",
       "509xx       1\n",
       "643xx       1\n",
       "504xx       1\n",
       "888xx       1\n",
       "938xx       1\n",
       "901xx       1\n",
       "896xx       1\n",
       "698xx       1\n",
       "521xx       1\n",
       "694xx       1\n",
       "964xx       1\n",
       "205xx       1\n",
       "340xx       1\n",
       "269xx       1\n",
       "Name: zip_code, Length: 930, dtype: int64"
      ]
     },
     "execution_count": 42,
     "metadata": {},
     "output_type": "execute_result"
    }
   ],
   "source": [
    "X_train['zip_code'].value_counts() #945 ZIP CODES"
   ]
  },
  {
   "cell_type": "code",
   "execution_count": 43,
   "metadata": {},
   "outputs": [
    {
     "data": {
      "text/plain": [
       "(880950, 930)"
      ]
     },
     "execution_count": 43,
     "metadata": {},
     "output_type": "execute_result"
    }
   ],
   "source": [
    "encoder = OneHotEncoder(categories='auto',handle_unknown='ignore').fit(X_train[['zip_code']])\n",
    "ohe_zip_code = pd.DataFrame(encoder.transform(X_train[['zip_code']]).toarray(),\n",
    "                            columns=encoder.get_feature_names([\"zip_code\"]))\n",
    "ohe_zip_code_test = pd.DataFrame(encoder.transform(X_test[['zip_code']]).toarray(),\n",
    "                                 columns=encoder.get_feature_names([\"zip_code\"]))\n",
    "\n",
    "ohe_zip_code.shape"
   ]
  },
  {
   "cell_type": "code",
   "execution_count": 44,
   "metadata": {},
   "outputs": [
    {
     "data": {
      "text/plain": [
       "Series([], dtype: float64)"
      ]
     },
     "execution_count": 44,
     "metadata": {},
     "output_type": "execute_result"
    }
   ],
   "source": [
    "null_columns=ohe_zip_code.columns[ohe_zip_code.isnull().any()]\n",
    "ohe_zip_code[null_columns].isnull().sum()"
   ]
  },
  {
   "cell_type": "markdown",
   "metadata": {},
   "source": [
    "##### One-Hot Encode \"addr_state\""
   ]
  },
  {
   "cell_type": "code",
   "execution_count": 45,
   "metadata": {
    "scrolled": true
   },
   "outputs": [
    {
     "data": {
      "text/plain": [
       "CA    128889\n",
       "TX     73175\n",
       "NY     72355\n",
       "FL     61290\n",
       "IL     34480\n",
       "NJ     32377\n",
       "PA     29962\n",
       "OH     28671\n",
       "GA     28397\n",
       "VA     25175\n",
       "NC     24495\n",
       "MI     22352\n",
       "MA     20772\n",
       "AZ     20728\n",
       "MD     20628\n",
       "CO     19477\n",
       "WA     19016\n",
       "MN     16005\n",
       "IN     14359\n",
       "MO     13931\n",
       "TN     13257\n",
       "CT     13159\n",
       "NV     12646\n",
       "WI     11745\n",
       "AL     10716\n",
       "OR     10555\n",
       "SC     10246\n",
       "LA     10210\n",
       "KY      8306\n",
       "OK      7984\n",
       "KS      7384\n",
       "UT      6527\n",
       "AR      6339\n",
       "NM      4746\n",
       "HI      4512\n",
       "NH      4283\n",
       "MS      4277\n",
       "RI      3883\n",
       "WV      3045\n",
       "MT      2471\n",
       "DE      2398\n",
       "NE      2337\n",
       "DC      2316\n",
       "AK      2097\n",
       "WY      1964\n",
       "SD      1817\n",
       "VT      1761\n",
       "ME      1299\n",
       "ND      1124\n",
       "ID      1006\n",
       "IA         6\n",
       "Name: addr_state, dtype: int64"
      ]
     },
     "execution_count": 45,
     "metadata": {},
     "output_type": "execute_result"
    }
   ],
   "source": [
    "X_train['addr_state'].value_counts()"
   ]
  },
  {
   "cell_type": "code",
   "execution_count": 46,
   "metadata": {},
   "outputs": [
    {
     "data": {
      "text/plain": [
       "(880950, 51)"
      ]
     },
     "execution_count": 46,
     "metadata": {},
     "output_type": "execute_result"
    }
   ],
   "source": [
    "encoder = OneHotEncoder(categories='auto',handle_unknown='ignore').fit(X_train[['addr_state']])\n",
    "ohe_addr_state = pd.DataFrame(encoder.transform(X_train[['addr_state']]).toarray(),\n",
    "                              columns=encoder.get_feature_names([\"addr_state\"]))\n",
    "ohe_addr_state_test = pd.DataFrame(encoder.transform(X_test[['addr_state']]).toarray(),\n",
    "                                   columns=encoder.get_feature_names([\"addr_state\"]))\n",
    "\n",
    "ohe_addr_state.shape"
   ]
  },
  {
   "cell_type": "code",
   "execution_count": 47,
   "metadata": {},
   "outputs": [
    {
     "data": {
      "text/plain": [
       "Series([], dtype: float64)"
      ]
     },
     "execution_count": 47,
     "metadata": {},
     "output_type": "execute_result"
    }
   ],
   "source": [
    "null_columns=ohe_addr_state.columns[ohe_addr_state.isnull().any()]\n",
    "ohe_addr_state[null_columns].isnull().sum()"
   ]
  },
  {
   "cell_type": "markdown",
   "metadata": {},
   "source": [
    "##### One-Hot Encode \"application_type\""
   ]
  },
  {
   "cell_type": "code",
   "execution_count": 48,
   "metadata": {},
   "outputs": [
    {
     "data": {
      "text/plain": [
       "Individual    868313\n",
       "Joint App      12637\n",
       "Name: application_type, dtype: int64"
      ]
     },
     "execution_count": 48,
     "metadata": {},
     "output_type": "execute_result"
    }
   ],
   "source": [
    "X_train['application_type'].value_counts()"
   ]
  },
  {
   "cell_type": "code",
   "execution_count": 49,
   "metadata": {},
   "outputs": [
    {
     "data": {
      "text/plain": [
       "(880950, 2)"
      ]
     },
     "execution_count": 49,
     "metadata": {},
     "output_type": "execute_result"
    }
   ],
   "source": [
    "encoder = OneHotEncoder(categories='auto',handle_unknown='ignore').fit(X_train[['application_type']])\n",
    "ohe_application_type = pd.DataFrame(encoder.transform(X_train[['application_type']]).toarray(),\n",
    "                                    columns=encoder.get_feature_names([\"application_type\"]))\n",
    "ohe_application_type_test = pd.DataFrame(encoder.transform(X_test[['application_type']]).toarray(),\n",
    "                                    columns=encoder.get_feature_names([\"application_type\"]))\n",
    "\n",
    "ohe_application_type.shape"
   ]
  },
  {
   "cell_type": "code",
   "execution_count": 50,
   "metadata": {},
   "outputs": [
    {
     "data": {
      "text/plain": [
       "Series([], dtype: float64)"
      ]
     },
     "execution_count": 50,
     "metadata": {},
     "output_type": "execute_result"
    }
   ],
   "source": [
    "null_columns=ohe_application_type.columns[ohe_application_type.isnull().any()]\n",
    "ohe_application_type[null_columns].isnull().sum()"
   ]
  },
  {
   "cell_type": "markdown",
   "metadata": {},
   "source": [
    "##### One-Hot Encode \"grade\""
   ]
  },
  {
   "cell_type": "code",
   "execution_count": 51,
   "metadata": {},
   "outputs": [
    {
     "data": {
      "text/plain": [
       "B    258330\n",
       "C    251178\n",
       "A    153700\n",
       "D    129383\n",
       "E     61236\n",
       "F     21026\n",
       "G      6097\n",
       "Name: grade, dtype: int64"
      ]
     },
     "execution_count": 51,
     "metadata": {},
     "output_type": "execute_result"
    }
   ],
   "source": [
    "X_train['grade'].value_counts()"
   ]
  },
  {
   "cell_type": "code",
   "execution_count": 52,
   "metadata": {},
   "outputs": [
    {
     "data": {
      "text/plain": [
       "(880950, 7)"
      ]
     },
     "execution_count": 52,
     "metadata": {},
     "output_type": "execute_result"
    }
   ],
   "source": [
    "encoder = OneHotEncoder(categories='auto',handle_unknown='ignore').fit(X_train[['grade']])\n",
    "ohe_grade = pd.DataFrame(encoder.transform(X_train[['grade']]).toarray(),\n",
    "                         columns=encoder.get_feature_names([\"grade\"]))\n",
    "ohe_grade_test = pd.DataFrame(encoder.transform(X_test[['grade']]).toarray(),\n",
    "                              columns=encoder.get_feature_names([\"grade\"]))\n",
    "ohe_grade.shape"
   ]
  },
  {
   "cell_type": "code",
   "execution_count": 53,
   "metadata": {},
   "outputs": [
    {
     "data": {
      "text/plain": [
       "Series([], dtype: float64)"
      ]
     },
     "execution_count": 53,
     "metadata": {},
     "output_type": "execute_result"
    }
   ],
   "source": [
    "null_columns=ohe_grade.columns[ohe_grade.isnull().any()]\n",
    "ohe_grade[null_columns].isnull().sum()"
   ]
  },
  {
   "cell_type": "markdown",
   "metadata": {},
   "source": [
    "##### One-Hot Encode \"sub_grade\""
   ]
  },
  {
   "cell_type": "code",
   "execution_count": 54,
   "metadata": {
    "scrolled": true
   },
   "outputs": [
    {
     "data": {
      "text/plain": [
       "C1    56420\n",
       "B4    54578\n",
       "B3    54314\n",
       "B5    54225\n",
       "C2    52340\n",
       "C3    49256\n",
       "C4    48864\n",
       "B2    48538\n",
       "B1    46675\n",
       "C5    44298\n",
       "A5    41920\n",
       "A4    33796\n",
       "D1    33226\n",
       "A1    29711\n",
       "D2    28852\n",
       "D3    25301\n",
       "A3    24305\n",
       "A2    23968\n",
       "D4    22929\n",
       "D5    19075\n",
       "E1    15609\n",
       "E2    14035\n",
       "E3    12137\n",
       "E4    10361\n",
       "E5     9094\n",
       "F1     6469\n",
       "F2     4726\n",
       "F3     4019\n",
       "F4     3202\n",
       "F5     2610\n",
       "G1     1960\n",
       "G2     1465\n",
       "G3     1066\n",
       "G4      862\n",
       "G5      744\n",
       "Name: sub_grade, dtype: int64"
      ]
     },
     "execution_count": 54,
     "metadata": {},
     "output_type": "execute_result"
    }
   ],
   "source": [
    "X_train['sub_grade'].value_counts()"
   ]
  },
  {
   "cell_type": "code",
   "execution_count": 55,
   "metadata": {},
   "outputs": [
    {
     "data": {
      "text/plain": [
       "(880950, 35)"
      ]
     },
     "execution_count": 55,
     "metadata": {},
     "output_type": "execute_result"
    }
   ],
   "source": [
    "encoder = OneHotEncoder(categories='auto',handle_unknown='ignore').fit(X_train[['sub_grade']])\n",
    "ohe_sub_grade = pd.DataFrame(encoder.transform(X_train[['sub_grade']]).toarray(),\n",
    "                             columns=encoder.get_feature_names([\"sub_grade\"]))\n",
    "ohe_sub_grade_test = pd.DataFrame(encoder.transform(X_test[['sub_grade']]).toarray(),\n",
    "                                  columns=encoder.get_feature_names([\"sub_grade\"]))\n",
    "\n",
    "ohe_sub_grade.shape"
   ]
  },
  {
   "cell_type": "code",
   "execution_count": 56,
   "metadata": {},
   "outputs": [
    {
     "data": {
      "text/plain": [
       "Series([], dtype: float64)"
      ]
     },
     "execution_count": 56,
     "metadata": {},
     "output_type": "execute_result"
    }
   ],
   "source": [
    "null_columns=ohe_sub_grade.columns[ohe_sub_grade.isnull().any()]\n",
    "ohe_sub_grade[null_columns].isnull().sum()"
   ]
  },
  {
   "cell_type": "markdown",
   "metadata": {},
   "source": [
    "##### One-Hot Encode \"emp_title\""
   ]
  },
  {
   "cell_type": "code",
   "execution_count": 57,
   "metadata": {
    "scrolled": true
   },
   "outputs": [
    {
     "data": {
      "text/plain": [
       "50"
      ]
     },
     "execution_count": 57,
     "metadata": {},
     "output_type": "execute_result"
    }
   ],
   "source": [
    "len(X_train['emp_title_2'].value_counts())"
   ]
  },
  {
   "cell_type": "code",
   "execution_count": 58,
   "metadata": {},
   "outputs": [
    {
     "data": {
      "text/plain": [
       "(880950, 50)"
      ]
     },
     "execution_count": 58,
     "metadata": {},
     "output_type": "execute_result"
    }
   ],
   "source": [
    "encoder = OneHotEncoder(categories='auto',handle_unknown='ignore').fit(X_train[['emp_title_2']])\n",
    "ohe_emp_title_2 = pd.DataFrame(encoder.transform(X_train[['emp_title_2']]).toarray(),\n",
    "                               columns=encoder.get_feature_names([\"emp_title_2\"]))\n",
    "ohe_emp_title_2_test = pd.DataFrame(encoder.transform(X_test[['emp_title_2']]).toarray(),\n",
    "                                    columns=encoder.get_feature_names([\"emp_title_2\"]))\n",
    "\n",
    "ohe_emp_title_2.shape"
   ]
  },
  {
   "cell_type": "code",
   "execution_count": 59,
   "metadata": {},
   "outputs": [
    {
     "data": {
      "text/plain": [
       "Series([], dtype: float64)"
      ]
     },
     "execution_count": 59,
     "metadata": {},
     "output_type": "execute_result"
    }
   ],
   "source": [
    "null_columns=ohe_emp_title_2.columns[ohe_emp_title_2.isnull().any()]\n",
    "ohe_emp_title_2[null_columns].isnull().sum()"
   ]
  },
  {
   "cell_type": "code",
   "execution_count": 60,
   "metadata": {},
   "outputs": [
    {
     "data": {
      "text/plain": [
       "(880950, 100)"
      ]
     },
     "execution_count": 60,
     "metadata": {},
     "output_type": "execute_result"
    }
   ],
   "source": [
    "X_train.shape"
   ]
  },
  {
   "cell_type": "code",
   "execution_count": 61,
   "metadata": {},
   "outputs": [
    {
     "data": {
      "text/plain": [
       "(880950, 50)"
      ]
     },
     "execution_count": 61,
     "metadata": {},
     "output_type": "execute_result"
    }
   ],
   "source": [
    "ohe_emp_title_2.shape"
   ]
  },
  {
   "cell_type": "code",
   "execution_count": 62,
   "metadata": {},
   "outputs": [
    {
     "data": {
      "text/html": [
       "<div>\n",
       "<style scoped>\n",
       "    .dataframe tbody tr th:only-of-type {\n",
       "        vertical-align: middle;\n",
       "    }\n",
       "\n",
       "    .dataframe tbody tr th {\n",
       "        vertical-align: top;\n",
       "    }\n",
       "\n",
       "    .dataframe thead th {\n",
       "        text-align: right;\n",
       "    }\n",
       "</style>\n",
       "<table border=\"1\" class=\"dataframe\">\n",
       "  <thead>\n",
       "    <tr style=\"text-align: right;\">\n",
       "      <th></th>\n",
       "      <th>index</th>\n",
       "      <th>loan_amnt</th>\n",
       "      <th>funded_amnt</th>\n",
       "      <th>term</th>\n",
       "      <th>int_rate</th>\n",
       "      <th>installment</th>\n",
       "      <th>emp_length</th>\n",
       "      <th>home_ownership</th>\n",
       "      <th>annual_inc</th>\n",
       "      <th>verification_status</th>\n",
       "      <th>...</th>\n",
       "      <th>collection_recovery_fee</th>\n",
       "      <th>total_rec_prncp</th>\n",
       "      <th>total_rec_int</th>\n",
       "      <th>total_rec_late_fee</th>\n",
       "      <th>sub_grade</th>\n",
       "      <th>debt_settlement_flag</th>\n",
       "      <th>emp_title</th>\n",
       "      <th>issue_d</th>\n",
       "      <th>last_pymnt_d</th>\n",
       "      <th>emp_title_2</th>\n",
       "    </tr>\n",
       "  </thead>\n",
       "  <tbody>\n",
       "    <tr>\n",
       "      <th>0</th>\n",
       "      <td>798015</td>\n",
       "      <td>20000</td>\n",
       "      <td>20000.0</td>\n",
       "      <td>60 months</td>\n",
       "      <td>0.1239</td>\n",
       "      <td>448.85</td>\n",
       "      <td>1.0</td>\n",
       "      <td>MORTGAGE</td>\n",
       "      <td>62000.0</td>\n",
       "      <td>Source Verified</td>\n",
       "      <td>...</td>\n",
       "      <td>0.000</td>\n",
       "      <td>20000.0</td>\n",
       "      <td>4704.74</td>\n",
       "      <td>0.00</td>\n",
       "      <td>C1</td>\n",
       "      <td>N</td>\n",
       "      <td>driver</td>\n",
       "      <td>Feb-2015</td>\n",
       "      <td>May-2017</td>\n",
       "      <td>driver</td>\n",
       "    </tr>\n",
       "    <tr>\n",
       "      <th>1</th>\n",
       "      <td>962964</td>\n",
       "      <td>15000</td>\n",
       "      <td>15000.0</td>\n",
       "      <td>36 months</td>\n",
       "      <td>0.1299</td>\n",
       "      <td>505.34</td>\n",
       "      <td>1.0</td>\n",
       "      <td>OWN</td>\n",
       "      <td>55000.0</td>\n",
       "      <td>Verified</td>\n",
       "      <td>...</td>\n",
       "      <td>207.693</td>\n",
       "      <td>6863.3</td>\n",
       "      <td>2712.89</td>\n",
       "      <td>50.54</td>\n",
       "      <td>C1</td>\n",
       "      <td>N</td>\n",
       "      <td>Teacher</td>\n",
       "      <td>Jun-2014</td>\n",
       "      <td>May-2016</td>\n",
       "      <td>Teacher</td>\n",
       "    </tr>\n",
       "    <tr>\n",
       "      <th>2</th>\n",
       "      <td>534392</td>\n",
       "      <td>16000</td>\n",
       "      <td>16000.0</td>\n",
       "      <td>36 months</td>\n",
       "      <td>0.0818</td>\n",
       "      <td>502.72</td>\n",
       "      <td>8.0</td>\n",
       "      <td>MORTGAGE</td>\n",
       "      <td>72000.0</td>\n",
       "      <td>Not Verified</td>\n",
       "      <td>...</td>\n",
       "      <td>0.000</td>\n",
       "      <td>16000.0</td>\n",
       "      <td>1974.15</td>\n",
       "      <td>75.42</td>\n",
       "      <td>B1</td>\n",
       "      <td>N</td>\n",
       "      <td>minister</td>\n",
       "      <td>Nov-2015</td>\n",
       "      <td>Jan-2019</td>\n",
       "      <td>Other</td>\n",
       "    </tr>\n",
       "    <tr>\n",
       "      <th>3</th>\n",
       "      <td>668134</td>\n",
       "      <td>24000</td>\n",
       "      <td>24000.0</td>\n",
       "      <td>36 months</td>\n",
       "      <td>0.0818</td>\n",
       "      <td>754.07</td>\n",
       "      <td>1.0</td>\n",
       "      <td>MORTGAGE</td>\n",
       "      <td>70000.0</td>\n",
       "      <td>Source Verified</td>\n",
       "      <td>...</td>\n",
       "      <td>0.000</td>\n",
       "      <td>24000.0</td>\n",
       "      <td>3124.60</td>\n",
       "      <td>0.00</td>\n",
       "      <td>B1</td>\n",
       "      <td>N</td>\n",
       "      <td>Southeast Retail Manager</td>\n",
       "      <td>Jul-2015</td>\n",
       "      <td>Jul-2018</td>\n",
       "      <td>Other</td>\n",
       "    </tr>\n",
       "    <tr>\n",
       "      <th>4</th>\n",
       "      <td>1068586</td>\n",
       "      <td>24000</td>\n",
       "      <td>24000.0</td>\n",
       "      <td>36 months</td>\n",
       "      <td>0.0662</td>\n",
       "      <td>736.89</td>\n",
       "      <td>1.0</td>\n",
       "      <td>MORTGAGE</td>\n",
       "      <td>175000.0</td>\n",
       "      <td>Source Verified</td>\n",
       "      <td>...</td>\n",
       "      <td>0.000</td>\n",
       "      <td>24000.0</td>\n",
       "      <td>2527.95</td>\n",
       "      <td>0.00</td>\n",
       "      <td>A2</td>\n",
       "      <td>N</td>\n",
       "      <td>IT Manager</td>\n",
       "      <td>Nov-2013</td>\n",
       "      <td>Nov-2016</td>\n",
       "      <td>Other</td>\n",
       "    </tr>\n",
       "  </tbody>\n",
       "</table>\n",
       "<p>5 rows × 101 columns</p>\n",
       "</div>"
      ],
      "text/plain": [
       "     index  loan_amnt  funded_amnt        term  int_rate  installment  \\\n",
       "0   798015      20000      20000.0   60 months    0.1239       448.85   \n",
       "1   962964      15000      15000.0   36 months    0.1299       505.34   \n",
       "2   534392      16000      16000.0   36 months    0.0818       502.72   \n",
       "3   668134      24000      24000.0   36 months    0.0818       754.07   \n",
       "4  1068586      24000      24000.0   36 months    0.0662       736.89   \n",
       "\n",
       "   emp_length home_ownership  annual_inc verification_status  ...  \\\n",
       "0         1.0       MORTGAGE     62000.0     Source Verified  ...   \n",
       "1         1.0            OWN     55000.0            Verified  ...   \n",
       "2         8.0       MORTGAGE     72000.0        Not Verified  ...   \n",
       "3         1.0       MORTGAGE     70000.0     Source Verified  ...   \n",
       "4         1.0       MORTGAGE    175000.0     Source Verified  ...   \n",
       "\n",
       "  collection_recovery_fee total_rec_prncp total_rec_int  total_rec_late_fee  \\\n",
       "0                   0.000         20000.0       4704.74                0.00   \n",
       "1                 207.693          6863.3       2712.89               50.54   \n",
       "2                   0.000         16000.0       1974.15               75.42   \n",
       "3                   0.000         24000.0       3124.60                0.00   \n",
       "4                   0.000         24000.0       2527.95                0.00   \n",
       "\n",
       "   sub_grade  debt_settlement_flag                 emp_title   issue_d  \\\n",
       "0         C1                     N                    driver  Feb-2015   \n",
       "1         C1                     N                   Teacher  Jun-2014   \n",
       "2         B1                     N                  minister  Nov-2015   \n",
       "3         B1                     N  Southeast Retail Manager  Jul-2015   \n",
       "4         A2                     N                IT Manager  Nov-2013   \n",
       "\n",
       "   last_pymnt_d  emp_title_2  \n",
       "0      May-2017       driver  \n",
       "1      May-2016      Teacher  \n",
       "2      Jan-2019        Other  \n",
       "3      Jul-2018        Other  \n",
       "4      Nov-2016        Other  \n",
       "\n",
       "[5 rows x 101 columns]"
      ]
     },
     "execution_count": 62,
     "metadata": {},
     "output_type": "execute_result"
    }
   ],
   "source": [
    "X_train.reset_index().head()"
   ]
  },
  {
   "cell_type": "code",
   "execution_count": 63,
   "metadata": {},
   "outputs": [
    {
     "data": {
      "text/html": [
       "<div>\n",
       "<style scoped>\n",
       "    .dataframe tbody tr th:only-of-type {\n",
       "        vertical-align: middle;\n",
       "    }\n",
       "\n",
       "    .dataframe tbody tr th {\n",
       "        vertical-align: top;\n",
       "    }\n",
       "\n",
       "    .dataframe thead th {\n",
       "        text-align: right;\n",
       "    }\n",
       "</style>\n",
       "<table border=\"1\" class=\"dataframe\">\n",
       "  <thead>\n",
       "    <tr style=\"text-align: right;\">\n",
       "      <th></th>\n",
       "      <th>sub_grade_A1</th>\n",
       "      <th>sub_grade_A2</th>\n",
       "      <th>sub_grade_A3</th>\n",
       "      <th>sub_grade_A4</th>\n",
       "      <th>sub_grade_A5</th>\n",
       "      <th>sub_grade_B1</th>\n",
       "      <th>sub_grade_B2</th>\n",
       "      <th>sub_grade_B3</th>\n",
       "      <th>sub_grade_B4</th>\n",
       "      <th>sub_grade_B5</th>\n",
       "      <th>...</th>\n",
       "      <th>sub_grade_F1</th>\n",
       "      <th>sub_grade_F2</th>\n",
       "      <th>sub_grade_F3</th>\n",
       "      <th>sub_grade_F4</th>\n",
       "      <th>sub_grade_F5</th>\n",
       "      <th>sub_grade_G1</th>\n",
       "      <th>sub_grade_G2</th>\n",
       "      <th>sub_grade_G3</th>\n",
       "      <th>sub_grade_G4</th>\n",
       "      <th>sub_grade_G5</th>\n",
       "    </tr>\n",
       "  </thead>\n",
       "  <tbody>\n",
       "    <tr>\n",
       "      <th>0</th>\n",
       "      <td>0.0</td>\n",
       "      <td>0.0</td>\n",
       "      <td>0.0</td>\n",
       "      <td>0.0</td>\n",
       "      <td>0.0</td>\n",
       "      <td>0.0</td>\n",
       "      <td>0.0</td>\n",
       "      <td>0.0</td>\n",
       "      <td>0.0</td>\n",
       "      <td>0.0</td>\n",
       "      <td>...</td>\n",
       "      <td>0.0</td>\n",
       "      <td>0.0</td>\n",
       "      <td>0.0</td>\n",
       "      <td>0.0</td>\n",
       "      <td>0.0</td>\n",
       "      <td>0.0</td>\n",
       "      <td>0.0</td>\n",
       "      <td>0.0</td>\n",
       "      <td>0.0</td>\n",
       "      <td>0.0</td>\n",
       "    </tr>\n",
       "    <tr>\n",
       "      <th>1</th>\n",
       "      <td>0.0</td>\n",
       "      <td>0.0</td>\n",
       "      <td>0.0</td>\n",
       "      <td>0.0</td>\n",
       "      <td>0.0</td>\n",
       "      <td>0.0</td>\n",
       "      <td>0.0</td>\n",
       "      <td>0.0</td>\n",
       "      <td>0.0</td>\n",
       "      <td>0.0</td>\n",
       "      <td>...</td>\n",
       "      <td>0.0</td>\n",
       "      <td>0.0</td>\n",
       "      <td>0.0</td>\n",
       "      <td>0.0</td>\n",
       "      <td>0.0</td>\n",
       "      <td>0.0</td>\n",
       "      <td>0.0</td>\n",
       "      <td>0.0</td>\n",
       "      <td>0.0</td>\n",
       "      <td>0.0</td>\n",
       "    </tr>\n",
       "    <tr>\n",
       "      <th>2</th>\n",
       "      <td>0.0</td>\n",
       "      <td>0.0</td>\n",
       "      <td>0.0</td>\n",
       "      <td>0.0</td>\n",
       "      <td>0.0</td>\n",
       "      <td>1.0</td>\n",
       "      <td>0.0</td>\n",
       "      <td>0.0</td>\n",
       "      <td>0.0</td>\n",
       "      <td>0.0</td>\n",
       "      <td>...</td>\n",
       "      <td>0.0</td>\n",
       "      <td>0.0</td>\n",
       "      <td>0.0</td>\n",
       "      <td>0.0</td>\n",
       "      <td>0.0</td>\n",
       "      <td>0.0</td>\n",
       "      <td>0.0</td>\n",
       "      <td>0.0</td>\n",
       "      <td>0.0</td>\n",
       "      <td>0.0</td>\n",
       "    </tr>\n",
       "    <tr>\n",
       "      <th>3</th>\n",
       "      <td>0.0</td>\n",
       "      <td>0.0</td>\n",
       "      <td>0.0</td>\n",
       "      <td>0.0</td>\n",
       "      <td>0.0</td>\n",
       "      <td>1.0</td>\n",
       "      <td>0.0</td>\n",
       "      <td>0.0</td>\n",
       "      <td>0.0</td>\n",
       "      <td>0.0</td>\n",
       "      <td>...</td>\n",
       "      <td>0.0</td>\n",
       "      <td>0.0</td>\n",
       "      <td>0.0</td>\n",
       "      <td>0.0</td>\n",
       "      <td>0.0</td>\n",
       "      <td>0.0</td>\n",
       "      <td>0.0</td>\n",
       "      <td>0.0</td>\n",
       "      <td>0.0</td>\n",
       "      <td>0.0</td>\n",
       "    </tr>\n",
       "    <tr>\n",
       "      <th>4</th>\n",
       "      <td>0.0</td>\n",
       "      <td>1.0</td>\n",
       "      <td>0.0</td>\n",
       "      <td>0.0</td>\n",
       "      <td>0.0</td>\n",
       "      <td>0.0</td>\n",
       "      <td>0.0</td>\n",
       "      <td>0.0</td>\n",
       "      <td>0.0</td>\n",
       "      <td>0.0</td>\n",
       "      <td>...</td>\n",
       "      <td>0.0</td>\n",
       "      <td>0.0</td>\n",
       "      <td>0.0</td>\n",
       "      <td>0.0</td>\n",
       "      <td>0.0</td>\n",
       "      <td>0.0</td>\n",
       "      <td>0.0</td>\n",
       "      <td>0.0</td>\n",
       "      <td>0.0</td>\n",
       "      <td>0.0</td>\n",
       "    </tr>\n",
       "  </tbody>\n",
       "</table>\n",
       "<p>5 rows × 35 columns</p>\n",
       "</div>"
      ],
      "text/plain": [
       "   sub_grade_A1  sub_grade_A2  sub_grade_A3  sub_grade_A4  sub_grade_A5  \\\n",
       "0           0.0           0.0           0.0           0.0           0.0   \n",
       "1           0.0           0.0           0.0           0.0           0.0   \n",
       "2           0.0           0.0           0.0           0.0           0.0   \n",
       "3           0.0           0.0           0.0           0.0           0.0   \n",
       "4           0.0           1.0           0.0           0.0           0.0   \n",
       "\n",
       "   sub_grade_B1  sub_grade_B2  sub_grade_B3  sub_grade_B4  sub_grade_B5  ...  \\\n",
       "0           0.0           0.0           0.0           0.0           0.0  ...   \n",
       "1           0.0           0.0           0.0           0.0           0.0  ...   \n",
       "2           1.0           0.0           0.0           0.0           0.0  ...   \n",
       "3           1.0           0.0           0.0           0.0           0.0  ...   \n",
       "4           0.0           0.0           0.0           0.0           0.0  ...   \n",
       "\n",
       "   sub_grade_F1  sub_grade_F2  sub_grade_F3  sub_grade_F4  sub_grade_F5  \\\n",
       "0           0.0           0.0           0.0           0.0           0.0   \n",
       "1           0.0           0.0           0.0           0.0           0.0   \n",
       "2           0.0           0.0           0.0           0.0           0.0   \n",
       "3           0.0           0.0           0.0           0.0           0.0   \n",
       "4           0.0           0.0           0.0           0.0           0.0   \n",
       "\n",
       "   sub_grade_G1  sub_grade_G2  sub_grade_G3  sub_grade_G4  sub_grade_G5  \n",
       "0           0.0           0.0           0.0           0.0           0.0  \n",
       "1           0.0           0.0           0.0           0.0           0.0  \n",
       "2           0.0           0.0           0.0           0.0           0.0  \n",
       "3           0.0           0.0           0.0           0.0           0.0  \n",
       "4           0.0           0.0           0.0           0.0           0.0  \n",
       "\n",
       "[5 rows x 35 columns]"
      ]
     },
     "execution_count": 63,
     "metadata": {},
     "output_type": "execute_result"
    }
   ],
   "source": [
    "ohe_sub_grade.head()"
   ]
  },
  {
   "cell_type": "code",
   "execution_count": 64,
   "metadata": {},
   "outputs": [
    {
     "data": {
      "text/html": [
       "<div>\n",
       "<style scoped>\n",
       "    .dataframe tbody tr th:only-of-type {\n",
       "        vertical-align: middle;\n",
       "    }\n",
       "\n",
       "    .dataframe tbody tr th {\n",
       "        vertical-align: top;\n",
       "    }\n",
       "\n",
       "    .dataframe thead th {\n",
       "        text-align: right;\n",
       "    }\n",
       "</style>\n",
       "<table border=\"1\" class=\"dataframe\">\n",
       "  <thead>\n",
       "    <tr style=\"text-align: right;\">\n",
       "      <th></th>\n",
       "      <th>emp_title_2_Account Executive</th>\n",
       "      <th>emp_title_2_Account Manager</th>\n",
       "      <th>emp_title_2_Accountant</th>\n",
       "      <th>emp_title_2_Administrative Assistant</th>\n",
       "      <th>emp_title_2_Administrator</th>\n",
       "      <th>emp_title_2_Analyst</th>\n",
       "      <th>emp_title_2_Assistant Manager</th>\n",
       "      <th>emp_title_2_Attorney</th>\n",
       "      <th>emp_title_2_Branch Manager</th>\n",
       "      <th>emp_title_2_CEO</th>\n",
       "      <th>...</th>\n",
       "      <th>emp_title_2_Technician</th>\n",
       "      <th>emp_title_2_Truck Driver</th>\n",
       "      <th>emp_title_2_Vice President</th>\n",
       "      <th>emp_title_2_driver</th>\n",
       "      <th>emp_title_2_manager</th>\n",
       "      <th>emp_title_2_owner</th>\n",
       "      <th>emp_title_2_sales</th>\n",
       "      <th>emp_title_2_supervisor</th>\n",
       "      <th>emp_title_2_teacher</th>\n",
       "      <th>emp_title_2_truck driver</th>\n",
       "    </tr>\n",
       "  </thead>\n",
       "  <tbody>\n",
       "    <tr>\n",
       "      <th>0</th>\n",
       "      <td>0.0</td>\n",
       "      <td>0.0</td>\n",
       "      <td>0.0</td>\n",
       "      <td>0.0</td>\n",
       "      <td>0.0</td>\n",
       "      <td>0.0</td>\n",
       "      <td>0.0</td>\n",
       "      <td>0.0</td>\n",
       "      <td>0.0</td>\n",
       "      <td>0.0</td>\n",
       "      <td>...</td>\n",
       "      <td>0.0</td>\n",
       "      <td>0.0</td>\n",
       "      <td>0.0</td>\n",
       "      <td>1.0</td>\n",
       "      <td>0.0</td>\n",
       "      <td>0.0</td>\n",
       "      <td>0.0</td>\n",
       "      <td>0.0</td>\n",
       "      <td>0.0</td>\n",
       "      <td>0.0</td>\n",
       "    </tr>\n",
       "    <tr>\n",
       "      <th>1</th>\n",
       "      <td>0.0</td>\n",
       "      <td>0.0</td>\n",
       "      <td>0.0</td>\n",
       "      <td>0.0</td>\n",
       "      <td>0.0</td>\n",
       "      <td>0.0</td>\n",
       "      <td>0.0</td>\n",
       "      <td>0.0</td>\n",
       "      <td>0.0</td>\n",
       "      <td>0.0</td>\n",
       "      <td>...</td>\n",
       "      <td>0.0</td>\n",
       "      <td>0.0</td>\n",
       "      <td>0.0</td>\n",
       "      <td>0.0</td>\n",
       "      <td>0.0</td>\n",
       "      <td>0.0</td>\n",
       "      <td>0.0</td>\n",
       "      <td>0.0</td>\n",
       "      <td>0.0</td>\n",
       "      <td>0.0</td>\n",
       "    </tr>\n",
       "    <tr>\n",
       "      <th>2</th>\n",
       "      <td>0.0</td>\n",
       "      <td>0.0</td>\n",
       "      <td>0.0</td>\n",
       "      <td>0.0</td>\n",
       "      <td>0.0</td>\n",
       "      <td>0.0</td>\n",
       "      <td>0.0</td>\n",
       "      <td>0.0</td>\n",
       "      <td>0.0</td>\n",
       "      <td>0.0</td>\n",
       "      <td>...</td>\n",
       "      <td>0.0</td>\n",
       "      <td>0.0</td>\n",
       "      <td>0.0</td>\n",
       "      <td>0.0</td>\n",
       "      <td>0.0</td>\n",
       "      <td>0.0</td>\n",
       "      <td>0.0</td>\n",
       "      <td>0.0</td>\n",
       "      <td>0.0</td>\n",
       "      <td>0.0</td>\n",
       "    </tr>\n",
       "    <tr>\n",
       "      <th>3</th>\n",
       "      <td>0.0</td>\n",
       "      <td>0.0</td>\n",
       "      <td>0.0</td>\n",
       "      <td>0.0</td>\n",
       "      <td>0.0</td>\n",
       "      <td>0.0</td>\n",
       "      <td>0.0</td>\n",
       "      <td>0.0</td>\n",
       "      <td>0.0</td>\n",
       "      <td>0.0</td>\n",
       "      <td>...</td>\n",
       "      <td>0.0</td>\n",
       "      <td>0.0</td>\n",
       "      <td>0.0</td>\n",
       "      <td>0.0</td>\n",
       "      <td>0.0</td>\n",
       "      <td>0.0</td>\n",
       "      <td>0.0</td>\n",
       "      <td>0.0</td>\n",
       "      <td>0.0</td>\n",
       "      <td>0.0</td>\n",
       "    </tr>\n",
       "    <tr>\n",
       "      <th>4</th>\n",
       "      <td>0.0</td>\n",
       "      <td>0.0</td>\n",
       "      <td>0.0</td>\n",
       "      <td>0.0</td>\n",
       "      <td>0.0</td>\n",
       "      <td>0.0</td>\n",
       "      <td>0.0</td>\n",
       "      <td>0.0</td>\n",
       "      <td>0.0</td>\n",
       "      <td>0.0</td>\n",
       "      <td>...</td>\n",
       "      <td>0.0</td>\n",
       "      <td>0.0</td>\n",
       "      <td>0.0</td>\n",
       "      <td>0.0</td>\n",
       "      <td>0.0</td>\n",
       "      <td>0.0</td>\n",
       "      <td>0.0</td>\n",
       "      <td>0.0</td>\n",
       "      <td>0.0</td>\n",
       "      <td>0.0</td>\n",
       "    </tr>\n",
       "  </tbody>\n",
       "</table>\n",
       "<p>5 rows × 50 columns</p>\n",
       "</div>"
      ],
      "text/plain": [
       "   emp_title_2_Account Executive  emp_title_2_Account Manager  \\\n",
       "0                            0.0                          0.0   \n",
       "1                            0.0                          0.0   \n",
       "2                            0.0                          0.0   \n",
       "3                            0.0                          0.0   \n",
       "4                            0.0                          0.0   \n",
       "\n",
       "   emp_title_2_Accountant  emp_title_2_Administrative Assistant  \\\n",
       "0                     0.0                                   0.0   \n",
       "1                     0.0                                   0.0   \n",
       "2                     0.0                                   0.0   \n",
       "3                     0.0                                   0.0   \n",
       "4                     0.0                                   0.0   \n",
       "\n",
       "   emp_title_2_Administrator  emp_title_2_Analyst  \\\n",
       "0                        0.0                  0.0   \n",
       "1                        0.0                  0.0   \n",
       "2                        0.0                  0.0   \n",
       "3                        0.0                  0.0   \n",
       "4                        0.0                  0.0   \n",
       "\n",
       "   emp_title_2_Assistant Manager  emp_title_2_Attorney  \\\n",
       "0                            0.0                   0.0   \n",
       "1                            0.0                   0.0   \n",
       "2                            0.0                   0.0   \n",
       "3                            0.0                   0.0   \n",
       "4                            0.0                   0.0   \n",
       "\n",
       "   emp_title_2_Branch Manager  emp_title_2_CEO  ...  emp_title_2_Technician  \\\n",
       "0                         0.0              0.0  ...                     0.0   \n",
       "1                         0.0              0.0  ...                     0.0   \n",
       "2                         0.0              0.0  ...                     0.0   \n",
       "3                         0.0              0.0  ...                     0.0   \n",
       "4                         0.0              0.0  ...                     0.0   \n",
       "\n",
       "   emp_title_2_Truck Driver  emp_title_2_Vice President  emp_title_2_driver  \\\n",
       "0                       0.0                         0.0                 1.0   \n",
       "1                       0.0                         0.0                 0.0   \n",
       "2                       0.0                         0.0                 0.0   \n",
       "3                       0.0                         0.0                 0.0   \n",
       "4                       0.0                         0.0                 0.0   \n",
       "\n",
       "   emp_title_2_manager  emp_title_2_owner  emp_title_2_sales  \\\n",
       "0                  0.0                0.0                0.0   \n",
       "1                  0.0                0.0                0.0   \n",
       "2                  0.0                0.0                0.0   \n",
       "3                  0.0                0.0                0.0   \n",
       "4                  0.0                0.0                0.0   \n",
       "\n",
       "   emp_title_2_supervisor  emp_title_2_teacher  emp_title_2_truck driver  \n",
       "0                     0.0                  0.0                       0.0  \n",
       "1                     0.0                  0.0                       0.0  \n",
       "2                     0.0                  0.0                       0.0  \n",
       "3                     0.0                  0.0                       0.0  \n",
       "4                     0.0                  0.0                       0.0  \n",
       "\n",
       "[5 rows x 50 columns]"
      ]
     },
     "execution_count": 64,
     "metadata": {},
     "output_type": "execute_result"
    }
   ],
   "source": [
    "ohe_emp_title_2.head()"
   ]
  },
  {
   "cell_type": "markdown",
   "metadata": {},
   "source": [
    "#### One Hot Encode All Categorical Features"
   ]
  },
  {
   "cell_type": "code",
   "execution_count": 65,
   "metadata": {},
   "outputs": [],
   "source": [
    "# encoder = OneHotEncoder(categories=['home_ownership','purpose','zip_code','sub_grade','emp_title_2'],\n",
    "#                         handle_unknown='ignore').fit(X_train)\n",
    "# ohe_all = pd.DataFrame(encoder.transform(X_train).toarray(),\n",
    "#                        columns=encoder.get_feature_names(\n",
    "#                            ['home_ownership','purpose','zip_code','sub_grade','emp_title_2']))\n",
    "# ohe_all_test = pd.DataFrame(encoder.transform(X_train).toarray(),\n",
    "#                             columns=encoder.get_feature_names(\n",
    "#                                 ['home_ownership','purpose','zip_code','sub_grade','emp_title_2']))"
   ]
  },
  {
   "cell_type": "markdown",
   "metadata": {},
   "source": [
    "### Join X_train with new One-Hot-Encoded TRAIN DataFrames \n",
    "##### & Join X_test with new One-Hot Encoded TEST DataFrames\n",
    "- X_train + ohe_home_ownership + ohe_purpose + ohe_zip_code + ohe_application_type + ohe_sub_grade(more granular than ohe_grade) + ohe_emp_title_2\n",
    "- I'm opting for Zip Code (944 cols) instead of State (50 cols - D.C. counts) in the first model under the hypothesis that the more granular location-based variable (zip) will reveal a more meaningful relationship than the broader borders of State"
   ]
  },
  {
   "cell_type": "code",
   "execution_count": 66,
   "metadata": {
    "scrolled": true
   },
   "outputs": [
    {
     "name": "stdout",
     "output_type": "stream",
     "text": [
      "(880950, 100)\n",
      "(880950, 6)\n",
      "(880950, 14)\n",
      "(880950, 930)\n",
      "(880950, 51)\n",
      "(880950, 35)\n",
      "(880950, 50)\n"
     ]
    }
   ],
   "source": [
    "#Individual DF shapes\n",
    "print(X_train.shape)\n",
    "print(ohe_home_ownership.shape)\n",
    "print(ohe_purpose.shape)\n",
    "print(ohe_zip_code.shape)\n",
    "print(ohe_addr_state.shape)\n",
    "print(ohe_sub_grade.shape)\n",
    "print(ohe_emp_title_2.shape)"
   ]
  },
  {
   "cell_type": "code",
   "execution_count": 67,
   "metadata": {},
   "outputs": [
    {
     "data": {
      "text/plain": [
       "pandas.core.frame.DataFrame"
      ]
     },
     "execution_count": 67,
     "metadata": {},
     "output_type": "execute_result"
    }
   ],
   "source": [
    "type(ohe_emp_title_2)"
   ]
  },
  {
   "cell_type": "code",
   "execution_count": 69,
   "metadata": {},
   "outputs": [
    {
     "name": "stdout",
     "output_type": "stream",
     "text": [
      "1135\n"
     ]
    }
   ],
   "source": [
    "#Future Shape\n",
    "print(X_train.shape[1]+ohe_home_ownership.shape[1]+ohe_purpose.shape[1]+\n",
    "      ohe_zip_code.shape[1]+ohe_sub_grade.shape[1]+\n",
    "     ohe_emp_title_2.shape[1])"
   ]
  },
  {
   "cell_type": "code",
   "execution_count": 70,
   "metadata": {},
   "outputs": [],
   "source": [
    "#concat_test_dfs = [X_train, ohe_home_ownership, ohe_purpose, ohe_zip_code,\n",
    "#                   ohe_application_type, ohe_sub_grade, ohe_emp_title_2]\n",
    "X_train_comb = X_train.reset_index().copy()\n",
    "X_train_comb = pd.concat([X_train_comb.drop(\"home_ownership\", axis=1), ohe_home_ownership], axis=1)"
   ]
  },
  {
   "cell_type": "code",
   "execution_count": 71,
   "metadata": {},
   "outputs": [],
   "source": [
    "X_train_comb = pd.concat([X_train_comb.drop(\"purpose\", axis=1), ohe_purpose], axis=1)"
   ]
  },
  {
   "cell_type": "code",
   "execution_count": 72,
   "metadata": {},
   "outputs": [],
   "source": [
    "X_train_comb = pd.concat([X_train_comb.drop(\"zip_code\", axis=1), ohe_zip_code], axis=1)"
   ]
  },
  {
   "cell_type": "code",
   "execution_count": 73,
   "metadata": {},
   "outputs": [],
   "source": [
    "X_train_comb = pd.concat([X_train_comb.drop(\"application_type\", axis=1), ohe_application_type], axis=1)"
   ]
  },
  {
   "cell_type": "code",
   "execution_count": 74,
   "metadata": {},
   "outputs": [],
   "source": [
    "X_train_comb = pd.concat([X_train_comb.drop(\"sub_grade\", axis=1), ohe_sub_grade], axis=1)"
   ]
  },
  {
   "cell_type": "code",
   "execution_count": 75,
   "metadata": {},
   "outputs": [],
   "source": [
    "X_train_comb = pd.concat([X_train_comb.drop(\"emp_title_2\", axis=1), ohe_emp_title_2], axis=1)"
   ]
  },
  {
   "cell_type": "code",
   "execution_count": 80,
   "metadata": {},
   "outputs": [
    {
     "data": {
      "text/plain": [
       "Series([], dtype: float64)"
      ]
     },
     "execution_count": 80,
     "metadata": {},
     "output_type": "execute_result"
    }
   ],
   "source": [
    "null_columns=X_train_comb.columns[X_train_comb.isnull().any()]\n",
    "X_train_comb[null_columns].isnull().sum()"
   ]
  },
  {
   "cell_type": "code",
   "execution_count": 76,
   "metadata": {
    "scrolled": true
   },
   "outputs": [
    {
     "data": {
      "text/plain": [
       "(880950, 1132)"
      ]
     },
     "execution_count": 76,
     "metadata": {},
     "output_type": "execute_result"
    }
   ],
   "source": [
    "X_train_comb.shape"
   ]
  },
  {
   "cell_type": "code",
   "execution_count": 77,
   "metadata": {},
   "outputs": [],
   "source": [
    "#concat_test_dfs = [X_test, ohe_home_ownership_test, ohe_purpose_test, ohe_zip_code_test,\n",
    "#                   ohe_application_type_test, ohe_sub_grade_test, ohe_emp_title_2_test]\n",
    "X_test_comb = X_test.reset_index().copy()\n",
    "X_test_comb = pd.concat([X_test_comb.drop(\"home_ownership\", axis=1), ohe_home_ownership_test], axis=1)"
   ]
  },
  {
   "cell_type": "code",
   "execution_count": 78,
   "metadata": {},
   "outputs": [],
   "source": [
    "X_test_comb = pd.concat([X_test_comb.drop(\"purpose\", axis=1), ohe_purpose_test], axis=1)"
   ]
  },
  {
   "cell_type": "code",
   "execution_count": 79,
   "metadata": {},
   "outputs": [],
   "source": [
    "X_test_comb = pd.concat([X_test_comb.drop(\"zip_code\", axis=1), ohe_zip_code_test], axis=1)"
   ]
  },
  {
   "cell_type": "code",
   "execution_count": 80,
   "metadata": {},
   "outputs": [],
   "source": [
    "X_test_comb = pd.concat([X_test_comb.drop(\"application_type\", axis=1), ohe_application_type_test], axis=1)"
   ]
  },
  {
   "cell_type": "code",
   "execution_count": 81,
   "metadata": {},
   "outputs": [],
   "source": [
    "X_test_comb = pd.concat([X_test_comb.drop(\"sub_grade\", axis=1), ohe_sub_grade_test], axis=1)"
   ]
  },
  {
   "cell_type": "code",
   "execution_count": 82,
   "metadata": {},
   "outputs": [],
   "source": [
    "X_test_comb = pd.concat([X_test_comb.drop(\"emp_title_2\", axis=1), ohe_emp_title_2_test], axis=1)"
   ]
  },
  {
   "cell_type": "code",
   "execution_count": 88,
   "metadata": {},
   "outputs": [
    {
     "data": {
      "text/plain": [
       "Series([], dtype: float64)"
      ]
     },
     "execution_count": 88,
     "metadata": {},
     "output_type": "execute_result"
    }
   ],
   "source": [
    "null_columns=X_test_comb.columns[X_test_comb.isnull().any()]\n",
    "X_test_comb[null_columns].isnull().sum()"
   ]
  },
  {
   "cell_type": "markdown",
   "metadata": {},
   "source": [
    "### Reinstate X_train & X_test"
   ]
  },
  {
   "cell_type": "code",
   "execution_count": 83,
   "metadata": {},
   "outputs": [],
   "source": [
    "X_test = X_test_comb"
   ]
  },
  {
   "cell_type": "code",
   "execution_count": 84,
   "metadata": {},
   "outputs": [],
   "source": [
    "X_train = X_train_comb"
   ]
  },
  {
   "cell_type": "markdown",
   "metadata": {},
   "source": [
    "### Save Each Set to a .TSV File"
   ]
  },
  {
   "cell_type": "code",
   "execution_count": null,
   "metadata": {},
   "outputs": [],
   "source": [
    "#X_train.to_csv('X_train.tsv', sep='\\t',chunksize=1000, compression='zip')"
   ]
  },
  {
   "cell_type": "code",
   "execution_count": null,
   "metadata": {},
   "outputs": [],
   "source": [
    "#X_test.to_csv('X_test.tsv', sep='\\t',chunksize=1000, compression='zip')"
   ]
  },
  {
   "cell_type": "code",
   "execution_count": null,
   "metadata": {},
   "outputs": [],
   "source": [
    "#y_train.to_csv('y_train.tsv', sep='\\t',chunksize=1000, compression='zip')"
   ]
  },
  {
   "cell_type": "code",
   "execution_count": null,
   "metadata": {},
   "outputs": [],
   "source": [
    "#y_test.to_csv('y_test.tsv', sep='\\t',chunksize=1000, compression='zip')"
   ]
  },
  {
   "cell_type": "markdown",
   "metadata": {},
   "source": [
    "### Save Each Dataframe to a .PKL file"
   ]
  },
  {
   "cell_type": "code",
   "execution_count": 93,
   "metadata": {},
   "outputs": [],
   "source": [
    "X_train.to_pickle('X_train.pkl')"
   ]
  },
  {
   "cell_type": "code",
   "execution_count": 94,
   "metadata": {},
   "outputs": [],
   "source": [
    "X_test.to_pickle('X_test.pkl')"
   ]
  },
  {
   "cell_type": "code",
   "execution_count": 95,
   "metadata": {},
   "outputs": [],
   "source": [
    "y_train.to_pickle('y_train.pkl')"
   ]
  },
  {
   "cell_type": "code",
   "execution_count": 96,
   "metadata": {},
   "outputs": [],
   "source": [
    "y_test.to_pickle('y_test.pkl')"
   ]
  },
  {
   "cell_type": "code",
   "execution_count": 89,
   "metadata": {},
   "outputs": [
    {
     "data": {
      "text/plain": [
       "(880950, 1132)"
      ]
     },
     "execution_count": 89,
     "metadata": {},
     "output_type": "execute_result"
    }
   ],
   "source": [
    "X_train.shape"
   ]
  },
  {
   "cell_type": "code",
   "execution_count": 90,
   "metadata": {},
   "outputs": [
    {
     "data": {
      "text/plain": [
       "(377551, 1132)"
      ]
     },
     "execution_count": 90,
     "metadata": {},
     "output_type": "execute_result"
    }
   ],
   "source": [
    "X_test.shape"
   ]
  },
  {
   "cell_type": "code",
   "execution_count": 91,
   "metadata": {},
   "outputs": [
    {
     "data": {
      "text/plain": [
       "(880950, 1)"
      ]
     },
     "execution_count": 91,
     "metadata": {},
     "output_type": "execute_result"
    }
   ],
   "source": [
    "y_train.shape"
   ]
  },
  {
   "cell_type": "code",
   "execution_count": 92,
   "metadata": {},
   "outputs": [
    {
     "data": {
      "text/plain": [
       "(377551, 1)"
      ]
     },
     "execution_count": 92,
     "metadata": {},
     "output_type": "execute_result"
    }
   ],
   "source": [
    "y_test.shape"
   ]
  },
  {
   "cell_type": "code",
   "execution_count": null,
   "metadata": {},
   "outputs": [],
   "source": []
  }
 ],
 "metadata": {
  "kernelspec": {
   "display_name": "Python 3",
   "language": "python",
   "name": "python3"
  },
  "language_info": {
   "codemirror_mode": {
    "name": "ipython",
    "version": 3
   },
   "file_extension": ".py",
   "mimetype": "text/x-python",
   "name": "python",
   "nbconvert_exporter": "python",
   "pygments_lexer": "ipython3",
   "version": "3.5.3"
  }
 },
 "nbformat": 4,
 "nbformat_minor": 2
}
