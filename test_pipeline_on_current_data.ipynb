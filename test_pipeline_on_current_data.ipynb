{
 "cells": [
  {
   "cell_type": "markdown",
   "metadata": {},
   "source": [
    "# Using Current Data To Make Recommendations\n",
    "### Model #1: (Classification - Fully Paid vs. Default) \n",
    "### Model #2: ( Regression - Annualized Return %)"
   ]
  },
  {
   "cell_type": "code",
   "execution_count": 1,
   "metadata": {},
   "outputs": [],
   "source": [
    "import pandas as pd\n",
    "import numpy as np\n",
    "from math import sqrt\n",
    "import matplotlib.pyplot as plt\n",
    "from functions_and_objects import (impute_means_zeros_maxs_X,parse_percentage,\n",
    "                                   clean_new_LC_data_classification_current,preprocessing_current, \n",
    "                                   columns_list, nan_max_cols, nan_mean_cols, nan_zero_cols, dtype,\n",
    "                                   one_hot_encode_current, concat_X_and_6ohe_dfs,\n",
    "                                   prep_all_df_for_classification)\n",
    "from functions_and_objects import (prep_df_for_regression_current,\n",
    "                                   calc_annu_return,impute_annu_return_to_y,\n",
    "                                   scale_current)\n",
    "\n",
    "import joblib\n",
    "from sklearn.metrics import (accuracy_score, precision_score, recall_score, #classification\n",
    "                             f1_score, roc_auc_score, roc_curve,precision_recall_fscore_support, #classification\n",
    "                             r2_score,mean_squared_error) #regression\n",
    "\n",
    "%load_ext autoreload\n",
    "%autoreload 2"
   ]
  },
  {
   "cell_type": "markdown",
   "metadata": {},
   "source": [
    "### Import New Data from 2018-2019"
   ]
  },
  {
   "cell_type": "markdown",
   "metadata": {},
   "source": [
    "- These files contain complete loan data for all loans issued through the time period stated, including the current loan status (Current, Late, Fully Paid, etc.) and latest payment information. The file containing loan data through the \"present\" contains complete loan data for all loans issued through the previous completed calendar quarter."
   ]
  },
  {
   "cell_type": "code",
   "execution_count": 2,
   "metadata": {
    "scrolled": true
   },
   "outputs": [
    {
     "name": "stderr",
     "output_type": "stream",
     "text": [
      "/usr/local/lib/python3.5/dist-packages/IPython/core/interactiveshell.py:3049: DtypeWarning: Columns (0,144,145,146) have mixed types. Specify dtype option on import or set low_memory=False.\n",
      "  interactivity=interactivity, compiler=compiler, result=result)\n",
      "/usr/local/lib/python3.5/dist-packages/IPython/core/interactiveshell.py:3049: DtypeWarning: Columns (0,129,130,131,134,135,136,139,144,145,146) have mixed types. Specify dtype option on import or set low_memory=False.\n",
      "  interactivity=interactivity, compiler=compiler, result=result)\n",
      "/usr/local/lib/python3.5/dist-packages/IPython/core/interactiveshell.py:3049: DtypeWarning: Columns (0) have mixed types. Specify dtype option on import or set low_memory=False.\n",
      "  interactivity=interactivity, compiler=compiler, result=result)\n"
     ]
    }
   ],
   "source": [
    "raw_q12019 = pd.read_csv('~/peervest/lc_data/LoanStats_securev1_2019Q1.csv',header=1)\n",
    "raw_q42018 = pd.read_csv('~/peervest/lc_data/LoanStats_securev1_2018Q4.csv',header=1)\n",
    "raw_q32018 = pd.read_csv('~/peervest/lc_data/LoanStats_securev1_2018Q3.csv',header=1)\n",
    "raw_q22018 = pd.read_csv('~/peervest/lc_data/LoanStats_securev1_2018Q2.csv',header=1)\n",
    "raw_q12018 = pd.read_csv('~/peervest/lc_data/LoanStats_securev1_2018Q1.csv',header=1)\n",
    "dfs_list = [raw_q42018,\n",
    "            raw_q32018,\n",
    "            raw_q22018,\n",
    "            raw_q12018]"
   ]
  },
  {
   "cell_type": "markdown",
   "metadata": {},
   "source": [
    "### Clean Data"
   ]
  },
  {
   "cell_type": "code",
   "execution_count": 3,
   "metadata": {},
   "outputs": [
    {
     "name": "stderr",
     "output_type": "stream",
     "text": [
      "/home/jupyter/peervest/functions_and_objects.py:217: FutureWarning: Passing datetime64-dtype data to TimedeltaIndex is deprecated, will raise a TypeError in a future version\n",
      "  raw_lc_df['earliest_cr_line'] = pd.to_timedelta(pd.to_datetime(raw_lc_df['earliest_cr_line'])).dt.days\n"
     ]
    }
   ],
   "source": [
    "#use cleaning function \"current\" because \n",
    "#we're making predictions on current loans\n",
    "#rather than using labelled/completed data\n",
    "\n",
    "clean_lc_df_current = clean_new_LC_data_classification_current(dfs_list) #takes in dfs_list, outputs clean_lc_df"
   ]
  },
  {
   "cell_type": "markdown",
   "metadata": {},
   "source": [
    "### Preprocess, no train-test-split: entire dataset is our test data"
   ]
  },
  {
   "cell_type": "code",
   "execution_count": 4,
   "metadata": {},
   "outputs": [],
   "source": [
    "# takes in clean_lc_df_current, outputs X_current, y_current\n",
    "X_current, y_current = preprocessing_current(clean_lc_df_current)"
   ]
  },
  {
   "cell_type": "code",
   "execution_count": 5,
   "metadata": {},
   "outputs": [
    {
     "name": "stdout",
     "output_type": "stream",
     "text": [
      "(361423, 101)\n",
      "(361423, 1)\n"
     ]
    }
   ],
   "source": [
    "print(X_current.shape)\n",
    "print(y_current.shape)"
   ]
  },
  {
   "cell_type": "markdown",
   "metadata": {},
   "source": [
    "### One Hot Encode for both Models"
   ]
  },
  {
   "cell_type": "code",
   "execution_count": 6,
   "metadata": {},
   "outputs": [],
   "source": [
    "(ohe_home_ownership, ohe_purpose, ohe_zip_code, \n",
    " ohe_application_type, ohe_sub_grade, ohe_emp_title_2) = one_hot_encode_current(X_current)"
   ]
  },
  {
   "cell_type": "code",
   "execution_count": 7,
   "metadata": {},
   "outputs": [],
   "source": [
    "X_current_classif = concat_X_and_6ohe_dfs(X_current, ohe_home_ownership, ohe_purpose, ohe_zip_code,\n",
    "                                          ohe_application_type, ohe_sub_grade, ohe_emp_title_2)\n",
    "X_current_regr = concat_X_and_6ohe_dfs(X_current, ohe_home_ownership, ohe_purpose, ohe_zip_code, \n",
    "                                       ohe_application_type, ohe_sub_grade, ohe_emp_title_2)"
   ]
  },
  {
   "cell_type": "code",
   "execution_count": 8,
   "metadata": {},
   "outputs": [
    {
     "name": "stdout",
     "output_type": "stream",
     "text": [
      "(361423, 1133)\n",
      "(361423, 1133)\n"
     ]
    }
   ],
   "source": [
    "print(X_current_classif.shape)\n",
    "print(X_current_regr.shape)"
   ]
  },
  {
   "cell_type": "markdown",
   "metadata": {},
   "source": [
    "### Prep X_current for Classification"
   ]
  },
  {
   "cell_type": "markdown",
   "metadata": {},
   "source": [
    "- reset index"
   ]
  },
  {
   "cell_type": "code",
   "execution_count": 9,
   "metadata": {},
   "outputs": [],
   "source": [
    "X_current_classif.set_index('index',inplace=True)"
   ]
  },
  {
   "cell_type": "markdown",
   "metadata": {},
   "source": [
    "- drop non-numeric & OHE source columns"
   ]
  },
  {
   "cell_type": "code",
   "execution_count": 10,
   "metadata": {},
   "outputs": [],
   "source": [
    "prep_all_df_for_classification(X_current_classif) #drops columns inplace"
   ]
  },
  {
   "cell_type": "code",
   "execution_count": 11,
   "metadata": {},
   "outputs": [
    {
     "data": {
      "text/plain": [
       "(361423, 1124)"
      ]
     },
     "execution_count": 11,
     "metadata": {},
     "output_type": "execute_result"
    }
   ],
   "source": [
    "X_current_classif.shape"
   ]
  },
  {
   "cell_type": "markdown",
   "metadata": {},
   "source": [
    "### X_current is ready to input into Classification Model"
   ]
  },
  {
   "cell_type": "code",
   "execution_count": 22,
   "metadata": {},
   "outputs": [
    {
     "name": "stdout",
     "output_type": "stream",
     "text": [
      "(361423, 1)\n"
     ]
    },
    {
     "data": {
      "text/html": [
       "<div>\n",
       "<style scoped>\n",
       "    .dataframe tbody tr th:only-of-type {\n",
       "        vertical-align: middle;\n",
       "    }\n",
       "\n",
       "    .dataframe tbody tr th {\n",
       "        vertical-align: top;\n",
       "    }\n",
       "\n",
       "    .dataframe thead th {\n",
       "        text-align: right;\n",
       "    }\n",
       "</style>\n",
       "<table border=\"1\" class=\"dataframe\">\n",
       "  <thead>\n",
       "    <tr style=\"text-align: right;\">\n",
       "      <th></th>\n",
       "      <th>class_pred</th>\n",
       "    </tr>\n",
       "  </thead>\n",
       "  <tbody>\n",
       "    <tr>\n",
       "      <th>0</th>\n",
       "      <td>NaN</td>\n",
       "    </tr>\n",
       "    <tr>\n",
       "      <th>1</th>\n",
       "      <td>NaN</td>\n",
       "    </tr>\n",
       "    <tr>\n",
       "      <th>2</th>\n",
       "      <td>NaN</td>\n",
       "    </tr>\n",
       "    <tr>\n",
       "      <th>3</th>\n",
       "      <td>NaN</td>\n",
       "    </tr>\n",
       "    <tr>\n",
       "      <th>4</th>\n",
       "      <td>NaN</td>\n",
       "    </tr>\n",
       "  </tbody>\n",
       "</table>\n",
       "</div>"
      ],
      "text/plain": [
       "   class_pred\n",
       "0         NaN\n",
       "1         NaN\n",
       "2         NaN\n",
       "3         NaN\n",
       "4         NaN"
      ]
     },
     "execution_count": 22,
     "metadata": {},
     "output_type": "execute_result"
    }
   ],
   "source": [
    "print(y_current.shape)\n",
    "y_current.head()"
   ]
  },
  {
   "cell_type": "markdown",
   "metadata": {},
   "source": [
    "###### Load Model JobLib"
   ]
  },
  {
   "cell_type": "code",
   "execution_count": 15,
   "metadata": {},
   "outputs": [],
   "source": [
    "loaded_log_reg_v1 = joblib.load('log_reg_v1.joblib')"
   ]
  },
  {
   "cell_type": "code",
   "execution_count": 17,
   "metadata": {},
   "outputs": [],
   "source": [
    "current_class_preds = loaded_log_reg_v1.predict(X_current_classif)\n",
    "current_class_preds_proba = loaded_log_reg_v1.predict_proba(X_current_classif)"
   ]
  },
  {
   "cell_type": "code",
   "execution_count": 18,
   "metadata": {},
   "outputs": [
    {
     "data": {
      "text/plain": [
       "361423"
      ]
     },
     "execution_count": 18,
     "metadata": {},
     "output_type": "execute_result"
    }
   ],
   "source": [
    "len(current_class_preds_proba)"
   ]
  },
  {
   "cell_type": "code",
   "execution_count": 28,
   "metadata": {},
   "outputs": [
    {
     "data": {
      "text/plain": [
       "array([0, 1])"
      ]
     },
     "execution_count": 28,
     "metadata": {},
     "output_type": "execute_result"
    }
   ],
   "source": [
    "loaded_log_reg_v1.classes_"
   ]
  },
  {
   "cell_type": "code",
   "execution_count": 50,
   "metadata": {},
   "outputs": [
    {
     "data": {
      "text/plain": [
       "array([1., 1., 1., ..., 1., 1., 1.])"
      ]
     },
     "execution_count": 50,
     "metadata": {},
     "output_type": "execute_result"
    }
   ],
   "source": [
    "current_class_preds_proba[:,0]"
   ]
  },
  {
   "cell_type": "code",
   "execution_count": 57,
   "metadata": {},
   "outputs": [],
   "source": [
    "y_current['prob_default'] = current_class_preds_proba[:,0]"
   ]
  },
  {
   "cell_type": "markdown",
   "metadata": {},
   "source": [
    "### Prep X_current for Regression"
   ]
  },
  {
   "cell_type": "markdown",
   "metadata": {},
   "source": [
    "- reset index"
   ]
  },
  {
   "cell_type": "code",
   "execution_count": 52,
   "metadata": {},
   "outputs": [],
   "source": [
    "X_current_regr.set_index('index',inplace=True)"
   ]
  },
  {
   "cell_type": "markdown",
   "metadata": {},
   "source": [
    "- calculate annual return & create new target dataframe"
   ]
  },
  {
   "cell_type": "code",
   "execution_count": 53,
   "metadata": {},
   "outputs": [],
   "source": [
    "# returns the annualized return column as a DF (y_future_regr) & both target columns as a dataframe (y_future)\n",
    "y_current_regr, y_current = impute_annu_return_to_y(X_current_regr,y_current)"
   ]
  },
  {
   "cell_type": "markdown",
   "metadata": {},
   "source": [
    "- drop non-numeric & OHE source columns"
   ]
  },
  {
   "cell_type": "code",
   "execution_count": 54,
   "metadata": {},
   "outputs": [],
   "source": [
    "prep_df_for_regression_current(X_current_regr)"
   ]
  },
  {
   "cell_type": "code",
   "execution_count": 55,
   "metadata": {},
   "outputs": [],
   "source": [
    "X_current_regr_scaled = scale_current(X_current_regr)"
   ]
  },
  {
   "cell_type": "code",
   "execution_count": 68,
   "metadata": {},
   "outputs": [
    {
     "data": {
      "text/plain": [
       "(361423, 1124)"
      ]
     },
     "execution_count": 68,
     "metadata": {},
     "output_type": "execute_result"
    }
   ],
   "source": [
    "X_current_regr_scaled.shape"
   ]
  },
  {
   "cell_type": "markdown",
   "metadata": {},
   "source": [
    "###### Load Ridge Regression Model JobLib"
   ]
  },
  {
   "cell_type": "code",
   "execution_count": 65,
   "metadata": {},
   "outputs": [],
   "source": [
    "loaded_ridge_reg_v1 = joblib.load('ridge_lin_reg_v1.joblib')"
   ]
  },
  {
   "cell_type": "code",
   "execution_count": 66,
   "metadata": {},
   "outputs": [],
   "source": [
    "current_return_preds = loaded_ridge_reg_v1.predict(X_current_regr_scaled)"
   ]
  },
  {
   "cell_type": "markdown",
   "metadata": {},
   "source": [
    "- Positive annu_return values where loan_status==0 likely indicates a successful debt collection process"
   ]
  },
  {
   "cell_type": "code",
   "execution_count": 71,
   "metadata": {},
   "outputs": [
    {
     "data": {
      "text/html": [
       "<div>\n",
       "<style scoped>\n",
       "    .dataframe tbody tr th:only-of-type {\n",
       "        vertical-align: middle;\n",
       "    }\n",
       "\n",
       "    .dataframe tbody tr th {\n",
       "        vertical-align: top;\n",
       "    }\n",
       "\n",
       "    .dataframe thead th {\n",
       "        text-align: right;\n",
       "    }\n",
       "</style>\n",
       "<table border=\"1\" class=\"dataframe\">\n",
       "  <thead>\n",
       "    <tr style=\"text-align: right;\">\n",
       "      <th></th>\n",
       "      <th>annu_return</th>\n",
       "      <th>prob_default</th>\n",
       "    </tr>\n",
       "  </thead>\n",
       "  <tbody>\n",
       "    <tr>\n",
       "      <th>0</th>\n",
       "      <td>-0.963885</td>\n",
       "      <td>1.000000</td>\n",
       "    </tr>\n",
       "    <tr>\n",
       "      <th>1</th>\n",
       "      <td>-0.972364</td>\n",
       "      <td>1.000000</td>\n",
       "    </tr>\n",
       "    <tr>\n",
       "      <th>2</th>\n",
       "      <td>-0.859431</td>\n",
       "      <td>1.000000</td>\n",
       "    </tr>\n",
       "    <tr>\n",
       "      <th>3</th>\n",
       "      <td>-0.980185</td>\n",
       "      <td>1.000000</td>\n",
       "    </tr>\n",
       "    <tr>\n",
       "      <th>4</th>\n",
       "      <td>-0.982816</td>\n",
       "      <td>1.000000</td>\n",
       "    </tr>\n",
       "    <tr>\n",
       "      <th>5</th>\n",
       "      <td>-0.963888</td>\n",
       "      <td>1.000000</td>\n",
       "    </tr>\n",
       "    <tr>\n",
       "      <th>6</th>\n",
       "      <td>-0.988391</td>\n",
       "      <td>1.000000</td>\n",
       "    </tr>\n",
       "    <tr>\n",
       "      <th>7</th>\n",
       "      <td>-0.983512</td>\n",
       "      <td>1.000000</td>\n",
       "    </tr>\n",
       "    <tr>\n",
       "      <th>8</th>\n",
       "      <td>-0.984809</td>\n",
       "      <td>1.000000</td>\n",
       "    </tr>\n",
       "    <tr>\n",
       "      <th>9</th>\n",
       "      <td>-0.978654</td>\n",
       "      <td>1.000000</td>\n",
       "    </tr>\n",
       "    <tr>\n",
       "      <th>10</th>\n",
       "      <td>-0.963887</td>\n",
       "      <td>1.000000</td>\n",
       "    </tr>\n",
       "    <tr>\n",
       "      <th>11</th>\n",
       "      <td>-0.963888</td>\n",
       "      <td>1.000000</td>\n",
       "    </tr>\n",
       "    <tr>\n",
       "      <th>12</th>\n",
       "      <td>-0.966224</td>\n",
       "      <td>1.000000</td>\n",
       "    </tr>\n",
       "    <tr>\n",
       "      <th>13</th>\n",
       "      <td>-0.991567</td>\n",
       "      <td>1.000000</td>\n",
       "    </tr>\n",
       "    <tr>\n",
       "      <th>14</th>\n",
       "      <td>-0.986618</td>\n",
       "      <td>1.000000</td>\n",
       "    </tr>\n",
       "    <tr>\n",
       "      <th>15</th>\n",
       "      <td>-0.971224</td>\n",
       "      <td>1.000000</td>\n",
       "    </tr>\n",
       "    <tr>\n",
       "      <th>16</th>\n",
       "      <td>-0.971660</td>\n",
       "      <td>1.000000</td>\n",
       "    </tr>\n",
       "    <tr>\n",
       "      <th>17</th>\n",
       "      <td>-0.977839</td>\n",
       "      <td>1.000000</td>\n",
       "    </tr>\n",
       "    <tr>\n",
       "      <th>18</th>\n",
       "      <td>-0.983509</td>\n",
       "      <td>1.000000</td>\n",
       "    </tr>\n",
       "    <tr>\n",
       "      <th>19</th>\n",
       "      <td>-0.974773</td>\n",
       "      <td>1.000000</td>\n",
       "    </tr>\n",
       "    <tr>\n",
       "      <th>20</th>\n",
       "      <td>-0.992524</td>\n",
       "      <td>1.000000</td>\n",
       "    </tr>\n",
       "    <tr>\n",
       "      <th>21</th>\n",
       "      <td>-0.996513</td>\n",
       "      <td>1.000000</td>\n",
       "    </tr>\n",
       "    <tr>\n",
       "      <th>22</th>\n",
       "      <td>-0.963886</td>\n",
       "      <td>1.000000</td>\n",
       "    </tr>\n",
       "    <tr>\n",
       "      <th>23</th>\n",
       "      <td>-0.972814</td>\n",
       "      <td>1.000000</td>\n",
       "    </tr>\n",
       "    <tr>\n",
       "      <th>24</th>\n",
       "      <td>-0.357041</td>\n",
       "      <td>1.000000</td>\n",
       "    </tr>\n",
       "    <tr>\n",
       "      <th>25</th>\n",
       "      <td>-0.973700</td>\n",
       "      <td>1.000000</td>\n",
       "    </tr>\n",
       "    <tr>\n",
       "      <th>26</th>\n",
       "      <td>-0.986935</td>\n",
       "      <td>1.000000</td>\n",
       "    </tr>\n",
       "    <tr>\n",
       "      <th>27</th>\n",
       "      <td>-0.974490</td>\n",
       "      <td>1.000000</td>\n",
       "    </tr>\n",
       "    <tr>\n",
       "      <th>28</th>\n",
       "      <td>-0.982836</td>\n",
       "      <td>1.000000</td>\n",
       "    </tr>\n",
       "    <tr>\n",
       "      <th>29</th>\n",
       "      <td>-0.983513</td>\n",
       "      <td>1.000000</td>\n",
       "    </tr>\n",
       "    <tr>\n",
       "      <th>...</th>\n",
       "      <td>...</td>\n",
       "      <td>...</td>\n",
       "    </tr>\n",
       "    <tr>\n",
       "      <th>361393</th>\n",
       "      <td>-0.290279</td>\n",
       "      <td>1.000000</td>\n",
       "    </tr>\n",
       "    <tr>\n",
       "      <th>361394</th>\n",
       "      <td>-0.387514</td>\n",
       "      <td>1.000000</td>\n",
       "    </tr>\n",
       "    <tr>\n",
       "      <th>361395</th>\n",
       "      <td>-0.322001</td>\n",
       "      <td>1.000000</td>\n",
       "    </tr>\n",
       "    <tr>\n",
       "      <th>361396</th>\n",
       "      <td>-0.341844</td>\n",
       "      <td>1.000000</td>\n",
       "    </tr>\n",
       "    <tr>\n",
       "      <th>361397</th>\n",
       "      <td>-0.322004</td>\n",
       "      <td>1.000000</td>\n",
       "    </tr>\n",
       "    <tr>\n",
       "      <th>361398</th>\n",
       "      <td>-0.391450</td>\n",
       "      <td>1.000000</td>\n",
       "    </tr>\n",
       "    <tr>\n",
       "      <th>361399</th>\n",
       "      <td>-0.357682</td>\n",
       "      <td>1.000000</td>\n",
       "    </tr>\n",
       "    <tr>\n",
       "      <th>361400</th>\n",
       "      <td>-0.385425</td>\n",
       "      <td>1.000000</td>\n",
       "    </tr>\n",
       "    <tr>\n",
       "      <th>361401</th>\n",
       "      <td>-0.334359</td>\n",
       "      <td>1.000000</td>\n",
       "    </tr>\n",
       "    <tr>\n",
       "      <th>361402</th>\n",
       "      <td>-0.351381</td>\n",
       "      <td>1.000000</td>\n",
       "    </tr>\n",
       "    <tr>\n",
       "      <th>361403</th>\n",
       "      <td>-0.299381</td>\n",
       "      <td>1.000000</td>\n",
       "    </tr>\n",
       "    <tr>\n",
       "      <th>361404</th>\n",
       "      <td>-0.341844</td>\n",
       "      <td>1.000000</td>\n",
       "    </tr>\n",
       "    <tr>\n",
       "      <th>361405</th>\n",
       "      <td>-0.391450</td>\n",
       "      <td>1.000000</td>\n",
       "    </tr>\n",
       "    <tr>\n",
       "      <th>361406</th>\n",
       "      <td>-0.397403</td>\n",
       "      <td>1.000000</td>\n",
       "    </tr>\n",
       "    <tr>\n",
       "      <th>361407</th>\n",
       "      <td>-0.535590</td>\n",
       "      <td>1.000000</td>\n",
       "    </tr>\n",
       "    <tr>\n",
       "      <th>361408</th>\n",
       "      <td>-0.365895</td>\n",
       "      <td>1.000000</td>\n",
       "    </tr>\n",
       "    <tr>\n",
       "      <th>361409</th>\n",
       "      <td>-0.321949</td>\n",
       "      <td>1.000000</td>\n",
       "    </tr>\n",
       "    <tr>\n",
       "      <th>361410</th>\n",
       "      <td>-0.349179</td>\n",
       "      <td>1.000000</td>\n",
       "    </tr>\n",
       "    <tr>\n",
       "      <th>361411</th>\n",
       "      <td>-0.395750</td>\n",
       "      <td>1.000000</td>\n",
       "    </tr>\n",
       "    <tr>\n",
       "      <th>361412</th>\n",
       "      <td>-0.399467</td>\n",
       "      <td>1.000000</td>\n",
       "    </tr>\n",
       "    <tr>\n",
       "      <th>361413</th>\n",
       "      <td>-0.368675</td>\n",
       "      <td>1.000000</td>\n",
       "    </tr>\n",
       "    <tr>\n",
       "      <th>361414</th>\n",
       "      <td>-0.395422</td>\n",
       "      <td>0.999999</td>\n",
       "    </tr>\n",
       "    <tr>\n",
       "      <th>361415</th>\n",
       "      <td>-0.361756</td>\n",
       "      <td>1.000000</td>\n",
       "    </tr>\n",
       "    <tr>\n",
       "      <th>361416</th>\n",
       "      <td>-0.502557</td>\n",
       "      <td>1.000000</td>\n",
       "    </tr>\n",
       "    <tr>\n",
       "      <th>361417</th>\n",
       "      <td>-0.290563</td>\n",
       "      <td>1.000000</td>\n",
       "    </tr>\n",
       "    <tr>\n",
       "      <th>361418</th>\n",
       "      <td>-0.465482</td>\n",
       "      <td>1.000000</td>\n",
       "    </tr>\n",
       "    <tr>\n",
       "      <th>361419</th>\n",
       "      <td>-0.357674</td>\n",
       "      <td>1.000000</td>\n",
       "    </tr>\n",
       "    <tr>\n",
       "      <th>361420</th>\n",
       "      <td>-0.348179</td>\n",
       "      <td>1.000000</td>\n",
       "    </tr>\n",
       "    <tr>\n",
       "      <th>361421</th>\n",
       "      <td>-0.368722</td>\n",
       "      <td>1.000000</td>\n",
       "    </tr>\n",
       "    <tr>\n",
       "      <th>361422</th>\n",
       "      <td>-0.360001</td>\n",
       "      <td>1.000000</td>\n",
       "    </tr>\n",
       "  </tbody>\n",
       "</table>\n",
       "<p>361423 rows × 2 columns</p>\n",
       "</div>"
      ],
      "text/plain": [
       "        annu_return  prob_default\n",
       "0         -0.963885      1.000000\n",
       "1         -0.972364      1.000000\n",
       "2         -0.859431      1.000000\n",
       "3         -0.980185      1.000000\n",
       "4         -0.982816      1.000000\n",
       "5         -0.963888      1.000000\n",
       "6         -0.988391      1.000000\n",
       "7         -0.983512      1.000000\n",
       "8         -0.984809      1.000000\n",
       "9         -0.978654      1.000000\n",
       "10        -0.963887      1.000000\n",
       "11        -0.963888      1.000000\n",
       "12        -0.966224      1.000000\n",
       "13        -0.991567      1.000000\n",
       "14        -0.986618      1.000000\n",
       "15        -0.971224      1.000000\n",
       "16        -0.971660      1.000000\n",
       "17        -0.977839      1.000000\n",
       "18        -0.983509      1.000000\n",
       "19        -0.974773      1.000000\n",
       "20        -0.992524      1.000000\n",
       "21        -0.996513      1.000000\n",
       "22        -0.963886      1.000000\n",
       "23        -0.972814      1.000000\n",
       "24        -0.357041      1.000000\n",
       "25        -0.973700      1.000000\n",
       "26        -0.986935      1.000000\n",
       "27        -0.974490      1.000000\n",
       "28        -0.982836      1.000000\n",
       "29        -0.983513      1.000000\n",
       "...             ...           ...\n",
       "361393    -0.290279      1.000000\n",
       "361394    -0.387514      1.000000\n",
       "361395    -0.322001      1.000000\n",
       "361396    -0.341844      1.000000\n",
       "361397    -0.322004      1.000000\n",
       "361398    -0.391450      1.000000\n",
       "361399    -0.357682      1.000000\n",
       "361400    -0.385425      1.000000\n",
       "361401    -0.334359      1.000000\n",
       "361402    -0.351381      1.000000\n",
       "361403    -0.299381      1.000000\n",
       "361404    -0.341844      1.000000\n",
       "361405    -0.391450      1.000000\n",
       "361406    -0.397403      1.000000\n",
       "361407    -0.535590      1.000000\n",
       "361408    -0.365895      1.000000\n",
       "361409    -0.321949      1.000000\n",
       "361410    -0.349179      1.000000\n",
       "361411    -0.395750      1.000000\n",
       "361412    -0.399467      1.000000\n",
       "361413    -0.368675      1.000000\n",
       "361414    -0.395422      0.999999\n",
       "361415    -0.361756      1.000000\n",
       "361416    -0.502557      1.000000\n",
       "361417    -0.290563      1.000000\n",
       "361418    -0.465482      1.000000\n",
       "361419    -0.357674      1.000000\n",
       "361420    -0.348179      1.000000\n",
       "361421    -0.368722      1.000000\n",
       "361422    -0.360001      1.000000\n",
       "\n",
       "[361423 rows x 2 columns]"
      ]
     },
     "execution_count": 71,
     "metadata": {},
     "output_type": "execute_result"
    }
   ],
   "source": [
    "y_current"
   ]
  },
  {
   "cell_type": "code",
   "execution_count": 72,
   "metadata": {},
   "outputs": [
    {
     "data": {
      "text/plain": [
       "array([[ 0.01616499],\n",
       "       [-0.02710525],\n",
       "       [ 0.25884256],\n",
       "       ...,\n",
       "       [ 0.09232062],\n",
       "       [ 0.2400825 ],\n",
       "       [ 0.29361946]])"
      ]
     },
     "execution_count": 72,
     "metadata": {},
     "output_type": "execute_result"
    }
   ],
   "source": [
    "current_return_preds"
   ]
  },
  {
   "cell_type": "code",
   "execution_count": 73,
   "metadata": {},
   "outputs": [],
   "source": [
    "y_predictions = y_current\n",
    "y_predictions['return_preds'] = current_return_preds"
   ]
  },
  {
   "cell_type": "code",
   "execution_count": 74,
   "metadata": {},
   "outputs": [
    {
     "data": {
      "text/html": [
       "<div>\n",
       "<style scoped>\n",
       "    .dataframe tbody tr th:only-of-type {\n",
       "        vertical-align: middle;\n",
       "    }\n",
       "\n",
       "    .dataframe tbody tr th {\n",
       "        vertical-align: top;\n",
       "    }\n",
       "\n",
       "    .dataframe thead th {\n",
       "        text-align: right;\n",
       "    }\n",
       "</style>\n",
       "<table border=\"1\" class=\"dataframe\">\n",
       "  <thead>\n",
       "    <tr style=\"text-align: right;\">\n",
       "      <th></th>\n",
       "      <th>annu_return</th>\n",
       "      <th>prob_default</th>\n",
       "      <th>return_preds</th>\n",
       "    </tr>\n",
       "  </thead>\n",
       "  <tbody>\n",
       "    <tr>\n",
       "      <th>0</th>\n",
       "      <td>-0.963885</td>\n",
       "      <td>1.000000</td>\n",
       "      <td>0.016165</td>\n",
       "    </tr>\n",
       "    <tr>\n",
       "      <th>1</th>\n",
       "      <td>-0.972364</td>\n",
       "      <td>1.000000</td>\n",
       "      <td>-0.027105</td>\n",
       "    </tr>\n",
       "    <tr>\n",
       "      <th>2</th>\n",
       "      <td>-0.859431</td>\n",
       "      <td>1.000000</td>\n",
       "      <td>0.258843</td>\n",
       "    </tr>\n",
       "    <tr>\n",
       "      <th>3</th>\n",
       "      <td>-0.980185</td>\n",
       "      <td>1.000000</td>\n",
       "      <td>-0.094744</td>\n",
       "    </tr>\n",
       "    <tr>\n",
       "      <th>4</th>\n",
       "      <td>-0.982816</td>\n",
       "      <td>1.000000</td>\n",
       "      <td>-0.454300</td>\n",
       "    </tr>\n",
       "    <tr>\n",
       "      <th>5</th>\n",
       "      <td>-0.963888</td>\n",
       "      <td>1.000000</td>\n",
       "      <td>-0.054143</td>\n",
       "    </tr>\n",
       "    <tr>\n",
       "      <th>6</th>\n",
       "      <td>-0.988391</td>\n",
       "      <td>1.000000</td>\n",
       "      <td>-0.583992</td>\n",
       "    </tr>\n",
       "    <tr>\n",
       "      <th>7</th>\n",
       "      <td>-0.983512</td>\n",
       "      <td>1.000000</td>\n",
       "      <td>-0.130022</td>\n",
       "    </tr>\n",
       "    <tr>\n",
       "      <th>8</th>\n",
       "      <td>-0.984809</td>\n",
       "      <td>1.000000</td>\n",
       "      <td>-0.273052</td>\n",
       "    </tr>\n",
       "    <tr>\n",
       "      <th>9</th>\n",
       "      <td>-0.978654</td>\n",
       "      <td>1.000000</td>\n",
       "      <td>-0.264439</td>\n",
       "    </tr>\n",
       "    <tr>\n",
       "      <th>10</th>\n",
       "      <td>-0.963887</td>\n",
       "      <td>1.000000</td>\n",
       "      <td>-0.163939</td>\n",
       "    </tr>\n",
       "    <tr>\n",
       "      <th>11</th>\n",
       "      <td>-0.963888</td>\n",
       "      <td>1.000000</td>\n",
       "      <td>-0.084360</td>\n",
       "    </tr>\n",
       "    <tr>\n",
       "      <th>12</th>\n",
       "      <td>-0.966224</td>\n",
       "      <td>1.000000</td>\n",
       "      <td>0.013257</td>\n",
       "    </tr>\n",
       "    <tr>\n",
       "      <th>13</th>\n",
       "      <td>-0.991567</td>\n",
       "      <td>1.000000</td>\n",
       "      <td>-0.221730</td>\n",
       "    </tr>\n",
       "    <tr>\n",
       "      <th>14</th>\n",
       "      <td>-0.986618</td>\n",
       "      <td>1.000000</td>\n",
       "      <td>-0.713796</td>\n",
       "    </tr>\n",
       "    <tr>\n",
       "      <th>15</th>\n",
       "      <td>-0.971224</td>\n",
       "      <td>1.000000</td>\n",
       "      <td>-0.285888</td>\n",
       "    </tr>\n",
       "    <tr>\n",
       "      <th>16</th>\n",
       "      <td>-0.971660</td>\n",
       "      <td>1.000000</td>\n",
       "      <td>-0.215681</td>\n",
       "    </tr>\n",
       "    <tr>\n",
       "      <th>17</th>\n",
       "      <td>-0.977839</td>\n",
       "      <td>1.000000</td>\n",
       "      <td>-0.434286</td>\n",
       "    </tr>\n",
       "    <tr>\n",
       "      <th>18</th>\n",
       "      <td>-0.983509</td>\n",
       "      <td>1.000000</td>\n",
       "      <td>-0.494526</td>\n",
       "    </tr>\n",
       "    <tr>\n",
       "      <th>19</th>\n",
       "      <td>-0.974773</td>\n",
       "      <td>1.000000</td>\n",
       "      <td>-0.077466</td>\n",
       "    </tr>\n",
       "    <tr>\n",
       "      <th>20</th>\n",
       "      <td>-0.992524</td>\n",
       "      <td>1.000000</td>\n",
       "      <td>-0.482456</td>\n",
       "    </tr>\n",
       "    <tr>\n",
       "      <th>21</th>\n",
       "      <td>-0.996513</td>\n",
       "      <td>1.000000</td>\n",
       "      <td>-0.569618</td>\n",
       "    </tr>\n",
       "    <tr>\n",
       "      <th>22</th>\n",
       "      <td>-0.963886</td>\n",
       "      <td>1.000000</td>\n",
       "      <td>0.075864</td>\n",
       "    </tr>\n",
       "    <tr>\n",
       "      <th>23</th>\n",
       "      <td>-0.972814</td>\n",
       "      <td>1.000000</td>\n",
       "      <td>-0.106664</td>\n",
       "    </tr>\n",
       "    <tr>\n",
       "      <th>24</th>\n",
       "      <td>-0.357041</td>\n",
       "      <td>1.000000</td>\n",
       "      <td>0.493500</td>\n",
       "    </tr>\n",
       "    <tr>\n",
       "      <th>25</th>\n",
       "      <td>-0.973700</td>\n",
       "      <td>1.000000</td>\n",
       "      <td>-0.060826</td>\n",
       "    </tr>\n",
       "    <tr>\n",
       "      <th>26</th>\n",
       "      <td>-0.986935</td>\n",
       "      <td>1.000000</td>\n",
       "      <td>-0.255905</td>\n",
       "    </tr>\n",
       "    <tr>\n",
       "      <th>27</th>\n",
       "      <td>-0.974490</td>\n",
       "      <td>1.000000</td>\n",
       "      <td>-0.019344</td>\n",
       "    </tr>\n",
       "    <tr>\n",
       "      <th>28</th>\n",
       "      <td>-0.982836</td>\n",
       "      <td>1.000000</td>\n",
       "      <td>-0.684938</td>\n",
       "    </tr>\n",
       "    <tr>\n",
       "      <th>29</th>\n",
       "      <td>-0.983513</td>\n",
       "      <td>1.000000</td>\n",
       "      <td>-0.736131</td>\n",
       "    </tr>\n",
       "    <tr>\n",
       "      <th>...</th>\n",
       "      <td>...</td>\n",
       "      <td>...</td>\n",
       "      <td>...</td>\n",
       "    </tr>\n",
       "    <tr>\n",
       "      <th>361393</th>\n",
       "      <td>-0.290279</td>\n",
       "      <td>1.000000</td>\n",
       "      <td>0.701194</td>\n",
       "    </tr>\n",
       "    <tr>\n",
       "      <th>361394</th>\n",
       "      <td>-0.387514</td>\n",
       "      <td>1.000000</td>\n",
       "      <td>0.302638</td>\n",
       "    </tr>\n",
       "    <tr>\n",
       "      <th>361395</th>\n",
       "      <td>-0.322001</td>\n",
       "      <td>1.000000</td>\n",
       "      <td>0.468283</td>\n",
       "    </tr>\n",
       "    <tr>\n",
       "      <th>361396</th>\n",
       "      <td>-0.341844</td>\n",
       "      <td>1.000000</td>\n",
       "      <td>0.306765</td>\n",
       "    </tr>\n",
       "    <tr>\n",
       "      <th>361397</th>\n",
       "      <td>-0.322004</td>\n",
       "      <td>1.000000</td>\n",
       "      <td>0.439941</td>\n",
       "    </tr>\n",
       "    <tr>\n",
       "      <th>361398</th>\n",
       "      <td>-0.391450</td>\n",
       "      <td>1.000000</td>\n",
       "      <td>0.603395</td>\n",
       "    </tr>\n",
       "    <tr>\n",
       "      <th>361399</th>\n",
       "      <td>-0.357682</td>\n",
       "      <td>1.000000</td>\n",
       "      <td>0.620444</td>\n",
       "    </tr>\n",
       "    <tr>\n",
       "      <th>361400</th>\n",
       "      <td>-0.385425</td>\n",
       "      <td>1.000000</td>\n",
       "      <td>0.566018</td>\n",
       "    </tr>\n",
       "    <tr>\n",
       "      <th>361401</th>\n",
       "      <td>-0.334359</td>\n",
       "      <td>1.000000</td>\n",
       "      <td>0.228507</td>\n",
       "    </tr>\n",
       "    <tr>\n",
       "      <th>361402</th>\n",
       "      <td>-0.351381</td>\n",
       "      <td>1.000000</td>\n",
       "      <td>0.773770</td>\n",
       "    </tr>\n",
       "    <tr>\n",
       "      <th>361403</th>\n",
       "      <td>-0.299381</td>\n",
       "      <td>1.000000</td>\n",
       "      <td>0.549686</td>\n",
       "    </tr>\n",
       "    <tr>\n",
       "      <th>361404</th>\n",
       "      <td>-0.341844</td>\n",
       "      <td>1.000000</td>\n",
       "      <td>0.393378</td>\n",
       "    </tr>\n",
       "    <tr>\n",
       "      <th>361405</th>\n",
       "      <td>-0.391450</td>\n",
       "      <td>1.000000</td>\n",
       "      <td>0.545853</td>\n",
       "    </tr>\n",
       "    <tr>\n",
       "      <th>361406</th>\n",
       "      <td>-0.397403</td>\n",
       "      <td>1.000000</td>\n",
       "      <td>0.793181</td>\n",
       "    </tr>\n",
       "    <tr>\n",
       "      <th>361407</th>\n",
       "      <td>-0.535590</td>\n",
       "      <td>1.000000</td>\n",
       "      <td>-0.005009</td>\n",
       "    </tr>\n",
       "    <tr>\n",
       "      <th>361408</th>\n",
       "      <td>-0.365895</td>\n",
       "      <td>1.000000</td>\n",
       "      <td>0.824037</td>\n",
       "    </tr>\n",
       "    <tr>\n",
       "      <th>361409</th>\n",
       "      <td>-0.321949</td>\n",
       "      <td>1.000000</td>\n",
       "      <td>-0.008295</td>\n",
       "    </tr>\n",
       "    <tr>\n",
       "      <th>361410</th>\n",
       "      <td>-0.349179</td>\n",
       "      <td>1.000000</td>\n",
       "      <td>0.763782</td>\n",
       "    </tr>\n",
       "    <tr>\n",
       "      <th>361411</th>\n",
       "      <td>-0.395750</td>\n",
       "      <td>1.000000</td>\n",
       "      <td>0.214599</td>\n",
       "    </tr>\n",
       "    <tr>\n",
       "      <th>361412</th>\n",
       "      <td>-0.399467</td>\n",
       "      <td>1.000000</td>\n",
       "      <td>0.562737</td>\n",
       "    </tr>\n",
       "    <tr>\n",
       "      <th>361413</th>\n",
       "      <td>-0.368675</td>\n",
       "      <td>1.000000</td>\n",
       "      <td>-0.054598</td>\n",
       "    </tr>\n",
       "    <tr>\n",
       "      <th>361414</th>\n",
       "      <td>-0.395422</td>\n",
       "      <td>0.999999</td>\n",
       "      <td>0.122406</td>\n",
       "    </tr>\n",
       "    <tr>\n",
       "      <th>361415</th>\n",
       "      <td>-0.361756</td>\n",
       "      <td>1.000000</td>\n",
       "      <td>0.263315</td>\n",
       "    </tr>\n",
       "    <tr>\n",
       "      <th>361416</th>\n",
       "      <td>-0.502557</td>\n",
       "      <td>1.000000</td>\n",
       "      <td>-0.002814</td>\n",
       "    </tr>\n",
       "    <tr>\n",
       "      <th>361417</th>\n",
       "      <td>-0.290563</td>\n",
       "      <td>1.000000</td>\n",
       "      <td>0.433557</td>\n",
       "    </tr>\n",
       "    <tr>\n",
       "      <th>361418</th>\n",
       "      <td>-0.465482</td>\n",
       "      <td>1.000000</td>\n",
       "      <td>0.020636</td>\n",
       "    </tr>\n",
       "    <tr>\n",
       "      <th>361419</th>\n",
       "      <td>-0.357674</td>\n",
       "      <td>1.000000</td>\n",
       "      <td>0.129858</td>\n",
       "    </tr>\n",
       "    <tr>\n",
       "      <th>361420</th>\n",
       "      <td>-0.348179</td>\n",
       "      <td>1.000000</td>\n",
       "      <td>0.092321</td>\n",
       "    </tr>\n",
       "    <tr>\n",
       "      <th>361421</th>\n",
       "      <td>-0.368722</td>\n",
       "      <td>1.000000</td>\n",
       "      <td>0.240082</td>\n",
       "    </tr>\n",
       "    <tr>\n",
       "      <th>361422</th>\n",
       "      <td>-0.360001</td>\n",
       "      <td>1.000000</td>\n",
       "      <td>0.293619</td>\n",
       "    </tr>\n",
       "  </tbody>\n",
       "</table>\n",
       "<p>361423 rows × 3 columns</p>\n",
       "</div>"
      ],
      "text/plain": [
       "        annu_return  prob_default  return_preds\n",
       "0         -0.963885      1.000000      0.016165\n",
       "1         -0.972364      1.000000     -0.027105\n",
       "2         -0.859431      1.000000      0.258843\n",
       "3         -0.980185      1.000000     -0.094744\n",
       "4         -0.982816      1.000000     -0.454300\n",
       "5         -0.963888      1.000000     -0.054143\n",
       "6         -0.988391      1.000000     -0.583992\n",
       "7         -0.983512      1.000000     -0.130022\n",
       "8         -0.984809      1.000000     -0.273052\n",
       "9         -0.978654      1.000000     -0.264439\n",
       "10        -0.963887      1.000000     -0.163939\n",
       "11        -0.963888      1.000000     -0.084360\n",
       "12        -0.966224      1.000000      0.013257\n",
       "13        -0.991567      1.000000     -0.221730\n",
       "14        -0.986618      1.000000     -0.713796\n",
       "15        -0.971224      1.000000     -0.285888\n",
       "16        -0.971660      1.000000     -0.215681\n",
       "17        -0.977839      1.000000     -0.434286\n",
       "18        -0.983509      1.000000     -0.494526\n",
       "19        -0.974773      1.000000     -0.077466\n",
       "20        -0.992524      1.000000     -0.482456\n",
       "21        -0.996513      1.000000     -0.569618\n",
       "22        -0.963886      1.000000      0.075864\n",
       "23        -0.972814      1.000000     -0.106664\n",
       "24        -0.357041      1.000000      0.493500\n",
       "25        -0.973700      1.000000     -0.060826\n",
       "26        -0.986935      1.000000     -0.255905\n",
       "27        -0.974490      1.000000     -0.019344\n",
       "28        -0.982836      1.000000     -0.684938\n",
       "29        -0.983513      1.000000     -0.736131\n",
       "...             ...           ...           ...\n",
       "361393    -0.290279      1.000000      0.701194\n",
       "361394    -0.387514      1.000000      0.302638\n",
       "361395    -0.322001      1.000000      0.468283\n",
       "361396    -0.341844      1.000000      0.306765\n",
       "361397    -0.322004      1.000000      0.439941\n",
       "361398    -0.391450      1.000000      0.603395\n",
       "361399    -0.357682      1.000000      0.620444\n",
       "361400    -0.385425      1.000000      0.566018\n",
       "361401    -0.334359      1.000000      0.228507\n",
       "361402    -0.351381      1.000000      0.773770\n",
       "361403    -0.299381      1.000000      0.549686\n",
       "361404    -0.341844      1.000000      0.393378\n",
       "361405    -0.391450      1.000000      0.545853\n",
       "361406    -0.397403      1.000000      0.793181\n",
       "361407    -0.535590      1.000000     -0.005009\n",
       "361408    -0.365895      1.000000      0.824037\n",
       "361409    -0.321949      1.000000     -0.008295\n",
       "361410    -0.349179      1.000000      0.763782\n",
       "361411    -0.395750      1.000000      0.214599\n",
       "361412    -0.399467      1.000000      0.562737\n",
       "361413    -0.368675      1.000000     -0.054598\n",
       "361414    -0.395422      0.999999      0.122406\n",
       "361415    -0.361756      1.000000      0.263315\n",
       "361416    -0.502557      1.000000     -0.002814\n",
       "361417    -0.290563      1.000000      0.433557\n",
       "361418    -0.465482      1.000000      0.020636\n",
       "361419    -0.357674      1.000000      0.129858\n",
       "361420    -0.348179      1.000000      0.092321\n",
       "361421    -0.368722      1.000000      0.240082\n",
       "361422    -0.360001      1.000000      0.293619\n",
       "\n",
       "[361423 rows x 3 columns]"
      ]
     },
     "execution_count": 74,
     "metadata": {},
     "output_type": "execute_result"
    }
   ],
   "source": [
    "y_predictions.drop(columns=['annu_return'])"
   ]
  },
  {
   "cell_type": "code",
   "execution_count": null,
   "metadata": {},
   "outputs": [],
   "source": []
  }
 ],
 "metadata": {
  "kernelspec": {
   "display_name": "Python 3",
   "language": "python",
   "name": "python3"
  },
  "language_info": {
   "codemirror_mode": {
    "name": "ipython",
    "version": 3
   },
   "file_extension": ".py",
   "mimetype": "text/x-python",
   "name": "python",
   "nbconvert_exporter": "python",
   "pygments_lexer": "ipython3",
   "version": "3.5.3"
  }
 },
 "nbformat": 4,
 "nbformat_minor": 2
}
