{
 "cells": [
  {
   "cell_type": "markdown",
   "metadata": {},
   "source": [
    "# Using Current Data To Make Recommendations\n",
    "### Model #1: (Classification - Fully Paid vs. Default) \n",
    "### Model #2: ( Regression - Annualized Return %)"
   ]
  },
  {
   "cell_type": "code",
   "execution_count": 1,
   "metadata": {},
   "outputs": [],
   "source": [
    "import pandas as pd\n",
    "import numpy as np\n",
    "from math import sqrt\n",
    "import matplotlib.pyplot as plt\n",
    "from functions_and_objects import (impute_means_zeros_maxs_X,parse_percentage,\n",
    "                                   clean_new_LC_data_classification_current,clean_LC_data_classification_eval,\n",
    "                                   preprocessing_current, preprocessing_future_test, columns_list, \n",
    "                                   nan_max_cols, nan_mean_cols, nan_zero_cols, dtype,\n",
    "                                   one_hot_encode_current, concat_X_and_6ohe_dfs,\n",
    "                                   prep_all_df_for_classification, \n",
    "                                   view_columns_by_number_of_rows_that_have_nan,\n",
    "                                   current_pipeline)\n",
    "from functions_and_objects import (prep_df_for_regression_current,\n",
    "                                   calc_annu_return,impute_annu_return_to_y,\n",
    "                                   scale_current)\n",
    "\n",
    "import joblib\n",
    "from sklearn.metrics import (accuracy_score, precision_score, recall_score, #classification\n",
    "                             f1_score, roc_auc_score, roc_curve,precision_recall_fscore_support, #classification\n",
    "                             r2_score,mean_squared_error) #regression\n",
    "from sklearn.preprocessing import StandardScaler\n",
    "\n",
    "%load_ext autoreload\n",
    "%autoreload 2"
   ]
  },
  {
   "cell_type": "markdown",
   "metadata": {},
   "source": [
    "### Import New Data from 2018-2019"
   ]
  },
  {
   "cell_type": "markdown",
   "metadata": {},
   "source": [
    "- These files contain complete loan data for all loans issued through the time period stated, including the current loan status (Current, Late, Fully Paid, etc.) and latest payment information. The file containing loan data through the \"present\" contains complete loan data for all loans issued through the previous completed calendar quarter."
   ]
  },
  {
   "cell_type": "code",
   "execution_count": 2,
   "metadata": {
    "scrolled": true
   },
   "outputs": [
    {
     "name": "stderr",
     "output_type": "stream",
     "text": [
      "/usr/local/lib/python3.5/dist-packages/IPython/core/interactiveshell.py:3049: DtypeWarning: Columns (0,144,145,146) have mixed types. Specify dtype option on import or set low_memory=False.\n",
      "  interactivity=interactivity, compiler=compiler, result=result)\n",
      "/usr/local/lib/python3.5/dist-packages/IPython/core/interactiveshell.py:3049: DtypeWarning: Columns (0,129,130,131,134,135,136,139,144,145,146) have mixed types. Specify dtype option on import or set low_memory=False.\n",
      "  interactivity=interactivity, compiler=compiler, result=result)\n",
      "/usr/local/lib/python3.5/dist-packages/IPython/core/interactiveshell.py:3049: DtypeWarning: Columns (0) have mixed types. Specify dtype option on import or set low_memory=False.\n",
      "  interactivity=interactivity, compiler=compiler, result=result)\n"
     ]
    }
   ],
   "source": [
    "raw_q12019 = pd.read_csv('~/peervest/lc_data/LoanStats_securev1_2019Q1.csv',header=1)\n",
    "raw_q42018 = pd.read_csv('~/peervest/lc_data/LoanStats_securev1_2018Q4.csv',header=1)\n",
    "raw_q32018 = pd.read_csv('~/peervest/lc_data/LoanStats_securev1_2018Q3.csv',header=1)\n",
    "raw_q22018 = pd.read_csv('~/peervest/lc_data/LoanStats_securev1_2018Q2.csv',header=1)\n",
    "raw_q12018 = pd.read_csv('~/peervest/lc_data/LoanStats_securev1_2018Q1.csv',header=1)\n",
    "dfs_list = [raw_q42018,\n",
    "            raw_q32018,\n",
    "            raw_q22018,\n",
    "            raw_q12018]"
   ]
  },
  {
   "cell_type": "code",
   "execution_count": 3,
   "metadata": {},
   "outputs": [
    {
     "name": "stdout",
     "output_type": "stream",
     "text": [
      "(128414, 150)\n",
      "(128196, 150)\n",
      "(130774, 150)\n",
      "(107866, 150)\n"
     ]
    }
   ],
   "source": [
    "print(raw_q42018.shape)\n",
    "print(raw_q32018.shape)\n",
    "print(raw_q22018.shape)\n",
    "print(raw_q12018.shape)\n"
   ]
  },
  {
   "cell_type": "markdown",
   "metadata": {},
   "source": [
    "### Load DF from Pipeline"
   ]
  },
  {
   "cell_type": "code",
   "execution_count": 4,
   "metadata": {},
   "outputs": [
    {
     "name": "stderr",
     "output_type": "stream",
     "text": [
      "/home/jupyter/peervest/functions_and_objects.py:275: FutureWarning: Passing datetime64-dtype data to TimedeltaIndex is deprecated, will raise a TypeError in a future version\n",
      "  raw_lc_df['earliest_cr_line'] = pd.to_timedelta(pd.to_datetime(raw_lc_df['earliest_cr_line'])).dt.days\n",
      "Using TensorFlow backend.\n",
      "WARNING: Logging before flag parsing goes to stderr.\n",
      "W0708 23:39:38.071706 140507433768704 deprecation_wrapper.py:119] From /usr/local/lib/python3.5/dist-packages/keras/backend/tensorflow_backend.py:517: The name tf.placeholder is deprecated. Please use tf.compat.v1.placeholder instead.\n",
      "\n",
      "W0708 23:39:38.091862 140507433768704 deprecation_wrapper.py:119] From /usr/local/lib/python3.5/dist-packages/keras/backend/tensorflow_backend.py:4138: The name tf.random_uniform is deprecated. Please use tf.random.uniform instead.\n",
      "\n",
      "W0708 23:39:38.194797 140507433768704 deprecation_wrapper.py:119] From /usr/local/lib/python3.5/dist-packages/keras/backend/tensorflow_backend.py:174: The name tf.get_default_session is deprecated. Please use tf.compat.v1.get_default_session instead.\n",
      "\n",
      "W0708 23:39:38.196549 140507433768704 deprecation_wrapper.py:119] From /usr/local/lib/python3.5/dist-packages/keras/backend/tensorflow_backend.py:181: The name tf.ConfigProto is deprecated. Please use tf.compat.v1.ConfigProto instead.\n",
      "\n",
      "W0708 23:39:38.198073 140507433768704 deprecation_wrapper.py:119] From /usr/local/lib/python3.5/dist-packages/keras/backend/tensorflow_backend.py:186: The name tf.Session is deprecated. Please use tf.compat.v1.Session instead.\n",
      "\n",
      "W0708 23:39:38.409694 140507433768704 deprecation_wrapper.py:119] From /usr/local/lib/python3.5/dist-packages/keras/optimizers.py:790: The name tf.train.Optimizer is deprecated. Please use tf.compat.v1.train.Optimizer instead.\n",
      "\n",
      "W0708 23:39:38.422104 140507433768704 deprecation.py:323] From /usr/local/lib/python3.5/dist-packages/tensorflow/python/ops/nn_impl.py:180: add_dispatch_support.<locals>.wrapper (from tensorflow.python.ops.array_ops) is deprecated and will be removed in a future version.\n",
      "Instructions for updating:\n",
      "Use tf.where in 2.0, which has the same broadcast rule as np.where\n"
     ]
    }
   ],
   "source": [
    "(X_current_regr, y_current, table_all_current) = current_pipeline(dfs_list, 'nn_v7.joblib', 'rf_regr_v3.joblib')"
   ]
  },
  {
   "cell_type": "code",
   "execution_count": 22,
   "metadata": {},
   "outputs": [
    {
     "data": {
      "text/plain": [
       "374"
      ]
     },
     "execution_count": 22,
     "metadata": {},
     "output_type": "execute_result"
    }
   ],
   "source": [
    "len(y_current[(y_current['prob_default'] < 0.01) & (y_current['annu_return'] > 0.12)])"
   ]
  },
  {
   "cell_type": "code",
   "execution_count": 6,
   "metadata": {},
   "outputs": [
    {
     "data": {
      "image/png": "[encoded data removed]",
      "text/plain": [
       "<Figure size 432x288 with 1 Axes>"
      ]
     },
     "metadata": {
      "needs_background": "light"
     },
     "output_type": "display_data"
    }
   ],
   "source": [
    "plt.hist(y_current['annu_return'],bins=60,range=(-1,0.2),label='computed',alpha=0.6)\n",
    "plt.hist(y_current['return_preds'],bins=60,range=(-1,0.2),label='predicted',alpha=0.6)\n",
    "plt.xlabel('Annualized Return')\n",
    "plt.ylabel('Frequency of Loans')\n",
    "plt.legend()\n",
    "plt.title('Frequency of Loans by Returns')\n",
    "plt.show()"
   ]
  },
  {
   "cell_type": "code",
   "execution_count": 13,
   "metadata": {},
   "outputs": [
    {
     "data": {
      "image/png": "[encoded data removed]",
      "text/plain": [
       "<Figure size 432x288 with 1 Axes>"
      ]
     },
     "metadata": {
      "needs_background": "light"
     },
     "output_type": "display_data"
    }
   ],
   "source": [
    "plt.hist(y_current['annu_return'],bins=100,range=(0.07,0.2),label='computed',alpha=0.6)\n",
    "plt.hist(y_current['return_preds'],bins=100,range=(0.07,0.2),label='predicted',alpha=0.6)\n",
    "plt.xlabel('Annualized Return')\n",
    "plt.ylabel('Frequency of Loans')\n",
    "plt.legend()\n",
    "plt.title('Frequency of Loans by Returns')\n",
    "plt.show()"
   ]
  },
  {
   "cell_type": "code",
   "execution_count": 19,
   "metadata": {},
   "outputs": [
    {
     "data": {
      "image/png": "[encoded data removed]",
      "text/plain": [
       "<Figure size 432x288 with 1 Axes>"
      ]
     },
     "metadata": {
      "needs_background": "light"
     },
     "output_type": "display_data"
    }
   ],
   "source": [
    "plt.hist(y_current['prob_default'],bins=40, range=(0,1))\n",
    "plt.xlabel('probability of default')\n",
    "plt.ylabel('frequency of loans')\n",
    "plt.show()"
   ]
  },
  {
   "cell_type": "markdown",
   "metadata": {},
   "source": [
    "### Try it Manually - Classification"
   ]
  },
  {
   "cell_type": "code",
   "execution_count": 3,
   "metadata": {},
   "outputs": [
    {
     "name": "stderr",
     "output_type": "stream",
     "text": [
      "/home/jupyter/peervest/functions_and_objects.py:275: FutureWarning: Passing datetime64-dtype data to TimedeltaIndex is deprecated, will raise a TypeError in a future version\n",
      "  raw_lc_df['earliest_cr_line'] = pd.to_timedelta(pd.to_datetime(raw_lc_df['earliest_cr_line'])).dt.days\n",
      "Using TensorFlow backend.\n",
      "WARNING: Logging before flag parsing goes to stderr.\n",
      "W0708 04:07:58.662530 140604772128512 deprecation_wrapper.py:119] From /usr/local/lib/python3.5/dist-packages/keras/backend/tensorflow_backend.py:517: The name tf.placeholder is deprecated. Please use tf.compat.v1.placeholder instead.\n",
      "\n",
      "W0708 04:07:58.684106 140604772128512 deprecation_wrapper.py:119] From /usr/local/lib/python3.5/dist-packages/keras/backend/tensorflow_backend.py:4138: The name tf.random_uniform is deprecated. Please use tf.random.uniform instead.\n",
      "\n",
      "W0708 04:07:58.793218 140604772128512 deprecation_wrapper.py:119] From /usr/local/lib/python3.5/dist-packages/keras/backend/tensorflow_backend.py:174: The name tf.get_default_session is deprecated. Please use tf.compat.v1.get_default_session instead.\n",
      "\n",
      "W0708 04:07:58.794868 140604772128512 deprecation_wrapper.py:119] From /usr/local/lib/python3.5/dist-packages/keras/backend/tensorflow_backend.py:181: The name tf.ConfigProto is deprecated. Please use tf.compat.v1.ConfigProto instead.\n",
      "\n",
      "W0708 04:07:58.796307 140604772128512 deprecation_wrapper.py:119] From /usr/local/lib/python3.5/dist-packages/keras/backend/tensorflow_backend.py:186: The name tf.Session is deprecated. Please use tf.compat.v1.Session instead.\n",
      "\n",
      "W0708 04:07:59.018929 140604772128512 deprecation_wrapper.py:119] From /usr/local/lib/python3.5/dist-packages/keras/optimizers.py:790: The name tf.train.Optimizer is deprecated. Please use tf.compat.v1.train.Optimizer instead.\n",
      "\n",
      "W0708 04:07:59.030516 140604772128512 deprecation.py:323] From /usr/local/lib/python3.5/dist-packages/tensorflow/python/ops/nn_impl.py:180: add_dispatch_support.<locals>.wrapper (from tensorflow.python.ops.array_ops) is deprecated and will be removed in a future version.\n",
      "Instructions for updating:\n",
      "Use tf.where in 2.0, which has the same broadcast rule as np.where\n"
     ]
    }
   ],
   "source": [
    "clean_lc_df_current = clean_new_LC_data_classification_current(dfs_list)\n",
    "X_current, y_current = preprocessing_current(clean_lc_df_current)\n",
    "(ohe_home_ownership, ohe_purpose, ohe_zip_code, \n",
    " ohe_application_type, ohe_sub_grade, ohe_emp_title_2) = one_hot_encode_current(X_current)\n",
    "X_current_classif = concat_X_and_6ohe_dfs(X_current, ohe_home_ownership, ohe_purpose, ohe_zip_code,\n",
    "                                      ohe_application_type, ohe_sub_grade, ohe_emp_title_2)\n",
    "X_current_regr = concat_X_and_6ohe_dfs(X_current, ohe_home_ownership, ohe_purpose, ohe_zip_code, \n",
    "                                   ohe_application_type, ohe_sub_grade, ohe_emp_title_2)\n",
    "prep_all_df_for_classification(X_current_classif) #drops columns in place\n",
    "class_model = joblib.load('nn_v7.joblib')"
   ]
  },
  {
   "cell_type": "markdown",
   "metadata": {},
   "source": [
    "### Scaling X_current_classif"
   ]
  },
  {
   "cell_type": "code",
   "execution_count": 19,
   "metadata": {},
   "outputs": [],
   "source": [
    "ss = StandardScaler()\n",
    "X_current_classif_s = ss.fit_transform(X_current_classif)"
   ]
  },
  {
   "cell_type": "code",
   "execution_count": 20,
   "metadata": {},
   "outputs": [
    {
     "name": "stdout",
     "output_type": "stream",
     "text": [
      "361423/361423 [==============================] - 36s 101us/step\n"
     ]
    }
   ],
   "source": [
    "current_class_s_preds_proba = class_model.predict_proba(X_current_classif_s,verbose=1)"
   ]
  },
  {
   "cell_type": "code",
   "execution_count": 21,
   "metadata": {},
   "outputs": [
    {
     "data": {
      "text/plain": [
       "array([[0.87482095],\n",
       "       [0.3192853 ],\n",
       "       [0.99108195],\n",
       "       ...,\n",
       "       [0.9613179 ],\n",
       "       [0.99492466],\n",
       "       [0.9953492 ]], dtype=float32)"
      ]
     },
     "execution_count": 21,
     "metadata": {},
     "output_type": "execute_result"
    }
   ],
   "source": [
    "current_class_s_preds_proba"
   ]
  },
  {
   "cell_type": "code",
   "execution_count": 22,
   "metadata": {},
   "outputs": [
    {
     "data": {
      "text/plain": [
       "array([[0.87482095],\n",
       "       [0.3192853 ],\n",
       "       [0.99108195],\n",
       "       ...,\n",
       "       [0.9613179 ],\n",
       "       [0.99492466],\n",
       "       [0.9953492 ]], dtype=float32)"
      ]
     },
     "execution_count": 22,
     "metadata": {},
     "output_type": "execute_result"
    }
   ],
   "source": [
    "class_model.predict(X_current_classif_s)"
   ]
  },
  {
   "cell_type": "code",
   "execution_count": 23,
   "metadata": {},
   "outputs": [
    {
     "data": {
      "text/plain": [
       "array([[0],\n",
       "       [0],\n",
       "       [0],\n",
       "       ...,\n",
       "       [1],\n",
       "       [1],\n",
       "       [0]], dtype=int32)"
      ]
     },
     "execution_count": 23,
     "metadata": {},
     "output_type": "execute_result"
    }
   ],
   "source": [
    "class_model.predict_classes(X_current_classif)"
   ]
  },
  {
   "cell_type": "code",
   "execution_count": 26,
   "metadata": {},
   "outputs": [
    {
     "data": {
      "text/plain": [
       "(array([ 79378.,  20983.,  10846.,   7381.,   5533.,   4509.,   3877.,\n",
       "          3352.,   3062.,   2757.,   2485.,   2379.,   2251.,   2106.,\n",
       "          1973.,   2000.,   1917.,   1943.,   1816.,   1861.,   1843.,\n",
       "          1870.,   1754.,   1937.,   2007.,   1987.,   2074.,   2104.,\n",
       "          2275.,   2453.,   2624.,   2880.,   3082.,   3567.,   4111.,\n",
       "          4877.,   6488.,   9344.,  17663., 124074.]),\n",
       " array([0.   , 0.025, 0.05 , 0.075, 0.1  , 0.125, 0.15 , 0.175, 0.2  ,\n",
       "        0.225, 0.25 , 0.275, 0.3  , 0.325, 0.35 , 0.375, 0.4  , 0.425,\n",
       "        0.45 , 0.475, 0.5  , 0.525, 0.55 , 0.575, 0.6  , 0.625, 0.65 ,\n",
       "        0.675, 0.7  , 0.725, 0.75 , 0.775, 0.8  , 0.825, 0.85 , 0.875,\n",
       "        0.9  , 0.925, 0.95 , 0.975, 1.   ], dtype=float32),\n",
       " <a list of 40 Patch objects>)"
      ]
     },
     "execution_count": 26,
     "metadata": {},
     "output_type": "execute_result"
    },
    {
     "data": {
      "image/png": "[encoded data removed]",
      "text/plain": [
       "<Figure size 432x288 with 1 Axes>"
      ]
     },
     "metadata": {
      "needs_background": "light"
     },
     "output_type": "display_data"
    }
   ],
   "source": [
    "plt.hist(current_class_s_preds_proba,bins=40,range=(0,1))"
   ]
  },
  {
   "cell_type": "code",
   "execution_count": 27,
   "metadata": {},
   "outputs": [
    {
     "data": {
      "text/plain": [
       "(array([4565., 3747., 3339., 2971., 2649., 2477., 2251., 2096., 1965.,\n",
       "        1894., 1799., 1717., 1667., 1535., 1612., 1534., 1533., 1550.,\n",
       "        1432., 1488., 1479., 1497., 1480., 1399., 1549., 1606., 1631.,\n",
       "        1567., 1696., 1672., 1807., 1927., 2018., 2156., 2324., 2457.,\n",
       "        2735., 3037., 3425., 3983.]),\n",
       " array([0.1 , 0.12, 0.14, 0.16, 0.18, 0.2 , 0.22, 0.24, 0.26, 0.28, 0.3 ,\n",
       "        0.32, 0.34, 0.36, 0.38, 0.4 , 0.42, 0.44, 0.46, 0.48, 0.5 , 0.52,\n",
       "        0.54, 0.56, 0.58, 0.6 , 0.62, 0.64, 0.66, 0.68, 0.7 , 0.72, 0.74,\n",
       "        0.76, 0.78, 0.8 , 0.82, 0.84, 0.86, 0.88, 0.9 ], dtype=float32),\n",
       " <a list of 40 Patch objects>)"
      ]
     },
     "execution_count": 27,
     "metadata": {},
     "output_type": "execute_result"
    },
    {
     "data": {
      "image/png": "[encoded data removed]",
      "text/plain": [
       "<Figure size 432x288 with 1 Axes>"
      ]
     },
     "metadata": {
      "needs_background": "light"
     },
     "output_type": "display_data"
    }
   ],
   "source": [
    "plt.hist(current_class_s_preds_proba,bins=40,range=(0.1,0.9))"
   ]
  },
  {
   "cell_type": "code",
   "execution_count": 33,
   "metadata": {},
   "outputs": [
    {
     "data": {
      "text/plain": [
       "array([0.12517905, 0.6807147 , 0.00891805, ..., 0.0386821 , 0.00507534,\n",
       "       0.00465077], dtype=float32)"
      ]
     },
     "execution_count": 33,
     "metadata": {},
     "output_type": "execute_result"
    }
   ],
   "source": [
    "#Probability of Default\n",
    "1-current_class_s_preds_proba[:,0]"
   ]
  },
  {
   "cell_type": "markdown",
   "metadata": {},
   "source": [
    "# Recommendation Table"
   ]
  },
  {
   "cell_type": "code",
   "execution_count": 37,
   "metadata": {},
   "outputs": [
    {
     "data": {
      "text/html": [
       "<div>\n",
       "<style scoped>\n",
       "    .dataframe tbody tr th:only-of-type {\n",
       "        vertical-align: middle;\n",
       "    }\n",
       "\n",
       "    .dataframe tbody tr th {\n",
       "        vertical-align: top;\n",
       "    }\n",
       "\n",
       "    .dataframe thead th {\n",
       "        text-align: right;\n",
       "    }\n",
       "</style>\n",
       "<table border=\"1\" class=\"dataframe\">\n",
       "  <thead>\n",
       "    <tr style=\"text-align: right;\">\n",
       "      <th></th>\n",
       "      <th>prob_default</th>\n",
       "      <th>prob_fullypaid</th>\n",
       "      <th>annu_return</th>\n",
       "      <th>return_preds</th>\n",
       "      <th>loan_amnt</th>\n",
       "      <th>funded_amnt</th>\n",
       "      <th>total_pymnt</th>\n",
       "      <th>int_rate</th>\n",
       "      <th>emp_length</th>\n",
       "      <th>annual_inc</th>\n",
       "      <th>...</th>\n",
       "      <th>emp_title_2_Technician</th>\n",
       "      <th>emp_title_2_Truck Driver</th>\n",
       "      <th>emp_title_2_Vice President</th>\n",
       "      <th>emp_title_2_driver</th>\n",
       "      <th>emp_title_2_manager</th>\n",
       "      <th>emp_title_2_owner</th>\n",
       "      <th>emp_title_2_sales</th>\n",
       "      <th>emp_title_2_supervisor</th>\n",
       "      <th>emp_title_2_teacher</th>\n",
       "      <th>emp_title_2_truck driver</th>\n",
       "    </tr>\n",
       "    <tr>\n",
       "      <th>id</th>\n",
       "      <th></th>\n",
       "      <th></th>\n",
       "      <th></th>\n",
       "      <th></th>\n",
       "      <th></th>\n",
       "      <th></th>\n",
       "      <th></th>\n",
       "      <th></th>\n",
       "      <th></th>\n",
       "      <th></th>\n",
       "      <th></th>\n",
       "      <th></th>\n",
       "      <th></th>\n",
       "      <th></th>\n",
       "      <th></th>\n",
       "      <th></th>\n",
       "      <th></th>\n",
       "      <th></th>\n",
       "      <th></th>\n",
       "      <th></th>\n",
       "      <th></th>\n",
       "    </tr>\n",
       "  </thead>\n",
       "  <tbody>\n",
       "  </tbody>\n",
       "</table>\n",
       "<p>0 rows × 1112 columns</p>\n",
       "</div>"
      ],
      "text/plain": [
       "Empty DataFrame\n",
       "Columns: [prob_default, prob_fullypaid, annu_return, return_preds, loan_amnt, funded_amnt, total_pymnt, int_rate, emp_length, annual_inc, dti, delinq_2yrs, earliest_cr_line, fico_range_low, fico_range_high, inq_last_6mths, mths_since_last_delinq, mths_since_last_record, open_acc, pub_rec, revol_bal, revol_util, total_acc, last_fico_range_high, last_fico_range_low, collections_12_mths_ex_med, mths_since_last_major_derog, policy_code, annual_inc_joint, dti_joint, acc_now_delinq, tot_coll_amt, open_acc_6m, open_rv_12m, open_rv_24m, all_util, total_rev_hi_lim, inq_fi, total_cu_tl, inq_last_12m, acc_open_past_24mths, bc_open_to_buy, bc_util, chargeoff_within_12_mths, delinq_amnt, mo_sin_old_il_acct, mo_sin_old_rev_tl_op, mo_sin_rcnt_rev_tl_op, mort_acc, mths_since_recent_bc, mths_since_recent_bc_dlq, mths_since_recent_revol_delinq, num_accts_ever_120_pd, num_actv_bc_tl, num_actv_rev_tl, num_bc_sats, num_bc_tl, num_il_tl, num_op_rev_tl, num_rev_accts, num_rev_tl_bal_gt_0, num_sats, num_tl_120dpd_2m, num_tl_30dpd, num_tl_90g_dpd_24m, num_tl_op_past_12m, pct_tl_nvr_dlq, percent_bc_gt_75, pub_rec_bankruptcies, tax_liens, tot_hi_cred_lim, total_bal_ex_mort, total_bc_limit, total_il_high_credit_limit, collection_recovery_fee, home_ownership_ANY, home_ownership_MORTGAGE, home_ownership_NONE, home_ownership_OTHER, home_ownership_OWN, home_ownership_RENT, purpose_car, purpose_credit_card, purpose_debt_consolidation, purpose_educational, purpose_home_improvement, purpose_house, purpose_major_purchase, purpose_medical, purpose_moving, purpose_other, purpose_renewable_energy, purpose_small_business, purpose_vacation, purpose_wedding, zip_code_007xx, zip_code_008xx, zip_code_009xx, zip_code_010xx, zip_code_011xx, ...]\n",
       "Index: []\n",
       "\n",
       "[0 rows x 1112 columns]"
      ]
     },
     "execution_count": 37,
     "metadata": {},
     "output_type": "execute_result"
    }
   ],
   "source": [
    "table_all_current.loc[table_all_current['funded_amnt'] < table_all_current['loan_amnt']]"
   ]
  },
  {
   "cell_type": "code",
   "execution_count": 35,
   "metadata": {},
   "outputs": [
    {
     "name": "stdout",
     "output_type": "stream",
     "text": [
      "Index(['prob_default', 'prob_fullypaid', 'annu_return', 'return_preds',\n",
      "       'loan_amnt', 'funded_amnt', 'total_pymnt', 'int_rate', 'emp_length',\n",
      "       'annual_inc',\n",
      "       ...\n",
      "       'emp_title_2_Technician', 'emp_title_2_Truck Driver',\n",
      "       'emp_title_2_Vice President', 'emp_title_2_driver',\n",
      "       'emp_title_2_manager', 'emp_title_2_owner', 'emp_title_2_sales',\n",
      "       'emp_title_2_supervisor', 'emp_title_2_teacher',\n",
      "       'emp_title_2_truck driver'],\n",
      "      dtype='object', length=1112)\n"
     ]
    }
   ],
   "source": [
    "print(table_all_current.columns)"
   ]
  },
  {
   "cell_type": "code",
   "execution_count": null,
   "metadata": {},
   "outputs": [],
   "source": [
    "table_all_current"
   ]
  },
  {
   "cell_type": "code",
   "execution_count": 28,
   "metadata": {},
   "outputs": [
    {
     "name": "stdout",
     "output_type": "stream",
     "text": [
      "Enter Risk Tolerance (Maximum Probability of Default):0.1\n",
      "Enter Desired Return (Minimum Predicted Annualized Return:.1\n"
     ]
    }
   ],
   "source": [
    "funds = input(\"Enter Dollars Available to Invest (integer):\")\n",
    "risk = input(\"Enter Risk Tolerance (Maximum Probability of Default):\")\n",
    "reward = input(\"Enter Desired Return (Minimum Predicted Annualized Return:\")\n",
    "\n",
    "columns = ['prob_default', 'return_preds', 'loan_amnt','funded_amnt']\n",
    "\n",
    "table_all_current.loc[(table_all_current['prob_default'] <= risk) & (table_all_current['return_preds'] >= reward),]"
   ]
  },
  {
   "cell_type": "code",
   "execution_count": null,
   "metadata": {},
   "outputs": [],
   "source": []
  },
  {
   "cell_type": "markdown",
   "metadata": {},
   "source": [
    "# Recommendation Portfolio Summary Values"
   ]
  },
  {
   "cell_type": "code",
   "execution_count": null,
   "metadata": {},
   "outputs": [],
   "source": [
    "# 1. Expected Return (Portfolio)\n",
    "# 2. Dollar Weighted Average Probability of Default\n",
    "# 3. Shropshire Ratio (similar to Sharpe Ratio)"
   ]
  },
  {
   "cell_type": "markdown",
   "metadata": {},
   "source": [
    "# Recommendation Portfolio Descriptive Visuals"
   ]
  },
  {
   "cell_type": "code",
   "execution_count": null,
   "metadata": {},
   "outputs": [],
   "source": []
  }
 ],
 "metadata": {
  "kernelspec": {
   "display_name": "Python 3",
   "language": "python",
   "name": "python3"
  },
  "language_info": {
   "codemirror_mode": {
    "name": "ipython",
    "version": 3
   },
   "file_extension": ".py",
   "mimetype": "text/x-python",
   "name": "python",
   "nbconvert_exporter": "python",
   "pygments_lexer": "ipython3",
   "version": "3.5.3"
  }
 },
 "nbformat": 4,
 "nbformat_minor": 2
}
