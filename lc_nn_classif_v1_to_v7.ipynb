{
 "cells": [
  {
   "cell_type": "code",
   "execution_count": 2,
   "metadata": {},
   "outputs": [
    {
     "name": "stderr",
     "output_type": "stream",
     "text": [
      "Using TensorFlow backend.\n"
     ]
    }
   ],
   "source": [
    "import pandas as pd\n",
    "import numpy as np\n",
    "from math import sqrt\n",
    "import matplotlib.pyplot as plt\n",
    "%matplotlib inline\n",
    "from functions_and_objects import (impute_means_zeros_maxs_X,parse_percentage,\n",
    "                                   clean_LC_data_classification_eval,preprocessing_eval, \n",
    "                                   columns_list, nan_max_cols, nan_mean_cols, nan_zero_cols, dtype,\n",
    "                                   one_hot_encode_eval, concat_X_and_6ohe_dfs,\n",
    "                                   prep_all_df_for_classification,\n",
    "                                   classification_model_eval_prep_pipeline,\n",
    "                                   current_pipeline)\n",
    "\n",
    "import joblib\n",
    "from sklearn.metrics import (accuracy_score, precision_score, recall_score, #classification\n",
    "                             f1_score, roc_auc_score, roc_curve,precision_recall_fscore_support, #classification\n",
    "                             r2_score,mean_squared_error) #regression\n",
    "\n",
    "from sklearn.preprocessing import StandardScaler\n",
    "from sklearn.calibration import calibration_curve\n",
    "from keras.models import Sequential\n",
    "from keras.layers import Dense\n",
    "from keras import regularizers\n",
    "from keras.optimizers import Adam\n",
    "from keras.layers import Dropout\n",
    "from keras.callbacks import EarlyStopping\n",
    "from keras import metrics\n",
    "from keras.utils import to_categorical\n",
    "\n",
    "%load_ext autoreload\n",
    "%autoreload 2"
   ]
  },
  {
   "cell_type": "markdown",
   "metadata": {},
   "source": [
    "## Test Cleaning/Preprocessing Functions"
   ]
  },
  {
   "cell_type": "code",
   "execution_count": 3,
   "metadata": {},
   "outputs": [
    {
     "name": "stderr",
     "output_type": "stream",
     "text": [
      "/usr/local/lib/python3.5/dist-packages/IPython/core/interactiveshell.py:3049: DtypeWarning: Columns (0) have mixed types. Specify dtype option on import or set low_memory=False.\n",
      "  interactivity=interactivity, compiler=compiler, result=result)\n",
      "/usr/local/lib/python3.5/dist-packages/IPython/core/interactiveshell.py:3049: DtypeWarning: Columns (0,118) have mixed types. Specify dtype option on import or set low_memory=False.\n",
      "  interactivity=interactivity, compiler=compiler, result=result)\n",
      "/usr/local/lib/python3.5/dist-packages/IPython/core/interactiveshell.py:3049: DtypeWarning: Columns (0,19) have mixed types. Specify dtype option on import or set low_memory=False.\n",
      "  interactivity=interactivity, compiler=compiler, result=result)\n",
      "/usr/local/lib/python3.5/dist-packages/IPython/core/interactiveshell.py:3049: DtypeWarning: Columns (0,19,59) have mixed types. Specify dtype option on import or set low_memory=False.\n",
      "  interactivity=interactivity, compiler=compiler, result=result)\n",
      "/usr/local/lib/python3.5/dist-packages/IPython/core/interactiveshell.py:3049: DtypeWarning: Columns (0,19,49) have mixed types. Specify dtype option on import or set low_memory=False.\n",
      "  interactivity=interactivity, compiler=compiler, result=result)\n",
      "/usr/local/lib/python3.5/dist-packages/IPython/core/interactiveshell.py:3049: DtypeWarning: Columns (0,49,129,130,131,134,135,136,139) have mixed types. Specify dtype option on import or set low_memory=False.\n",
      "  interactivity=interactivity, compiler=compiler, result=result)\n",
      "/usr/local/lib/python3.5/dist-packages/IPython/core/interactiveshell.py:3049: DtypeWarning: Columns (0,49) have mixed types. Specify dtype option on import or set low_memory=False.\n",
      "  interactivity=interactivity, compiler=compiler, result=result)\n"
     ]
    }
   ],
   "source": [
    "raw_q42017 = pd.read_csv('~/peervest/lc_data/LoanStats_securev1_2017Q4.csv',header=1)\n",
    "raw_q32017 = pd.read_csv('~/peervest/lc_data/LoanStats_securev1_2017Q3.csv',header=1)\n",
    "raw_q22017 = pd.read_csv('~/peervest/lc_data/LoanStats_securev1_2017Q2.csv',header=1)\n",
    "raw_q12017 = pd.read_csv('~/peervest/lc_data/LoanStats_securev1_2017Q1.csv',header=1)\n",
    "raw_q42016 = pd.read_csv('~/peervest/lc_data/LoanStats_securev1_2016Q4.csv',header=1)\n",
    "raw_q32016 = pd.read_csv('~/peervest/lc_data/LoanStats_securev1_2016Q3.csv',header=1)\n",
    "raw_q22016 = pd.read_csv('~/peervest/lc_data/LoanStats_securev1_2016Q2.csv',header=1)\n",
    "raw_q12016 = pd.read_csv('~/peervest/lc_data/LoanStats_securev1_2016Q1.csv',header=1)\n",
    "raw_2015 = pd.read_csv('~/peervest/lc_data/LoanStats_securev1_2015.csv',header=1)\n",
    "raw_2014 = pd.read_csv('~/peervest/lc_data/LoanStats_securev1_2014.csv',header=1)\n",
    "raw_2012to2013 = pd.read_csv('~/peervest/lc_data/LoanStats_securev1_2012to2013.csv',header=1)\n",
    "raw_2007to2011 = pd.read_csv('~/peervest/lc_data/LoanStats_securev1_2007to2011.csv',header=1)"
   ]
  },
  {
   "cell_type": "code",
   "execution_count": 4,
   "metadata": {},
   "outputs": [],
   "source": [
    "dfs_list = [raw_q42017,raw_q32017,raw_q22017,raw_q12017,\n",
    "           raw_q42016,raw_q32016,raw_q22016,raw_q12016,raw_2015,\n",
    "           raw_2014,raw_2012to2013, raw_2007to2011]"
   ]
  },
  {
   "cell_type": "code",
   "execution_count": 5,
   "metadata": {},
   "outputs": [
    {
     "name": "stderr",
     "output_type": "stream",
     "text": [
      "/home/jupyter/peervest/functions_and_objects.py:243: FutureWarning: Passing datetime64-dtype data to TimedeltaIndex is deprecated, will raise a TypeError in a future version\n",
      "  raw_lc_df['earliest_cr_line'] = pd.to_timedelta(pd.to_datetime(raw_lc_df['earliest_cr_line'])).dt.days\n",
      "/usr/local/lib/python3.5/dist-packages/pandas/core/frame.py:3940: SettingWithCopyWarning: \n",
      "A value is trying to be set on a copy of a slice from a DataFrame\n",
      "\n",
      "See the caveats in the documentation: http://pandas.pydata.org/pandas-docs/stable/indexing.html#indexing-view-versus-copy\n",
      "  errors=errors)\n",
      "/home/jupyter/peervest/functions_and_objects.py:196: SettingWithCopyWarning: \n",
      "A value is trying to be set on a copy of a slice from a DataFrame.\n",
      "Try using .loc[row_indexer,col_indexer] = value instead\n",
      "\n",
      "See the caveats in the documentation: http://pandas.pydata.org/pandas-docs/stable/indexing.html#indexing-view-versus-copy\n",
      "  X_train[col] = X_train[col].fillna(0.0)\n",
      "/home/jupyter/peervest/functions_and_objects.py:197: SettingWithCopyWarning: \n",
      "A value is trying to be set on a copy of a slice from a DataFrame.\n",
      "Try using .loc[row_indexer,col_indexer] = value instead\n",
      "\n",
      "See the caveats in the documentation: http://pandas.pydata.org/pandas-docs/stable/indexing.html#indexing-view-versus-copy\n",
      "  X_test[col] = X_test[col].fillna(0.0)\n",
      "/home/jupyter/peervest/functions_and_objects.py:192: SettingWithCopyWarning: \n",
      "A value is trying to be set on a copy of a slice from a DataFrame.\n",
      "Try using .loc[row_indexer,col_indexer] = value instead\n",
      "\n",
      "See the caveats in the documentation: http://pandas.pydata.org/pandas-docs/stable/indexing.html#indexing-view-versus-copy\n",
      "  X_train[col] = X_train[col].fillna(np.nanmean(X_train[col].values))\n",
      "/home/jupyter/peervest/functions_and_objects.py:193: SettingWithCopyWarning: \n",
      "A value is trying to be set on a copy of a slice from a DataFrame.\n",
      "Try using .loc[row_indexer,col_indexer] = value instead\n",
      "\n",
      "See the caveats in the documentation: http://pandas.pydata.org/pandas-docs/stable/indexing.html#indexing-view-versus-copy\n",
      "  X_test[col] = X_test[col].fillna(np.nanmean(X_train[col].values))\n",
      "/home/jupyter/peervest/functions_and_objects.py:200: SettingWithCopyWarning: \n",
      "A value is trying to be set on a copy of a slice from a DataFrame.\n",
      "Try using .loc[row_indexer,col_indexer] = value instead\n",
      "\n",
      "See the caveats in the documentation: http://pandas.pydata.org/pandas-docs/stable/indexing.html#indexing-view-versus-copy\n",
      "  X_train[col] = X_train[col].fillna(np.nanmax(X_train[col].values) * 5)\n",
      "/home/jupyter/peervest/functions_and_objects.py:201: SettingWithCopyWarning: \n",
      "A value is trying to be set on a copy of a slice from a DataFrame.\n",
      "Try using .loc[row_indexer,col_indexer] = value instead\n",
      "\n",
      "See the caveats in the documentation: http://pandas.pydata.org/pandas-docs/stable/indexing.html#indexing-view-versus-copy\n",
      "  X_test[col] = X_test[col].fillna(np.nanmax(X_train[col].values) * 5)\n"
     ]
    }
   ],
   "source": [
    "(X_train_classif, X_test_classif, y_train_classif, y_test_classif) = classification_model_eval_prep_pipeline(dfs_list)"
   ]
  },
  {
   "cell_type": "code",
   "execution_count": 6,
   "metadata": {},
   "outputs": [
    {
     "name": "stdout",
     "output_type": "stream",
     "text": [
      "(880950, 1108)\n",
      "(880950, 1)\n",
      "(377551, 1108)\n",
      "(377551, 1)\n"
     ]
    }
   ],
   "source": [
    "print(X_train_classif.shape)\n",
    "print(y_train_classif.shape)\n",
    "print(X_test_classif.shape)\n",
    "print(y_test_classif.shape)"
   ]
  },
  {
   "cell_type": "code",
   "execution_count": 37,
   "metadata": {},
   "outputs": [
    {
     "data": {
      "text/html": [
       "<div>\n",
       "<style scoped>\n",
       "    .dataframe tbody tr th:only-of-type {\n",
       "        vertical-align: middle;\n",
       "    }\n",
       "\n",
       "    .dataframe tbody tr th {\n",
       "        vertical-align: top;\n",
       "    }\n",
       "\n",
       "    .dataframe thead th {\n",
       "        text-align: right;\n",
       "    }\n",
       "</style>\n",
       "<table border=\"1\" class=\"dataframe\">\n",
       "  <thead>\n",
       "    <tr style=\"text-align: right;\">\n",
       "      <th></th>\n",
       "      <th>id</th>\n",
       "      <th>member_id</th>\n",
       "      <th>loan_amnt</th>\n",
       "      <th>funded_amnt</th>\n",
       "      <th>term</th>\n",
       "      <th>int_rate</th>\n",
       "      <th>exp_default_rate</th>\n",
       "      <th>service_fee_rate</th>\n",
       "      <th>installment</th>\n",
       "      <th>grade</th>\n",
       "      <th>...</th>\n",
       "      <th>sec_app_earliest_cr_line</th>\n",
       "      <th>sec_app_inq_last_6mths</th>\n",
       "      <th>sec_app_mort_acc</th>\n",
       "      <th>sec_app_open_acc</th>\n",
       "      <th>sec_app_revol_util</th>\n",
       "      <th>sec_app_open_act_il</th>\n",
       "      <th>sec_app_num_rev_accts</th>\n",
       "      <th>sec_app_chargeoff_within_12_mths</th>\n",
       "      <th>sec_app_collections_12_mths_ex_med</th>\n",
       "      <th>sec_app_mths_since_last_major_derog</th>\n",
       "    </tr>\n",
       "  </thead>\n",
       "  <tbody>\n",
       "    <tr>\n",
       "      <th>0</th>\n",
       "      <td>154522518</td>\n",
       "      <td>190327199</td>\n",
       "      <td>15000.0</td>\n",
       "      <td>14800.0</td>\n",
       "      <td>36</td>\n",
       "      <td>10.33</td>\n",
       "      <td>5.14</td>\n",
       "      <td>1.03</td>\n",
       "      <td>486.34</td>\n",
       "      <td>B</td>\n",
       "      <td>...</td>\n",
       "      <td></td>\n",
       "      <td></td>\n",
       "      <td></td>\n",
       "      <td></td>\n",
       "      <td></td>\n",
       "      <td></td>\n",
       "      <td></td>\n",
       "      <td></td>\n",
       "      <td></td>\n",
       "      <td></td>\n",
       "    </tr>\n",
       "    <tr>\n",
       "      <th>1</th>\n",
       "      <td>154600521</td>\n",
       "      <td>190534584</td>\n",
       "      <td>17000.0</td>\n",
       "      <td>16725.0</td>\n",
       "      <td>36</td>\n",
       "      <td>11.71</td>\n",
       "      <td>5.14</td>\n",
       "      <td>1.03</td>\n",
       "      <td>562.30</td>\n",
       "      <td>B</td>\n",
       "      <td>...</td>\n",
       "      <td></td>\n",
       "      <td></td>\n",
       "      <td></td>\n",
       "      <td></td>\n",
       "      <td></td>\n",
       "      <td></td>\n",
       "      <td></td>\n",
       "      <td></td>\n",
       "      <td></td>\n",
       "      <td></td>\n",
       "    </tr>\n",
       "    <tr>\n",
       "      <th>2</th>\n",
       "      <td>154124100</td>\n",
       "      <td>189640879</td>\n",
       "      <td>30000.0</td>\n",
       "      <td>23025.0</td>\n",
       "      <td>36</td>\n",
       "      <td>17.97</td>\n",
       "      <td>12.63</td>\n",
       "      <td>1.49</td>\n",
       "      <td>1084.13</td>\n",
       "      <td>D</td>\n",
       "      <td>...</td>\n",
       "      <td></td>\n",
       "      <td></td>\n",
       "      <td></td>\n",
       "      <td></td>\n",
       "      <td></td>\n",
       "      <td></td>\n",
       "      <td></td>\n",
       "      <td></td>\n",
       "      <td></td>\n",
       "      <td></td>\n",
       "    </tr>\n",
       "    <tr>\n",
       "      <th>3</th>\n",
       "      <td>154334950</td>\n",
       "      <td>189967957</td>\n",
       "      <td>11150.0</td>\n",
       "      <td>8675.0</td>\n",
       "      <td>36</td>\n",
       "      <td>20.00</td>\n",
       "      <td>12.63</td>\n",
       "      <td>1.49</td>\n",
       "      <td>414.38</td>\n",
       "      <td>D</td>\n",
       "      <td>...</td>\n",
       "      <td>05-27-2013 17:00:00</td>\n",
       "      <td>0</td>\n",
       "      <td>0</td>\n",
       "      <td>5</td>\n",
       "      <td>30.1</td>\n",
       "      <td>0</td>\n",
       "      <td>12</td>\n",
       "      <td>1</td>\n",
       "      <td>1</td>\n",
       "      <td>12</td>\n",
       "    </tr>\n",
       "    <tr>\n",
       "      <th>4</th>\n",
       "      <td>154607088</td>\n",
       "      <td>190596210</td>\n",
       "      <td>19125.0</td>\n",
       "      <td>18325.0</td>\n",
       "      <td>60</td>\n",
       "      <td>15.24</td>\n",
       "      <td>7.28</td>\n",
       "      <td>0.86</td>\n",
       "      <td>457.40</td>\n",
       "      <td>C</td>\n",
       "      <td>...</td>\n",
       "      <td></td>\n",
       "      <td></td>\n",
       "      <td></td>\n",
       "      <td></td>\n",
       "      <td></td>\n",
       "      <td></td>\n",
       "      <td></td>\n",
       "      <td></td>\n",
       "      <td></td>\n",
       "      <td></td>\n",
       "    </tr>\n",
       "  </tbody>\n",
       "</table>\n",
       "<p>5 rows × 122 columns</p>\n",
       "</div>"
      ],
      "text/plain": [
       "          id  member_id  loan_amnt  funded_amnt  term  int_rate  \\\n",
       "0  154522518  190327199    15000.0      14800.0    36     10.33   \n",
       "1  154600521  190534584    17000.0      16725.0    36     11.71   \n",
       "2  154124100  189640879    30000.0      23025.0    36     17.97   \n",
       "3  154334950  189967957    11150.0       8675.0    36     20.00   \n",
       "4  154607088  190596210    19125.0      18325.0    60     15.24   \n",
       "\n",
       "   exp_default_rate  service_fee_rate  installment grade  ...  \\\n",
       "0              5.14              1.03       486.34     B  ...   \n",
       "1              5.14              1.03       562.30     B  ...   \n",
       "2             12.63              1.49      1084.13     D  ...   \n",
       "3             12.63              1.49       414.38     D  ...   \n",
       "4              7.28              0.86       457.40     C  ...   \n",
       "\n",
       "  sec_app_earliest_cr_line sec_app_inq_last_6mths sec_app_mort_acc  \\\n",
       "0                                                                    \n",
       "1                                                                    \n",
       "2                                                                    \n",
       "3      05-27-2013 17:00:00                      0                0   \n",
       "4                                                                    \n",
       "\n",
       "  sec_app_open_acc  sec_app_revol_util sec_app_open_act_il  \\\n",
       "0                                                            \n",
       "1                                                            \n",
       "2                                                            \n",
       "3                5                30.1                   0   \n",
       "4                                                            \n",
       "\n",
       "  sec_app_num_rev_accts sec_app_chargeoff_within_12_mths  \\\n",
       "0                                                          \n",
       "1                                                          \n",
       "2                                                          \n",
       "3                    12                                1   \n",
       "4                                                          \n",
       "\n",
       "  sec_app_collections_12_mths_ex_med sec_app_mths_since_last_major_derog  \n",
       "0                                                                         \n",
       "1                                                                         \n",
       "2                                                                         \n",
       "3                                  1                                  12  \n",
       "4                                                                         \n",
       "\n",
       "[5 rows x 122 columns]"
      ]
     },
     "execution_count": 37,
     "metadata": {},
     "output_type": "execute_result"
    }
   ],
   "source": [
    "browseNotes = pd.read_csv('~/peervest/lc_data/browseNotes_7.8.19.csv')\n",
    "browseNotes.head()"
   ]
  },
  {
   "cell_type": "code",
   "execution_count": 142,
   "metadata": {},
   "outputs": [],
   "source": [
    "dfs_list = [browseNotes]"
   ]
  },
  {
   "cell_type": "markdown",
   "metadata": {},
   "source": [
    "### Clean browseNotes to have same shape/format as X_train_classif"
   ]
  },
  {
   "cell_type": "code",
   "execution_count": 55,
   "metadata": {},
   "outputs": [],
   "source": [
    "from functions_and_objects import (clean_new_LC_data_classification_current,preprocessing_current,\n",
    "                                  one_hot_encode_current,concat_X_and_6ohe_dfs, prep_all_df_for_classification)"
   ]
  },
  {
   "cell_type": "code",
   "execution_count": 143,
   "metadata": {},
   "outputs": [
    {
     "name": "stderr",
     "output_type": "stream",
     "text": [
      "/home/jupyter/peervest/functions_and_objects.py:338: FutureWarning: Passing datetime64-dtype data to TimedeltaIndex is deprecated, will raise a TypeError in a future version\n",
      "  raw_lc_df['earliest_cr_line'] = pd.to_timedelta(pd.to_datetime(raw_lc_df['earliest_cr_line'])).dt.days\n"
     ]
    }
   ],
   "source": [
    "(X_current_regr, y_current, table_all_current) = current_pipeline(dfs_list, 'nn_v7.joblib', 'rf_regr_v3.joblib')"
   ]
  },
  {
   "cell_type": "code",
   "execution_count": 145,
   "metadata": {},
   "outputs": [
    {
     "data": {
      "text/plain": [
       "0"
      ]
     },
     "execution_count": 145,
     "metadata": {},
     "output_type": "execute_result"
    }
   ],
   "source": [
    "len(y_current[(y_current['prob_default'] < 0.5) & (y_current['annu_return'] > 0.05)])"
   ]
  },
  {
   "cell_type": "code",
   "execution_count": 147,
   "metadata": {},
   "outputs": [
    {
     "data": {
      "image/png": "[encoded data removed]",
      "text/plain": [
       "<Figure size 432x288 with 1 Axes>"
      ]
     },
     "metadata": {
      "needs_background": "light"
     },
     "output_type": "display_data"
    }
   ],
   "source": [
    "plt.hist(y_current['annu_return'],bins=60,range=(-1,0.2),label='computed',alpha=0.6)\n",
    "plt.hist(y_current['return_preds'],bins=60,range=(-1,0.2),label='predicted',alpha=0.6)\n",
    "plt.xlabel('Annualized Return')\n",
    "plt.ylabel('Frequency of Loans')\n",
    "plt.legend()\n",
    "plt.title('Frequency of Loans by Returns')\n",
    "plt.show()"
   ]
  },
  {
   "cell_type": "code",
   "execution_count": 146,
   "metadata": {},
   "outputs": [
    {
     "data": {
      "image/png": "[encoded data removed]",
      "text/plain": [
       "<Figure size 432x288 with 1 Axes>"
      ]
     },
     "metadata": {
      "needs_background": "light"
     },
     "output_type": "display_data"
    }
   ],
   "source": [
    "plt.hist(y_current['prob_default'],bins=40, range=(0,1))\n",
    "plt.xlabel('probability of default')\n",
    "plt.ylabel('frequency of loans')\n",
    "plt.show()"
   ]
  },
  {
   "cell_type": "code",
   "execution_count": 148,
   "metadata": {},
   "outputs": [
    {
     "data": {
      "text/html": [
       "<div>\n",
       "<style scoped>\n",
       "    .dataframe tbody tr th:only-of-type {\n",
       "        vertical-align: middle;\n",
       "    }\n",
       "\n",
       "    .dataframe tbody tr th {\n",
       "        vertical-align: top;\n",
       "    }\n",
       "\n",
       "    .dataframe thead th {\n",
       "        text-align: right;\n",
       "    }\n",
       "</style>\n",
       "<table border=\"1\" class=\"dataframe\">\n",
       "  <thead>\n",
       "    <tr style=\"text-align: right;\">\n",
       "      <th></th>\n",
       "      <th>prob_default</th>\n",
       "      <th>prob_fullypaid</th>\n",
       "      <th>annu_return</th>\n",
       "      <th>return_preds</th>\n",
       "      <th>loan_amnt</th>\n",
       "      <th>funded_amnt</th>\n",
       "      <th>total_pymnt</th>\n",
       "      <th>int_rate</th>\n",
       "      <th>emp_length</th>\n",
       "      <th>annual_inc</th>\n",
       "      <th>...</th>\n",
       "      <th>emp_title_2_Technician</th>\n",
       "      <th>emp_title_2_Truck Driver</th>\n",
       "      <th>emp_title_2_Vice President</th>\n",
       "      <th>emp_title_2_driver</th>\n",
       "      <th>emp_title_2_manager</th>\n",
       "      <th>emp_title_2_owner</th>\n",
       "      <th>emp_title_2_sales</th>\n",
       "      <th>emp_title_2_supervisor</th>\n",
       "      <th>emp_title_2_teacher</th>\n",
       "      <th>emp_title_2_truck driver</th>\n",
       "    </tr>\n",
       "    <tr>\n",
       "      <th>id</th>\n",
       "      <th></th>\n",
       "      <th></th>\n",
       "      <th></th>\n",
       "      <th></th>\n",
       "      <th></th>\n",
       "      <th></th>\n",
       "      <th></th>\n",
       "      <th></th>\n",
       "      <th></th>\n",
       "      <th></th>\n",
       "      <th></th>\n",
       "      <th></th>\n",
       "      <th></th>\n",
       "      <th></th>\n",
       "      <th></th>\n",
       "      <th></th>\n",
       "      <th></th>\n",
       "      <th></th>\n",
       "      <th></th>\n",
       "      <th></th>\n",
       "      <th></th>\n",
       "    </tr>\n",
       "  </thead>\n",
       "  <tbody>\n",
       "    <tr>\n",
       "      <th>154522518</th>\n",
       "      <td>0.010260</td>\n",
       "      <td>0.989740</td>\n",
       "      <td>-1.0</td>\n",
       "      <td>-0.998136</td>\n",
       "      <td>15000</td>\n",
       "      <td>14800.0</td>\n",
       "      <td>0.0</td>\n",
       "      <td>0.1033</td>\n",
       "      <td>1.0</td>\n",
       "      <td>92000.0</td>\n",
       "      <td>...</td>\n",
       "      <td>0.0</td>\n",
       "      <td>0.0</td>\n",
       "      <td>0.0</td>\n",
       "      <td>0.0</td>\n",
       "      <td>0.0</td>\n",
       "      <td>0.0</td>\n",
       "      <td>0.0</td>\n",
       "      <td>0.0</td>\n",
       "      <td>0.0</td>\n",
       "      <td>0.0</td>\n",
       "    </tr>\n",
       "    <tr>\n",
       "      <th>154600521</th>\n",
       "      <td>0.672883</td>\n",
       "      <td>0.327117</td>\n",
       "      <td>-1.0</td>\n",
       "      <td>-0.998610</td>\n",
       "      <td>17000</td>\n",
       "      <td>16725.0</td>\n",
       "      <td>0.0</td>\n",
       "      <td>0.1171</td>\n",
       "      <td>1.0</td>\n",
       "      <td>72000.0</td>\n",
       "      <td>...</td>\n",
       "      <td>0.0</td>\n",
       "      <td>0.0</td>\n",
       "      <td>0.0</td>\n",
       "      <td>0.0</td>\n",
       "      <td>0.0</td>\n",
       "      <td>0.0</td>\n",
       "      <td>0.0</td>\n",
       "      <td>0.0</td>\n",
       "      <td>0.0</td>\n",
       "      <td>0.0</td>\n",
       "    </tr>\n",
       "    <tr>\n",
       "      <th>154124100</th>\n",
       "      <td>0.991917</td>\n",
       "      <td>0.008083</td>\n",
       "      <td>-1.0</td>\n",
       "      <td>-0.998013</td>\n",
       "      <td>30000</td>\n",
       "      <td>23025.0</td>\n",
       "      <td>0.0</td>\n",
       "      <td>0.1797</td>\n",
       "      <td>1.0</td>\n",
       "      <td>275000.0</td>\n",
       "      <td>...</td>\n",
       "      <td>0.0</td>\n",
       "      <td>0.0</td>\n",
       "      <td>0.0</td>\n",
       "      <td>0.0</td>\n",
       "      <td>0.0</td>\n",
       "      <td>0.0</td>\n",
       "      <td>0.0</td>\n",
       "      <td>0.0</td>\n",
       "      <td>0.0</td>\n",
       "      <td>0.0</td>\n",
       "    </tr>\n",
       "    <tr>\n",
       "      <th>154607088</th>\n",
       "      <td>0.937734</td>\n",
       "      <td>0.062266</td>\n",
       "      <td>-1.0</td>\n",
       "      <td>-0.995096</td>\n",
       "      <td>19125</td>\n",
       "      <td>18325.0</td>\n",
       "      <td>0.0</td>\n",
       "      <td>0.1524</td>\n",
       "      <td>1.0</td>\n",
       "      <td>96943.0</td>\n",
       "      <td>...</td>\n",
       "      <td>0.0</td>\n",
       "      <td>0.0</td>\n",
       "      <td>0.0</td>\n",
       "      <td>0.0</td>\n",
       "      <td>0.0</td>\n",
       "      <td>0.0</td>\n",
       "      <td>0.0</td>\n",
       "      <td>0.0</td>\n",
       "      <td>0.0</td>\n",
       "      <td>0.0</td>\n",
       "    </tr>\n",
       "    <tr>\n",
       "      <th>154366749</th>\n",
       "      <td>0.131813</td>\n",
       "      <td>0.868187</td>\n",
       "      <td>-1.0</td>\n",
       "      <td>-0.998610</td>\n",
       "      <td>20000</td>\n",
       "      <td>14250.0</td>\n",
       "      <td>0.0</td>\n",
       "      <td>0.0702</td>\n",
       "      <td>0.0</td>\n",
       "      <td>115000.0</td>\n",
       "      <td>...</td>\n",
       "      <td>0.0</td>\n",
       "      <td>0.0</td>\n",
       "      <td>0.0</td>\n",
       "      <td>0.0</td>\n",
       "      <td>0.0</td>\n",
       "      <td>0.0</td>\n",
       "      <td>0.0</td>\n",
       "      <td>0.0</td>\n",
       "      <td>0.0</td>\n",
       "      <td>0.0</td>\n",
       "    </tr>\n",
       "  </tbody>\n",
       "</table>\n",
       "<p>5 rows × 1112 columns</p>\n",
       "</div>"
      ],
      "text/plain": [
       "           prob_default  prob_fullypaid  annu_return  return_preds  loan_amnt  \\\n",
       "id                                                                              \n",
       "154522518      0.010260        0.989740         -1.0     -0.998136      15000   \n",
       "154600521      0.672883        0.327117         -1.0     -0.998610      17000   \n",
       "154124100      0.991917        0.008083         -1.0     -0.998013      30000   \n",
       "154607088      0.937734        0.062266         -1.0     -0.995096      19125   \n",
       "154366749      0.131813        0.868187         -1.0     -0.998610      20000   \n",
       "\n",
       "           funded_amnt  total_pymnt  int_rate  emp_length  annual_inc  ...  \\\n",
       "id                                                                     ...   \n",
       "154522518      14800.0          0.0    0.1033         1.0     92000.0  ...   \n",
       "154600521      16725.0          0.0    0.1171         1.0     72000.0  ...   \n",
       "154124100      23025.0          0.0    0.1797         1.0    275000.0  ...   \n",
       "154607088      18325.0          0.0    0.1524         1.0     96943.0  ...   \n",
       "154366749      14250.0          0.0    0.0702         0.0    115000.0  ...   \n",
       "\n",
       "           emp_title_2_Technician  emp_title_2_Truck Driver  \\\n",
       "id                                                            \n",
       "154522518                     0.0                       0.0   \n",
       "154600521                     0.0                       0.0   \n",
       "154124100                     0.0                       0.0   \n",
       "154607088                     0.0                       0.0   \n",
       "154366749                     0.0                       0.0   \n",
       "\n",
       "           emp_title_2_Vice President  emp_title_2_driver  \\\n",
       "id                                                          \n",
       "154522518                         0.0                 0.0   \n",
       "154600521                         0.0                 0.0   \n",
       "154124100                         0.0                 0.0   \n",
       "154607088                         0.0                 0.0   \n",
       "154366749                         0.0                 0.0   \n",
       "\n",
       "           emp_title_2_manager  emp_title_2_owner  emp_title_2_sales  \\\n",
       "id                                                                     \n",
       "154522518                  0.0                0.0                0.0   \n",
       "154600521                  0.0                0.0                0.0   \n",
       "154124100                  0.0                0.0                0.0   \n",
       "154607088                  0.0                0.0                0.0   \n",
       "154366749                  0.0                0.0                0.0   \n",
       "\n",
       "           emp_title_2_supervisor  emp_title_2_teacher  \\\n",
       "id                                                       \n",
       "154522518                     0.0                  0.0   \n",
       "154600521                     0.0                  0.0   \n",
       "154124100                     0.0                  0.0   \n",
       "154607088                     0.0                  0.0   \n",
       "154366749                     0.0                  0.0   \n",
       "\n",
       "           emp_title_2_truck driver  \n",
       "id                                   \n",
       "154522518                       0.0  \n",
       "154600521                       0.0  \n",
       "154124100                       0.0  \n",
       "154607088                       0.0  \n",
       "154366749                       0.0  \n",
       "\n",
       "[5 rows x 1112 columns]"
      ]
     },
     "execution_count": 148,
     "metadata": {},
     "output_type": "execute_result"
    }
   ],
   "source": [
    "table_all_current.head()"
   ]
  },
  {
   "cell_type": "markdown",
   "metadata": {},
   "source": [
    "### Neural Network Classification Model"
   ]
  },
  {
   "cell_type": "markdown",
   "metadata": {},
   "source": [
    "##### Fit"
   ]
  },
  {
   "cell_type": "code",
   "execution_count": 7,
   "metadata": {},
   "outputs": [],
   "source": [
    "ss = StandardScaler()\n",
    "X_train_classif_s = ss.fit_transform(X_train_classif)\n",
    "X_test_classif_s = ss.transform(X_test_classif)"
   ]
  },
  {
   "cell_type": "code",
   "execution_count": 8,
   "metadata": {},
   "outputs": [
    {
     "data": {
      "text/plain": [
       "array([[ 0.62121525,  0.62250523,  0.91077999, ..., -0.043633  ,\n",
       "        -0.05705072, -0.03939376],\n",
       "       [ 0.04623632,  0.04726958, -0.42602655, ..., -0.043633  ,\n",
       "        -0.05705072, -0.03939376],\n",
       "       [ 0.16123211,  0.16231671,  0.27184228, ..., -0.043633  ,\n",
       "        -0.05705072, -0.03939376],\n",
       "       ...,\n",
       "       [-1.00022532, -0.99965929, -0.86988914, ..., -0.043633  ,\n",
       "        -0.05705072, -0.03939376],\n",
       "       [ 0.27622789,  0.27736384, -0.3839326 , ..., -0.043633  ,\n",
       "        -0.05705072, -0.03939376],\n",
       "       [ 0.39122368,  0.39241097,  0.45438799, ..., -0.043633  ,\n",
       "        -0.05705072, -0.03939376]])"
      ]
     },
     "execution_count": 8,
     "metadata": {},
     "output_type": "execute_result"
    }
   ],
   "source": [
    "X_train_classif_s"
   ]
  },
  {
   "cell_type": "code",
   "execution_count": 9,
   "metadata": {},
   "outputs": [],
   "source": [
    "X_train_classif_s = X_train_classif_s.astype('float32')"
   ]
  },
  {
   "cell_type": "code",
   "execution_count": 10,
   "metadata": {},
   "outputs": [],
   "source": [
    "X_test_classif_s = X_test_classif_s.astype('float32')"
   ]
  },
  {
   "cell_type": "code",
   "execution_count": 11,
   "metadata": {},
   "outputs": [
    {
     "data": {
      "text/plain": [
       "array([1, 0, 1, ..., 1, 0, 1], dtype=object)"
      ]
     },
     "execution_count": 11,
     "metadata": {},
     "output_type": "execute_result"
    }
   ],
   "source": [
    "np.array(y_train_classif['loan_status'])"
   ]
  },
  {
   "cell_type": "code",
   "execution_count": 12,
   "metadata": {},
   "outputs": [],
   "source": [
    "y_train_classif['loan_status'] = y_train_classif['loan_status'].astype(int)\n",
    "y_test_classif['loan_status'] = y_test_classif['loan_status'].astype(int)"
   ]
  },
  {
   "cell_type": "code",
   "execution_count": 13,
   "metadata": {},
   "outputs": [],
   "source": [
    "y_train_classif_softmax = to_categorical(np.array(y_train_classif['loan_status']),num_classes=None)\n",
    "y_test_classif_softmax = to_categorical(np.array(y_test_classif['loan_status']),num_classes=None)"
   ]
  },
  {
   "cell_type": "code",
   "execution_count": 14,
   "metadata": {},
   "outputs": [
    {
     "data": {
      "text/plain": [
       "array([[0., 1.],\n",
       "       [1., 0.],\n",
       "       [0., 1.],\n",
       "       ...,\n",
       "       [0., 1.],\n",
       "       [1., 0.],\n",
       "       [0., 1.]], dtype=float32)"
      ]
     },
     "execution_count": 14,
     "metadata": {},
     "output_type": "execute_result"
    }
   ],
   "source": [
    "y_train_classif_softmax"
   ]
  },
  {
   "cell_type": "code",
   "execution_count": 43,
   "metadata": {},
   "outputs": [],
   "source": [
    "model = Sequential()\n",
    "n_input = X_train_classif_s.shape[1]\n",
    "n_hidden = n_input\n",
    "\n",
    "model.add(Dense(n_hidden, input_dim=n_input, activation='sigmoid'))\n",
    "#model.add(Dropout(rate=0.2))\n",
    "model.add(Dense(1000,activation='sigmoid',kernel_regularizer=regularizers.l2(0.0001)))\n",
    "model.add(Dense(300,activation='sigmoid'))\n",
    "model.add(Dense(50,activation='sigmoid',kernel_regularizer=regularizers.l2(0.001))) #l2 = 0.001\n",
    "model.add(Dense(1,activation='sigmoid',kernel_regularizer=regularizers.l2(0.001)))#l2 = 0.001"
   ]
  },
  {
   "cell_type": "code",
   "execution_count": 44,
   "metadata": {},
   "outputs": [],
   "source": [
    "model.compile(loss='binary_crossentropy', optimizer=Adam(), metrics=['binary_accuracy']) #try binary_accuracy for v6?"
   ]
  },
  {
   "cell_type": "code",
   "execution_count": 45,
   "metadata": {},
   "outputs": [],
   "source": [
    "early_stop = EarlyStopping(monitor='val_loss', min_delta=1e-05, patience=0, verbose=1, mode='auto')\n",
    "callbacks_list = [early_stop]"
   ]
  },
  {
   "cell_type": "code",
   "execution_count": 46,
   "metadata": {},
   "outputs": [],
   "source": [
    "from sklearn.utils import class_weight\n",
    "class_weights = class_weight.compute_class_weight('balanced',\n",
    "                                                  classes=np.unique(y_train_classif),\n",
    "                                                  y=y_train_classif['loan_status'])"
   ]
  },
  {
   "cell_type": "code",
   "execution_count": 47,
   "metadata": {
    "scrolled": true
   },
   "outputs": [
    {
     "name": "stdout",
     "output_type": "stream",
     "text": [
      "Train on 880950 samples, validate on 377551 samples\n",
      "Epoch 1/5\n",
      "880950/880950 [==============================] - 145s 165us/step - loss: 0.6030 - binary_accuracy: 0.7988 - val_loss: 0.5393 - val_binary_accuracy: 0.8051\n",
      "Epoch 2/5\n",
      "880950/880950 [==============================] - 142s 161us/step - loss: 0.3142 - binary_accuracy: 0.8946 - val_loss: 0.1301 - val_binary_accuracy: 0.9692\n",
      "Epoch 3/5\n",
      "880950/880950 [==============================] - 144s 163us/step - loss: 0.0982 - binary_accuracy: 0.9779 - val_loss: 0.0864 - val_binary_accuracy: 0.9799\n",
      "Epoch 4/5\n",
      "880950/880950 [==============================] - 144s 163us/step - loss: 0.0740 - binary_accuracy: 0.9831 - val_loss: 0.0717 - val_binary_accuracy: 0.9827\n",
      "Epoch 5/5\n",
      "880950/880950 [==============================] - 144s 164us/step - loss: 0.0656 - binary_accuracy: 0.9844 - val_loss: 0.0625 - val_binary_accuracy: 0.9854\n"
     ]
    }
   ],
   "source": [
    "history_log = model.fit(X_train_classif_s, y_train_classif, \n",
    "                        validation_data=(X_test_classif_s, y_test_classif), \n",
    "                        epochs=5, \n",
    "                        callbacks=callbacks_list, \n",
    "                        batch_size=5000,\n",
    "                        class_weight=class_weights)"
   ]
  },
  {
   "cell_type": "code",
   "execution_count": 48,
   "metadata": {},
   "outputs": [
    {
     "data": {
      "image/png": "[encoded data removed]",
      "text/plain": [
       "<Figure size 432x288 with 1 Axes>"
      ]
     },
     "metadata": {
      "needs_background": "light"
     },
     "output_type": "display_data"
    }
   ],
   "source": [
    "plt.plot(history_log.history['loss'], label='Training loss')\n",
    "plt.plot(history_log.history['val_loss'], label='Testing loss')\n",
    "plt.legend();"
   ]
  },
  {
   "cell_type": "code",
   "execution_count": 49,
   "metadata": {},
   "outputs": [
    {
     "name": "stdout",
     "output_type": "stream",
     "text": [
      "_________________________________________________________________\n",
      "Layer (type)                 Output Shape              Param #   \n",
      "=================================================================\n",
      "dense_27 (Dense)             (None, 1108)              1228772   \n",
      "_________________________________________________________________\n",
      "dense_28 (Dense)             (None, 1000)              1109000   \n",
      "_________________________________________________________________\n",
      "dense_29 (Dense)             (None, 300)               300300    \n",
      "_________________________________________________________________\n",
      "dense_30 (Dense)             (None, 50)                15050     \n",
      "_________________________________________________________________\n",
      "dense_31 (Dense)             (None, 1)                 51        \n",
      "=================================================================\n",
      "Total params: 2,653,173\n",
      "Trainable params: 2,653,173\n",
      "Non-trainable params: 0\n",
      "_________________________________________________________________\n"
     ]
    }
   ],
   "source": [
    "model.summary()"
   ]
  },
  {
   "cell_type": "code",
   "execution_count": 50,
   "metadata": {},
   "outputs": [],
   "source": [
    "y_test_classif_preds = model.predict_classes(X_test_classif_s)"
   ]
  },
  {
   "cell_type": "code",
   "execution_count": 51,
   "metadata": {},
   "outputs": [
    {
     "data": {
      "text/plain": [
       "array([[0],\n",
       "       [1],\n",
       "       [1],\n",
       "       ...,\n",
       "       [1],\n",
       "       [1],\n",
       "       [0]], dtype=int32)"
      ]
     },
     "execution_count": 51,
     "metadata": {},
     "output_type": "execute_result"
    }
   ],
   "source": [
    "y_test_classif_preds"
   ]
  },
  {
   "cell_type": "code",
   "execution_count": 52,
   "metadata": {},
   "outputs": [],
   "source": [
    "nn_v7_class_preds_proba = model.predict_proba(X_test_classif_s)"
   ]
  },
  {
   "cell_type": "code",
   "execution_count": 53,
   "metadata": {},
   "outputs": [
    {
     "data": {
      "text/plain": [
       "array([[0.00678936],\n",
       "       [0.91375136],\n",
       "       [0.9921013 ],\n",
       "       ...,\n",
       "       [0.9932249 ],\n",
       "       [0.99566996],\n",
       "       [0.00680078]], dtype=float32)"
      ]
     },
     "execution_count": 53,
     "metadata": {},
     "output_type": "execute_result"
    }
   ],
   "source": [
    "nn_v7_class_preds_proba"
   ]
  },
  {
   "cell_type": "code",
   "execution_count": 58,
   "metadata": {},
   "outputs": [
    {
     "data": {
      "text/plain": [
       "(array([135., 159., 149., 147., 152., 138., 140., 128., 125., 124., 124.,\n",
       "        133., 127., 159., 139., 148., 142., 145., 165., 172., 154., 156.,\n",
       "        165., 178., 169., 229., 212., 210., 222., 267.]),\n",
       " array([0.3       , 0.31333333, 0.32666665, 0.34      , 0.35333332,\n",
       "        0.36666667, 0.38      , 0.39333335, 0.40666667, 0.42      ,\n",
       "        0.43333334, 0.44666666, 0.46      , 0.47333333, 0.48666668,\n",
       "        0.5       , 0.5133333 , 0.52666664, 0.54      , 0.55333334,\n",
       "        0.56666666, 0.58      , 0.5933333 , 0.6066667 , 0.62      ,\n",
       "        0.6333333 , 0.64666665, 0.66      , 0.67333335, 0.68666667,\n",
       "        0.7       ], dtype=float32),\n",
       " <a list of 30 Patch objects>)"
      ]
     },
     "execution_count": 58,
     "metadata": {},
     "output_type": "execute_result"
    },
    {
     "data": {
      "image/png": "[encoded data removed]",
      "text/plain": [
       "<Figure size 432x288 with 1 Axes>"
      ]
     },
     "metadata": {
      "needs_background": "light"
     },
     "output_type": "display_data"
    }
   ],
   "source": [
    "plt.hist(nn_v7_class_preds_proba,bins=30,range=(0.3,0.7))"
   ]
  },
  {
   "cell_type": "markdown",
   "metadata": {},
   "source": [
    "### Try Isotonic Regression to calibrate"
   ]
  },
  {
   "cell_type": "code",
   "execution_count": null,
   "metadata": {},
   "outputs": [],
   "source": []
  },
  {
   "cell_type": "markdown",
   "metadata": {},
   "source": [
    "### Try sklearn Multilayer Perceptron"
   ]
  },
  {
   "cell_type": "code",
   "execution_count": 33,
   "metadata": {},
   "outputs": [
    {
     "name": "stderr",
     "output_type": "stream",
     "text": [
      "/usr/local/lib/python3.5/dist-packages/sklearn/neural_network/multilayer_perceptron.py:921: DataConversionWarning: A column-vector y was passed when a 1d array was expected. Please change the shape of y to (n_samples, ), for example using ravel().\n",
      "  y = column_or_1d(y, warn=True)\n",
      "/usr/local/lib/python3.5/dist-packages/sklearn/neural_network/multilayer_perceptron.py:568: UserWarning: Training interrupted by user.\n",
      "  warnings.warn(\"Training interrupted by user.\")\n"
     ]
    },
    {
     "data": {
      "text/plain": [
       "MLPClassifier(activation='logistic', alpha=0.0001, batch_size='auto',\n",
       "              beta_1=0.9, beta_2=0.999, early_stopping=False, epsilon=1e-08,\n",
       "              hidden_layer_sizes=(10, 10, 5, 3), learning_rate='constant',\n",
       "              learning_rate_init=0.001, max_iter=200, momentum=0.9,\n",
       "              n_iter_no_change=10, nesterovs_momentum=True, power_t=0.5,\n",
       "              random_state=None, shuffle=True, solver='adam', tol=0.0001,\n",
       "              validation_fraction=0.1, verbose=False, warm_start=False)"
      ]
     },
     "execution_count": 33,
     "metadata": {},
     "output_type": "execute_result"
    }
   ],
   "source": [
    "from sklearn.neural_network import MLPClassifier\n",
    "mlp = MLPClassifier(activation='logistic', hidden_layer_sizes=(10, 10, 5, 3))\n",
    "mlp.fit(X_train_classif_s, y_train_classif)"
   ]
  },
  {
   "cell_type": "code",
   "execution_count": 35,
   "metadata": {},
   "outputs": [
    {
     "data": {
      "text/plain": [
       "array([3.17542749e-04, 9.99436945e-01, 9.99607318e-01, ...,\n",
       "       9.99828606e-01, 9.99828606e-01, 1.15157216e-04])"
      ]
     },
     "execution_count": 35,
     "metadata": {},
     "output_type": "execute_result"
    }
   ],
   "source": [
    "mlp.predict_proba(X_test_classif)[:,1]"
   ]
  },
  {
   "cell_type": "markdown",
   "metadata": {},
   "source": [
    "##### Predict & Eval NN_v2"
   ]
  },
  {
   "cell_type": "code",
   "execution_count": 21,
   "metadata": {},
   "outputs": [
    {
     "name": "stdout",
     "output_type": "stream",
     "text": [
      "Precision Fully Paid: 0.9872847917296892\n",
      "Recall Fully Paid: 0.9877719804983321\n",
      "F-1 Score Fully Paid: 0.9875283260263971\n",
      "ROC-AUC Score: 0.9676073977542289\n"
     ]
    }
   ],
   "source": [
    "#print (\"Precision Fully Paid: {}\".format(precision_score(y_test_classif['loan_status'],y_test_classif_preds)))\n",
    "#print (\"Recall Fully Paid: {}\".format(recall_score(y_test_classif['loan_status'],y_test_classif_preds)))\n",
    "#print (\"F-1 Score Fully Paid: {}\".format(f1_score(y_test_classif['loan_status'],y_test_classif_preds)))\n",
    "#print (\"ROC-AUC Score: {}\".format(roc_auc_score(y_test_classif['loan_status'],y_test_classif_preds)))"
   ]
  },
  {
   "cell_type": "code",
   "execution_count": 22,
   "metadata": {},
   "outputs": [
    {
     "name": "stdout",
     "output_type": "stream",
     "text": [
      "Precision, Recall, F, & Support By Class [0,1] aka [Default,Fully Paid]: (array([0.94937829, 0.98728479]), array([0.94744282, 0.98777198]), array([0.94840957, 0.98752833]), array([ 73577, 303974]))\n",
      "Precision, Recall, F, & Support Weighted Average by Support: (0.9798975874129687, 0.9799126475628458, 0.9799048766738255, None)\n"
     ]
    }
   ],
   "source": [
    "#precision, recall, f1-score\n",
    "#print (\"Precision, Recall, F, & Support By Class [0,1] aka [Default,Fully Paid]: {}\".format(\n",
    "#    precision_recall_fscore_support(y_test_classif['loan_status'],y_test_classif_preds)))\n",
    "\n",
    "#print (\"Precision, Recall, F, & Support Weighted Average by Support: {}\".format(\n",
    "#    precision_recall_fscore_support(y_test_classif['loan_status'],y_test_classif_preds,average='weighted')))"
   ]
  },
  {
   "cell_type": "markdown",
   "metadata": {},
   "source": [
    "### Save NN_v2 Model to JobLib"
   ]
  },
  {
   "cell_type": "markdown",
   "metadata": {},
   "source": [
    "- changed architecture of Neural Network with additional layers, added L2 regularization, dropout, and early stopping"
   ]
  },
  {
   "cell_type": "code",
   "execution_count": null,
   "metadata": {},
   "outputs": [],
   "source": [
    "#filename = 'nn_v2.joblib'\n",
    "#joblib.dump(model, filename)"
   ]
  },
  {
   "cell_type": "markdown",
   "metadata": {},
   "source": [
    "##### Predict & Eval NN_v3"
   ]
  },
  {
   "cell_type": "markdown",
   "metadata": {},
   "source": [
    "### Save NN_v3 Model to JobLib"
   ]
  },
  {
   "cell_type": "markdown",
   "metadata": {},
   "source": [
    "- changed X_train_classif_s to type 'float32' to see whether this improved calibration\n",
    "- larger batch size for speed of model.fit"
   ]
  },
  {
   "cell_type": "code",
   "execution_count": 26,
   "metadata": {},
   "outputs": [
    {
     "data": {
      "text/plain": [
       "['nn_v3.joblib']"
      ]
     },
     "execution_count": 26,
     "metadata": {},
     "output_type": "execute_result"
    }
   ],
   "source": [
    "#filename = 'nn_v3.joblib'\n",
    "#joblib.dump(model, filename)"
   ]
  },
  {
   "cell_type": "code",
   "execution_count": 30,
   "metadata": {},
   "outputs": [
    {
     "name": "stdout",
     "output_type": "stream",
     "text": [
      "Precision Fully Paid: 0.9775323474744307\n",
      "Recall Fully Paid: 0.9844624869232237\n",
      "F-1 Score Fully Paid: 0.980985177912582\n",
      "ROC-AUC Score: 0.9454910936865463\n"
     ]
    }
   ],
   "source": [
    "#print (\"Precision Fully Paid: {}\".format(precision_score(y_test_classif['loan_status'],y_test_classif_preds)))\n",
    "#print (\"Recall Fully Paid: {}\".format(recall_score(y_test_classif['loan_status'],y_test_classif_preds)))\n",
    "#print (\"F-1 Score Fully Paid: {}\".format(f1_score(y_test_classif['loan_status'],y_test_classif_preds)))\n",
    "#print (\"ROC-AUC Score: {}\".format(roc_auc_score(y_test_classif['loan_status'],y_test_classif_preds)))"
   ]
  },
  {
   "cell_type": "code",
   "execution_count": 31,
   "metadata": {},
   "outputs": [
    {
     "name": "stdout",
     "output_type": "stream",
     "text": [
      "Precision, Recall, F, & Support By Class [0,1] aka [Default,Fully Paid]: (array([0.93387192, 0.97753235]), array([0.9065197 , 0.98446249]), array([0.91999255, 0.98098518]), array([ 73577, 303974]))\n",
      "Precision, Recall, F, & Support Weighted Average by Support: (0.9690238186910873, 0.9692730253661095, 0.96909895734676, None)\n"
     ]
    }
   ],
   "source": [
    "#precision, recall, f1-score\n",
    "#print (\"Precision, Recall, F, & Support By Class [0,1] aka [Default,Fully Paid]: {}\".format(\n",
    "#    precision_recall_fscore_support(y_test_classif['loan_status'],y_test_classif_preds)))\n",
    "\n",
    "#print (\"Precision, Recall, F, & Support Weighted Average by Support: {}\".format(\n",
    "#    precision_recall_fscore_support(y_test_classif['loan_status'],y_test_classif_preds,average='weighted')))"
   ]
  },
  {
   "cell_type": "markdown",
   "metadata": {},
   "source": [
    "### Save NN_v4 Model to JobLib"
   ]
  },
  {
   "cell_type": "markdown",
   "metadata": {},
   "source": [
    "- changed hidden layer activation functions to Sigmoid instead of ReLU as ReLU pushes predict_proba to the extremes 0 and 1"
   ]
  },
  {
   "cell_type": "code",
   "execution_count": 29,
   "metadata": {},
   "outputs": [
    {
     "data": {
      "text/plain": [
       "['nn_v4.joblib']"
      ]
     },
     "execution_count": 29,
     "metadata": {},
     "output_type": "execute_result"
    }
   ],
   "source": [
    "filename = 'nn_v4.joblib'\n",
    "joblib.dump(model, filename)"
   ]
  },
  {
   "cell_type": "code",
   "execution_count": 30,
   "metadata": {},
   "outputs": [
    {
     "name": "stdout",
     "output_type": "stream",
     "text": [
      "Precision Fully Paid: 0.9672634515743324\n",
      "Recall Fully Paid: 0.997973510892379\n",
      "F-1 Score Fully Paid: 0.9823785336439987\n",
      "ROC-AUC Score: 0.9292163108779141\n"
     ]
    }
   ],
   "source": [
    "print (\"Precision Fully Paid: {}\".format(precision_score(y_test_classif['loan_status'],y_test_classif_preds)))\n",
    "print (\"Recall Fully Paid: {}\".format(recall_score(y_test_classif['loan_status'],y_test_classif_preds)))\n",
    "print (\"F-1 Score Fully Paid: {}\".format(f1_score(y_test_classif['loan_status'],y_test_classif_preds)))\n",
    "print (\"ROC-AUC Score: {}\".format(roc_auc_score(y_test_classif['loan_status'],y_test_classif_preds)))"
   ]
  },
  {
   "cell_type": "code",
   "execution_count": 31,
   "metadata": {},
   "outputs": [
    {
     "name": "stdout",
     "output_type": "stream",
     "text": [
      "Precision, Recall, F, & Support By Class [0,1] aka [Default,Fully Paid]: (array([0.99036386, 0.96726345]), array([0.86045911, 0.99797351]), array([0.92085264, 0.98237853]), array([ 73577, 303974]))\n",
      "Precision, Recall, F, & Support Weighted Average by Support: (0.9717652503223433, 0.9711747551986354, 0.970388389331882, None)\n"
     ]
    }
   ],
   "source": [
    "#precision, recall, f1-score\n",
    "print (\"Precision, Recall, F, & Support By Class [0,1] aka [Default,Fully Paid]: {}\".format(\n",
    "    precision_recall_fscore_support(y_test_classif['loan_status'],y_test_classif_preds)))\n",
    "\n",
    "print (\"Precision, Recall, F, & Support Weighted Average by Support: {}\".format(\n",
    "    precision_recall_fscore_support(y_test_classif['loan_status'],y_test_classif_preds,average='weighted')))"
   ]
  },
  {
   "cell_type": "markdown",
   "metadata": {},
   "source": [
    "### Save NN_v5 Model to JobLib"
   ]
  },
  {
   "cell_type": "markdown",
   "metadata": {},
   "source": [
    "- increased L2 regularization on last 2 layers to 0.001, 2 dropout layers\n",
    "- changed model structure to 1000-100-50-1"
   ]
  },
  {
   "cell_type": "code",
   "execution_count": 85,
   "metadata": {},
   "outputs": [
    {
     "data": {
      "text/plain": [
       "['nn_v5.joblib']"
      ]
     },
     "execution_count": 85,
     "metadata": {},
     "output_type": "execute_result"
    }
   ],
   "source": [
    "filename = 'nn_v5.joblib'\n",
    "joblib.dump(model, filename)"
   ]
  },
  {
   "cell_type": "code",
   "execution_count": 86,
   "metadata": {},
   "outputs": [
    {
     "name": "stdout",
     "output_type": "stream",
     "text": [
      "Precision Fully Paid: 0.9768404014244092\n",
      "Recall Fully Paid: 0.9926704257600979\n",
      "F-1 Score Fully Paid: 0.9846917963561841\n",
      "ROC-AUC Score: 0.9477194769843206\n"
     ]
    }
   ],
   "source": [
    "print (\"Precision Fully Paid: {}\".format(precision_score(y_test_classif['loan_status'],y_test_classif_preds)))\n",
    "print (\"Recall Fully Paid: {}\".format(recall_score(y_test_classif['loan_status'],y_test_classif_preds)))\n",
    "print (\"F-1 Score Fully Paid: {}\".format(f1_score(y_test_classif['loan_status'],y_test_classif_preds)))\n",
    "print (\"ROC-AUC Score: {}\".format(roc_auc_score(y_test_classif['loan_status'],y_test_classif_preds)))"
   ]
  },
  {
   "cell_type": "code",
   "execution_count": 87,
   "metadata": {},
   "outputs": [
    {
     "name": "stdout",
     "output_type": "stream",
     "text": [
      "Precision, Recall, F, & Support By Class [0,1] aka [Default,Fully Paid]: (array([0.96754599, 0.9768404 ]), array([0.90276853, 0.99267043]), array([0.93403549, 0.9846918 ]), array([ 73577, 303974]))\n",
      "Precision, Recall, F, & Support Weighted Average by Support: (0.9750291106276529, 0.9751503770351555, 0.9748199144569333, None)\n"
     ]
    }
   ],
   "source": [
    "#precision, recall, f1-score\n",
    "print (\"Precision, Recall, F, & Support By Class [0,1] aka [Default,Fully Paid]: {}\".format(\n",
    "    precision_recall_fscore_support(y_test_classif['loan_status'],y_test_classif_preds)))\n",
    "\n",
    "print (\"Precision, Recall, F, & Support Weighted Average by Support: {}\".format(\n",
    "    precision_recall_fscore_support(y_test_classif['loan_status'],y_test_classif_preds,average='weighted')))"
   ]
  },
  {
   "cell_type": "markdown",
   "metadata": {},
   "source": [
    "### ROC Curve nn_v5"
   ]
  },
  {
   "cell_type": "code",
   "execution_count": 89,
   "metadata": {},
   "outputs": [
    {
     "data": {
      "image/png": "[encoded data removed]",
      "text/plain": [
       "<Figure size 432x288 with 1 Axes>"
      ]
     },
     "metadata": {
      "needs_background": "light"
     },
     "output_type": "display_data"
    }
   ],
   "source": [
    "# keep probabilities for the positive outcome only\n",
    "probs = nn_v5_class_preds_proba\n",
    "# calculate roc curve\n",
    "fpr, tpr, thresholds = roc_curve(y_test_classif, probs)\n",
    "# plot no skill\n",
    "plt.plot([0, 1], [0, 1], linestyle='--')\n",
    "# plot the roc curve for the model\n",
    "plt.plot(fpr, tpr)\n",
    "# show the plot\n",
    "plt.show()"
   ]
  },
  {
   "cell_type": "markdown",
   "metadata": {},
   "source": [
    "### Probability Calibration nn_v5"
   ]
  },
  {
   "cell_type": "code",
   "execution_count": 90,
   "metadata": {},
   "outputs": [
    {
     "data": {
      "image/png": "[encoded data removed]",
      "text/plain": [
       "<Figure size 432x288 with 1 Axes>"
      ]
     },
     "metadata": {
      "needs_background": "light"
     },
     "output_type": "display_data"
    }
   ],
   "source": [
    "# reliability diagram\n",
    "fop, mpv = calibration_curve(y_test_classif, nn_v5_class_preds_proba, n_bins=10)\n",
    "# plot perfectly calibrated\n",
    "plt.plot([0, 1], [0, 1], linestyle='--')\n",
    "# plot model reliability\n",
    "plt.plot(mpv, fop, marker='.')\n",
    "plt.show()"
   ]
  },
  {
   "cell_type": "markdown",
   "metadata": {},
   "source": [
    "### Save NN_v6 Model to JobLib"
   ]
  },
  {
   "cell_type": "markdown",
   "metadata": {},
   "source": [
    "- Attempt to fix class imbalance: added class weights using sklearn's compute_class_weights in a 'balanced' way"
   ]
  },
  {
   "cell_type": "code",
   "execution_count": 114,
   "metadata": {},
   "outputs": [
    {
     "data": {
      "text/plain": [
       "['nn_v6.joblib']"
      ]
     },
     "execution_count": 114,
     "metadata": {},
     "output_type": "execute_result"
    }
   ],
   "source": [
    "filename = 'nn_v6.joblib'\n",
    "joblib.dump(model, filename)"
   ]
  },
  {
   "cell_type": "code",
   "execution_count": 115,
   "metadata": {},
   "outputs": [
    {
     "name": "stdout",
     "output_type": "stream",
     "text": [
      "Precision Fully Paid: 0.9887225180050144\n",
      "Recall Fully Paid: 0.976879601544869\n",
      "F-1 Score Fully Paid: 0.982765382495983\n",
      "ROC-AUC Score: 0.9654230971829976\n"
     ]
    }
   ],
   "source": [
    "print (\"Precision Fully Paid: {}\".format(precision_score(y_test_classif['loan_status'],y_test_classif_preds)))\n",
    "print (\"Recall Fully Paid: {}\".format(recall_score(y_test_classif['loan_status'],y_test_classif_preds)))\n",
    "print (\"F-1 Score Fully Paid: {}\".format(f1_score(y_test_classif['loan_status'],y_test_classif_preds)))\n",
    "print (\"ROC-AUC Score: {}\".format(roc_auc_score(y_test_classif['loan_status'],y_test_classif_preds)))"
   ]
  },
  {
   "cell_type": "code",
   "execution_count": 116,
   "metadata": {},
   "outputs": [
    {
     "name": "stdout",
     "output_type": "stream",
     "text": [
      "Precision, Recall, F, & Support By Class [0,1] aka [Default,Fully Paid]: (array([0.90898495, 0.98872252]), array([0.95396659, 0.9768796 ]), array([0.93093272, 0.98276538]), array([ 73577, 303974]))\n",
      "Precision, Recall, F, & Support Weighted Average by Support: (0.9731832904135708, 0.9724143228332066, 0.9726642529252664, None)\n"
     ]
    }
   ],
   "source": [
    "#precision, recall, f1-score\n",
    "print (\"Precision, Recall, F, & Support By Class [0,1] aka [Default,Fully Paid]: {}\".format(\n",
    "    precision_recall_fscore_support(y_test_classif['loan_status'],y_test_classif_preds)))\n",
    "\n",
    "print (\"Precision, Recall, F, & Support Weighted Average by Support: {}\".format(\n",
    "    precision_recall_fscore_support(y_test_classif['loan_status'],y_test_classif_preds,average='weighted')))"
   ]
  },
  {
   "cell_type": "markdown",
   "metadata": {},
   "source": [
    "### ROC Curve nn_v6"
   ]
  },
  {
   "cell_type": "code",
   "execution_count": 117,
   "metadata": {},
   "outputs": [
    {
     "data": {
      "image/png": "[encoded data removed]",
      "text/plain": [
       "<Figure size 432x288 with 1 Axes>"
      ]
     },
     "metadata": {
      "needs_background": "light"
     },
     "output_type": "display_data"
    }
   ],
   "source": [
    "# keep probabilities for the positive outcome only\n",
    "probs = nn_v6_class_preds_proba\n",
    "# calculate roc curve\n",
    "fpr, tpr, thresholds = roc_curve(y_test_classif, probs)\n",
    "# plot no skill\n",
    "plt.plot([0, 1], [0, 1], linestyle='--')\n",
    "# plot the roc curve for the model\n",
    "plt.plot(fpr, tpr)\n",
    "# show the plot\n",
    "plt.show()"
   ]
  },
  {
   "cell_type": "markdown",
   "metadata": {},
   "source": [
    "### Probability Calibration nn_v6"
   ]
  },
  {
   "cell_type": "code",
   "execution_count": 118,
   "metadata": {},
   "outputs": [
    {
     "data": {
      "image/png": "[encoded data removed]",
      "text/plain": [
       "<Figure size 432x288 with 1 Axes>"
      ]
     },
     "metadata": {
      "needs_background": "light"
     },
     "output_type": "display_data"
    }
   ],
   "source": [
    "# reliability diagram\n",
    "fop, mpv = calibration_curve(y_test_classif, nn_v6_class_preds_proba, n_bins=10)\n",
    "# plot perfectly calibrated\n",
    "plt.plot([0, 1], [0, 1], linestyle='--')\n",
    "# plot model reliability\n",
    "plt.plot(mpv, fop, marker='.')\n",
    "plt.show()"
   ]
  },
  {
   "cell_type": "code",
   "execution_count": 21,
   "metadata": {},
   "outputs": [
    {
     "name": "stderr",
     "output_type": "stream",
     "text": [
      "W0708 02:54:26.457199 140126871734016 deprecation.py:506] From /usr/local/lib/python3.5/dist-packages/keras/backend/tensorflow_backend.py:3445: calling dropout (from tensorflow.python.ops.nn_ops) with keep_prob is deprecated and will be removed in a future version.\n",
      "Instructions for updating:\n",
      "Please use `rate` instead of `keep_prob`. Rate should be set to `rate = 1 - keep_prob`.\n"
     ]
    },
    {
     "name": "stdout",
     "output_type": "stream",
     "text": [
      "_________________________________________________________________\n",
      "Layer (type)                 Output Shape              Param #   \n",
      "=================================================================\n",
      "dense_41 (Dense)             (None, 1108)              1228772   \n",
      "_________________________________________________________________\n",
      "dropout_17 (Dropout)         (None, 1108)              0         \n",
      "_________________________________________________________________\n",
      "dense_42 (Dense)             (None, 1000)              1109000   \n",
      "_________________________________________________________________\n",
      "dense_43 (Dense)             (None, 100)               100100    \n",
      "_________________________________________________________________\n",
      "dense_44 (Dense)             (None, 50)                5050      \n",
      "_________________________________________________________________\n",
      "dense_45 (Dense)             (None, 1)                 51        \n",
      "=================================================================\n",
      "Total params: 2,442,973\n",
      "Trainable params: 2,442,973\n",
      "Non-trainable params: 0\n",
      "_________________________________________________________________\n"
     ]
    }
   ],
   "source": [
    "joblib.load('nn_v6.joblib').summary()"
   ]
  },
  {
   "cell_type": "markdown",
   "metadata": {},
   "source": [
    "### Save NN_v7 Model to JobLib\n",
    "\n",
    "- no Dropout layers\n",
    "- new architecture (1000-300-50-1 hidden dense layers)\n",
    "- batch size: 10000 (same as v6)\n",
    "- Early Stopping min_delta raised from 1e-6 to 1e-5\n",
    "- Dropped L2 regularization from input & 300 layer"
   ]
  },
  {
   "cell_type": "code",
   "execution_count": 59,
   "metadata": {},
   "outputs": [
    {
     "data": {
      "text/plain": [
       "['nn_v7.joblib']"
      ]
     },
     "execution_count": 59,
     "metadata": {},
     "output_type": "execute_result"
    }
   ],
   "source": [
    "filename = 'nn_v7.joblib'\n",
    "joblib.dump(model, filename)"
   ]
  },
  {
   "cell_type": "code",
   "execution_count": 60,
   "metadata": {},
   "outputs": [
    {
     "name": "stdout",
     "output_type": "stream",
     "text": [
      "Precision Fully Paid: 0.9863731177889317\n",
      "Recall Fully Paid: 0.9956081770151395\n",
      "F-1 Score Fully Paid: 0.9909691319823051\n",
      "ROC-AUC Score: 0.9693916770202844\n"
     ]
    }
   ],
   "source": [
    "print (\"Precision Fully Paid: {}\".format(precision_score(y_test_classif['loan_status'],y_test_classif_preds)))\n",
    "print (\"Recall Fully Paid: {}\".format(recall_score(y_test_classif['loan_status'],y_test_classif_preds)))\n",
    "print (\"F-1 Score Fully Paid: {}\".format(f1_score(y_test_classif['loan_status'],y_test_classif_preds)))\n",
    "print (\"ROC-AUC Score: {}\".format(roc_auc_score(y_test_classif['loan_status'],y_test_classif_preds)))"
   ]
  },
  {
   "cell_type": "code",
   "execution_count": 61,
   "metadata": {},
   "outputs": [
    {
     "name": "stdout",
     "output_type": "stream",
     "text": [
      "Precision, Recall, F, & Support By Class [0,1] aka [Default,Fully Paid]: (array([0.98112567, 0.98637312]), array([0.94317518, 0.99560818]), array([0.9617762 , 0.99096913]), array([ 73577, 303974]))\n",
      "Precision, Recall, F, & Support Weighted Average by Support: (0.9853504977421795, 0.9853900532643272, 0.9852800243121461, None)\n"
     ]
    }
   ],
   "source": [
    "#precision, recall, f1-score\n",
    "print (\"Precision, Recall, F, & Support By Class [0,1] aka [Default,Fully Paid]: {}\".format(\n",
    "    precision_recall_fscore_support(y_test_classif['loan_status'],y_test_classif_preds)))\n",
    "\n",
    "print (\"Precision, Recall, F, & Support Weighted Average by Support: {}\".format(\n",
    "    precision_recall_fscore_support(y_test_classif['loan_status'],y_test_classif_preds,average='weighted')))"
   ]
  },
  {
   "cell_type": "markdown",
   "metadata": {},
   "source": [
    "### ROC Curve nn_v7"
   ]
  },
  {
   "cell_type": "code",
   "execution_count": 62,
   "metadata": {},
   "outputs": [
    {
     "data": {
      "image/png": "[encoded data removed]",
      "text/plain": [
       "<Figure size 432x288 with 1 Axes>"
      ]
     },
     "metadata": {
      "needs_background": "light"
     },
     "output_type": "display_data"
    }
   ],
   "source": [
    "# keep probabilities for the positive outcome only\n",
    "probs = nn_v7_class_preds_proba\n",
    "# calculate roc curve\n",
    "fpr, tpr, thresholds = roc_curve(y_test_classif, probs)\n",
    "# plot no skill\n",
    "plt.plot([0, 1], [0, 1], linestyle='--')\n",
    "# plot the roc curve for the model\n",
    "plt.plot(fpr, tpr)\n",
    "# show the plot\n",
    "plt.show()"
   ]
  },
  {
   "cell_type": "markdown",
   "metadata": {},
   "source": [
    "### Probability Calibration nn_v7"
   ]
  },
  {
   "cell_type": "code",
   "execution_count": 63,
   "metadata": {},
   "outputs": [
    {
     "data": {
      "image/png": "[encoded data removed]",
      "text/plain": [
       "<Figure size 432x288 with 1 Axes>"
      ]
     },
     "metadata": {
      "needs_background": "light"
     },
     "output_type": "display_data"
    }
   ],
   "source": [
    "# reliability diagram\n",
    "fop, mpv = calibration_curve(y_test_classif, nn_v7_class_preds_proba, n_bins=10)\n",
    "# plot perfectly calibrated\n",
    "plt.plot([0, 1], [0, 1], linestyle='--')\n",
    "# plot model reliability\n",
    "plt.plot(mpv, fop, marker='.')\n",
    "plt.show()"
   ]
  },
  {
   "cell_type": "code",
   "execution_count": null,
   "metadata": {},
   "outputs": [],
   "source": []
  }
 ],
 "metadata": {
  "kernelspec": {
   "display_name": "Python 3",
   "language": "python",
   "name": "python3"
  },
  "language_info": {
   "codemirror_mode": {
    "name": "ipython",
    "version": 3
   },
   "file_extension": ".py",
   "mimetype": "text/x-python",
   "name": "python",
   "nbconvert_exporter": "python",
   "pygments_lexer": "ipython3",
   "version": "3.5.3"
  }
 },
 "nbformat": 4,
 "nbformat_minor": 2
}
