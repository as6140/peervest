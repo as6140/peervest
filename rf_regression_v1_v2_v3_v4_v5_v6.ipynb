{
 "cells": [
  {
   "cell_type": "code",
   "execution_count": 1,
   "metadata": {},
   "outputs": [],
   "source": [
    "import pandas as pd\n",
    "import numpy as np\n",
    "import matplotlib.pyplot as plt\n",
    "from datetime import datetime\n",
    "import math\n",
    "from math import sqrt\n",
    "import seaborn as sns\n",
    "import random\n",
    "\n",
    "import sklearn\n",
    "from sklearn.ensemble import RandomForestRegressor\n",
    "from sklearn.model_selection import GridSearchCV, cross_val_score\n",
    "from sklearn.metrics import r2_score, mean_squared_error\n",
    "\n",
    "from functions_and_objects import (impute_means_zeros_maxs_X, parse_percentage,\n",
    "                                   clean_LC_data_classification_eval, preprocessing_eval,\n",
    "                                   nan_max_cols, nan_mean_cols, nan_zero_cols, dtype,\n",
    "                                   one_hot_encode_eval, concat_X_and_6ohe_dfs,\n",
    "                                   prep_df_for_regression_eval,\n",
    "                                   regression_model_eval_prep_pipeline)\n",
    "\n",
    "import joblib"
   ]
  },
  {
   "cell_type": "code",
   "execution_count": 2,
   "metadata": {},
   "outputs": [
    {
     "name": "stderr",
     "output_type": "stream",
     "text": [
      "/usr/local/lib/python3.5/dist-packages/IPython/core/interactiveshell.py:3049: DtypeWarning: Columns (0) have mixed types. Specify dtype option on import or set low_memory=False.\n",
      "  interactivity=interactivity, compiler=compiler, result=result)\n",
      "/usr/local/lib/python3.5/dist-packages/IPython/core/interactiveshell.py:3049: DtypeWarning: Columns (0,118) have mixed types. Specify dtype option on import or set low_memory=False.\n",
      "  interactivity=interactivity, compiler=compiler, result=result)\n",
      "/usr/local/lib/python3.5/dist-packages/IPython/core/interactiveshell.py:3049: DtypeWarning: Columns (0,19) have mixed types. Specify dtype option on import or set low_memory=False.\n",
      "  interactivity=interactivity, compiler=compiler, result=result)\n",
      "/usr/local/lib/python3.5/dist-packages/IPython/core/interactiveshell.py:3049: DtypeWarning: Columns (0,19,59) have mixed types. Specify dtype option on import or set low_memory=False.\n",
      "  interactivity=interactivity, compiler=compiler, result=result)\n",
      "/usr/local/lib/python3.5/dist-packages/IPython/core/interactiveshell.py:3049: DtypeWarning: Columns (0,19,49) have mixed types. Specify dtype option on import or set low_memory=False.\n",
      "  interactivity=interactivity, compiler=compiler, result=result)\n",
      "/usr/local/lib/python3.5/dist-packages/IPython/core/interactiveshell.py:3049: DtypeWarning: Columns (0,49,129,130,131,134,135,136,139) have mixed types. Specify dtype option on import or set low_memory=False.\n",
      "  interactivity=interactivity, compiler=compiler, result=result)\n",
      "/usr/local/lib/python3.5/dist-packages/IPython/core/interactiveshell.py:3049: DtypeWarning: Columns (0,49) have mixed types. Specify dtype option on import or set low_memory=False.\n",
      "  interactivity=interactivity, compiler=compiler, result=result)\n"
     ]
    }
   ],
   "source": [
    "raw_q42017 = pd.read_csv('~/peervest/lc_data/LoanStats_securev1_2017Q4.csv',header=1)\n",
    "raw_q32017 = pd.read_csv('~/peervest/lc_data/LoanStats_securev1_2017Q3.csv',header=1)\n",
    "raw_q22017 = pd.read_csv('~/peervest/lc_data/LoanStats_securev1_2017Q2.csv',header=1)\n",
    "raw_q12017 = pd.read_csv('~/peervest/lc_data/LoanStats_securev1_2017Q1.csv',header=1)\n",
    "raw_q42016 = pd.read_csv('~/peervest/lc_data/LoanStats_securev1_2016Q4.csv',header=1)\n",
    "raw_q32016 = pd.read_csv('~/peervest/lc_data/LoanStats_securev1_2016Q3.csv',header=1)\n",
    "raw_q22016 = pd.read_csv('~/peervest/lc_data/LoanStats_securev1_2016Q2.csv',header=1)\n",
    "raw_q12016 = pd.read_csv('~/peervest/lc_data/LoanStats_securev1_2016Q1.csv',header=1)\n",
    "raw_2015 = pd.read_csv('~/peervest/lc_data/LoanStats_securev1_2015.csv',header=1)\n",
    "raw_2014 = pd.read_csv('~/peervest/lc_data/LoanStats_securev1_2014.csv',header=1)\n",
    "raw_2012to2013 = pd.read_csv('~/peervest/lc_data/LoanStats_securev1_2012to2013.csv',header=1)\n",
    "raw_2007to2011 = pd.read_csv('~/peervest/lc_data/LoanStats_securev1_2007to2011.csv',header=1)"
   ]
  },
  {
   "cell_type": "code",
   "execution_count": 3,
   "metadata": {},
   "outputs": [],
   "source": [
    "dfs_list = [raw_q42017,raw_q32017,raw_q22017,raw_q12017,\n",
    "           raw_q42016,raw_q32016,raw_q22016,raw_q12016,raw_2015,\n",
    "           raw_2014,raw_2012to2013, raw_2007to2011]"
   ]
  },
  {
   "cell_type": "code",
   "execution_count": 4,
   "metadata": {},
   "outputs": [
    {
     "name": "stderr",
     "output_type": "stream",
     "text": [
      "/home/jupyter/peervest/functions_and_objects.py:304: FutureWarning: Passing datetime64-dtype data to TimedeltaIndex is deprecated, will raise a TypeError in a future version\n",
      "  raw_lc_df['earliest_cr_line'] = pd.to_timedelta(pd.to_datetime(raw_lc_df['earliest_cr_line'])).dt.days\n",
      "/usr/local/lib/python3.5/dist-packages/pandas/core/frame.py:3940: SettingWithCopyWarning: \n",
      "A value is trying to be set on a copy of a slice from a DataFrame\n",
      "\n",
      "See the caveats in the documentation: http://pandas.pydata.org/pandas-docs/stable/indexing.html#indexing-view-versus-copy\n",
      "  errors=errors)\n",
      "/home/jupyter/peervest/functions_and_objects.py:206: SettingWithCopyWarning: \n",
      "A value is trying to be set on a copy of a slice from a DataFrame.\n",
      "Try using .loc[row_indexer,col_indexer] = value instead\n",
      "\n",
      "See the caveats in the documentation: http://pandas.pydata.org/pandas-docs/stable/indexing.html#indexing-view-versus-copy\n",
      "  X_train[col] = X_train[col].fillna(0.0)\n",
      "/home/jupyter/peervest/functions_and_objects.py:207: SettingWithCopyWarning: \n",
      "A value is trying to be set on a copy of a slice from a DataFrame.\n",
      "Try using .loc[row_indexer,col_indexer] = value instead\n",
      "\n",
      "See the caveats in the documentation: http://pandas.pydata.org/pandas-docs/stable/indexing.html#indexing-view-versus-copy\n",
      "  X_test[col] = X_test[col].fillna(0.0)\n",
      "/home/jupyter/peervest/functions_and_objects.py:202: SettingWithCopyWarning: \n",
      "A value is trying to be set on a copy of a slice from a DataFrame.\n",
      "Try using .loc[row_indexer,col_indexer] = value instead\n",
      "\n",
      "See the caveats in the documentation: http://pandas.pydata.org/pandas-docs/stable/indexing.html#indexing-view-versus-copy\n",
      "  X_train[col] = X_train[col].fillna(np.nanmean(X_train[col].values))\n",
      "/home/jupyter/peervest/functions_and_objects.py:203: SettingWithCopyWarning: \n",
      "A value is trying to be set on a copy of a slice from a DataFrame.\n",
      "Try using .loc[row_indexer,col_indexer] = value instead\n",
      "\n",
      "See the caveats in the documentation: http://pandas.pydata.org/pandas-docs/stable/indexing.html#indexing-view-versus-copy\n",
      "  X_test[col] = X_test[col].fillna(np.nanmean(X_train[col].values))\n",
      "/usr/local/lib/python3.5/dist-packages/pandas/core/generic.py:6586: SettingWithCopyWarning: \n",
      "A value is trying to be set on a copy of a slice from a DataFrame\n",
      "\n",
      "See the caveats in the documentation: http://pandas.pydata.org/pandas-docs/stable/indexing.html#indexing-view-versus-copy\n",
      "  self._update_inplace(new_data)\n",
      "/home/jupyter/peervest/functions_and_objects.py:197: SettingWithCopyWarning: \n",
      "A value is trying to be set on a copy of a slice from a DataFrame.\n",
      "Try using .loc[row_indexer,col_indexer] = value instead\n",
      "\n",
      "See the caveats in the documentation: http://pandas.pydata.org/pandas-docs/stable/indexing.html#indexing-view-versus-copy\n",
      "  X_train[col] = X_train[col].astype('float64')\n",
      "/home/jupyter/peervest/functions_and_objects.py:199: SettingWithCopyWarning: \n",
      "A value is trying to be set on a copy of a slice from a DataFrame.\n",
      "Try using .loc[row_indexer,col_indexer] = value instead\n",
      "\n",
      "See the caveats in the documentation: http://pandas.pydata.org/pandas-docs/stable/indexing.html#indexing-view-versus-copy\n",
      "  X_test[col] = X_test[col].astype('float64')\n",
      "/home/jupyter/peervest/functions_and_objects.py:210: SettingWithCopyWarning: \n",
      "A value is trying to be set on a copy of a slice from a DataFrame.\n",
      "Try using .loc[row_indexer,col_indexer] = value instead\n",
      "\n",
      "See the caveats in the documentation: http://pandas.pydata.org/pandas-docs/stable/indexing.html#indexing-view-versus-copy\n",
      "  X_train[col] = X_train[col].fillna(np.nanmax(X_train[col].values) * 5)\n",
      "/home/jupyter/peervest/functions_and_objects.py:211: SettingWithCopyWarning: \n",
      "A value is trying to be set on a copy of a slice from a DataFrame.\n",
      "Try using .loc[row_indexer,col_indexer] = value instead\n",
      "\n",
      "See the caveats in the documentation: http://pandas.pydata.org/pandas-docs/stable/indexing.html#indexing-view-versus-copy\n",
      "  X_test[col] = X_test[col].fillna(np.nanmax(X_train[col].values) * 5)\n"
     ]
    }
   ],
   "source": [
    "(X_train_regr, X_test_regr, y_train_regr, y_test_regr) = regression_model_eval_prep_pipeline(dfs_list)"
   ]
  },
  {
   "cell_type": "code",
   "execution_count": 5,
   "metadata": {},
   "outputs": [
    {
     "name": "stdout",
     "output_type": "stream",
     "text": [
      "(880950, 1108)\n",
      "(377551, 1108)\n",
      "(880950, 1)\n",
      "(377551, 1)\n"
     ]
    }
   ],
   "source": [
    "print(X_train_regr.shape)\n",
    "print(X_test_regr.shape)\n",
    "print(y_train_regr.shape)\n",
    "print(y_test_regr.shape)"
   ]
  },
  {
   "cell_type": "markdown",
   "metadata": {},
   "source": [
    "#### Drop 'total_pymnt' column"
   ]
  },
  {
   "cell_type": "code",
   "execution_count": 6,
   "metadata": {},
   "outputs": [],
   "source": [
    "X_train_regr.drop(columns=['total_pymnt'],inplace=True)\n",
    "X_test_regr.drop(columns=['total_pymnt'],inplace=True)"
   ]
  },
  {
   "cell_type": "markdown",
   "metadata": {},
   "source": [
    "### Subsample DataFrames to quickly iterate on Random Forest Regressor"
   ]
  },
  {
   "cell_type": "code",
   "execution_count": 43,
   "metadata": {},
   "outputs": [],
   "source": [
    "X_train_regr_samp = X_train_regr.sample(frac=.3,random_state=0)\n",
    "X_test_regr_samp = X_test_regr.sample(frac=.3,random_state=0)\n",
    "y_train_regr_samp = y_train_regr.sample(frac=.3,random_state=0)\n",
    "y_test_regr_samp = y_test_regr.sample(frac=.3,random_state=0)"
   ]
  },
  {
   "cell_type": "code",
   "execution_count": 22,
   "metadata": {},
   "outputs": [
    {
     "name": "stdout",
     "output_type": "stream",
     "text": [
      "(88095, 1107)\n",
      "(37755, 1107)\n",
      "(88095, 1)\n",
      "(37755, 1)\n"
     ]
    }
   ],
   "source": [
    "print(X_train_regr_samp.shape)\n",
    "print(X_test_regr_samp.shape)\n",
    "print(y_train_regr_samp.shape)\n",
    "print(y_test_regr_samp.shape)"
   ]
  },
  {
   "cell_type": "markdown",
   "metadata": {},
   "source": [
    "### Random Forest"
   ]
  },
  {
   "cell_type": "code",
   "execution_count": 45,
   "metadata": {},
   "outputs": [],
   "source": [
    "rf = RandomForestRegressor(n_estimators=150, n_jobs=-1, max_depth=15, \n",
    "                           min_samples_leaf=4, min_samples_split=2,\n",
    "                          max_features=900)"
   ]
  },
  {
   "cell_type": "code",
   "execution_count": 46,
   "metadata": {
    "scrolled": true
   },
   "outputs": [
    {
     "data": {
      "text/plain": [
       "RandomForestRegressor(bootstrap=True, criterion='mse', max_depth=15,\n",
       "                      max_features=900, max_leaf_nodes=None,\n",
       "                      min_impurity_decrease=0.0, min_impurity_split=None,\n",
       "                      min_samples_leaf=4, min_samples_split=2,\n",
       "                      min_weight_fraction_leaf=0.0, n_estimators=150, n_jobs=-1,\n",
       "                      oob_score=False, random_state=None, verbose=0,\n",
       "                      warm_start=False)"
      ]
     },
     "execution_count": 46,
     "metadata": {},
     "output_type": "execute_result"
    }
   ],
   "source": [
    "rf.fit(X_train_regr_samp, np.array(y_train_regr_samp['annu_return']))"
   ]
  },
  {
   "cell_type": "markdown",
   "metadata": {},
   "source": [
    "##### GridSearch"
   ]
  },
  {
   "cell_type": "code",
   "execution_count": 31,
   "metadata": {},
   "outputs": [],
   "source": [
    "# param_grid = {\n",
    "#     'min_samples_split': [2, 4],\n",
    "#     'min_samples_leaf': [1, 2, 4],\n",
    "#     'max_depth': [10,15]\n",
    "# }"
   ]
  },
  {
   "cell_type": "code",
   "execution_count": 32,
   "metadata": {},
   "outputs": [],
   "source": [
    "#rfgs = GridSearchCV(rf, param_grid, cv=2)"
   ]
  },
  {
   "cell_type": "code",
   "execution_count": 33,
   "metadata": {},
   "outputs": [
    {
     "data": {
      "text/plain": [
       "GridSearchCV(cv=2, error_score='raise-deprecating',\n",
       "             estimator=RandomForestRegressor(bootstrap=True, criterion='mse',\n",
       "                                             max_depth=10, max_features='auto',\n",
       "                                             max_leaf_nodes=None,\n",
       "                                             min_impurity_decrease=0.0,\n",
       "                                             min_impurity_split=None,\n",
       "                                             min_samples_leaf=1,\n",
       "                                             min_samples_split=2,\n",
       "                                             min_weight_fraction_leaf=0.0,\n",
       "                                             n_estimators=100, n_jobs=-1,\n",
       "                                             oob_score=False, random_state=None,\n",
       "                                             verbose=0, warm_start=False),\n",
       "             iid='warn', n_jobs=None,\n",
       "             param_grid={'max_depth': [10, 15], 'min_samples_leaf': [1, 2, 4],\n",
       "                         'min_samples_split': [2, 4]},\n",
       "             pre_dispatch='2*n_jobs', refit=True, return_train_score=False,\n",
       "             scoring=None, verbose=0)"
      ]
     },
     "execution_count": 33,
     "metadata": {},
     "output_type": "execute_result"
    }
   ],
   "source": [
    "#rfgs.fit(X_train_regr_samp, np.array(y_train_regr_samp['annu_return']))"
   ]
  },
  {
   "cell_type": "code",
   "execution_count": 34,
   "metadata": {},
   "outputs": [
    {
     "data": {
      "text/plain": [
       "{'max_depth': 15, 'min_samples_leaf': 4, 'min_samples_split': 2}"
      ]
     },
     "execution_count": 34,
     "metadata": {},
     "output_type": "execute_result"
    }
   ],
   "source": [
    "#rfgs.best_params_"
   ]
  },
  {
   "cell_type": "code",
   "execution_count": 47,
   "metadata": {},
   "outputs": [],
   "source": [
    "y_train_regr_preds_samp = rf.predict(X_train_regr_samp)"
   ]
  },
  {
   "cell_type": "code",
   "execution_count": 48,
   "metadata": {},
   "outputs": [],
   "source": [
    "y_test_regr_preds_samp = rf.predict(X_test_regr_samp)"
   ]
  },
  {
   "cell_type": "markdown",
   "metadata": {},
   "source": [
    "### Random Forest v1 Evaluation\n",
    "###### Params: n_estimators=30, min_samples_split=2, min_samples_leaf=2, max_depth=4"
   ]
  },
  {
   "cell_type": "code",
   "execution_count": 27,
   "metadata": {},
   "outputs": [
    {
     "name": "stdout",
     "output_type": "stream",
     "text": [
      "TRAIN ERROR METRICS:\n",
      "R-Squared: 0.7337991886574766\n",
      "Mean Squared Error: 0.016646060054940577\n",
      "Root Mean Squared Error: 0.12901961112536567\n"
     ]
    }
   ],
   "source": [
    "##BENCHMARK SET BY RIDGE REGRESSION V2:\n",
    "#TEST ERROR METRICS:\n",
    "#R-Squared: 0.6609090923805967\n",
    "#Mean Squared Error: 0.021143184815253565\n",
    "#Root Mean Squared Error: 0.14540696274681472\n",
    "\n",
    "print(\"TRAIN ERROR METRICS:\")\n",
    "print(\"R-Squared: {}\".format(r2_score(y_train_regr, y_train_regr_preds)))\n",
    "print(\"Mean Squared Error: {}\".format(mean_squared_error(y_train_regr, y_train_regr_preds)))\n",
    "print(\"Root Mean Squared Error: {}\".format(sqrt(mean_squared_error(y_train_regr, y_train_regr_preds))))\n",
    "print(\"Cross Validated Mean Squared Error: {}\".format(-cross_val_score(rf,X_train_regr, y_train_regr, \n",
    "                                                                       scoring='neg_mean_squared_error')))"
   ]
  },
  {
   "cell_type": "code",
   "execution_count": 28,
   "metadata": {},
   "outputs": [
    {
     "name": "stdout",
     "output_type": "stream",
     "text": [
      "TEST ERROR METRICS:\n",
      "R-Squared: 0.7327733043317483\n",
      "Mean Squared Error: 0.016662267513303457\n",
      "Root Mean Squared Error: 0.12908240590143746\n"
     ]
    }
   ],
   "source": [
    "print(\"TEST ERROR METRICS:\")\n",
    "print(\"R-Squared: {}\".format(r2_score(y_test_regr, y_test_regr_preds)))\n",
    "print(\"Mean Squared Error: {}\".format(mean_squared_error(y_test_regr, y_test_regr_preds)))\n",
    "print(\"Root Mean Squared Error: {}\".format(sqrt(mean_squared_error(y_test_regr, y_test_regr_preds))))\n",
    "print(\"Cross Validated Mean Squared Error: {}\".format(-cross_val_score(rf,X_test_regr, y_test_regr, \n",
    "                                                                       scoring='neg_mean_squared_error')))"
   ]
  },
  {
   "cell_type": "code",
   "execution_count": 29,
   "metadata": {},
   "outputs": [
    {
     "data": {
      "text/plain": [
       "['rf_regr_v1.joblib']"
      ]
     },
     "execution_count": 29,
     "metadata": {},
     "output_type": "execute_result"
    }
   ],
   "source": [
    "# save model joblib\n",
    "filename = 'rf_regr_v1.joblib'\n",
    "joblib.dump(rf, filename)"
   ]
  },
  {
   "cell_type": "markdown",
   "metadata": {},
   "source": [
    "### Random Forest v2 Evaluation\n",
    "###### 10% of values\n",
    "###### Params: n_estimators=100, max_depth=10"
   ]
  },
  {
   "cell_type": "code",
   "execution_count": 17,
   "metadata": {},
   "outputs": [
    {
     "name": "stdout",
     "output_type": "stream",
     "text": [
      "TRAIN ERROR METRICS:\n",
      "R-Squared: 0.9750869957638799\n",
      "Mean Squared Error: 0.0015561404203897633\n",
      "Root Mean Squared Error: 0.039447945705572085\n"
     ]
    }
   ],
   "source": [
    "##BENCHMARK SET BY RIDGE REGRESSION V2:\n",
    "#TEST ERROR METRICS:\n",
    "#R-Squared: 0.6609090923805967\n",
    "#Mean Squared Error: 0.021143184815253565\n",
    "#Root Mean Squared Error: 0.14540696274681472\n",
    "\n",
    "print(\"TRAIN ERROR METRICS:\")\n",
    "print(\"R-Squared: {}\".format(r2_score(y_train_regr_samp, y_train_regr_preds_samp)))\n",
    "print(\"Mean Squared Error: {}\".format(mean_squared_error(y_train_regr_samp, y_train_regr_preds_samp)))\n",
    "print(\"Root Mean Squared Error: {}\".format(sqrt(mean_squared_error(y_train_regr_samp, y_train_regr_preds_samp))))\n",
    "#print(\"Cross Validated Mean Squared Error: {}\".format(-cross_val_score(rf,X_train_regr_samp, y_train_regr_samp, \n",
    "#                                                                       scoring='neg_mean_squared_error')))"
   ]
  },
  {
   "cell_type": "code",
   "execution_count": 18,
   "metadata": {},
   "outputs": [
    {
     "name": "stdout",
     "output_type": "stream",
     "text": [
      "TEST ERROR METRICS:\n",
      "R-Squared: 0.9723227392638374\n",
      "Mean Squared Error: 0.001752411083397318\n",
      "Root Mean Squared Error: 0.0418618093660238\n"
     ]
    }
   ],
   "source": [
    "print(\"TEST ERROR METRICS:\")\n",
    "print(\"R-Squared: {}\".format(r2_score(y_test_regr_samp, y_test_regr_preds_samp)))\n",
    "print(\"Mean Squared Error: {}\".format(mean_squared_error(y_test_regr_samp, y_test_regr_preds_samp)))\n",
    "print(\"Root Mean Squared Error: {}\".format(sqrt(mean_squared_error(y_test_regr_samp, y_test_regr_preds_samp))))\n",
    "#print(\"Cross Validated Mean Squared Error: {}\".format(-cross_val_score(rf,X_test_regr_samp, y_test_regr_samp, \n",
    "#                                                                       scoring='neg_mean_squared_error')))"
   ]
  },
  {
   "cell_type": "code",
   "execution_count": 19,
   "metadata": {},
   "outputs": [
    {
     "data": {
      "text/plain": [
       "['rf_regr_v2.joblib']"
      ]
     },
     "execution_count": 19,
     "metadata": {},
     "output_type": "execute_result"
    }
   ],
   "source": [
    "# save model joblib\n",
    "filename = 'rf_regr_v2.joblib'\n",
    "joblib.dump(rf, filename)"
   ]
  },
  {
   "cell_type": "code",
   "execution_count": 20,
   "metadata": {},
   "outputs": [],
   "source": [
    "# TEST ON 100% of data\n",
    "y_train_regr_preds = rf.predict(X_train_regr)\n",
    "y_test_regr_preds = rf.predict(X_test_regr)"
   ]
  },
  {
   "cell_type": "code",
   "execution_count": 21,
   "metadata": {},
   "outputs": [
    {
     "name": "stdout",
     "output_type": "stream",
     "text": [
      "100% of DATA - TEST ERROR METRICS:\n",
      "R-Squared: 0.969368915436507\n",
      "Mean Squared Error: 0.0019099264163830176\n",
      "Root Mean Squared Error: 0.0437027049092275\n"
     ]
    }
   ],
   "source": [
    "print(\"100% of DATA - TEST ERROR METRICS:\")\n",
    "print(\"R-Squared: {}\".format(r2_score(y_test_regr, y_test_regr_preds)))\n",
    "print(\"Mean Squared Error: {}\".format(mean_squared_error(y_test_regr, y_test_regr_preds)))\n",
    "print(\"Root Mean Squared Error: {}\".format(sqrt(mean_squared_error(y_test_regr, y_test_regr_preds))))"
   ]
  },
  {
   "cell_type": "markdown",
   "metadata": {},
   "source": [
    "### Random Forest v3 Evaluation\n",
    "###### 20% of values\n",
    "###### Params: n_estimators=100, max_depth=10"
   ]
  },
  {
   "cell_type": "code",
   "execution_count": 28,
   "metadata": {},
   "outputs": [
    {
     "name": "stdout",
     "output_type": "stream",
     "text": [
      "TRAIN ERROR METRICS:\n",
      "R-Squared: 0.9769980126707797\n",
      "Mean Squared Error: 0.0014469458575561457\n",
      "Root Mean Squared Error: 0.038038741534863446\n"
     ]
    }
   ],
   "source": [
    "##BENCHMARK SET BY RIDGE REGRESSION V2:\n",
    "#TEST ERROR METRICS:\n",
    "#R-Squared: 0.6609090923805967\n",
    "#Mean Squared Error: 0.021143184815253565\n",
    "#Root Mean Squared Error: 0.14540696274681472\n",
    "\n",
    "print(\"TRAIN ERROR METRICS:\")\n",
    "print(\"R-Squared: {}\".format(r2_score(y_train_regr_samp, y_train_regr_preds_samp)))\n",
    "print(\"Mean Squared Error: {}\".format(mean_squared_error(y_train_regr_samp, y_train_regr_preds_samp)))\n",
    "print(\"Root Mean Squared Error: {}\".format(sqrt(mean_squared_error(y_train_regr_samp, y_train_regr_preds_samp))))\n",
    "#print(\"Cross Validated Mean Squared Error: {}\".format(-cross_val_score(rf,X_train_regr_samp, y_train_regr_samp, \n",
    "#                                                                       scoring='neg_mean_squared_error')))"
   ]
  },
  {
   "cell_type": "code",
   "execution_count": 29,
   "metadata": {},
   "outputs": [
    {
     "name": "stdout",
     "output_type": "stream",
     "text": [
      "TEST ERROR METRICS:\n",
      "R-Squared: 0.973743977442095\n",
      "Mean Squared Error: 0.0016606853024841335\n",
      "Root Mean Squared Error: 0.040751506751089996\n"
     ]
    }
   ],
   "source": [
    "print(\"TEST ERROR METRICS:\")\n",
    "print(\"R-Squared: {}\".format(r2_score(y_test_regr_samp, y_test_regr_preds_samp)))\n",
    "print(\"Mean Squared Error: {}\".format(mean_squared_error(y_test_regr_samp, y_test_regr_preds_samp)))\n",
    "print(\"Root Mean Squared Error: {}\".format(sqrt(mean_squared_error(y_test_regr_samp, y_test_regr_preds_samp))))\n",
    "#print(\"Cross Validated Mean Squared Error: {}\".format(-cross_val_score(rf,X_test_regr_samp, y_test_regr_samp, \n",
    "#                                                                       scoring='neg_mean_squared_error')))"
   ]
  },
  {
   "cell_type": "code",
   "execution_count": 30,
   "metadata": {},
   "outputs": [
    {
     "data": {
      "text/plain": [
       "['rf_regr_v3.joblib']"
      ]
     },
     "execution_count": 30,
     "metadata": {},
     "output_type": "execute_result"
    }
   ],
   "source": [
    "# save model joblib\n",
    "filename = 'rf_regr_v3.joblib'\n",
    "joblib.dump(rf, filename)"
   ]
  },
  {
   "cell_type": "code",
   "execution_count": 31,
   "metadata": {},
   "outputs": [],
   "source": [
    "# TEST ON 100% of data\n",
    "y_train_regr_preds = rf.predict(X_train_regr)\n",
    "y_test_regr_preds = rf.predict(X_test_regr)"
   ]
  },
  {
   "cell_type": "code",
   "execution_count": 32,
   "metadata": {},
   "outputs": [
    {
     "name": "stdout",
     "output_type": "stream",
     "text": [
      "100% of DATA - TEST ERROR METRICS:\n",
      "R-Squared: 0.9732666874699176\n",
      "Mean Squared Error: 0.001666890367293121\n",
      "Root Mean Squared Error: 0.040827568716409274\n"
     ]
    }
   ],
   "source": [
    "print(\"100% of DATA - TEST ERROR METRICS:\")\n",
    "print(\"R-Squared: {}\".format(r2_score(y_test_regr, y_test_regr_preds)))\n",
    "print(\"Mean Squared Error: {}\".format(mean_squared_error(y_test_regr, y_test_regr_preds)))\n",
    "print(\"Root Mean Squared Error: {}\".format(sqrt(mean_squared_error(y_test_regr, y_test_regr_preds))))"
   ]
  },
  {
   "cell_type": "markdown",
   "metadata": {},
   "source": [
    "### Random Forest v4 Evaluation\n",
    "###### DROP 'total_pymnt' column\n",
    "###### 20% of values\n",
    "###### Params: n_estimators=100, max_depth=10"
   ]
  },
  {
   "cell_type": "code",
   "execution_count": 13,
   "metadata": {},
   "outputs": [
    {
     "name": "stdout",
     "output_type": "stream",
     "text": [
      "TRAIN ERROR METRICS:\n",
      "R-Squared: 0.6184741107168366\n",
      "Mean Squared Error: 0.02399998300787739\n",
      "Root Mean Squared Error: 0.15491927900644706\n"
     ]
    }
   ],
   "source": [
    "##BENCHMARK SET BY RIDGE REGRESSION V2:\n",
    "#TEST ERROR METRICS:\n",
    "#R-Squared: 0.6609090923805967\n",
    "#Mean Squared Error: 0.021143184815253565\n",
    "#Root Mean Squared Error: 0.14540696274681472\n",
    "\n",
    "print(\"TRAIN ERROR METRICS:\")\n",
    "print(\"R-Squared: {}\".format(r2_score(y_train_regr_samp, y_train_regr_preds_samp)))\n",
    "print(\"Mean Squared Error: {}\".format(mean_squared_error(y_train_regr_samp, y_train_regr_preds_samp)))\n",
    "print(\"Root Mean Squared Error: {}\".format(sqrt(mean_squared_error(y_train_regr_samp, y_train_regr_preds_samp))))\n",
    "#print(\"Cross Validated Mean Squared Error: {}\".format(-cross_val_score(rf,X_train_regr_samp, y_train_regr_samp, \n",
    "#                                                                       scoring='neg_mean_squared_error')))"
   ]
  },
  {
   "cell_type": "code",
   "execution_count": 14,
   "metadata": {},
   "outputs": [
    {
     "name": "stdout",
     "output_type": "stream",
     "text": [
      "TEST ERROR METRICS:\n",
      "R-Squared: 0.5565794558387958\n",
      "Mean Squared Error: 0.02804621221222714\n",
      "Root Mean Squared Error: 0.16747003377388786\n"
     ]
    }
   ],
   "source": [
    "print(\"TEST ERROR METRICS:\")\n",
    "print(\"R-Squared: {}\".format(r2_score(y_test_regr_samp, y_test_regr_preds_samp)))\n",
    "print(\"Mean Squared Error: {}\".format(mean_squared_error(y_test_regr_samp, y_test_regr_preds_samp)))\n",
    "print(\"Root Mean Squared Error: {}\".format(sqrt(mean_squared_error(y_test_regr_samp, y_test_regr_preds_samp))))\n",
    "#print(\"Cross Validated Mean Squared Error: {}\".format(-cross_val_score(rf,X_test_regr_samp, y_test_regr_samp, \n",
    "#                                                                       scoring='neg_mean_squared_error')))"
   ]
  },
  {
   "cell_type": "code",
   "execution_count": 15,
   "metadata": {},
   "outputs": [
    {
     "data": {
      "text/plain": [
       "['rf_regr_v4.joblib']"
      ]
     },
     "execution_count": 15,
     "metadata": {},
     "output_type": "execute_result"
    }
   ],
   "source": [
    "# save model joblib\n",
    "filename = 'rf_regr_v4.joblib'\n",
    "joblib.dump(rf, filename)"
   ]
  },
  {
   "cell_type": "code",
   "execution_count": 16,
   "metadata": {},
   "outputs": [],
   "source": [
    "# TEST ON 100% of data\n",
    "y_train_regr_preds = rf.predict(X_train_regr)\n",
    "y_test_regr_preds = rf.predict(X_test_regr)"
   ]
  },
  {
   "cell_type": "code",
   "execution_count": 17,
   "metadata": {},
   "outputs": [
    {
     "name": "stdout",
     "output_type": "stream",
     "text": [
      "100% of DATA - TEST ERROR METRICS:\n",
      "R-Squared: 0.5559341420805827\n",
      "Mean Squared Error: 0.027688641285164094\n",
      "Root Mean Squared Error: 0.16639904232045355\n"
     ]
    }
   ],
   "source": [
    "print(\"100% of DATA - TEST ERROR METRICS:\")\n",
    "print(\"R-Squared: {}\".format(r2_score(y_test_regr, y_test_regr_preds)))\n",
    "print(\"Mean Squared Error: {}\".format(mean_squared_error(y_test_regr, y_test_regr_preds)))\n",
    "print(\"Root Mean Squared Error: {}\".format(sqrt(mean_squared_error(y_test_regr, y_test_regr_preds))))"
   ]
  },
  {
   "cell_type": "markdown",
   "metadata": {},
   "source": [
    "### Random Forest v5 Evaluation\n",
    "###### DROP 'total_pymnt' column\n",
    "###### 10% of values\n",
    "###### Params: n_estimators=100, max_depth=10\n",
    "###### APPLY GridSearchCV with cv=2"
   ]
  },
  {
   "cell_type": "code",
   "execution_count": 37,
   "metadata": {},
   "outputs": [
    {
     "name": "stdout",
     "output_type": "stream",
     "text": [
      "TRAIN ERROR METRICS:\n",
      "R-Squared: 0.7618539196965637\n",
      "Mean Squared Error: 0.014875313230199153\n",
      "Root Mean Squared Error: 0.12196439328836574\n"
     ]
    }
   ],
   "source": [
    "##BENCHMARK SET BY RIDGE REGRESSION V2:\n",
    "#TEST ERROR METRICS:\n",
    "#R-Squared: 0.6609090923805967\n",
    "#Mean Squared Error: 0.021143184815253565\n",
    "#Root Mean Squared Error: 0.14540696274681472\n",
    "\n",
    "print(\"TRAIN ERROR METRICS:\")\n",
    "print(\"R-Squared: {}\".format(r2_score(y_train_regr_samp, y_train_regr_preds_samp)))\n",
    "print(\"Mean Squared Error: {}\".format(mean_squared_error(y_train_regr_samp, y_train_regr_preds_samp)))\n",
    "print(\"Root Mean Squared Error: {}\".format(sqrt(mean_squared_error(y_train_regr_samp, y_train_regr_preds_samp))))\n",
    "#print(\"Cross Validated Mean Squared Error: {}\".format(-cross_val_score(rf,X_train_regr_samp, y_train_regr_samp, \n",
    "#                                                                       scoring='neg_mean_squared_error')))"
   ]
  },
  {
   "cell_type": "code",
   "execution_count": 38,
   "metadata": {},
   "outputs": [
    {
     "name": "stdout",
     "output_type": "stream",
     "text": [
      "TEST ERROR METRICS:\n",
      "R-Squared: 0.5666762542919535\n",
      "Mean Squared Error: 0.027436289375481895\n",
      "Root Mean Squared Error: 0.1656390333691968\n"
     ]
    }
   ],
   "source": [
    "print(\"TEST ERROR METRICS:\")\n",
    "print(\"R-Squared: {}\".format(r2_score(y_test_regr_samp, y_test_regr_preds_samp)))\n",
    "print(\"Mean Squared Error: {}\".format(mean_squared_error(y_test_regr_samp, y_test_regr_preds_samp)))\n",
    "print(\"Root Mean Squared Error: {}\".format(sqrt(mean_squared_error(y_test_regr_samp, y_test_regr_preds_samp))))\n",
    "#print(\"Cross Validated Mean Squared Error: {}\".format(-cross_val_score(rf,X_test_regr_samp, y_test_regr_samp, \n",
    "#                                                                       scoring='neg_mean_squared_error')))"
   ]
  },
  {
   "cell_type": "code",
   "execution_count": 39,
   "metadata": {},
   "outputs": [
    {
     "data": {
      "text/plain": [
       "['rf_regr_v5.joblib']"
      ]
     },
     "execution_count": 39,
     "metadata": {},
     "output_type": "execute_result"
    }
   ],
   "source": [
    "# save model joblib\n",
    "filename = 'rf_regr_v5.joblib'\n",
    "joblib.dump(rfgs, filename)"
   ]
  },
  {
   "cell_type": "code",
   "execution_count": 40,
   "metadata": {},
   "outputs": [],
   "source": [
    "# TEST ON 100% of data\n",
    "y_train_regr_preds = rfgs.predict(X_train_regr)\n",
    "y_test_regr_preds = rfgs.predict(X_test_regr)"
   ]
  },
  {
   "cell_type": "code",
   "execution_count": 41,
   "metadata": {},
   "outputs": [
    {
     "name": "stdout",
     "output_type": "stream",
     "text": [
      "100% of DATA - TEST ERROR METRICS:\n",
      "R-Squared: 0.5556597318617378\n",
      "Mean Squared Error: 0.02770575146370873\n",
      "Root Mean Squared Error: 0.16645044747223942\n"
     ]
    }
   ],
   "source": [
    "print(\"100% of DATA - TEST ERROR METRICS:\")\n",
    "print(\"R-Squared: {}\".format(r2_score(y_test_regr, y_test_regr_preds)))\n",
    "print(\"Mean Squared Error: {}\".format(mean_squared_error(y_test_regr, y_test_regr_preds)))\n",
    "print(\"Root Mean Squared Error: {}\".format(sqrt(mean_squared_error(y_test_regr, y_test_regr_preds))))"
   ]
  },
  {
   "cell_type": "code",
   "execution_count": 42,
   "metadata": {},
   "outputs": [
    {
     "data": {
      "text/plain": [
       "{'max_depth': 15, 'min_samples_leaf': 4, 'min_samples_split': 2}"
      ]
     },
     "execution_count": 42,
     "metadata": {},
     "output_type": "execute_result"
    }
   ],
   "source": [
    "rfgs.best_params_"
   ]
  },
  {
   "cell_type": "markdown",
   "metadata": {},
   "source": [
    "### Random Forest v6 Evaluation\n",
    "###### DROP 'total_pymnt' column\n",
    "###### 30% of values\n",
    "###### Params: best_params_ from v5,\n",
    "###### (n_estimators=150, n_jobs=-1, max_depth=15, min_samples_leaf=4, min_samples_split=2,max_features=900)"
   ]
  },
  {
   "cell_type": "code",
   "execution_count": 49,
   "metadata": {},
   "outputs": [
    {
     "name": "stdout",
     "output_type": "stream",
     "text": [
      "TRAIN ERROR METRICS:\n",
      "R-Squared: 0.7176773097972993\n",
      "Mean Squared Error: 0.017687842417109405\n",
      "Root Mean Squared Error: 0.13299564811342288\n"
     ]
    }
   ],
   "source": [
    "##BENCHMARK SET BY RIDGE REGRESSION V2:\n",
    "#TEST ERROR METRICS:\n",
    "#R-Squared: 0.6609090923805967\n",
    "#Mean Squared Error: 0.021143184815253565\n",
    "#Root Mean Squared Error: 0.14540696274681472\n",
    "\n",
    "print(\"TRAIN ERROR METRICS:\")\n",
    "print(\"R-Squared: {}\".format(r2_score(y_train_regr_samp, y_train_regr_preds_samp)))\n",
    "print(\"Mean Squared Error: {}\".format(mean_squared_error(y_train_regr_samp, y_train_regr_preds_samp)))\n",
    "print(\"Root Mean Squared Error: {}\".format(sqrt(mean_squared_error(y_train_regr_samp, y_train_regr_preds_samp))))\n",
    "#print(\"Cross Validated Mean Squared Error: {}\".format(-cross_val_score(rf,X_train_regr_samp, y_train_regr_samp, \n",
    "#                                                                       scoring='neg_mean_squared_error')))"
   ]
  },
  {
   "cell_type": "code",
   "execution_count": 50,
   "metadata": {},
   "outputs": [
    {
     "name": "stdout",
     "output_type": "stream",
     "text": [
      "TEST ERROR METRICS:\n",
      "R-Squared: 0.5658163347415165\n",
      "Mean Squared Error: 0.02730005400511458\n",
      "Root Mean Squared Error: 0.1652272798454135\n"
     ]
    }
   ],
   "source": [
    "print(\"TEST ERROR METRICS:\")\n",
    "print(\"R-Squared: {}\".format(r2_score(y_test_regr_samp, y_test_regr_preds_samp)))\n",
    "print(\"Mean Squared Error: {}\".format(mean_squared_error(y_test_regr_samp, y_test_regr_preds_samp)))\n",
    "print(\"Root Mean Squared Error: {}\".format(sqrt(mean_squared_error(y_test_regr_samp, y_test_regr_preds_samp))))\n",
    "#print(\"Cross Validated Mean Squared Error: {}\".format(-cross_val_score(rf,X_test_regr_samp, y_test_regr_samp, \n",
    "#                                                                       scoring='neg_mean_squared_error')))"
   ]
  },
  {
   "cell_type": "code",
   "execution_count": 51,
   "metadata": {},
   "outputs": [
    {
     "data": {
      "text/plain": [
       "['rf_regr_v6.joblib']"
      ]
     },
     "execution_count": 51,
     "metadata": {},
     "output_type": "execute_result"
    }
   ],
   "source": [
    "# save model joblib\n",
    "filename = 'rf_regr_v6.joblib'\n",
    "joblib.dump(rfgs, filename)"
   ]
  },
  {
   "cell_type": "code",
   "execution_count": 52,
   "metadata": {},
   "outputs": [],
   "source": [
    "# TEST ON 100% of data\n",
    "y_train_regr_preds = rf.predict(X_train_regr)\n",
    "y_test_regr_preds = rf.predict(X_test_regr)"
   ]
  },
  {
   "cell_type": "code",
   "execution_count": 53,
   "metadata": {},
   "outputs": [
    {
     "name": "stdout",
     "output_type": "stream",
     "text": [
      "100% of DATA - TEST ERROR METRICS:\n",
      "R-Squared: 0.5657473093006071\n",
      "Mean Squared Error: 0.0270767652262848\n",
      "Root Mean Squared Error: 0.16455019059935724\n"
     ]
    }
   ],
   "source": [
    "print(\"100% of DATA - TEST ERROR METRICS:\")\n",
    "print(\"R-Squared: {}\".format(r2_score(y_test_regr, y_test_regr_preds)))\n",
    "print(\"Mean Squared Error: {}\".format(mean_squared_error(y_test_regr, y_test_regr_preds)))\n",
    "print(\"Root Mean Squared Error: {}\".format(sqrt(mean_squared_error(y_test_regr, y_test_regr_preds))))"
   ]
  },
  {
   "cell_type": "code",
   "execution_count": null,
   "metadata": {},
   "outputs": [],
   "source": []
  }
 ],
 "metadata": {
  "kernelspec": {
   "display_name": "Python 3",
   "language": "python",
   "name": "python3"
  },
  "language_info": {
   "codemirror_mode": {
    "name": "ipython",
    "version": 3
   },
   "file_extension": ".py",
   "mimetype": "text/x-python",
   "name": "python",
   "nbconvert_exporter": "python",
   "pygments_lexer": "ipython3",
   "version": "3.5.3"
  }
 },
 "nbformat": 4,
 "nbformat_minor": 2
}
