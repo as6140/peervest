{
 "cells": [
  {
   "cell_type": "code",
   "execution_count": 32,
   "metadata": {},
   "outputs": [],
   "source": [
    "import pandas as pd\n",
    "import numpy as np\n",
    "import matplotlib.pyplot as plt\n",
    "from datetime import datetime\n",
    "import math\n",
    "import seaborn as sns\n",
    "import random\n",
    "\n",
    "import sklearn\n",
    "from sklearn.linear_model import LinearRegression\n",
    "from sklearn.metrics import accuracy_score, precision_score, recall_score, f1_score, roc_auc_score, roc_curve, precision_recall_fscore_support\n",
    "\n",
    "import joblib"
   ]
  },
  {
   "cell_type": "code",
   "execution_count": 33,
   "metadata": {},
   "outputs": [],
   "source": [
    "#X_train\n",
    "filename = \"X_train.pkl\"\n",
    "X_train_all = pd.read_pickle(filename)#, skiprows=skip, sep='\\t',index_col=0)\n",
    "\n",
    "#X_test\n",
    "filename = \"X_test.pkl\"\n",
    "X_test_all = pd.read_pickle(filename)#, skiprows=skip, sep='\\t',index_col=0)\n",
    "\n",
    "#y_train\n",
    "filename = \"y_train.pkl\"\n",
    "y_train_all = pd.read_pickle(filename)#, skiprows=skip, sep='\\t',index_col=0)\n",
    "\n",
    "#y_test\n",
    "filename = \"y_test.pkl\"\n",
    "y_test_all = pd.read_pickle(filename)"
   ]
  },
  {
   "cell_type": "code",
   "execution_count": 34,
   "metadata": {},
   "outputs": [],
   "source": [
    "#drop OHE source columns & unuseful categorical variables\n",
    "X_train_all.drop(columns=['term','verification_status',\n",
    "                          'grade','emp_title', 'addr_state',\n",
    "                          #ALSO, drop redundant columns that new OHE columns provide the info for\n",
    "                          'debt_settlement_flag',#ALSO, drop columns clearly not predictive of class\n",
    "                         ],inplace=True) #ALSO, drop date columns"
   ]
  },
  {
   "cell_type": "code",
   "execution_count": 35,
   "metadata": {},
   "outputs": [],
   "source": [
    "#REPEAT DROPS for X_test\n",
    "X_test_all.drop(columns=['term','verification_status',\n",
    "                         'grade','emp_title', 'addr_state',\n",
    "                         #ALSO, drop redundant columns that new OHE columns provide the info for\n",
    "                         'debt_settlement_flag',#ALSO, drop columns clearly not predictive of class\n",
    "                        ],inplace=True) #ALSO, drop date columns"
   ]
  },
  {
   "cell_type": "code",
   "execution_count": 36,
   "metadata": {},
   "outputs": [],
   "source": [
    "X_train_all.set_index('index',inplace=True)\n",
    "X_test_all.set_index('index',inplace=True)"
   ]
  },
  {
   "cell_type": "markdown",
   "metadata": {},
   "source": [
    "#### Exploring calculations, data types, and imputing values in order to create functions that calculate Annualized Return"
   ]
  },
  {
   "cell_type": "code",
   "execution_count": 105,
   "metadata": {},
   "outputs": [
    {
     "data": {
      "text/plain": [
       "array([0.1239, 0.1299, 0.0818, ..., 0.1099, 0.0824, 0.0697])"
      ]
     },
     "execution_count": 105,
     "metadata": {},
     "output_type": "execute_result"
    }
   ],
   "source": [
    "X_train_all['int_rate'].values"
   ]
  },
  {
   "cell_type": "code",
   "execution_count": 106,
   "metadata": {},
   "outputs": [
    {
     "data": {
      "text/plain": [
       "array([1.0, 0.0, 1.0, ..., 1.0, 0.0, 1.0], dtype=object)"
      ]
     },
     "execution_count": 106,
     "metadata": {},
     "output_type": "execute_result"
    }
   ],
   "source": [
    "y_train_all['loan_status'].values"
   ]
  },
  {
   "cell_type": "code",
   "execution_count": 107,
   "metadata": {},
   "outputs": [
    {
     "data": {
      "text/plain": [
       "array([ 0.09496096, -0.1522351 ,  0.03775913, ...,  0.08887305,\n",
       "       -0.20260889,  0.03931645])"
      ]
     },
     "execution_count": 107,
     "metadata": {},
     "output_type": "execute_result"
    }
   ],
   "source": [
    "y_train_all['annu_return'].values"
   ]
  },
  {
   "cell_type": "code",
   "execution_count": 108,
   "metadata": {},
   "outputs": [
    {
     "data": {
      "text/plain": [
       "pandas.core.series.Series"
      ]
     },
     "execution_count": 108,
     "metadata": {},
     "output_type": "execute_result"
    }
   ],
   "source": [
    "type((pd.to_datetime(X_train_all['last_pymnt_d']) - pd.to_datetime(X_train_all['issue_d'])).dt.days)"
   ]
  },
  {
   "cell_type": "code",
   "execution_count": 109,
   "metadata": {},
   "outputs": [
    {
     "name": "stdout",
     "output_type": "stream",
     "text": [
      "Test days integer taken from timedelta:\n",
      "820\n",
      "Test 1st row of annualized return calculation:\n",
      "0.09494692576938313\n"
     ]
    }
   ],
   "source": [
    "print(\"Test days integer taken from timedelta:\")\n",
    "print((pd.to_datetime('May-2017') - pd.to_datetime('Feb-2015')).days)\n",
    "print(\"Test 1st row of annualized return calculation:\")\n",
    "print((24704 / 20000) ** (365 / ((pd.to_datetime('May-2017') - pd.to_datetime('Feb-2015')).days + 30)) - 1)"
   ]
  },
  {
   "cell_type": "code",
   "execution_count": 110,
   "metadata": {},
   "outputs": [
    {
     "data": {
      "text/html": [
       "<div>\n",
       "<style scoped>\n",
       "    .dataframe tbody tr th:only-of-type {\n",
       "        vertical-align: middle;\n",
       "    }\n",
       "\n",
       "    .dataframe tbody tr th {\n",
       "        vertical-align: top;\n",
       "    }\n",
       "\n",
       "    .dataframe thead th {\n",
       "        text-align: right;\n",
       "    }\n",
       "</style>\n",
       "<table border=\"1\" class=\"dataframe\">\n",
       "  <thead>\n",
       "    <tr style=\"text-align: right;\">\n",
       "      <th></th>\n",
       "      <th>loan_status</th>\n",
       "      <th>annu_return</th>\n",
       "    </tr>\n",
       "  </thead>\n",
       "  <tbody>\n",
       "    <tr>\n",
       "      <th>798015</th>\n",
       "      <td>1</td>\n",
       "      <td>0.094961</td>\n",
       "    </tr>\n",
       "    <tr>\n",
       "      <th>962964</th>\n",
       "      <td>0</td>\n",
       "      <td>-0.152235</td>\n",
       "    </tr>\n",
       "    <tr>\n",
       "      <th>534392</th>\n",
       "      <td>1</td>\n",
       "      <td>0.037759</td>\n",
       "    </tr>\n",
       "    <tr>\n",
       "      <th>668134</th>\n",
       "      <td>1</td>\n",
       "      <td>0.040470</td>\n",
       "    </tr>\n",
       "    <tr>\n",
       "      <th>1068586</th>\n",
       "      <td>1</td>\n",
       "      <td>0.032995</td>\n",
       "    </tr>\n",
       "  </tbody>\n",
       "</table>\n",
       "</div>"
      ],
      "text/plain": [
       "        loan_status  annu_return\n",
       "798015            1     0.094961\n",
       "962964            0    -0.152235\n",
       "534392            1     0.037759\n",
       "668134            1     0.040470\n",
       "1068586           1     0.032995"
      ]
     },
     "execution_count": 110,
     "metadata": {},
     "output_type": "execute_result"
    }
   ],
   "source": [
    "y_train_all.head()"
   ]
  },
  {
   "cell_type": "markdown",
   "metadata": {},
   "source": [
    "### Create Regression Target Variable: Annualized Return"
   ]
  },
  {
   "cell_type": "code",
   "execution_count": 100,
   "metadata": {},
   "outputs": [],
   "source": [
    "def calc_annu_return(input_df):\n",
    "    '''Calculates annual return given cleaned LendingClub dataframe'''\n",
    "    annu_return = (input_df['total_pymnt'] /\n",
    "                   input_df['funded_amnt']) ** (365.0 /\n",
    "                                                ((pd.to_datetime(input_df['last_pymnt_d']) - \n",
    "                                                  pd.to_datetime(input_df['issue_d'])).dt.days + 30)) - 1\n",
    "    return annu_return"
   ]
  },
  {
   "cell_type": "code",
   "execution_count": 101,
   "metadata": {},
   "outputs": [],
   "source": [
    "def impute_annu_return_to_y(input_df, target_df):\n",
    "    '''Use input dataframe to compute annualized return and add to target dataframe'''\n",
    "    target_df['annu_return'] = calc_annu_return(input_df)"
   ]
  },
  {
   "cell_type": "markdown",
   "metadata": {},
   "source": [
    "#### Impute Annualized Return (taken from X) to Target DataFrame (Y)"
   ]
  },
  {
   "cell_type": "code",
   "execution_count": 102,
   "metadata": {},
   "outputs": [],
   "source": [
    "impute_annu_return_to_y(X_train_all,y_train_all)"
   ]
  },
  {
   "cell_type": "code",
   "execution_count": 103,
   "metadata": {},
   "outputs": [],
   "source": [
    "impute_annu_return_to_y(X_test_all,y_test_all)"
   ]
  },
  {
   "cell_type": "markdown",
   "metadata": {},
   "source": [
    "#### Explore Actual Annualized Returns Data"
   ]
  },
  {
   "cell_type": "markdown",
   "metadata": {},
   "source": [
    "- Train Set:"
   ]
  },
  {
   "cell_type": "code",
   "execution_count": 118,
   "metadata": {},
   "outputs": [
    {
     "data": {
      "image/png": "[encoded data removed]",
      "text/plain": [
       "<Figure size 432x288 with 1 Axes>"
      ]
     },
     "metadata": {
      "needs_background": "light"
     },
     "output_type": "display_data"
    }
   ],
   "source": [
    "plt.hist(y_train_all['annu_return'],bins=40,range=(-1.0,0.5))\n",
    "plt.xlabel('Annualized Return')\n",
    "plt.ylabel('Frequency of Loans')\n",
    "plt.title('Train Set Frequency of Loans by Actual Returns')\n",
    "plt.show()"
   ]
  },
  {
   "cell_type": "code",
   "execution_count": 119,
   "metadata": {},
   "outputs": [
    {
     "data": {
      "image/png": "[encoded data removed]",
      "text/plain": [
       "<Figure size 432x288 with 1 Axes>"
      ]
     },
     "metadata": {
      "needs_background": "light"
     },
     "output_type": "display_data"
    }
   ],
   "source": [
    "plt.hist(y_train_all['annu_return'],bins=50,range=(-0.1,0.3))\n",
    "plt.xlabel('Annualized Return')\n",
    "plt.ylabel('Frequency of Loans')\n",
    "plt.title('Zoomed In - Train Set Frequency of Loans by Actual Returns')\n",
    "plt.show()"
   ]
  },
  {
   "cell_type": "markdown",
   "metadata": {},
   "source": [
    "- Test Set:"
   ]
  },
  {
   "cell_type": "code",
   "execution_count": 122,
   "metadata": {},
   "outputs": [
    {
     "data": {
      "image/png": "[encoded data removed]",
      "text/plain": [
       "<Figure size 432x288 with 1 Axes>"
      ]
     },
     "metadata": {
      "needs_background": "light"
     },
     "output_type": "display_data"
    }
   ],
   "source": [
    "plt.hist(y_test_all['annu_return'],bins=40,range=(-1.0,0.5))\n",
    "plt.xlabel('Annualized Return')\n",
    "plt.ylabel('Frequency of Loans')\n",
    "plt.title('Test Set Frequency of Loans by Actual Returns')\n",
    "plt.show()"
   ]
  },
  {
   "cell_type": "code",
   "execution_count": 123,
   "metadata": {},
   "outputs": [
    {
     "data": {
      "image/png": "[encoded data removed]",
      "text/plain": [
       "<Figure size 432x288 with 1 Axes>"
      ]
     },
     "metadata": {
      "needs_background": "light"
     },
     "output_type": "display_data"
    }
   ],
   "source": [
    "plt.hist(y_test_all['annu_return'],bins=50,range=(-0.1,0.3))\n",
    "plt.xlabel('Annualized Return')\n",
    "plt.ylabel('Frequency of Loans')\n",
    "plt.title('Zoomed In - Test Set Frequency of Loans by Actual Returns')\n",
    "plt.show()"
   ]
  },
  {
   "cell_type": "markdown",
   "metadata": {},
   "source": [
    "# Linear Regression v1 (target = annu_return)"
   ]
  },
  {
   "cell_type": "code",
   "execution_count": null,
   "metadata": {},
   "outputs": [],
   "source": []
  }
 ],
 "metadata": {
  "kernelspec": {
   "display_name": "Python 3",
   "language": "python",
   "name": "python3"
  },
  "language_info": {
   "codemirror_mode": {
    "name": "ipython",
    "version": 3
   },
   "file_extension": ".py",
   "mimetype": "text/x-python",
   "name": "python",
   "nbconvert_exporter": "python",
   "pygments_lexer": "ipython3",
   "version": "3.5.3"
  }
 },
 "nbformat": 4,
 "nbformat_minor": 2
}
