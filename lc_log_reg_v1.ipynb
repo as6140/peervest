{
 "cells": [
  {
   "cell_type": "code",
   "execution_count": 5,
   "metadata": {},
   "outputs": [],
   "source": [
    "import pandas as pd\n",
    "import numpy as np\n",
    "import matplotlib.pyplot as plt\n",
    "from datetime import datetime\n",
    "import math\n",
    "import seaborn as sns\n",
    "import random\n",
    "from functions_and_objects import prep_all_df_for_classification\n",
    "\n",
    "import sklearn\n",
    "from sklearn.preprocessing import StandardScaler\n",
    "from sklearn.decomposition import PCA\n",
    "from sklearn.linear_model import LogisticRegression\n",
    "from sklearn.metrics import (accuracy_score, precision_score, recall_score, f1_score, \n",
    "                             roc_auc_score, roc_curve,precision_recall_fscore_support)\n",
    "\n",
    "import joblib"
   ]
  },
  {
   "cell_type": "markdown",
   "metadata": {},
   "source": [
    "### Using Entire Dataset (memory issues possible)"
   ]
  },
  {
   "cell_type": "code",
   "execution_count": 6,
   "metadata": {},
   "outputs": [],
   "source": [
    "#X_train\n",
    "filename = \"X_train.pkl\"\n",
    "X_train_all = pd.read_pickle(filename)#, skiprows=skip, sep='\\t',index_col=0)\n",
    "\n",
    "#X_test\n",
    "filename = \"X_test.pkl\"\n",
    "X_test_all = pd.read_pickle(filename)#, skiprows=skip, sep='\\t',index_col=0)\n",
    "\n",
    "#y_train\n",
    "filename = \"y_train.pkl\"\n",
    "y_train_all = pd.read_pickle(filename)#, skiprows=skip, sep='\\t',index_col=0)\n",
    "\n",
    "#y_test\n",
    "filename = \"y_test.pkl\"\n",
    "y_test_all = pd.read_pickle(filename)#, skiprows=skip, sep='\\t',index_col=0)"
   ]
  },
  {
   "cell_type": "code",
   "execution_count": 7,
   "metadata": {},
   "outputs": [
    {
     "name": "stdout",
     "output_type": "stream",
     "text": [
      "(880950, 1133)\n",
      "(377551, 1133)\n",
      "(880950, 1)\n",
      "(377551, 1)\n"
     ]
    }
   ],
   "source": [
    "print(X_train_all.shape)\n",
    "print(X_test_all.shape)\n",
    "print(y_train_all.shape)\n",
    "print(y_test_all.shape)"
   ]
  },
  {
   "cell_type": "markdown",
   "metadata": {},
   "source": [
    "#### Drop non-numeric columns to prepare for classification model fitting"
   ]
  },
  {
   "cell_type": "code",
   "execution_count": 8,
   "metadata": {},
   "outputs": [],
   "source": [
    "prep_all_df_for_classification(X_train_all)\n",
    "prep_all_df_for_classification(X_test_all)\n",
    "X_train_all.set_index('index',inplace=True)\n",
    "X_test_all.set_index('index',inplace=True)"
   ]
  },
  {
   "cell_type": "code",
   "execution_count": 9,
   "metadata": {},
   "outputs": [
    {
     "name": "stdout",
     "output_type": "stream",
     "text": [
      "(880950, 1124)\n",
      "(377551, 1124)\n",
      "(880950, 1)\n",
      "(377551, 1)\n"
     ]
    }
   ],
   "source": [
    "print(X_train_all.shape)\n",
    "print(X_test_all.shape)\n",
    "print(y_train_all.shape)\n",
    "print(y_test_all.shape)"
   ]
  },
  {
   "cell_type": "code",
   "execution_count": 19,
   "metadata": {},
   "outputs": [
    {
     "name": "stdout",
     "output_type": "stream",
     "text": [
      "['loan_amnt', 'funded_amnt', 'total_pymnt', 'int_rate', 'installment', 'emp_length', 'annual_inc', 'dti', 'delinq_2yrs', 'earliest_cr_line', 'fico_range_low', 'fico_range_high', 'inq_last_6mths', 'mths_since_last_delinq', 'mths_since_last_record', 'open_acc', 'pub_rec', 'revol_bal', 'revol_util', 'total_acc', 'out_prncp', 'out_prncp_inv', 'last_fico_range_high', 'last_fico_range_low', 'collections_12_mths_ex_med', 'mths_since_last_major_derog', 'policy_code', 'annual_inc_joint', 'dti_joint', 'acc_now_delinq', 'tot_coll_amt', 'tot_cur_bal', 'open_acc_6m', 'open_act_il', 'open_il_12m', 'open_il_24m', 'mths_since_rcnt_il', 'total_bal_il', 'il_util', 'open_rv_12m', 'open_rv_24m', 'all_util', 'total_rev_hi_lim', 'inq_fi', 'total_cu_tl', 'inq_last_12m', 'acc_open_past_24mths', 'avg_cur_bal', 'bc_open_to_buy', 'bc_util', 'chargeoff_within_12_mths', 'delinq_amnt', 'mo_sin_old_il_acct', 'mo_sin_old_rev_tl_op', 'mo_sin_rcnt_rev_tl_op', 'mo_sin_rcnt_tl', 'mort_acc', 'mths_since_recent_bc', 'mths_since_recent_bc_dlq', 'mths_since_recent_inq', 'mths_since_recent_revol_delinq', 'num_accts_ever_120_pd', 'num_actv_bc_tl', 'num_actv_rev_tl', 'num_bc_sats', 'num_bc_tl', 'num_il_tl', 'num_op_rev_tl', 'num_rev_accts', 'num_rev_tl_bal_gt_0', 'num_sats', 'num_tl_120dpd_2m', 'num_tl_30dpd', 'num_tl_90g_dpd_24m', 'num_tl_op_past_12m', 'pct_tl_nvr_dlq', 'percent_bc_gt_75', 'pub_rec_bankruptcies', 'tax_liens', 'tot_hi_cred_lim', 'total_bal_ex_mort', 'total_bc_limit', 'total_il_high_credit_limit', 'collection_recovery_fee', 'total_rec_prncp', 'total_rec_int', 'total_rec_late_fee', 'home_ownership_ANY', 'home_ownership_MORTGAGE', 'home_ownership_NONE', 'home_ownership_OTHER', 'home_ownership_OWN', 'home_ownership_RENT', 'purpose_car', 'purpose_credit_card', 'purpose_debt_consolidation', 'purpose_educational', 'purpose_home_improvement', 'purpose_house', 'purpose_major_purchase', 'purpose_medical', 'purpose_moving', 'purpose_other', 'purpose_renewable_energy', 'purpose_small_business', 'purpose_vacation', 'purpose_wedding', 'zip_code_007xx', 'zip_code_008xx', 'zip_code_009xx', 'zip_code_010xx', 'zip_code_011xx', 'zip_code_012xx', 'zip_code_013xx', 'zip_code_014xx', 'zip_code_015xx', 'zip_code_016xx', 'zip_code_017xx', 'zip_code_018xx', 'zip_code_019xx', 'zip_code_020xx', 'zip_code_021xx', 'zip_code_022xx', 'zip_code_023xx', 'zip_code_024xx', 'zip_code_025xx', 'zip_code_026xx', 'zip_code_027xx', 'zip_code_028xx', 'zip_code_029xx', 'zip_code_030xx', 'zip_code_031xx', 'zip_code_032xx', 'zip_code_033xx', 'zip_code_034xx', 'zip_code_035xx', 'zip_code_036xx', 'zip_code_037xx', 'zip_code_038xx', 'zip_code_039xx', 'zip_code_040xx', 'zip_code_041xx', 'zip_code_042xx', 'zip_code_043xx', 'zip_code_044xx', 'zip_code_045xx', 'zip_code_046xx', 'zip_code_047xx', 'zip_code_048xx', 'zip_code_049xx', 'zip_code_050xx', 'zip_code_051xx', 'zip_code_052xx', 'zip_code_053xx', 'zip_code_054xx', 'zip_code_056xx', 'zip_code_057xx', 'zip_code_058xx', 'zip_code_059xx', 'zip_code_060xx', 'zip_code_061xx', 'zip_code_062xx', 'zip_code_063xx', 'zip_code_064xx', 'zip_code_065xx', 'zip_code_066xx', 'zip_code_067xx', 'zip_code_068xx', 'zip_code_069xx', 'zip_code_070xx', 'zip_code_071xx', 'zip_code_072xx', 'zip_code_073xx', 'zip_code_074xx', 'zip_code_075xx', 'zip_code_076xx', 'zip_code_077xx', 'zip_code_078xx', 'zip_code_079xx', 'zip_code_080xx', 'zip_code_081xx', 'zip_code_082xx', 'zip_code_083xx', 'zip_code_084xx', 'zip_code_085xx', 'zip_code_086xx', 'zip_code_087xx', 'zip_code_088xx', 'zip_code_089xx', 'zip_code_090xx', 'zip_code_091xx', 'zip_code_092xx', 'zip_code_093xx', 'zip_code_094xx', 'zip_code_096xx', 'zip_code_097xx', 'zip_code_098xx', 'zip_code_100xx', 'zip_code_101xx', 'zip_code_102xx', 'zip_code_103xx', 'zip_code_104xx', 'zip_code_105xx', 'zip_code_106xx', 'zip_code_107xx', 'zip_code_108xx', 'zip_code_109xx', 'zip_code_110xx', 'zip_code_111xx', 'zip_code_112xx', 'zip_code_113xx', 'zip_code_114xx', 'zip_code_115xx', 'zip_code_116xx', 'zip_code_117xx', 'zip_code_118xx', 'zip_code_119xx', 'zip_code_120xx', 'zip_code_121xx', 'zip_code_122xx', 'zip_code_123xx', 'zip_code_124xx', 'zip_code_125xx', 'zip_code_126xx', 'zip_code_127xx', 'zip_code_128xx', 'zip_code_129xx', 'zip_code_130xx', 'zip_code_131xx', 'zip_code_132xx', 'zip_code_133xx', 'zip_code_134xx', 'zip_code_135xx', 'zip_code_136xx', 'zip_code_137xx', 'zip_code_138xx', 'zip_code_139xx', 'zip_code_140xx', 'zip_code_141xx', 'zip_code_142xx', 'zip_code_143xx', 'zip_code_144xx', 'zip_code_145xx', 'zip_code_146xx', 'zip_code_147xx', 'zip_code_148xx', 'zip_code_149xx', 'zip_code_150xx', 'zip_code_151xx', 'zip_code_152xx', 'zip_code_153xx', 'zip_code_154xx', 'zip_code_155xx', 'zip_code_156xx', 'zip_code_157xx', 'zip_code_158xx', 'zip_code_159xx', 'zip_code_160xx', 'zip_code_161xx', 'zip_code_162xx', 'zip_code_163xx', 'zip_code_164xx', 'zip_code_165xx', 'zip_code_166xx', 'zip_code_167xx', 'zip_code_168xx', 'zip_code_169xx', 'zip_code_170xx', 'zip_code_171xx', 'zip_code_172xx', 'zip_code_173xx', 'zip_code_174xx', 'zip_code_175xx', 'zip_code_176xx', 'zip_code_177xx', 'zip_code_178xx', 'zip_code_179xx', 'zip_code_180xx', 'zip_code_181xx', 'zip_code_182xx', 'zip_code_183xx', 'zip_code_184xx', 'zip_code_185xx', 'zip_code_186xx', 'zip_code_187xx', 'zip_code_188xx', 'zip_code_189xx', 'zip_code_190xx', 'zip_code_191xx', 'zip_code_193xx', 'zip_code_194xx', 'zip_code_195xx', 'zip_code_196xx', 'zip_code_197xx', 'zip_code_198xx', 'zip_code_199xx', 'zip_code_200xx', 'zip_code_201xx', 'zip_code_202xx', 'zip_code_203xx', 'zip_code_204xx', 'zip_code_205xx', 'zip_code_206xx', 'zip_code_207xx', 'zip_code_208xx', 'zip_code_209xx', 'zip_code_210xx', 'zip_code_211xx', 'zip_code_212xx', 'zip_code_214xx', 'zip_code_215xx', 'zip_code_216xx', 'zip_code_217xx', 'zip_code_218xx', 'zip_code_219xx', 'zip_code_220xx', 'zip_code_221xx', 'zip_code_222xx', 'zip_code_223xx', 'zip_code_224xx', 'zip_code_225xx', 'zip_code_226xx', 'zip_code_227xx', 'zip_code_228xx', 'zip_code_229xx', 'zip_code_230xx', 'zip_code_231xx', 'zip_code_232xx', 'zip_code_233xx', 'zip_code_234xx', 'zip_code_235xx', 'zip_code_236xx', 'zip_code_237xx', 'zip_code_238xx', 'zip_code_239xx', 'zip_code_240xx', 'zip_code_241xx', 'zip_code_242xx', 'zip_code_243xx', 'zip_code_244xx', 'zip_code_245xx', 'zip_code_246xx', 'zip_code_247xx', 'zip_code_248xx', 'zip_code_249xx', 'zip_code_250xx', 'zip_code_251xx', 'zip_code_252xx', 'zip_code_253xx', 'zip_code_254xx', 'zip_code_255xx', 'zip_code_256xx', 'zip_code_257xx', 'zip_code_258xx', 'zip_code_259xx', 'zip_code_260xx', 'zip_code_261xx', 'zip_code_262xx', 'zip_code_263xx', 'zip_code_264xx', 'zip_code_265xx', 'zip_code_266xx', 'zip_code_267xx', 'zip_code_268xx', 'zip_code_269xx', 'zip_code_270xx', 'zip_code_271xx', 'zip_code_272xx', 'zip_code_273xx', 'zip_code_274xx', 'zip_code_275xx', 'zip_code_276xx', 'zip_code_277xx', 'zip_code_278xx', 'zip_code_279xx', 'zip_code_280xx', 'zip_code_281xx', 'zip_code_282xx', 'zip_code_283xx', 'zip_code_284xx', 'zip_code_285xx', 'zip_code_286xx', 'zip_code_287xx', 'zip_code_288xx', 'zip_code_289xx', 'zip_code_290xx', 'zip_code_291xx', 'zip_code_292xx', 'zip_code_293xx', 'zip_code_294xx', 'zip_code_295xx', 'zip_code_296xx', 'zip_code_297xx', 'zip_code_298xx', 'zip_code_299xx', 'zip_code_300xx', 'zip_code_301xx', 'zip_code_302xx', 'zip_code_303xx', 'zip_code_304xx', 'zip_code_305xx', 'zip_code_306xx', 'zip_code_307xx', 'zip_code_308xx', 'zip_code_309xx', 'zip_code_310xx', 'zip_code_311xx', 'zip_code_312xx', 'zip_code_313xx', 'zip_code_314xx', 'zip_code_315xx', 'zip_code_316xx', 'zip_code_317xx', 'zip_code_318xx', 'zip_code_319xx', 'zip_code_320xx', 'zip_code_321xx', 'zip_code_322xx', 'zip_code_323xx', 'zip_code_324xx', 'zip_code_325xx', 'zip_code_326xx', 'zip_code_327xx', 'zip_code_328xx', 'zip_code_329xx', 'zip_code_330xx', 'zip_code_331xx', 'zip_code_332xx', 'zip_code_333xx', 'zip_code_334xx', 'zip_code_335xx', 'zip_code_336xx', 'zip_code_337xx', 'zip_code_338xx', 'zip_code_339xx', 'zip_code_340xx', 'zip_code_341xx', 'zip_code_342xx', 'zip_code_343xx', 'zip_code_344xx', 'zip_code_345xx', 'zip_code_346xx', 'zip_code_347xx', 'zip_code_348xx', 'zip_code_349xx', 'zip_code_350xx', 'zip_code_351xx', 'zip_code_352xx', 'zip_code_353xx', 'zip_code_354xx', 'zip_code_355xx', 'zip_code_356xx', 'zip_code_357xx', 'zip_code_358xx', 'zip_code_359xx', 'zip_code_360xx', 'zip_code_361xx', 'zip_code_362xx', 'zip_code_363xx', 'zip_code_364xx', 'zip_code_365xx', 'zip_code_366xx', 'zip_code_367xx', 'zip_code_368xx', 'zip_code_369xx', 'zip_code_370xx', 'zip_code_371xx', 'zip_code_372xx', 'zip_code_373xx', 'zip_code_374xx', 'zip_code_375xx', 'zip_code_376xx', 'zip_code_377xx', 'zip_code_378xx', 'zip_code_379xx', 'zip_code_380xx', 'zip_code_381xx', 'zip_code_382xx', 'zip_code_383xx', 'zip_code_384xx', 'zip_code_385xx', 'zip_code_386xx', 'zip_code_387xx', 'zip_code_388xx', 'zip_code_389xx', 'zip_code_390xx', 'zip_code_391xx', 'zip_code_392xx', 'zip_code_393xx', 'zip_code_394xx', 'zip_code_395xx', 'zip_code_396xx', 'zip_code_397xx', 'zip_code_398xx', 'zip_code_400xx', 'zip_code_401xx', 'zip_code_402xx', 'zip_code_403xx', 'zip_code_404xx', 'zip_code_405xx', 'zip_code_406xx', 'zip_code_407xx', 'zip_code_408xx', 'zip_code_409xx', 'zip_code_410xx', 'zip_code_411xx', 'zip_code_412xx', 'zip_code_413xx', 'zip_code_414xx', 'zip_code_415xx', 'zip_code_416xx', 'zip_code_417xx', 'zip_code_418xx', 'zip_code_420xx', 'zip_code_421xx', 'zip_code_422xx', 'zip_code_423xx', 'zip_code_424xx', 'zip_code_425xx', 'zip_code_426xx', 'zip_code_427xx', 'zip_code_430xx', 'zip_code_431xx', 'zip_code_432xx', 'zip_code_433xx', 'zip_code_434xx', 'zip_code_435xx', 'zip_code_436xx', 'zip_code_437xx', 'zip_code_438xx', 'zip_code_439xx', 'zip_code_440xx', 'zip_code_441xx', 'zip_code_442xx', 'zip_code_443xx', 'zip_code_444xx', 'zip_code_445xx', 'zip_code_446xx', 'zip_code_447xx', 'zip_code_448xx', 'zip_code_449xx', 'zip_code_450xx', 'zip_code_451xx', 'zip_code_452xx', 'zip_code_453xx', 'zip_code_454xx', 'zip_code_455xx', 'zip_code_456xx', 'zip_code_457xx', 'zip_code_458xx', 'zip_code_460xx', 'zip_code_461xx', 'zip_code_462xx', 'zip_code_463xx', 'zip_code_464xx', 'zip_code_465xx', 'zip_code_466xx', 'zip_code_467xx', 'zip_code_468xx', 'zip_code_469xx', 'zip_code_470xx', 'zip_code_471xx', 'zip_code_472xx', 'zip_code_473xx', 'zip_code_474xx', 'zip_code_475xx', 'zip_code_476xx', 'zip_code_477xx', 'zip_code_478xx', 'zip_code_479xx', 'zip_code_480xx', 'zip_code_481xx', 'zip_code_482xx', 'zip_code_483xx', 'zip_code_484xx', 'zip_code_485xx', 'zip_code_486xx', 'zip_code_487xx', 'zip_code_488xx', 'zip_code_489xx', 'zip_code_490xx', 'zip_code_491xx', 'zip_code_492xx', 'zip_code_493xx', 'zip_code_494xx', 'zip_code_495xx', 'zip_code_496xx', 'zip_code_497xx', 'zip_code_498xx', 'zip_code_499xx', 'zip_code_500xx', 'zip_code_502xx', 'zip_code_504xx', 'zip_code_506xx', 'zip_code_507xx', 'zip_code_509xx', 'zip_code_510xx', 'zip_code_511xx', 'zip_code_513xx', 'zip_code_516xx', 'zip_code_521xx', 'zip_code_522xx', 'zip_code_523xx', 'zip_code_527xx', 'zip_code_528xx', 'zip_code_530xx', 'zip_code_531xx', 'zip_code_532xx', 'zip_code_534xx', 'zip_code_535xx', 'zip_code_537xx', 'zip_code_538xx', 'zip_code_539xx', 'zip_code_540xx', 'zip_code_541xx', 'zip_code_542xx', 'zip_code_543xx', 'zip_code_544xx', 'zip_code_545xx', 'zip_code_546xx', 'zip_code_547xx', 'zip_code_548xx', 'zip_code_549xx', 'zip_code_550xx', 'zip_code_551xx', 'zip_code_553xx', 'zip_code_554xx', 'zip_code_555xx', 'zip_code_556xx', 'zip_code_557xx', 'zip_code_558xx', 'zip_code_559xx', 'zip_code_560xx', 'zip_code_561xx', 'zip_code_562xx', 'zip_code_563xx', 'zip_code_564xx', 'zip_code_565xx', 'zip_code_566xx', 'zip_code_567xx', 'zip_code_568xx', 'zip_code_569xx', 'zip_code_570xx', 'zip_code_571xx', 'zip_code_572xx', 'zip_code_573xx', 'zip_code_574xx', 'zip_code_575xx', 'zip_code_576xx', 'zip_code_577xx', 'zip_code_580xx', 'zip_code_581xx', 'zip_code_582xx', 'zip_code_583xx', 'zip_code_584xx', 'zip_code_585xx', 'zip_code_586xx', 'zip_code_587xx', 'zip_code_588xx', 'zip_code_590xx', 'zip_code_591xx', 'zip_code_592xx', 'zip_code_593xx', 'zip_code_594xx', 'zip_code_595xx', 'zip_code_596xx', 'zip_code_597xx', 'zip_code_598xx', 'zip_code_599xx', 'zip_code_600xx', 'zip_code_601xx', 'zip_code_602xx', 'zip_code_603xx', 'zip_code_604xx', 'zip_code_605xx', 'zip_code_606xx', 'zip_code_607xx', 'zip_code_608xx', 'zip_code_609xx', 'zip_code_610xx', 'zip_code_611xx', 'zip_code_612xx', 'zip_code_613xx', 'zip_code_614xx', 'zip_code_615xx', 'zip_code_616xx', 'zip_code_617xx', 'zip_code_618xx', 'zip_code_619xx', 'zip_code_620xx', 'zip_code_621xx', 'zip_code_622xx', 'zip_code_623xx', 'zip_code_624xx', 'zip_code_625xx', 'zip_code_626xx', 'zip_code_627xx', 'zip_code_628xx', 'zip_code_629xx', 'zip_code_630xx', 'zip_code_631xx', 'zip_code_633xx', 'zip_code_634xx', 'zip_code_635xx', 'zip_code_636xx', 'zip_code_637xx', 'zip_code_638xx', 'zip_code_639xx', 'zip_code_640xx', 'zip_code_641xx', 'zip_code_643xx', 'zip_code_644xx', 'zip_code_645xx', 'zip_code_646xx', 'zip_code_647xx', 'zip_code_648xx', 'zip_code_649xx', 'zip_code_650xx', 'zip_code_651xx', 'zip_code_652xx', 'zip_code_653xx', 'zip_code_654xx', 'zip_code_655xx', 'zip_code_656xx', 'zip_code_657xx', 'zip_code_658xx', 'zip_code_660xx', 'zip_code_661xx', 'zip_code_662xx', 'zip_code_664xx', 'zip_code_665xx', 'zip_code_666xx', 'zip_code_667xx', 'zip_code_668xx', 'zip_code_669xx', 'zip_code_670xx', 'zip_code_671xx', 'zip_code_672xx', 'zip_code_673xx', 'zip_code_674xx', 'zip_code_675xx', 'zip_code_676xx', 'zip_code_677xx', 'zip_code_678xx', 'zip_code_679xx', 'zip_code_680xx', 'zip_code_681xx', 'zip_code_683xx', 'zip_code_684xx', 'zip_code_685xx', 'zip_code_686xx', 'zip_code_687xx', 'zip_code_688xx', 'zip_code_689xx', 'zip_code_690xx', 'zip_code_691xx', 'zip_code_692xx', 'zip_code_693xx', 'zip_code_694xx', 'zip_code_698xx', 'zip_code_700xx', 'zip_code_701xx', 'zip_code_702xx', 'zip_code_703xx', 'zip_code_704xx', 'zip_code_705xx', 'zip_code_706xx', 'zip_code_707xx', 'zip_code_708xx', 'zip_code_709xx', 'zip_code_710xx', 'zip_code_711xx', 'zip_code_712xx', 'zip_code_713xx', 'zip_code_714xx', 'zip_code_716xx', 'zip_code_717xx', 'zip_code_718xx', 'zip_code_719xx', 'zip_code_720xx', 'zip_code_721xx', 'zip_code_722xx', 'zip_code_723xx', 'zip_code_724xx', 'zip_code_725xx', 'zip_code_726xx', 'zip_code_727xx', 'zip_code_728xx', 'zip_code_729xx', 'zip_code_730xx', 'zip_code_731xx', 'zip_code_734xx', 'zip_code_735xx', 'zip_code_736xx', 'zip_code_737xx', 'zip_code_738xx', 'zip_code_739xx', 'zip_code_740xx', 'zip_code_741xx', 'zip_code_743xx', 'zip_code_744xx', 'zip_code_745xx', 'zip_code_746xx', 'zip_code_747xx', 'zip_code_748xx', 'zip_code_749xx', 'zip_code_750xx', 'zip_code_751xx', 'zip_code_752xx', 'zip_code_753xx', 'zip_code_754xx', 'zip_code_755xx', 'zip_code_756xx', 'zip_code_757xx', 'zip_code_758xx', 'zip_code_759xx', 'zip_code_760xx', 'zip_code_761xx', 'zip_code_762xx', 'zip_code_763xx', 'zip_code_764xx', 'zip_code_765xx', 'zip_code_766xx', 'zip_code_767xx', 'zip_code_768xx', 'zip_code_769xx', 'zip_code_770xx', 'zip_code_772xx', 'zip_code_773xx', 'zip_code_774xx', 'zip_code_775xx', 'zip_code_776xx', 'zip_code_777xx', 'zip_code_778xx', 'zip_code_779xx', 'zip_code_780xx', 'zip_code_781xx', 'zip_code_782xx', 'zip_code_783xx', 'zip_code_784xx', 'zip_code_785xx', 'zip_code_786xx', 'zip_code_787xx', 'zip_code_788xx', 'zip_code_789xx', 'zip_code_790xx', 'zip_code_791xx', 'zip_code_792xx', 'zip_code_793xx', 'zip_code_794xx', 'zip_code_795xx', 'zip_code_796xx', 'zip_code_797xx', 'zip_code_798xx', 'zip_code_799xx', 'zip_code_800xx', 'zip_code_801xx', 'zip_code_802xx', 'zip_code_803xx', 'zip_code_804xx', 'zip_code_805xx', 'zip_code_806xx', 'zip_code_807xx', 'zip_code_808xx', 'zip_code_809xx', 'zip_code_810xx', 'zip_code_811xx', 'zip_code_812xx', 'zip_code_813xx', 'zip_code_814xx', 'zip_code_815xx', 'zip_code_816xx', 'zip_code_817xx', 'zip_code_820xx', 'zip_code_821xx', 'zip_code_822xx', 'zip_code_823xx', 'zip_code_824xx', 'zip_code_825xx', 'zip_code_826xx', 'zip_code_827xx', 'zip_code_828xx', 'zip_code_829xx', 'zip_code_830xx', 'zip_code_831xx', 'zip_code_832xx', 'zip_code_833xx', 'zip_code_834xx', 'zip_code_835xx', 'zip_code_836xx', 'zip_code_837xx', 'zip_code_838xx', 'zip_code_840xx', 'zip_code_841xx', 'zip_code_843xx', 'zip_code_844xx', 'zip_code_845xx', 'zip_code_846xx', 'zip_code_847xx', 'zip_code_850xx', 'zip_code_851xx', 'zip_code_852xx', 'zip_code_853xx', 'zip_code_854xx', 'zip_code_855xx', 'zip_code_856xx', 'zip_code_857xx', 'zip_code_859xx', 'zip_code_860xx', 'zip_code_861xx', 'zip_code_862xx', 'zip_code_863xx', 'zip_code_864xx', 'zip_code_865xx', 'zip_code_870xx', 'zip_code_871xx', 'zip_code_872xx', 'zip_code_873xx', 'zip_code_874xx', 'zip_code_875xx', 'zip_code_877xx', 'zip_code_878xx', 'zip_code_879xx', 'zip_code_880xx', 'zip_code_881xx', 'zip_code_882xx', 'zip_code_883xx', 'zip_code_884xx', 'zip_code_888xx', 'zip_code_889xx', 'zip_code_890xx', 'zip_code_891xx', 'zip_code_892xx', 'zip_code_893xx', 'zip_code_894xx', 'zip_code_895xx', 'zip_code_896xx', 'zip_code_897xx', 'zip_code_898xx', 'zip_code_900xx', 'zip_code_901xx', 'zip_code_902xx', 'zip_code_903xx', 'zip_code_904xx', 'zip_code_905xx', 'zip_code_906xx', 'zip_code_907xx', 'zip_code_908xx', 'zip_code_909xx', 'zip_code_910xx', 'zip_code_911xx', 'zip_code_912xx', 'zip_code_913xx', 'zip_code_914xx', 'zip_code_915xx', 'zip_code_916xx', 'zip_code_917xx', 'zip_code_918xx', 'zip_code_919xx', 'zip_code_920xx', 'zip_code_921xx', 'zip_code_922xx', 'zip_code_923xx', 'zip_code_924xx', 'zip_code_925xx', 'zip_code_926xx', 'zip_code_927xx', 'zip_code_928xx', 'zip_code_930xx', 'zip_code_931xx', 'zip_code_932xx', 'zip_code_933xx', 'zip_code_934xx', 'zip_code_935xx', 'zip_code_936xx', 'zip_code_937xx', 'zip_code_938xx', 'zip_code_939xx', 'zip_code_940xx', 'zip_code_941xx', 'zip_code_942xx', 'zip_code_943xx', 'zip_code_944xx', 'zip_code_945xx', 'zip_code_946xx', 'zip_code_947xx', 'zip_code_948xx', 'zip_code_949xx', 'zip_code_950xx', 'zip_code_951xx', 'zip_code_952xx', 'zip_code_953xx', 'zip_code_954xx', 'zip_code_955xx', 'zip_code_956xx', 'zip_code_957xx', 'zip_code_958xx', 'zip_code_959xx', 'zip_code_960xx', 'zip_code_961xx', 'zip_code_962xx', 'zip_code_963xx', 'zip_code_964xx', 'zip_code_965xx', 'zip_code_966xx', 'zip_code_967xx', 'zip_code_968xx', 'zip_code_969xx', 'zip_code_970xx', 'zip_code_971xx', 'zip_code_972xx', 'zip_code_973xx', 'zip_code_974xx', 'zip_code_975xx', 'zip_code_976xx', 'zip_code_977xx', 'zip_code_978xx', 'zip_code_979xx', 'zip_code_980xx', 'zip_code_981xx', 'zip_code_982xx', 'zip_code_983xx', 'zip_code_984xx', 'zip_code_985xx', 'zip_code_986xx', 'zip_code_988xx', 'zip_code_989xx', 'zip_code_990xx', 'zip_code_991xx', 'zip_code_992xx', 'zip_code_993xx', 'zip_code_994xx', 'zip_code_995xx', 'zip_code_996xx', 'zip_code_997xx', 'zip_code_998xx', 'zip_code_999xx', 'application_type_Individual', 'application_type_Joint App', 'sub_grade_A1', 'sub_grade_A2', 'sub_grade_A3', 'sub_grade_A4', 'sub_grade_A5', 'sub_grade_B1', 'sub_grade_B2', 'sub_grade_B3', 'sub_grade_B4', 'sub_grade_B5', 'sub_grade_C1', 'sub_grade_C2', 'sub_grade_C3', 'sub_grade_C4', 'sub_grade_C5', 'sub_grade_D1', 'sub_grade_D2', 'sub_grade_D3', 'sub_grade_D4', 'sub_grade_D5', 'sub_grade_E1', 'sub_grade_E2', 'sub_grade_E3', 'sub_grade_E4', 'sub_grade_E5', 'sub_grade_F1', 'sub_grade_F2', 'sub_grade_F3', 'sub_grade_F4', 'sub_grade_F5', 'sub_grade_G1', 'sub_grade_G2', 'sub_grade_G3', 'sub_grade_G4', 'sub_grade_G5', 'emp_title_2_Account Executive', 'emp_title_2_Account Manager', 'emp_title_2_Accountant', 'emp_title_2_Administrative Assistant', 'emp_title_2_Administrator', 'emp_title_2_Analyst', 'emp_title_2_Assistant Manager', 'emp_title_2_Attorney', 'emp_title_2_Branch Manager', 'emp_title_2_CEO', 'emp_title_2_Consultant', 'emp_title_2_Controller', 'emp_title_2_Director', 'emp_title_2_Driver', 'emp_title_2_Electrician', 'emp_title_2_Engineer', 'emp_title_2_Executive Assistant', 'emp_title_2_General Manager', 'emp_title_2_Manager', 'emp_title_2_Mechanic', 'emp_title_2_Nurse', 'emp_title_2_Office Manager', 'emp_title_2_Operations Manager', 'emp_title_2_Other', 'emp_title_2_Owner', 'emp_title_2_Paralegal', 'emp_title_2_Police Officer', 'emp_title_2_President', 'emp_title_2_Principal', 'emp_title_2_Program Manager', 'emp_title_2_Project Manager', 'emp_title_2_RN', 'emp_title_2_Registered Nurse', 'emp_title_2_Sales', 'emp_title_2_Sales Manager', 'emp_title_2_Server', 'emp_title_2_Software Engineer', 'emp_title_2_Store Manager', 'emp_title_2_Supervisor', 'emp_title_2_Teacher', 'emp_title_2_Technician', 'emp_title_2_Truck Driver', 'emp_title_2_Vice President', 'emp_title_2_driver', 'emp_title_2_manager', 'emp_title_2_owner', 'emp_title_2_sales', 'emp_title_2_supervisor', 'emp_title_2_teacher', 'emp_title_2_truck driver']\n"
     ]
    }
   ],
   "source": [
    "print(X_train_all.columns.tolist())"
   ]
  },
  {
   "cell_type": "code",
   "execution_count": 16,
   "metadata": {},
   "outputs": [
    {
     "data": {
      "text/html": [
       "<div>\n",
       "<style scoped>\n",
       "    .dataframe tbody tr th:only-of-type {\n",
       "        vertical-align: middle;\n",
       "    }\n",
       "\n",
       "    .dataframe tbody tr th {\n",
       "        vertical-align: top;\n",
       "    }\n",
       "\n",
       "    .dataframe thead th {\n",
       "        text-align: right;\n",
       "    }\n",
       "</style>\n",
       "<table border=\"1\" class=\"dataframe\">\n",
       "  <thead>\n",
       "    <tr style=\"text-align: right;\">\n",
       "      <th></th>\n",
       "      <th>loan_amnt</th>\n",
       "      <th>funded_amnt</th>\n",
       "      <th>total_pymnt</th>\n",
       "      <th>int_rate</th>\n",
       "      <th>installment</th>\n",
       "      <th>emp_length</th>\n",
       "      <th>annual_inc</th>\n",
       "      <th>dti</th>\n",
       "      <th>delinq_2yrs</th>\n",
       "      <th>earliest_cr_line</th>\n",
       "      <th>...</th>\n",
       "      <th>emp_title_2_Technician</th>\n",
       "      <th>emp_title_2_Truck Driver</th>\n",
       "      <th>emp_title_2_Vice President</th>\n",
       "      <th>emp_title_2_driver</th>\n",
       "      <th>emp_title_2_manager</th>\n",
       "      <th>emp_title_2_owner</th>\n",
       "      <th>emp_title_2_sales</th>\n",
       "      <th>emp_title_2_supervisor</th>\n",
       "      <th>emp_title_2_teacher</th>\n",
       "      <th>emp_title_2_truck driver</th>\n",
       "    </tr>\n",
       "    <tr>\n",
       "      <th>index</th>\n",
       "      <th></th>\n",
       "      <th></th>\n",
       "      <th></th>\n",
       "      <th></th>\n",
       "      <th></th>\n",
       "      <th></th>\n",
       "      <th></th>\n",
       "      <th></th>\n",
       "      <th></th>\n",
       "      <th></th>\n",
       "      <th></th>\n",
       "      <th></th>\n",
       "      <th></th>\n",
       "      <th></th>\n",
       "      <th></th>\n",
       "      <th></th>\n",
       "      <th></th>\n",
       "      <th></th>\n",
       "      <th></th>\n",
       "      <th></th>\n",
       "      <th></th>\n",
       "    </tr>\n",
       "  </thead>\n",
       "  <tbody>\n",
       "    <tr>\n",
       "      <th>798015</th>\n",
       "      <td>20000</td>\n",
       "      <td>20000.0</td>\n",
       "      <td>24704.737119</td>\n",
       "      <td>0.1239</td>\n",
       "      <td>448.85</td>\n",
       "      <td>1.0</td>\n",
       "      <td>62000.0</td>\n",
       "      <td>4.82</td>\n",
       "      <td>0</td>\n",
       "      <td>12173.0</td>\n",
       "      <td>...</td>\n",
       "      <td>0.0</td>\n",
       "      <td>0.0</td>\n",
       "      <td>0.0</td>\n",
       "      <td>1.0</td>\n",
       "      <td>0.0</td>\n",
       "      <td>0.0</td>\n",
       "      <td>0.0</td>\n",
       "      <td>0.0</td>\n",
       "      <td>0.0</td>\n",
       "      <td>0.0</td>\n",
       "    </tr>\n",
       "    <tr>\n",
       "      <th>962964</th>\n",
       "      <td>15000</td>\n",
       "      <td>15000.0</td>\n",
       "      <td>10780.580000</td>\n",
       "      <td>0.1299</td>\n",
       "      <td>505.34</td>\n",
       "      <td>1.0</td>\n",
       "      <td>55000.0</td>\n",
       "      <td>31.05</td>\n",
       "      <td>1</td>\n",
       "      <td>7882.0</td>\n",
       "      <td>...</td>\n",
       "      <td>0.0</td>\n",
       "      <td>0.0</td>\n",
       "      <td>0.0</td>\n",
       "      <td>0.0</td>\n",
       "      <td>0.0</td>\n",
       "      <td>0.0</td>\n",
       "      <td>0.0</td>\n",
       "      <td>0.0</td>\n",
       "      <td>0.0</td>\n",
       "      <td>0.0</td>\n",
       "    </tr>\n",
       "    <tr>\n",
       "      <th>534392</th>\n",
       "      <td>16000</td>\n",
       "      <td>16000.0</td>\n",
       "      <td>18049.571386</td>\n",
       "      <td>0.0818</td>\n",
       "      <td>502.72</td>\n",
       "      <td>8.0</td>\n",
       "      <td>72000.0</td>\n",
       "      <td>18.67</td>\n",
       "      <td>1</td>\n",
       "      <td>9162.0</td>\n",
       "      <td>...</td>\n",
       "      <td>0.0</td>\n",
       "      <td>0.0</td>\n",
       "      <td>0.0</td>\n",
       "      <td>0.0</td>\n",
       "      <td>0.0</td>\n",
       "      <td>0.0</td>\n",
       "      <td>0.0</td>\n",
       "      <td>0.0</td>\n",
       "      <td>0.0</td>\n",
       "      <td>0.0</td>\n",
       "    </tr>\n",
       "    <tr>\n",
       "      <th>668134</th>\n",
       "      <td>24000</td>\n",
       "      <td>24000.0</td>\n",
       "      <td>27124.598857</td>\n",
       "      <td>0.0818</td>\n",
       "      <td>754.07</td>\n",
       "      <td>1.0</td>\n",
       "      <td>70000.0</td>\n",
       "      <td>21.02</td>\n",
       "      <td>0</td>\n",
       "      <td>10804.0</td>\n",
       "      <td>...</td>\n",
       "      <td>0.0</td>\n",
       "      <td>0.0</td>\n",
       "      <td>0.0</td>\n",
       "      <td>0.0</td>\n",
       "      <td>0.0</td>\n",
       "      <td>0.0</td>\n",
       "      <td>0.0</td>\n",
       "      <td>0.0</td>\n",
       "      <td>0.0</td>\n",
       "      <td>0.0</td>\n",
       "    </tr>\n",
       "    <tr>\n",
       "      <th>1068586</th>\n",
       "      <td>24000</td>\n",
       "      <td>24000.0</td>\n",
       "      <td>26527.946309</td>\n",
       "      <td>0.0662</td>\n",
       "      <td>736.89</td>\n",
       "      <td>1.0</td>\n",
       "      <td>175000.0</td>\n",
       "      <td>14.71</td>\n",
       "      <td>0</td>\n",
       "      <td>10439.0</td>\n",
       "      <td>...</td>\n",
       "      <td>0.0</td>\n",
       "      <td>0.0</td>\n",
       "      <td>0.0</td>\n",
       "      <td>0.0</td>\n",
       "      <td>0.0</td>\n",
       "      <td>0.0</td>\n",
       "      <td>0.0</td>\n",
       "      <td>0.0</td>\n",
       "      <td>0.0</td>\n",
       "      <td>0.0</td>\n",
       "    </tr>\n",
       "  </tbody>\n",
       "</table>\n",
       "<p>5 rows × 1124 columns</p>\n",
       "</div>"
      ],
      "text/plain": [
       "         loan_amnt  funded_amnt   total_pymnt  int_rate  installment  \\\n",
       "index                                                                  \n",
       "798015       20000      20000.0  24704.737119    0.1239       448.85   \n",
       "962964       15000      15000.0  10780.580000    0.1299       505.34   \n",
       "534392       16000      16000.0  18049.571386    0.0818       502.72   \n",
       "668134       24000      24000.0  27124.598857    0.0818       754.07   \n",
       "1068586      24000      24000.0  26527.946309    0.0662       736.89   \n",
       "\n",
       "         emp_length  annual_inc    dti  delinq_2yrs  earliest_cr_line  ...  \\\n",
       "index                                                                  ...   \n",
       "798015          1.0     62000.0   4.82            0           12173.0  ...   \n",
       "962964          1.0     55000.0  31.05            1            7882.0  ...   \n",
       "534392          8.0     72000.0  18.67            1            9162.0  ...   \n",
       "668134          1.0     70000.0  21.02            0           10804.0  ...   \n",
       "1068586         1.0    175000.0  14.71            0           10439.0  ...   \n",
       "\n",
       "         emp_title_2_Technician  emp_title_2_Truck Driver  \\\n",
       "index                                                       \n",
       "798015                      0.0                       0.0   \n",
       "962964                      0.0                       0.0   \n",
       "534392                      0.0                       0.0   \n",
       "668134                      0.0                       0.0   \n",
       "1068586                     0.0                       0.0   \n",
       "\n",
       "         emp_title_2_Vice President  emp_title_2_driver  emp_title_2_manager  \\\n",
       "index                                                                          \n",
       "798015                          0.0                 1.0                  0.0   \n",
       "962964                          0.0                 0.0                  0.0   \n",
       "534392                          0.0                 0.0                  0.0   \n",
       "668134                          0.0                 0.0                  0.0   \n",
       "1068586                         0.0                 0.0                  0.0   \n",
       "\n",
       "         emp_title_2_owner  emp_title_2_sales  emp_title_2_supervisor  \\\n",
       "index                                                                   \n",
       "798015                 0.0                0.0                     0.0   \n",
       "962964                 0.0                0.0                     0.0   \n",
       "534392                 0.0                0.0                     0.0   \n",
       "668134                 0.0                0.0                     0.0   \n",
       "1068586                0.0                0.0                     0.0   \n",
       "\n",
       "         emp_title_2_teacher  emp_title_2_truck driver  \n",
       "index                                                   \n",
       "798015                   0.0                       0.0  \n",
       "962964                   0.0                       0.0  \n",
       "534392                   0.0                       0.0  \n",
       "668134                   0.0                       0.0  \n",
       "1068586                  0.0                       0.0  \n",
       "\n",
       "[5 rows x 1124 columns]"
      ]
     },
     "execution_count": 16,
     "metadata": {},
     "output_type": "execute_result"
    }
   ],
   "source": [
    "X_train_all.head()"
   ]
  },
  {
   "cell_type": "markdown",
   "metadata": {},
   "source": [
    "### Standard Scaling to Prep for Principal Component Analysis"
   ]
  },
  {
   "cell_type": "code",
   "execution_count": 17,
   "metadata": {},
   "outputs": [],
   "source": [
    "# Standardize data\n",
    "# scaler = StandardScaler()\n",
    "# scaler.fit(X_train_10pcnt)\n",
    "# X_train_all_scaled = scaler.transform(X_train_all)\n",
    "# X_test_all_scaled = scaler.transform(X_test_all)"
   ]
  },
  {
   "cell_type": "markdown",
   "metadata": {},
   "source": [
    "### Principal Component Analysis (PCA)"
   ]
  },
  {
   "cell_type": "code",
   "execution_count": 18,
   "metadata": {},
   "outputs": [],
   "source": [
    "# pca = PCA(n_components=0.95, svd_solver='full')\n",
    "# X_train_pca = pca.fit_transform(X_train_10pcnt_scaled)\n",
    "# X_train_pca"
   ]
  },
  {
   "cell_type": "code",
   "execution_count": 19,
   "metadata": {},
   "outputs": [],
   "source": [
    "# sum(pca.explained_variance_ratio_)"
   ]
  },
  {
   "cell_type": "code",
   "execution_count": 20,
   "metadata": {},
   "outputs": [],
   "source": [
    "# print('num_components:', len(pca.explained_variance_ratio_))"
   ]
  },
  {
   "cell_type": "markdown",
   "metadata": {},
   "source": [
    "- After the above preprocessing, we ended up with 1,124 features. I ran PCA on the dataset with the hope to further reduce feature size. Unfortunately, the 95% variance threshold corresponds to around 972 features, which is close to 95% of the total number of features. After testing a few thresholds, it seems I cannot significantly reduce the feature size without sacrificing variances. \n",
    "- I decided to keep all features."
   ]
  },
  {
   "cell_type": "markdown",
   "metadata": {},
   "source": [
    "## Classification Modeling (Fully Paid = 1, Charged-Off = 0)"
   ]
  },
  {
   "cell_type": "markdown",
   "metadata": {},
   "source": [
    "#### Logistic Regression v1"
   ]
  },
  {
   "cell_type": "code",
   "execution_count": 21,
   "metadata": {},
   "outputs": [],
   "source": [
    "y_train_all['loan_status'] = y_train_all['loan_status'].astype(int)\n",
    "y_test_all['loan_status'] = y_test_all['loan_status'].astype(int)"
   ]
  },
  {
   "cell_type": "code",
   "execution_count": 22,
   "metadata": {},
   "outputs": [
    {
     "name": "stderr",
     "output_type": "stream",
     "text": [
      "/home/jupyter/.local/lib/python3.5/site-packages/sklearn/utils/validation.py:724: DataConversionWarning: A column-vector y was passed when a 1d array was expected. Please change the shape of y to (n_samples, ), for example using ravel().\n",
      "  y = column_or_1d(y, warn=True)\n",
      "/home/jupyter/.local/lib/python3.5/site-packages/sklearn/linear_model/logistic.py:947: ConvergenceWarning: lbfgs failed to converge. Increase the number of iterations.\n",
      "  \"of iterations.\", ConvergenceWarning)\n"
     ]
    },
    {
     "data": {
      "text/plain": [
       "LogisticRegression(C=1.0, class_weight='balanced', dual=False,\n",
       "                   fit_intercept=True, intercept_scaling=1, l1_ratio=None,\n",
       "                   max_iter=1000, multi_class='warn', n_jobs=None, penalty='l2',\n",
       "                   random_state=None, solver='lbfgs', tol=0.0001, verbose=0,\n",
       "                   warm_start=False)"
      ]
     },
     "execution_count": 22,
     "metadata": {},
     "output_type": "execute_result"
    }
   ],
   "source": [
    "log_reg = LogisticRegression(class_weight='balanced', solver='lbfgs', max_iter=1000)\n",
    "log_reg.fit(X_train_all,y_train_all)"
   ]
  },
  {
   "cell_type": "code",
   "execution_count": 23,
   "metadata": {},
   "outputs": [],
   "source": [
    "y_test_all_preds = log_reg.predict(X_test_all)"
   ]
  },
  {
   "cell_type": "code",
   "execution_count": 24,
   "metadata": {},
   "outputs": [
    {
     "name": "stdout",
     "output_type": "stream",
     "text": [
      "Precision Fully Paid: 0.9996676669562242\n",
      "Recall Fully Paid: 0.9994637699276911\n",
      "F-1 Score Fully Paid: 0.9995657080439424\n",
      "ROC-AUC Score: 0.9990455291733132\n"
     ]
    }
   ],
   "source": [
    "print (\"Precision Fully Paid: {}\".format(precision_score(y_test_all,y_test_all_preds)))\n",
    "print (\"Recall Fully Paid: {}\".format(recall_score(y_test_all,y_test_all_preds)))\n",
    "print (\"F-1 Score Fully Paid: {}\".format(f1_score(y_test_all,y_test_all_preds)))\n",
    "print (\"ROC-AUC Score: {}\".format(roc_auc_score(y_test_all,y_test_all_preds)))"
   ]
  },
  {
   "cell_type": "code",
   "execution_count": 25,
   "metadata": {
    "scrolled": true
   },
   "outputs": [
    {
     "name": "stdout",
     "output_type": "stream",
     "text": [
      "Precision, Recall, F, & Support By Class [0,1] aka [Default,Fully Paid]: (array([0.9977865 , 0.99966767]), array([0.99862729, 0.99946377]), array([0.99820672, 0.99956571]), array([ 73577, 303974]))\n",
      "Precision, Recall, F, & Support Weighted Average by Support: (0.9993010656372601, 0.9993007567189598, 0.9993008683031771, None)\n"
     ]
    }
   ],
   "source": [
    "#precision, recall, f1-score\n",
    "print (\"Precision, Recall, F, & Support By Class [0,1] aka [Default,Fully Paid]: {}\".format(\n",
    "    precision_recall_fscore_support(y_test_all,y_test_all_preds)))\n",
    "\n",
    "print (\"Precision, Recall, F, & Support Weighted Average by Support: {}\".format(\n",
    "    precision_recall_fscore_support(y_test_all,y_test_all_preds,average='weighted')))"
   ]
  },
  {
   "cell_type": "markdown",
   "metadata": {},
   "source": [
    "### Utilize JobLib to save"
   ]
  },
  {
   "cell_type": "code",
   "execution_count": 31,
   "metadata": {},
   "outputs": [
    {
     "data": {
      "text/plain": [
       "['log_reg_v1.joblib']"
      ]
     },
     "execution_count": 31,
     "metadata": {},
     "output_type": "execute_result"
    }
   ],
   "source": [
    "# save the model to disk\n",
    "filename = 'log_reg_v1.joblib'\n",
    "joblib.dump(log_reg, filename)"
   ]
  },
  {
   "cell_type": "markdown",
   "metadata": {},
   "source": [
    "### Quick test of JobLib loading of fitted model"
   ]
  },
  {
   "cell_type": "code",
   "execution_count": 32,
   "metadata": {},
   "outputs": [],
   "source": [
    "# test load the model from disk\n",
    "loaded_log_reg_v1 = joblib.load(filename)\n",
    "result = loaded_log_reg_v1.predict(X_test_all)"
   ]
  },
  {
   "cell_type": "code",
   "execution_count": 33,
   "metadata": {},
   "outputs": [
    {
     "name": "stdout",
     "output_type": "stream",
     "text": [
      "Precision Fully Paid: 0.9996676669562242\n",
      "Recall Fully Paid: 0.9994637699276911\n",
      "F-1 Score Fully Paid: 0.9995657080439424\n",
      "ROC-AUC Score: 0.9990455291733132\n"
     ]
    }
   ],
   "source": [
    "print (\"Precision Fully Paid: {}\".format(precision_score(y_test_all,result)))\n",
    "print (\"Recall Fully Paid: {}\".format(recall_score(y_test_all,result)))\n",
    "print (\"F-1 Score Fully Paid: {}\".format(f1_score(y_test_all,result)))\n",
    "print (\"ROC-AUC Score: {}\".format(roc_auc_score(y_test_all,result)))"
   ]
  },
  {
   "cell_type": "markdown",
   "metadata": {},
   "source": [
    "## Use Model #1: Classification Model to Filter Rows for Model #2: Regression on IRR\n",
    "- I will use my predicted classification from Model #1 on train set to feed to Model #2, rather than filtering using pre-labelled classes\n",
    "- This is what I would need to do with new, real-world data so my training process should mimic this\n"
   ]
  },
  {
   "cell_type": "code",
   "execution_count": null,
   "metadata": {},
   "outputs": [],
   "source": []
  }
 ],
 "metadata": {
  "kernelspec": {
   "display_name": "Python 3",
   "language": "python",
   "name": "python3"
  },
  "language_info": {
   "codemirror_mode": {
    "name": "ipython",
    "version": 3
   },
   "file_extension": ".py",
   "mimetype": "text/x-python",
   "name": "python",
   "nbconvert_exporter": "python",
   "pygments_lexer": "ipython3",
   "version": "3.5.3"
  }
 },
 "nbformat": 4,
 "nbformat_minor": 2
}
