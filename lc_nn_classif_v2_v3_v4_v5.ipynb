{
 "cells": [
  {
   "cell_type": "code",
   "execution_count": 52,
   "metadata": {},
   "outputs": [
    {
     "name": "stdout",
     "output_type": "stream",
     "text": [
      "The autoreload extension is already loaded. To reload it, use:\n",
      "  %reload_ext autoreload\n"
     ]
    }
   ],
   "source": [
    "import pandas as pd\n",
    "import numpy as np\n",
    "from math import sqrt\n",
    "import matplotlib.pyplot as plt\n",
    "%matplotlib inline\n",
    "from functions_and_objects import (impute_means_zeros_maxs_X,parse_percentage,\n",
    "                                   clean_LC_data_classification_eval,preprocessing_eval, \n",
    "                                   columns_list, nan_max_cols, nan_mean_cols, nan_zero_cols, dtype,\n",
    "                                   one_hot_encode_eval, concat_X_and_6ohe_dfs,\n",
    "                                   prep_all_df_for_classification,\n",
    "                                   classification_model_eval_prep_pipeline,\n",
    "                                   current_pipeline)\n",
    "\n",
    "import joblib\n",
    "from sklearn.metrics import (accuracy_score, precision_score, recall_score, #classification\n",
    "                             f1_score, roc_auc_score, roc_curve,precision_recall_fscore_support, #classification\n",
    "                             r2_score,mean_squared_error) #regression\n",
    "\n",
    "from sklearn.preprocessing import StandardScaler\n",
    "from sklearn.calibration import calibration_curve\n",
    "from keras.models import Sequential\n",
    "from keras.layers import Dense\n",
    "from keras import regularizers\n",
    "from keras.optimizers import Adam\n",
    "from keras.layers import Dropout\n",
    "from keras.callbacks import EarlyStopping\n",
    "from keras import metrics\n",
    "from keras.utils import to_categorical\n",
    "\n",
    "%load_ext autoreload\n",
    "%autoreload 2"
   ]
  },
  {
   "cell_type": "markdown",
   "metadata": {},
   "source": [
    "## Test Cleaning/Preprocessing Functions"
   ]
  },
  {
   "cell_type": "code",
   "execution_count": 2,
   "metadata": {},
   "outputs": [
    {
     "name": "stderr",
     "output_type": "stream",
     "text": [
      "/usr/local/lib/python3.5/dist-packages/IPython/core/interactiveshell.py:3049: DtypeWarning: Columns (0) have mixed types. Specify dtype option on import or set low_memory=False.\n",
      "  interactivity=interactivity, compiler=compiler, result=result)\n",
      "/usr/local/lib/python3.5/dist-packages/IPython/core/interactiveshell.py:3049: DtypeWarning: Columns (0,118) have mixed types. Specify dtype option on import or set low_memory=False.\n",
      "  interactivity=interactivity, compiler=compiler, result=result)\n",
      "/usr/local/lib/python3.5/dist-packages/IPython/core/interactiveshell.py:3049: DtypeWarning: Columns (0,19) have mixed types. Specify dtype option on import or set low_memory=False.\n",
      "  interactivity=interactivity, compiler=compiler, result=result)\n",
      "/usr/local/lib/python3.5/dist-packages/IPython/core/interactiveshell.py:3049: DtypeWarning: Columns (0,19,59) have mixed types. Specify dtype option on import or set low_memory=False.\n",
      "  interactivity=interactivity, compiler=compiler, result=result)\n",
      "/usr/local/lib/python3.5/dist-packages/IPython/core/interactiveshell.py:3049: DtypeWarning: Columns (0,19,49) have mixed types. Specify dtype option on import or set low_memory=False.\n",
      "  interactivity=interactivity, compiler=compiler, result=result)\n",
      "/usr/local/lib/python3.5/dist-packages/IPython/core/interactiveshell.py:3049: DtypeWarning: Columns (0,49,129,130,131,134,135,136,139) have mixed types. Specify dtype option on import or set low_memory=False.\n",
      "  interactivity=interactivity, compiler=compiler, result=result)\n",
      "/usr/local/lib/python3.5/dist-packages/IPython/core/interactiveshell.py:3049: DtypeWarning: Columns (0,49) have mixed types. Specify dtype option on import or set low_memory=False.\n",
      "  interactivity=interactivity, compiler=compiler, result=result)\n"
     ]
    }
   ],
   "source": [
    "raw_q42017 = pd.read_csv('~/peervest/lc_data/LoanStats_securev1_2017Q4.csv',header=1)\n",
    "raw_q32017 = pd.read_csv('~/peervest/lc_data/LoanStats_securev1_2017Q3.csv',header=1)\n",
    "raw_q22017 = pd.read_csv('~/peervest/lc_data/LoanStats_securev1_2017Q2.csv',header=1)\n",
    "raw_q12017 = pd.read_csv('~/peervest/lc_data/LoanStats_securev1_2017Q1.csv',header=1)\n",
    "raw_q42016 = pd.read_csv('~/peervest/lc_data/LoanStats_securev1_2016Q4.csv',header=1)\n",
    "raw_q32016 = pd.read_csv('~/peervest/lc_data/LoanStats_securev1_2016Q3.csv',header=1)\n",
    "raw_q22016 = pd.read_csv('~/peervest/lc_data/LoanStats_securev1_2016Q2.csv',header=1)\n",
    "raw_q12016 = pd.read_csv('~/peervest/lc_data/LoanStats_securev1_2016Q1.csv',header=1)\n",
    "raw_2015 = pd.read_csv('~/peervest/lc_data/LoanStats_securev1_2015.csv',header=1)\n",
    "raw_2014 = pd.read_csv('~/peervest/lc_data/LoanStats_securev1_2014.csv',header=1)\n",
    "raw_2012to2013 = pd.read_csv('~/peervest/lc_data/LoanStats_securev1_2012to2013.csv',header=1)\n",
    "raw_2007to2011 = pd.read_csv('~/peervest/lc_data/LoanStats_securev1_2007to2011.csv',header=1)"
   ]
  },
  {
   "cell_type": "code",
   "execution_count": 3,
   "metadata": {},
   "outputs": [],
   "source": [
    "dfs_list = [raw_q42017,raw_q32017,raw_q22017,raw_q12017,\n",
    "           raw_q42016,raw_q32016,raw_q22016,raw_q12016,raw_2015,\n",
    "           raw_2014,raw_2012to2013, raw_2007to2011]"
   ]
  },
  {
   "cell_type": "code",
   "execution_count": 4,
   "metadata": {},
   "outputs": [
    {
     "name": "stderr",
     "output_type": "stream",
     "text": [
      "/home/jupyter/peervest/functions_and_objects.py:243: FutureWarning: Passing datetime64-dtype data to TimedeltaIndex is deprecated, will raise a TypeError in a future version\n",
      "  raw_lc_df['earliest_cr_line'] = pd.to_timedelta(pd.to_datetime(raw_lc_df['earliest_cr_line'])).dt.days\n",
      "/usr/local/lib/python3.5/dist-packages/pandas/core/frame.py:3940: SettingWithCopyWarning: \n",
      "A value is trying to be set on a copy of a slice from a DataFrame\n",
      "\n",
      "See the caveats in the documentation: http://pandas.pydata.org/pandas-docs/stable/indexing.html#indexing-view-versus-copy\n",
      "  errors=errors)\n",
      "/home/jupyter/peervest/functions_and_objects.py:196: SettingWithCopyWarning: \n",
      "A value is trying to be set on a copy of a slice from a DataFrame.\n",
      "Try using .loc[row_indexer,col_indexer] = value instead\n",
      "\n",
      "See the caveats in the documentation: http://pandas.pydata.org/pandas-docs/stable/indexing.html#indexing-view-versus-copy\n",
      "  X_train[col] = X_train[col].fillna(0.0)\n",
      "/home/jupyter/peervest/functions_and_objects.py:197: SettingWithCopyWarning: \n",
      "A value is trying to be set on a copy of a slice from a DataFrame.\n",
      "Try using .loc[row_indexer,col_indexer] = value instead\n",
      "\n",
      "See the caveats in the documentation: http://pandas.pydata.org/pandas-docs/stable/indexing.html#indexing-view-versus-copy\n",
      "  X_test[col] = X_test[col].fillna(0.0)\n",
      "/home/jupyter/peervest/functions_and_objects.py:192: SettingWithCopyWarning: \n",
      "A value is trying to be set on a copy of a slice from a DataFrame.\n",
      "Try using .loc[row_indexer,col_indexer] = value instead\n",
      "\n",
      "See the caveats in the documentation: http://pandas.pydata.org/pandas-docs/stable/indexing.html#indexing-view-versus-copy\n",
      "  X_train[col] = X_train[col].fillna(np.nanmean(X_train[col].values))\n",
      "/home/jupyter/peervest/functions_and_objects.py:193: SettingWithCopyWarning: \n",
      "A value is trying to be set on a copy of a slice from a DataFrame.\n",
      "Try using .loc[row_indexer,col_indexer] = value instead\n",
      "\n",
      "See the caveats in the documentation: http://pandas.pydata.org/pandas-docs/stable/indexing.html#indexing-view-versus-copy\n",
      "  X_test[col] = X_test[col].fillna(np.nanmean(X_train[col].values))\n",
      "/home/jupyter/peervest/functions_and_objects.py:200: SettingWithCopyWarning: \n",
      "A value is trying to be set on a copy of a slice from a DataFrame.\n",
      "Try using .loc[row_indexer,col_indexer] = value instead\n",
      "\n",
      "See the caveats in the documentation: http://pandas.pydata.org/pandas-docs/stable/indexing.html#indexing-view-versus-copy\n",
      "  X_train[col] = X_train[col].fillna(np.nanmax(X_train[col].values) * 5)\n",
      "/home/jupyter/peervest/functions_and_objects.py:201: SettingWithCopyWarning: \n",
      "A value is trying to be set on a copy of a slice from a DataFrame.\n",
      "Try using .loc[row_indexer,col_indexer] = value instead\n",
      "\n",
      "See the caveats in the documentation: http://pandas.pydata.org/pandas-docs/stable/indexing.html#indexing-view-versus-copy\n",
      "  X_test[col] = X_test[col].fillna(np.nanmax(X_train[col].values) * 5)\n"
     ]
    }
   ],
   "source": [
    "(X_train_classif, X_test_classif, y_train_classif, y_test_classif) = classification_model_eval_prep_pipeline(dfs_list)"
   ]
  },
  {
   "cell_type": "code",
   "execution_count": 5,
   "metadata": {},
   "outputs": [
    {
     "name": "stdout",
     "output_type": "stream",
     "text": [
      "(880950, 1108)\n",
      "(880950, 1)\n",
      "(377551, 1108)\n",
      "(377551, 1)\n"
     ]
    }
   ],
   "source": [
    "print(X_train_classif.shape)\n",
    "print(y_train_classif.shape)\n",
    "print(X_test_classif.shape)\n",
    "print(y_test_classif.shape)"
   ]
  },
  {
   "cell_type": "markdown",
   "metadata": {},
   "source": [
    "### Neural Network Classification Model"
   ]
  },
  {
   "cell_type": "markdown",
   "metadata": {},
   "source": [
    "##### Fit"
   ]
  },
  {
   "cell_type": "code",
   "execution_count": 6,
   "metadata": {},
   "outputs": [],
   "source": [
    "ss = StandardScaler()\n",
    "X_train_classif_s = ss.fit_transform(X_train_classif)\n",
    "X_test_classif_s = ss.transform(X_test_classif)"
   ]
  },
  {
   "cell_type": "code",
   "execution_count": 7,
   "metadata": {},
   "outputs": [
    {
     "data": {
      "text/plain": [
       "array([[ 0.62121525,  0.62250523,  0.91077999, ..., -0.043633  ,\n",
       "        -0.05705072, -0.03939376],\n",
       "       [ 0.04623632,  0.04726958, -0.42602655, ..., -0.043633  ,\n",
       "        -0.05705072, -0.03939376],\n",
       "       [ 0.16123211,  0.16231671,  0.27184228, ..., -0.043633  ,\n",
       "        -0.05705072, -0.03939376],\n",
       "       ...,\n",
       "       [-1.00022532, -0.99965929, -0.86988914, ..., -0.043633  ,\n",
       "        -0.05705072, -0.03939376],\n",
       "       [ 0.27622789,  0.27736384, -0.3839326 , ..., -0.043633  ,\n",
       "        -0.05705072, -0.03939376],\n",
       "       [ 0.39122368,  0.39241097,  0.45438799, ..., -0.043633  ,\n",
       "        -0.05705072, -0.03939376]])"
      ]
     },
     "execution_count": 7,
     "metadata": {},
     "output_type": "execute_result"
    }
   ],
   "source": [
    "X_train_classif_s"
   ]
  },
  {
   "cell_type": "code",
   "execution_count": 8,
   "metadata": {},
   "outputs": [],
   "source": [
    "X_train_classif_s = X_train_classif_s.astype('float32')"
   ]
  },
  {
   "cell_type": "code",
   "execution_count": 9,
   "metadata": {},
   "outputs": [],
   "source": [
    "X_test_classif_s = X_test_classif_s.astype('float32')"
   ]
  },
  {
   "cell_type": "code",
   "execution_count": 10,
   "metadata": {},
   "outputs": [
    {
     "data": {
      "text/plain": [
       "array([1, 0, 1, ..., 1, 0, 1], dtype=object)"
      ]
     },
     "execution_count": 10,
     "metadata": {},
     "output_type": "execute_result"
    }
   ],
   "source": [
    "np.array(y_train_classif['loan_status'])"
   ]
  },
  {
   "cell_type": "code",
   "execution_count": 11,
   "metadata": {},
   "outputs": [],
   "source": [
    "y_train_classif['loan_status'] = y_train_classif['loan_status'].astype(int)\n",
    "y_test_classif['loan_status'] = y_test_classif['loan_status'].astype(int)"
   ]
  },
  {
   "cell_type": "code",
   "execution_count": 12,
   "metadata": {},
   "outputs": [],
   "source": [
    "y_train_classif_softmax = to_categorical(np.array(y_train_classif['loan_status']),num_classes=None)\n",
    "y_test_classif_softmax = to_categorical(np.array(y_test_classif['loan_status']),num_classes=None)"
   ]
  },
  {
   "cell_type": "code",
   "execution_count": 15,
   "metadata": {},
   "outputs": [
    {
     "data": {
      "text/plain": [
       "array([[0., 1.],\n",
       "       [1., 0.],\n",
       "       [0., 1.],\n",
       "       ...,\n",
       "       [0., 1.],\n",
       "       [1., 0.],\n",
       "       [0., 1.]], dtype=float32)"
      ]
     },
     "execution_count": 15,
     "metadata": {},
     "output_type": "execute_result"
    }
   ],
   "source": [
    "y_train_classif_softmax"
   ]
  },
  {
   "cell_type": "code",
   "execution_count": 60,
   "metadata": {},
   "outputs": [],
   "source": [
    "model = Sequential()\n",
    "n_input = X_train_classif_s.shape[1]\n",
    "n_hidden = n_input\n",
    "\n",
    "model.add(Dense(n_hidden, input_dim=n_input, activation='sigmoid',kernel_regularizer=regularizers.l2(0.0001)))\n",
    "model.add(Dropout(rate=0.2))\n",
    "model.add(Dense(1000,activation='sigmoid',kernel_regularizer=regularizers.l2(0.0001)))\n",
    "model.add(Dropout(rate=0.2))\n",
    "model.add(Dense(100,activation='sigmoid',kernel_regularizer=regularizers.l2(0.0001)))\n",
    "model.add(Dense(50,activation='sigmoid',kernel_regularizer=regularizers.l2(0.001))) #l2 = 0.001\n",
    "model.add(Dense(1,activation='sigmoid',kernel_regularizer=regularizers.l2(0.001)))#l2 = 0.001"
   ]
  },
  {
   "cell_type": "code",
   "execution_count": 64,
   "metadata": {},
   "outputs": [],
   "source": [
    "model.compile(loss='binary_crossentropy', optimizer=Adam(), metrics=['accuracy']) #try binary_accuracy for v6?"
   ]
  },
  {
   "cell_type": "code",
   "execution_count": 65,
   "metadata": {},
   "outputs": [],
   "source": [
    "early_stop = EarlyStopping(monitor='val_loss', min_delta=1e-06, patience=0, verbose=1, mode='auto')\n",
    "callbacks_list = [early_stop]"
   ]
  },
  {
   "cell_type": "code",
   "execution_count": 66,
   "metadata": {
    "scrolled": true
   },
   "outputs": [
    {
     "name": "stdout",
     "output_type": "stream",
     "text": [
      "Train on 880950 samples, validate on 377551 samples\n",
      "Epoch 1/7\n",
      "880950/880950 [==============================] - 196s 222us/step - loss: 0.5190 - acc: 0.8207 - val_loss: 0.2872 - val_acc: 0.9024\n",
      "Epoch 2/7\n",
      "880950/880950 [==============================] - 195s 222us/step - loss: 0.1948 - acc: 0.9475 - val_loss: 0.1563 - val_acc: 0.9619\n",
      "Epoch 3/7\n",
      "880950/880950 [==============================] - 192s 218us/step - loss: 0.1509 - acc: 0.9636 - val_loss: 0.1360 - val_acc: 0.9685\n",
      "Epoch 4/7\n",
      "880950/880950 [==============================] - 193s 219us/step - loss: 0.1305 - acc: 0.9710 - val_loss: 0.1206 - val_acc: 0.9744\n",
      "Epoch 5/7\n",
      "880950/880950 [==============================] - 193s 219us/step - loss: 0.1232 - acc: 0.9734 - val_loss: 0.1138 - val_acc: 0.9769\n",
      "Epoch 6/7\n",
      "880950/880950 [==============================] - 189s 214us/step - loss: 0.1195 - acc: 0.9745 - val_loss: 0.1168 - val_acc: 0.9752\n",
      "Epoch 00006: early stopping\n"
     ]
    }
   ],
   "source": [
    "history_log = model.fit(X_train_classif_s, y_train_classif, \n",
    "                        validation_data=(X_test_classif_s, y_test_classif), \n",
    "                        epochs=7, \n",
    "                        callbacks=callbacks_list, \n",
    "                        batch_size=10000)"
   ]
  },
  {
   "cell_type": "code",
   "execution_count": 68,
   "metadata": {},
   "outputs": [
    {
     "data": {
      "image/png": "[encoded data removed]",
      "text/plain": [
       "<Figure size 432x288 with 1 Axes>"
      ]
     },
     "metadata": {
      "needs_background": "light"
     },
     "output_type": "display_data"
    }
   ],
   "source": [
    "plt.plot(history_log.history['loss'], label='Training loss')\n",
    "plt.plot(history_log.history['val_loss'], label='Testing loss')\n",
    "plt.legend();"
   ]
  },
  {
   "cell_type": "code",
   "execution_count": 69,
   "metadata": {},
   "outputs": [
    {
     "name": "stdout",
     "output_type": "stream",
     "text": [
      "_________________________________________________________________\n",
      "Layer (type)                 Output Shape              Param #   \n",
      "=================================================================\n",
      "dense_36 (Dense)             (None, 1108)              1228772   \n",
      "_________________________________________________________________\n",
      "dropout_15 (Dropout)         (None, 1108)              0         \n",
      "_________________________________________________________________\n",
      "dense_37 (Dense)             (None, 1000)              1109000   \n",
      "_________________________________________________________________\n",
      "dropout_16 (Dropout)         (None, 1000)              0         \n",
      "_________________________________________________________________\n",
      "dense_38 (Dense)             (None, 100)               100100    \n",
      "_________________________________________________________________\n",
      "dense_39 (Dense)             (None, 50)                5050      \n",
      "_________________________________________________________________\n",
      "dense_40 (Dense)             (None, 1)                 51        \n",
      "=================================================================\n",
      "Total params: 2,442,973\n",
      "Trainable params: 2,442,973\n",
      "Non-trainable params: 0\n",
      "_________________________________________________________________\n"
     ]
    }
   ],
   "source": [
    "model.summary()"
   ]
  },
  {
   "cell_type": "code",
   "execution_count": null,
   "metadata": {},
   "outputs": [],
   "source": []
  },
  {
   "cell_type": "code",
   "execution_count": 70,
   "metadata": {},
   "outputs": [],
   "source": [
    "y_test_classif_preds = model.predict_classes(X_test_classif_s)"
   ]
  },
  {
   "cell_type": "code",
   "execution_count": 71,
   "metadata": {},
   "outputs": [
    {
     "data": {
      "text/plain": [
       "array([[0],\n",
       "       [1],\n",
       "       [1],\n",
       "       ...,\n",
       "       [1],\n",
       "       [1],\n",
       "       [0]], dtype=int32)"
      ]
     },
     "execution_count": 71,
     "metadata": {},
     "output_type": "execute_result"
    }
   ],
   "source": [
    "y_test_classif_preds"
   ]
  },
  {
   "cell_type": "code",
   "execution_count": 72,
   "metadata": {},
   "outputs": [],
   "source": [
    "nn_v5_class_preds_proba = model.predict_proba(X_test_classif_s)"
   ]
  },
  {
   "cell_type": "code",
   "execution_count": 73,
   "metadata": {},
   "outputs": [
    {
     "data": {
      "text/plain": [
       "array([[0.01010194],\n",
       "       [0.99288064],\n",
       "       [0.99313617],\n",
       "       ...,\n",
       "       [0.98974305],\n",
       "       [0.9973496 ],\n",
       "       [0.01010186]], dtype=float32)"
      ]
     },
     "execution_count": 73,
     "metadata": {},
     "output_type": "execute_result"
    }
   ],
   "source": [
    "nn_v5_class_preds_proba"
   ]
  },
  {
   "cell_type": "code",
   "execution_count": 82,
   "metadata": {},
   "outputs": [
    {
     "data": {
      "text/plain": [
       "(array([ 46470.,   6857.,   2970.,   1880.,   1475.,   1081.,    905.,\n",
       "           815.,    701.,    622.,    599.,    539.,    512.,    525.,\n",
       "           461.,    442.,    464.,    390.,    471.,    472.,    433.,\n",
       "           453.,    482.,    481.,    499.,    505.,    561.,    592.,\n",
       "           629.,    671.,    762.,    893.,   1016.,   1189.,   1522.,\n",
       "          1947.,   2722.,   4656.,  11308., 277579.]),\n",
       " array([0.   , 0.025, 0.05 , 0.075, 0.1  , 0.125, 0.15 , 0.175, 0.2  ,\n",
       "        0.225, 0.25 , 0.275, 0.3  , 0.325, 0.35 , 0.375, 0.4  , 0.425,\n",
       "        0.45 , 0.475, 0.5  , 0.525, 0.55 , 0.575, 0.6  , 0.625, 0.65 ,\n",
       "        0.675, 0.7  , 0.725, 0.75 , 0.775, 0.8  , 0.825, 0.85 , 0.875,\n",
       "        0.9  , 0.925, 0.95 , 0.975, 1.   ], dtype=float32),\n",
       " <a list of 40 Patch objects>)"
      ]
     },
     "execution_count": 82,
     "metadata": {},
     "output_type": "execute_result"
    },
    {
     "data": {
      "image/png": "[encoded data removed]",
      "text/plain": [
       "<Figure size 432x288 with 1 Axes>"
      ]
     },
     "metadata": {
      "needs_background": "light"
     },
     "output_type": "display_data"
    }
   ],
   "source": [
    "plt.hist(nn_v5_class_preds_proba,bins=40,range=(0,1))"
   ]
  },
  {
   "cell_type": "markdown",
   "metadata": {},
   "source": [
    "### ROC Curve"
   ]
  },
  {
   "cell_type": "code",
   "execution_count": 79,
   "metadata": {},
   "outputs": [
    {
     "data": {
      "image/png": "[encoded data removed]",
      "text/plain": [
       "<Figure size 432x288 with 1 Axes>"
      ]
     },
     "metadata": {
      "needs_background": "light"
     },
     "output_type": "display_data"
    }
   ],
   "source": [
    "\n",
    "# keep probabilities for the positive outcome only\n",
    "probs = nn_v5_class_preds_proba\n",
    "# calculate roc curve\n",
    "fpr, tpr, thresholds = roc_curve(y_test_classif, probs)\n",
    "# plot no skill\n",
    "plt.plot([0, 1], [0, 1], linestyle='--')\n",
    "# plot the roc curve for the model\n",
    "plt.plot(fpr, tpr)\n",
    "# show the plot\n",
    "plt.show()"
   ]
  },
  {
   "cell_type": "code",
   "execution_count": 80,
   "metadata": {},
   "outputs": [
    {
     "data": {
      "image/png": "[encoded data removed]",
      "text/plain": [
       "<Figure size 432x288 with 1 Axes>"
      ]
     },
     "metadata": {
      "needs_background": "light"
     },
     "output_type": "display_data"
    }
   ],
   "source": [
    "# reliability diagram\n",
    "fop, mpv = calibration_curve(y_test_classif, nn_v5_class_preds_proba, n_bins=10)\n",
    "# plot perfectly calibrated\n",
    "plt.plot([0, 1], [0, 1], linestyle='--')\n",
    "# plot model reliability\n",
    "plt.plot(mpv, fop, marker='.')\n",
    "plt.show()"
   ]
  },
  {
   "cell_type": "markdown",
   "metadata": {},
   "source": [
    "### Try Isotonic Regression to calibrate"
   ]
  },
  {
   "cell_type": "code",
   "execution_count": null,
   "metadata": {},
   "outputs": [],
   "source": []
  },
  {
   "cell_type": "markdown",
   "metadata": {},
   "source": [
    "### Try sklearn Multilayer Perceptron"
   ]
  },
  {
   "cell_type": "code",
   "execution_count": 33,
   "metadata": {},
   "outputs": [
    {
     "name": "stderr",
     "output_type": "stream",
     "text": [
      "/usr/local/lib/python3.5/dist-packages/sklearn/neural_network/multilayer_perceptron.py:921: DataConversionWarning: A column-vector y was passed when a 1d array was expected. Please change the shape of y to (n_samples, ), for example using ravel().\n",
      "  y = column_or_1d(y, warn=True)\n",
      "/usr/local/lib/python3.5/dist-packages/sklearn/neural_network/multilayer_perceptron.py:568: UserWarning: Training interrupted by user.\n",
      "  warnings.warn(\"Training interrupted by user.\")\n"
     ]
    },
    {
     "data": {
      "text/plain": [
       "MLPClassifier(activation='logistic', alpha=0.0001, batch_size='auto',\n",
       "              beta_1=0.9, beta_2=0.999, early_stopping=False, epsilon=1e-08,\n",
       "              hidden_layer_sizes=(10, 10, 5, 3), learning_rate='constant',\n",
       "              learning_rate_init=0.001, max_iter=200, momentum=0.9,\n",
       "              n_iter_no_change=10, nesterovs_momentum=True, power_t=0.5,\n",
       "              random_state=None, shuffle=True, solver='adam', tol=0.0001,\n",
       "              validation_fraction=0.1, verbose=False, warm_start=False)"
      ]
     },
     "execution_count": 33,
     "metadata": {},
     "output_type": "execute_result"
    }
   ],
   "source": [
    "from sklearn.neural_network import MLPClassifier\n",
    "mlp = MLPClassifier(activation='logistic', hidden_layer_sizes=(10, 10, 5, 3))\n",
    "mlp.fit(X_train_classif_s, y_train_classif)"
   ]
  },
  {
   "cell_type": "code",
   "execution_count": 35,
   "metadata": {},
   "outputs": [
    {
     "data": {
      "text/plain": [
       "array([3.17542749e-04, 9.99436945e-01, 9.99607318e-01, ...,\n",
       "       9.99828606e-01, 9.99828606e-01, 1.15157216e-04])"
      ]
     },
     "execution_count": 35,
     "metadata": {},
     "output_type": "execute_result"
    }
   ],
   "source": [
    "mlp.predict_proba(X_test_classif)[:,1]"
   ]
  },
  {
   "cell_type": "markdown",
   "metadata": {},
   "source": [
    "##### Predict & Eval NN_v2"
   ]
  },
  {
   "cell_type": "code",
   "execution_count": 21,
   "metadata": {},
   "outputs": [
    {
     "name": "stdout",
     "output_type": "stream",
     "text": [
      "Precision Fully Paid: 0.9872847917296892\n",
      "Recall Fully Paid: 0.9877719804983321\n",
      "F-1 Score Fully Paid: 0.9875283260263971\n",
      "ROC-AUC Score: 0.9676073977542289\n"
     ]
    }
   ],
   "source": [
    "#print (\"Precision Fully Paid: {}\".format(precision_score(y_test_classif['loan_status'],y_test_classif_preds)))\n",
    "#print (\"Recall Fully Paid: {}\".format(recall_score(y_test_classif['loan_status'],y_test_classif_preds)))\n",
    "#print (\"F-1 Score Fully Paid: {}\".format(f1_score(y_test_classif['loan_status'],y_test_classif_preds)))\n",
    "#print (\"ROC-AUC Score: {}\".format(roc_auc_score(y_test_classif['loan_status'],y_test_classif_preds)))"
   ]
  },
  {
   "cell_type": "code",
   "execution_count": 22,
   "metadata": {},
   "outputs": [
    {
     "name": "stdout",
     "output_type": "stream",
     "text": [
      "Precision, Recall, F, & Support By Class [0,1] aka [Default,Fully Paid]: (array([0.94937829, 0.98728479]), array([0.94744282, 0.98777198]), array([0.94840957, 0.98752833]), array([ 73577, 303974]))\n",
      "Precision, Recall, F, & Support Weighted Average by Support: (0.9798975874129687, 0.9799126475628458, 0.9799048766738255, None)\n"
     ]
    }
   ],
   "source": [
    "#precision, recall, f1-score\n",
    "#print (\"Precision, Recall, F, & Support By Class [0,1] aka [Default,Fully Paid]: {}\".format(\n",
    "#    precision_recall_fscore_support(y_test_classif['loan_status'],y_test_classif_preds)))\n",
    "\n",
    "#print (\"Precision, Recall, F, & Support Weighted Average by Support: {}\".format(\n",
    "#    precision_recall_fscore_support(y_test_classif['loan_status'],y_test_classif_preds,average='weighted')))"
   ]
  },
  {
   "cell_type": "markdown",
   "metadata": {},
   "source": [
    "### Save NN_v2 Model to JobLib"
   ]
  },
  {
   "cell_type": "markdown",
   "metadata": {},
   "source": [
    "- changed architecture of Neural Network with additional layers, added L2 regularization, dropout, and early stopping"
   ]
  },
  {
   "cell_type": "code",
   "execution_count": null,
   "metadata": {},
   "outputs": [],
   "source": [
    "#filename = 'nn_v2.joblib'\n",
    "#joblib.dump(model, filename)"
   ]
  },
  {
   "cell_type": "markdown",
   "metadata": {},
   "source": [
    "##### Predict & Eval NN_v3"
   ]
  },
  {
   "cell_type": "markdown",
   "metadata": {},
   "source": [
    "### Save NN_v3 Model to JobLib"
   ]
  },
  {
   "cell_type": "markdown",
   "metadata": {},
   "source": [
    "- changed X_train_classif_s to type 'float32' to see whether this improved calibration\n",
    "- larger batch size for speed of model.fit"
   ]
  },
  {
   "cell_type": "code",
   "execution_count": 26,
   "metadata": {},
   "outputs": [
    {
     "data": {
      "text/plain": [
       "['nn_v3.joblib']"
      ]
     },
     "execution_count": 26,
     "metadata": {},
     "output_type": "execute_result"
    }
   ],
   "source": [
    "#filename = 'nn_v3.joblib'\n",
    "#joblib.dump(model, filename)"
   ]
  },
  {
   "cell_type": "code",
   "execution_count": 30,
   "metadata": {},
   "outputs": [
    {
     "name": "stdout",
     "output_type": "stream",
     "text": [
      "Precision Fully Paid: 0.9775323474744307\n",
      "Recall Fully Paid: 0.9844624869232237\n",
      "F-1 Score Fully Paid: 0.980985177912582\n",
      "ROC-AUC Score: 0.9454910936865463\n"
     ]
    }
   ],
   "source": [
    "#print (\"Precision Fully Paid: {}\".format(precision_score(y_test_classif['loan_status'],y_test_classif_preds)))\n",
    "#print (\"Recall Fully Paid: {}\".format(recall_score(y_test_classif['loan_status'],y_test_classif_preds)))\n",
    "#print (\"F-1 Score Fully Paid: {}\".format(f1_score(y_test_classif['loan_status'],y_test_classif_preds)))\n",
    "#print (\"ROC-AUC Score: {}\".format(roc_auc_score(y_test_classif['loan_status'],y_test_classif_preds)))"
   ]
  },
  {
   "cell_type": "code",
   "execution_count": 31,
   "metadata": {},
   "outputs": [
    {
     "name": "stdout",
     "output_type": "stream",
     "text": [
      "Precision, Recall, F, & Support By Class [0,1] aka [Default,Fully Paid]: (array([0.93387192, 0.97753235]), array([0.9065197 , 0.98446249]), array([0.91999255, 0.98098518]), array([ 73577, 303974]))\n",
      "Precision, Recall, F, & Support Weighted Average by Support: (0.9690238186910873, 0.9692730253661095, 0.96909895734676, None)\n"
     ]
    }
   ],
   "source": [
    "#precision, recall, f1-score\n",
    "#print (\"Precision, Recall, F, & Support By Class [0,1] aka [Default,Fully Paid]: {}\".format(\n",
    "#    precision_recall_fscore_support(y_test_classif['loan_status'],y_test_classif_preds)))\n",
    "\n",
    "#print (\"Precision, Recall, F, & Support Weighted Average by Support: {}\".format(\n",
    "#    precision_recall_fscore_support(y_test_classif['loan_status'],y_test_classif_preds,average='weighted')))"
   ]
  },
  {
   "cell_type": "markdown",
   "metadata": {},
   "source": [
    "### Save NN_v4 Model to JobLib"
   ]
  },
  {
   "cell_type": "markdown",
   "metadata": {},
   "source": [
    "- changed hidden layer activation functions to Sigmoid instead of ReLU as ReLU pushes predict_proba to the extremes 0 and 1"
   ]
  },
  {
   "cell_type": "code",
   "execution_count": 29,
   "metadata": {},
   "outputs": [
    {
     "data": {
      "text/plain": [
       "['nn_v4.joblib']"
      ]
     },
     "execution_count": 29,
     "metadata": {},
     "output_type": "execute_result"
    }
   ],
   "source": [
    "filename = 'nn_v4.joblib'\n",
    "joblib.dump(model, filename)"
   ]
  },
  {
   "cell_type": "code",
   "execution_count": 30,
   "metadata": {},
   "outputs": [
    {
     "name": "stdout",
     "output_type": "stream",
     "text": [
      "Precision Fully Paid: 0.9672634515743324\n",
      "Recall Fully Paid: 0.997973510892379\n",
      "F-1 Score Fully Paid: 0.9823785336439987\n",
      "ROC-AUC Score: 0.9292163108779141\n"
     ]
    }
   ],
   "source": [
    "print (\"Precision Fully Paid: {}\".format(precision_score(y_test_classif['loan_status'],y_test_classif_preds)))\n",
    "print (\"Recall Fully Paid: {}\".format(recall_score(y_test_classif['loan_status'],y_test_classif_preds)))\n",
    "print (\"F-1 Score Fully Paid: {}\".format(f1_score(y_test_classif['loan_status'],y_test_classif_preds)))\n",
    "print (\"ROC-AUC Score: {}\".format(roc_auc_score(y_test_classif['loan_status'],y_test_classif_preds)))"
   ]
  },
  {
   "cell_type": "code",
   "execution_count": 31,
   "metadata": {},
   "outputs": [
    {
     "name": "stdout",
     "output_type": "stream",
     "text": [
      "Precision, Recall, F, & Support By Class [0,1] aka [Default,Fully Paid]: (array([0.99036386, 0.96726345]), array([0.86045911, 0.99797351]), array([0.92085264, 0.98237853]), array([ 73577, 303974]))\n",
      "Precision, Recall, F, & Support Weighted Average by Support: (0.9717652503223433, 0.9711747551986354, 0.970388389331882, None)\n"
     ]
    }
   ],
   "source": [
    "#precision, recall, f1-score\n",
    "print (\"Precision, Recall, F, & Support By Class [0,1] aka [Default,Fully Paid]: {}\".format(\n",
    "    precision_recall_fscore_support(y_test_classif['loan_status'],y_test_classif_preds)))\n",
    "\n",
    "print (\"Precision, Recall, F, & Support Weighted Average by Support: {}\".format(\n",
    "    precision_recall_fscore_support(y_test_classif['loan_status'],y_test_classif_preds,average='weighted')))"
   ]
  },
  {
   "cell_type": "markdown",
   "metadata": {},
   "source": [
    "### Save NN_v5 Model to JobLib"
   ]
  },
  {
   "cell_type": "markdown",
   "metadata": {},
   "source": [
    "- changed hidden layer activation functions to Sigmoid instead of ReLU as ReLU pushes predict_proba to the extremes 0 and 1"
   ]
  },
  {
   "cell_type": "code",
   "execution_count": 85,
   "metadata": {},
   "outputs": [
    {
     "data": {
      "text/plain": [
       "['nn_v5.joblib']"
      ]
     },
     "execution_count": 85,
     "metadata": {},
     "output_type": "execute_result"
    }
   ],
   "source": [
    "filename = 'nn_v5.joblib'\n",
    "joblib.dump(model, filename)"
   ]
  },
  {
   "cell_type": "code",
   "execution_count": 86,
   "metadata": {},
   "outputs": [
    {
     "name": "stdout",
     "output_type": "stream",
     "text": [
      "Precision Fully Paid: 0.9768404014244092\n",
      "Recall Fully Paid: 0.9926704257600979\n",
      "F-1 Score Fully Paid: 0.9846917963561841\n",
      "ROC-AUC Score: 0.9477194769843206\n"
     ]
    }
   ],
   "source": [
    "print (\"Precision Fully Paid: {}\".format(precision_score(y_test_classif['loan_status'],y_test_classif_preds)))\n",
    "print (\"Recall Fully Paid: {}\".format(recall_score(y_test_classif['loan_status'],y_test_classif_preds)))\n",
    "print (\"F-1 Score Fully Paid: {}\".format(f1_score(y_test_classif['loan_status'],y_test_classif_preds)))\n",
    "print (\"ROC-AUC Score: {}\".format(roc_auc_score(y_test_classif['loan_status'],y_test_classif_preds)))"
   ]
  },
  {
   "cell_type": "code",
   "execution_count": 87,
   "metadata": {},
   "outputs": [
    {
     "name": "stdout",
     "output_type": "stream",
     "text": [
      "Precision, Recall, F, & Support By Class [0,1] aka [Default,Fully Paid]: (array([0.96754599, 0.9768404 ]), array([0.90276853, 0.99267043]), array([0.93403549, 0.9846918 ]), array([ 73577, 303974]))\n",
      "Precision, Recall, F, & Support Weighted Average by Support: (0.9750291106276529, 0.9751503770351555, 0.9748199144569333, None)\n"
     ]
    }
   ],
   "source": [
    "#precision, recall, f1-score\n",
    "print (\"Precision, Recall, F, & Support By Class [0,1] aka [Default,Fully Paid]: {}\".format(\n",
    "    precision_recall_fscore_support(y_test_classif['loan_status'],y_test_classif_preds)))\n",
    "\n",
    "print (\"Precision, Recall, F, & Support Weighted Average by Support: {}\".format(\n",
    "    precision_recall_fscore_support(y_test_classif['loan_status'],y_test_classif_preds,average='weighted')))"
   ]
  },
  {
   "cell_type": "markdown",
   "metadata": {},
   "source": [
    "### ROC Curve nn_v5"
   ]
  },
  {
   "cell_type": "code",
   "execution_count": 89,
   "metadata": {},
   "outputs": [
    {
     "data": {
      "image/png": "[encoded data removed]",
      "text/plain": [
       "<Figure size 432x288 with 1 Axes>"
      ]
     },
     "metadata": {
      "needs_background": "light"
     },
     "output_type": "display_data"
    }
   ],
   "source": [
    "# keep probabilities for the positive outcome only\n",
    "probs = nn_v5_class_preds_proba\n",
    "# calculate roc curve\n",
    "fpr, tpr, thresholds = roc_curve(y_test_classif, probs)\n",
    "# plot no skill\n",
    "plt.plot([0, 1], [0, 1], linestyle='--')\n",
    "# plot the roc curve for the model\n",
    "plt.plot(fpr, tpr)\n",
    "# show the plot\n",
    "plt.show()"
   ]
  },
  {
   "cell_type": "markdown",
   "metadata": {},
   "source": [
    "### Probability Calibration nn_v5"
   ]
  },
  {
   "cell_type": "code",
   "execution_count": 90,
   "metadata": {},
   "outputs": [
    {
     "data": {
      "image/png": "[encoded data removed]",
      "text/plain": [
       "<Figure size 432x288 with 1 Axes>"
      ]
     },
     "metadata": {
      "needs_background": "light"
     },
     "output_type": "display_data"
    }
   ],
   "source": [
    "# reliability diagram\n",
    "fop, mpv = calibration_curve(y_test_classif, nn_v5_class_preds_proba, n_bins=10)\n",
    "# plot perfectly calibrated\n",
    "plt.plot([0, 1], [0, 1], linestyle='--')\n",
    "# plot model reliability\n",
    "plt.plot(mpv, fop, marker='.')\n",
    "plt.show()"
   ]
  },
  {
   "cell_type": "code",
   "execution_count": null,
   "metadata": {},
   "outputs": [],
   "source": []
  }
 ],
 "metadata": {
  "kernelspec": {
   "display_name": "Python 3",
   "language": "python",
   "name": "python3"
  },
  "language_info": {
   "codemirror_mode": {
    "name": "ipython",
    "version": 3
   },
   "file_extension": ".py",
   "mimetype": "text/x-python",
   "name": "python",
   "nbconvert_exporter": "python",
   "pygments_lexer": "ipython3",
   "version": "3.5.3"
  }
 },
 "nbformat": 4,
 "nbformat_minor": 2
}
